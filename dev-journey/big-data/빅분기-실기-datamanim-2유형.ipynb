{
 "cells": [
  {
   "cell_type": "code",
   "execution_count": 1,
   "metadata": {},
   "outputs": [
    {
     "data": {
      "text/plain": [
       "'3.9.19 | packaged by conda-forge | (main, Mar 20 2024, 12:38:46) [MSC v.1929 64 bit (AMD64)]'"
      ]
     },
     "execution_count": 1,
     "metadata": {},
     "output_type": "execute_result"
    }
   ],
   "source": [
    "import sys\n",
    "import numpy as np\n",
    "import pandas as pd\n",
    "sys.version"
   ]
  },
  {
   "cell_type": "markdown",
   "metadata": {},
   "source": [
    "# Q 1. 서비스 이탈예측 데이터"
   ]
  },
  {
   "cell_type": "code",
   "execution_count": 89,
   "metadata": {},
   "outputs": [],
   "source": [
    "\"\"\"\n",
    "데이터 설명 : 고객의 신상정보 데이터를 통한 회사 서비스 이탈 예측 (종속변수 : Exited)\n",
    "x_train : https://raw.githubusercontent.com/Datamanim/datarepo/main/churnk/X_train.csv\n",
    "y_train : https://raw.githubusercontent.com/Datamanim/datarepo/main/churnk/y_train.csv\n",
    "x_test : https://raw.githubusercontent.com/Datamanim/datarepo/main/churnk/X_test.csv\n",
    "x_label(평가용) : https://raw.githubusercontent.com/Datamanim/datarepo/main/churnk/y_test.csv\n",
    "데이터 출처 : https://www.kaggle.com/shubh0799/churn-modelling 에서 변형\n",
    "\"\"\"\n",
    "\n",
    "x_train = pd.read_csv(\"https://raw.githubusercontent.com/Datamanim/datarepo/main/churnk/X_train.csv\", index_col='CustomerId')\n",
    "y_train = pd.read_csv(\"https://raw.githubusercontent.com/Datamanim/datarepo/main/churnk/y_train.csv\", index_col='CustomerId')\n",
    "x_test = pd.read_csv(\"https://raw.githubusercontent.com/Datamanim/datarepo/main/churnk/X_test.csv\", index_col='CustomerId')\n",
    "x_label = pd.read_csv(\"https://raw.githubusercontent.com/Datamanim/datarepo/main/churnk/y_test.csv\", index_col='CustomerId')\n",
    "x_train = x_train.drop('Surname', axis=1)\n",
    "x_test = x_test.drop('Surname', axis=1)\n",
    "def changeGender(x):\n",
    "    return str(x).lstrip().capitalize()\n",
    "\n",
    "x_train['Gender'] = x_train['Gender'].apply(changeGender)\n",
    "x_test['Gender'] = x_test['Gender'].apply(changeGender)"
   ]
  },
  {
   "cell_type": "code",
   "execution_count": 92,
   "metadata": {},
   "outputs": [
    {
     "name": "stdout",
     "output_type": "stream",
     "text": [
      "(6499, 10)\n",
      "<class 'pandas.core.frame.DataFrame'>\n",
      "Int64Index: 6499 entries, 15799217 to 15706463\n",
      "Data columns (total 10 columns):\n",
      " #   Column           Non-Null Count  Dtype  \n",
      "---  ------           --------------  -----  \n",
      " 0   CreditScore      6499 non-null   int64  \n",
      " 1   Geography        6499 non-null   object \n",
      " 2   Gender           6499 non-null   object \n",
      " 3   Age              6499 non-null   int64  \n",
      " 4   Tenure           6499 non-null   int64  \n",
      " 5   Balance          6499 non-null   float64\n",
      " 6   NumOfProducts    6499 non-null   int64  \n",
      " 7   HasCrCard        6499 non-null   int64  \n",
      " 8   IsActiveMember   6499 non-null   int64  \n",
      " 9   EstimatedSalary  6499 non-null   float64\n",
      "dtypes: float64(2), int64(6), object(2)\n",
      "memory usage: 558.5+ KB\n"
     ]
    },
    {
     "data": {
      "text/plain": [
       "None"
      ]
     },
     "metadata": {},
     "output_type": "display_data"
    },
    {
     "data": {
      "text/plain": [
       "CreditScore         459\n",
       "Geography             3\n",
       "Gender                2\n",
       "Age                  69\n",
       "Tenure               11\n",
       "Balance            4162\n",
       "NumOfProducts         4\n",
       "HasCrCard             2\n",
       "IsActiveMember        2\n",
       "EstimatedSalary    6499\n",
       "dtype: int64"
      ]
     },
     "execution_count": 92,
     "metadata": {},
     "output_type": "execute_result"
    }
   ],
   "source": [
    "print(x_train.shape)\n",
    "display(x_train.info())\n",
    "x_train.nunique()"
   ]
  },
  {
   "cell_type": "code",
   "execution_count": 26,
   "metadata": {},
   "outputs": [
    {
     "data": {
      "text/html": [
       "<div>\n",
       "<style scoped>\n",
       "    .dataframe tbody tr th:only-of-type {\n",
       "        vertical-align: middle;\n",
       "    }\n",
       "\n",
       "    .dataframe tbody tr th {\n",
       "        vertical-align: top;\n",
       "    }\n",
       "\n",
       "    .dataframe thead th {\n",
       "        text-align: right;\n",
       "    }\n",
       "</style>\n",
       "<table border=\"1\" class=\"dataframe\">\n",
       "  <thead>\n",
       "    <tr style=\"text-align: right;\">\n",
       "      <th></th>\n",
       "      <th>CreditScore</th>\n",
       "      <th>Geography</th>\n",
       "      <th>Gender</th>\n",
       "      <th>Age</th>\n",
       "      <th>Tenure</th>\n",
       "      <th>Balance</th>\n",
       "      <th>NumOfProducts</th>\n",
       "      <th>HasCrCard</th>\n",
       "      <th>IsActiveMember</th>\n",
       "      <th>EstimatedSalary</th>\n",
       "    </tr>\n",
       "    <tr>\n",
       "      <th>CustomerId</th>\n",
       "      <th></th>\n",
       "      <th></th>\n",
       "      <th></th>\n",
       "      <th></th>\n",
       "      <th></th>\n",
       "      <th></th>\n",
       "      <th></th>\n",
       "      <th></th>\n",
       "      <th></th>\n",
       "      <th></th>\n",
       "    </tr>\n",
       "  </thead>\n",
       "  <tbody>\n",
       "    <tr>\n",
       "      <th>15799217</th>\n",
       "      <td>791</td>\n",
       "      <td>Germany</td>\n",
       "      <td>Female</td>\n",
       "      <td>35</td>\n",
       "      <td>7</td>\n",
       "      <td>52436.20</td>\n",
       "      <td>1</td>\n",
       "      <td>1</td>\n",
       "      <td>0</td>\n",
       "      <td>161051.75</td>\n",
       "    </tr>\n",
       "    <tr>\n",
       "      <th>15748986</th>\n",
       "      <td>705</td>\n",
       "      <td>Germany</td>\n",
       "      <td>Male</td>\n",
       "      <td>42</td>\n",
       "      <td>8</td>\n",
       "      <td>166685.92</td>\n",
       "      <td>2</td>\n",
       "      <td>1</td>\n",
       "      <td>1</td>\n",
       "      <td>55313.51</td>\n",
       "    </tr>\n",
       "    <tr>\n",
       "      <th>15722004</th>\n",
       "      <td>543</td>\n",
       "      <td>France</td>\n",
       "      <td>Female</td>\n",
       "      <td>31</td>\n",
       "      <td>4</td>\n",
       "      <td>138317.94</td>\n",
       "      <td>1</td>\n",
       "      <td>0</td>\n",
       "      <td>0</td>\n",
       "      <td>61843.73</td>\n",
       "    </tr>\n",
       "  </tbody>\n",
       "</table>\n",
       "</div>"
      ],
      "text/plain": [
       "            CreditScore Geography  Gender  Age  Tenure    Balance  \\\n",
       "CustomerId                                                          \n",
       "15799217            791   Germany  Female   35       7   52436.20   \n",
       "15748986            705   Germany    Male   42       8  166685.92   \n",
       "15722004            543    France  Female   31       4  138317.94   \n",
       "\n",
       "            NumOfProducts  HasCrCard  IsActiveMember  EstimatedSalary  \n",
       "CustomerId                                                             \n",
       "15799217                1          1               0        161051.75  \n",
       "15748986                2          1               1         55313.51  \n",
       "15722004                1          0               0         61843.73  "
      ]
     },
     "metadata": {},
     "output_type": "display_data"
    },
    {
     "data": {
      "text/html": [
       "<div>\n",
       "<style scoped>\n",
       "    .dataframe tbody tr th:only-of-type {\n",
       "        vertical-align: middle;\n",
       "    }\n",
       "\n",
       "    .dataframe tbody tr th {\n",
       "        vertical-align: top;\n",
       "    }\n",
       "\n",
       "    .dataframe thead th {\n",
       "        text-align: right;\n",
       "    }\n",
       "</style>\n",
       "<table border=\"1\" class=\"dataframe\">\n",
       "  <thead>\n",
       "    <tr style=\"text-align: right;\">\n",
       "      <th></th>\n",
       "      <th>Exited</th>\n",
       "    </tr>\n",
       "    <tr>\n",
       "      <th>CustomerId</th>\n",
       "      <th></th>\n",
       "    </tr>\n",
       "  </thead>\n",
       "  <tbody>\n",
       "    <tr>\n",
       "      <th>15799217</th>\n",
       "      <td>0</td>\n",
       "    </tr>\n",
       "    <tr>\n",
       "      <th>15748986</th>\n",
       "      <td>0</td>\n",
       "    </tr>\n",
       "    <tr>\n",
       "      <th>15722004</th>\n",
       "      <td>0</td>\n",
       "    </tr>\n",
       "  </tbody>\n",
       "</table>\n",
       "</div>"
      ],
      "text/plain": [
       "            Exited\n",
       "CustomerId        \n",
       "15799217         0\n",
       "15748986         0\n",
       "15722004         0"
      ]
     },
     "metadata": {},
     "output_type": "display_data"
    },
    {
     "data": {
      "text/plain": [
       "(6499, 10)"
      ]
     },
     "execution_count": 26,
     "metadata": {},
     "output_type": "execute_result"
    }
   ],
   "source": [
    "display(x_train.head(3))\n",
    "display(y_train.head(3))\n",
    "x_train.shape"
   ]
  },
  {
   "cell_type": "code",
   "execution_count": 56,
   "metadata": {},
   "outputs": [
    {
     "data": {
      "text/plain": [
       "RandomForestClassifier()"
      ]
     },
     "execution_count": 56,
     "metadata": {},
     "output_type": "execute_result"
    }
   ],
   "source": [
    "from sklearn.model_selection import train_test_split\n",
    "from sklearn.ensemble import RandomForestClassifier\n",
    "#from sklearn.preprocessing import OneHotEncoder\n",
    "from sklearn.metrics import accuracy_score, f1_score, recall_score, roc_auc_score, precision_score\n",
    "\n",
    "\n",
    "x_train_dummies = pd.get_dummies(x_train)\n",
    "y = y_train['Exited']\n",
    "\n",
    "x_test_dummies = pd.get_dummies(x_test)\n",
    "\n",
    "X_train, X_validation, Y_train, Y_validation = train_test_split(x_train_dummies, y, train_size=0.7)\n",
    "\n",
    "rf = RandomForestClassifier()\n",
    "rf.fit(X_train, Y_train)"
   ]
  },
  {
   "cell_type": "code",
   "execution_count": 67,
   "metadata": {},
   "outputs": [],
   "source": [
    "#model_score\n",
    "predict_train_label = rf.predict(X_train)\n",
    "predict_train_proba = rf.predict_proba(X_train)[:,1]\n",
    "\n",
    "predict_validation_label = rf.predict(X_validation)\n",
    "predict_validation_prob = rf.predict_proba(X_validation)[:,1]"
   ]
  },
  {
   "cell_type": "code",
   "execution_count": 71,
   "metadata": {},
   "outputs": [
    {
     "name": "stdout",
     "output_type": "stream",
     "text": [
      "train accuracy : 1.0\n",
      "validation accuracy : 0.861025641025641\n",
      "\n",
      "train f1_score : 1.0\n",
      "validation accuracy : 0.5758998435054773\n",
      "\n",
      "train recall_score : 1.0\n",
      "validation recall_score : 0.46464646464646464\n",
      "\n",
      "train precision_score : 1.0\n",
      "validation precision_score : 0.757201646090535\n",
      "\n",
      "train auc : 1.0\n",
      "validation auc : 0.8521086021086021\n"
     ]
    }
   ],
   "source": [
    "# 문제에서 묻는 것에 따라 모델 성능 확인하기\n",
    "# 정확도 (accuracy) , f1_score , recall , precision -> model.predict로 결과뽑기\n",
    "# auc , 확률이라는 표현있으면 model.predict_proba로 결과뽑고 첫번째 행의 값을 가져오기 model.predict_proba()[:,1]\n",
    "print('train accuracy :', accuracy_score(Y_train, predict_train_label))\n",
    "print('validation accuracy :', accuracy_score(Y_validation, predict_validation_label))\n",
    "print()\n",
    "print('train f1_score :', f1_score(Y_train, predict_train_label))\n",
    "print('validation accuracy :', f1_score(Y_validation, predict_validation_label))\n",
    "print()\n",
    "print('train recall_score :', recall_score(Y_train, predict_train_label))\n",
    "print('validation recall_score :', recall_score(Y_validation, predict_validation_label))\n",
    "print()\n",
    "print('train precision_score :', precision_score(Y_train, predict_train_label))\n",
    "print('validation precision_score :', precision_score(Y_validation, predict_validation_label))\n",
    "print()\n",
    "print('train auc :', roc_auc_score(Y_train, predict_train_proba))\n",
    "print('validation auc :', roc_auc_score(Y_validation, predict_validation_prob))"
   ]
  },
  {
   "cell_type": "code",
   "execution_count": 85,
   "metadata": {},
   "outputs": [
    {
     "name": "stdout",
     "output_type": "stream",
     "text": [
      "test acc:  0.8628963153384748\n",
      "test f1_score:  0.5698924731182796\n",
      "test recall_score 0.44600280504908835\n",
      "test precision_score:  0.7890818858560794\n"
     ]
    }
   ],
   "source": [
    "predict_test_label = rf.predict(x_test_dummies)\n",
    "predict_test_proba = rf.predict_proba(x_test_dummies)[:, 1]\n",
    "\n",
    "print('test acc: ', accuracy_score(x_label, predict_test_label))\n",
    "print('test f1_score: ', f1_score(x_label, predict_test_label))\n",
    "print('test recall_score', recall_score(x_label, predict_test_label))\n",
    "print('test precision_score: ', precision_score(x_label, predict_test_label))"
   ]
  },
  {
   "cell_type": "code",
   "execution_count": 81,
   "metadata": {},
   "outputs": [],
   "source": [
    "res = pd.DataFrame({'CustomerId': x_test.index, 'Exited': predict_test_label})\n",
    "res\n",
    "res.to_csv('./etc/datamanim_type2_q01.csv', index=False)"
   ]
  },
  {
   "cell_type": "markdown",
   "metadata": {},
   "source": [
    "# Q 2. 이직여부 판단 데이터"
   ]
  },
  {
   "cell_type": "code",
   "execution_count": null,
   "metadata": {},
   "outputs": [],
   "source": [
    "\"\"\"\n",
    "데이터 설명 : 이직여부 판단 데이터 (target: 1: 이직 , 0 : 이직 x)\n",
    "x_train: https://raw.githubusercontent.com/Datamanim/datarepo/main/HRdata/X_train.csv\n",
    "y_train: https://raw.githubusercontent.com/Datamanim/datarepo/main/HRdata/y_train.csv\n",
    "x_test: https://raw.githubusercontent.com/Datamanim/datarepo/main/HRdata/X_test.csv\n",
    "x_label(평가용) : https://raw.githubusercontent.com/Datamanim/datarepo/main/HRdata/y_test.csv\n",
    "데이터 출처 :https://www.kaggle.com/datasets/arashnic/hr-analytics-job-change-of-data-scientists (참고, 데이터 수정)\n",
    "\"\"\""
   ]
  },
  {
   "cell_type": "code",
   "execution_count": 151,
   "metadata": {},
   "outputs": [
    {
     "name": "stdout",
     "output_type": "stream",
     "text": [
      "(12452, 13)\n",
      "<class 'pandas.core.frame.DataFrame'>\n",
      "RangeIndex: 12452 entries, 0 to 12451\n",
      "Data columns (total 13 columns):\n",
      " #   Column                  Non-Null Count  Dtype  \n",
      "---  ------                  --------------  -----  \n",
      " 0   enrollee_id             12452 non-null  int64  \n",
      " 1   city                    12452 non-null  object \n",
      " 2   city_development_index  12452 non-null  float64\n",
      " 3   gender                  9535 non-null   object \n",
      " 4   relevent_experience     12452 non-null  object \n",
      " 5   enrolled_university     12195 non-null  object \n",
      " 6   education_level         12137 non-null  object \n",
      " 7   major_discipline        10586 non-null  object \n",
      " 8   experience              12415 non-null  object \n",
      " 9   company_size            8600 non-null   object \n",
      " 10  company_type            8471 non-null   object \n",
      " 11  last_new_job            12179 non-null  object \n",
      " 12  training_hours          12452 non-null  int64  \n",
      "dtypes: float64(1), int64(2), object(10)\n",
      "memory usage: 1.2+ MB\n"
     ]
    },
    {
     "data": {
      "text/plain": [
       "None"
      ]
     },
     "metadata": {},
     "output_type": "display_data"
    },
    {
     "data": {
      "text/html": [
       "<div>\n",
       "<style scoped>\n",
       "    .dataframe tbody tr th:only-of-type {\n",
       "        vertical-align: middle;\n",
       "    }\n",
       "\n",
       "    .dataframe tbody tr th {\n",
       "        vertical-align: top;\n",
       "    }\n",
       "\n",
       "    .dataframe thead th {\n",
       "        text-align: right;\n",
       "    }\n",
       "</style>\n",
       "<table border=\"1\" class=\"dataframe\">\n",
       "  <thead>\n",
       "    <tr style=\"text-align: right;\">\n",
       "      <th></th>\n",
       "      <th>enrollee_id</th>\n",
       "      <th>city</th>\n",
       "      <th>city_development_index</th>\n",
       "      <th>gender</th>\n",
       "      <th>relevent_experience</th>\n",
       "      <th>enrolled_university</th>\n",
       "      <th>education_level</th>\n",
       "      <th>major_discipline</th>\n",
       "      <th>experience</th>\n",
       "      <th>company_size</th>\n",
       "      <th>company_type</th>\n",
       "      <th>last_new_job</th>\n",
       "      <th>training_hours</th>\n",
       "    </tr>\n",
       "  </thead>\n",
       "  <tbody>\n",
       "    <tr>\n",
       "      <th>0</th>\n",
       "      <td>25298</td>\n",
       "      <td>city_138</td>\n",
       "      <td>0.836</td>\n",
       "      <td>Male</td>\n",
       "      <td>No relevent experience</td>\n",
       "      <td>Full time course</td>\n",
       "      <td>High School</td>\n",
       "      <td>NaN</td>\n",
       "      <td>5</td>\n",
       "      <td>100-500</td>\n",
       "      <td>Pvt Ltd</td>\n",
       "      <td>1</td>\n",
       "      <td>45</td>\n",
       "    </tr>\n",
       "    <tr>\n",
       "      <th>1</th>\n",
       "      <td>4241</td>\n",
       "      <td>city_160</td>\n",
       "      <td>0.920</td>\n",
       "      <td>Male</td>\n",
       "      <td>No relevent experience</td>\n",
       "      <td>Full time course</td>\n",
       "      <td>High School</td>\n",
       "      <td>NaN</td>\n",
       "      <td>5</td>\n",
       "      <td>NaN</td>\n",
       "      <td>NaN</td>\n",
       "      <td>1</td>\n",
       "      <td>17</td>\n",
       "    </tr>\n",
       "  </tbody>\n",
       "</table>\n",
       "</div>"
      ],
      "text/plain": [
       "   enrollee_id      city  city_development_index gender  \\\n",
       "0        25298  city_138                   0.836   Male   \n",
       "1         4241  city_160                   0.920   Male   \n",
       "\n",
       "      relevent_experience enrolled_university education_level  \\\n",
       "0  No relevent experience    Full time course     High School   \n",
       "1  No relevent experience    Full time course     High School   \n",
       "\n",
       "  major_discipline experience company_size company_type last_new_job  \\\n",
       "0              NaN          5      100-500      Pvt Ltd            1   \n",
       "1              NaN          5          NaN          NaN            1   \n",
       "\n",
       "   training_hours  \n",
       "0              45  \n",
       "1              17  "
      ]
     },
     "metadata": {},
     "output_type": "display_data"
    },
    {
     "data": {
      "text/plain": [
       "enrollee_id               12452\n",
       "city                        122\n",
       "city_development_index       92\n",
       "gender                        3\n",
       "relevent_experience           2\n",
       "enrolled_university           3\n",
       "education_level               5\n",
       "major_discipline              6\n",
       "experience                   22\n",
       "company_size                  8\n",
       "company_type                  6\n",
       "last_new_job                  6\n",
       "training_hours              241\n",
       "dtype: int64"
      ]
     },
     "metadata": {},
     "output_type": "display_data"
    },
    {
     "data": {
      "text/html": [
       "<div>\n",
       "<style scoped>\n",
       "    .dataframe tbody tr th:only-of-type {\n",
       "        vertical-align: middle;\n",
       "    }\n",
       "\n",
       "    .dataframe tbody tr th {\n",
       "        vertical-align: top;\n",
       "    }\n",
       "\n",
       "    .dataframe thead th {\n",
       "        text-align: right;\n",
       "    }\n",
       "</style>\n",
       "<table border=\"1\" class=\"dataframe\">\n",
       "  <thead>\n",
       "    <tr style=\"text-align: right;\">\n",
       "      <th></th>\n",
       "      <th>enrollee_id</th>\n",
       "      <th>target</th>\n",
       "    </tr>\n",
       "  </thead>\n",
       "  <tbody>\n",
       "    <tr>\n",
       "      <th>0</th>\n",
       "      <td>25298</td>\n",
       "      <td>0.0</td>\n",
       "    </tr>\n",
       "    <tr>\n",
       "      <th>1</th>\n",
       "      <td>4241</td>\n",
       "      <td>1.0</td>\n",
       "    </tr>\n",
       "  </tbody>\n",
       "</table>\n",
       "</div>"
      ],
      "text/plain": [
       "   enrollee_id  target\n",
       "0        25298     0.0\n",
       "1         4241     1.0"
      ]
     },
     "metadata": {},
     "output_type": "display_data"
    }
   ],
   "source": [
    "x_train = pd.read_csv(\"https://raw.githubusercontent.com/Datamanim/datarepo/main/HRdata/X_train.csv\")\n",
    "y_train = pd.read_csv(\"https://raw.githubusercontent.com/Datamanim/datarepo/main/HRdata/y_train.csv\")\n",
    "x_test = pd.read_csv(\"https://raw.githubusercontent.com/Datamanim/datarepo/main/HRdata/X_test.csv\")\n",
    "y_test = pd.read_csv(\"https://raw.githubusercontent.com/Datamanim/datarepo/main/HRdata/y_test.csv\")\n",
    "\n",
    "print(x_train.shape)\n",
    "display(x_train.info())\n",
    "display(x_train.head(2))\n",
    "display(x_train.nunique())\n",
    "display(y_train.head(2))"
   ]
  },
  {
   "cell_type": "code",
   "execution_count": 152,
   "metadata": {},
   "outputs": [],
   "source": [
    "x_train = x_train.drop(['enrollee_id', 'city', 'experience', 'company_size', 'company_type'], axis=1)\n",
    "y_train = y_train.drop('enrollee_id', axis=1)\n",
    "x_test = x_test.drop(['enrollee_id', 'city', 'experience', 'company_size', 'company_type'], axis=1)\n",
    "y_test = y_test.drop('enrollee_id', axis=1)"
   ]
  },
  {
   "cell_type": "code",
   "execution_count": 147,
   "metadata": {},
   "outputs": [
    {
     "data": {
      "text/plain": [
       "enrolled_university_Full time course         enrolled_university_no_enrollment              0.791319\n",
       "education_level_Graduate                     education_level_Masters                        0.666694\n",
       "education_level_High School                  major_discipline_STEM                          0.610270\n",
       "education_level_Graduate                     education_level_High School                    0.429522\n",
       "enrolled_university_no_enrollment            enrolled_university_Part time course           0.417877\n",
       "gender_Male                                  gender_Female                                  0.393235\n",
       "last_new_job_1                               last_new_job_>4                                0.387550\n",
       "major_discipline_STEM                        education_level_Graduate                       0.374405\n",
       "relevent_experience_No relevent experience   last_new_job_never                             0.373143\n",
       "relevent_experience_Has relevent experience  last_new_job_never                             0.373143\n",
       "enrolled_university_Full time course         relevent_experience_No relevent experience     0.371368\n",
       "                                             relevent_experience_Has relevent experience    0.371368\n",
       "relevent_experience_Has relevent experience  enrolled_university_no_enrollment              0.364392\n",
       "relevent_experience_No relevent experience   enrolled_university_no_enrollment              0.364392\n",
       "last_new_job_2                               last_new_job_1                                 0.356222\n",
       "major_discipline_STEM                        major_discipline_Humanities                    0.335318\n",
       "last_new_job_never                           last_new_job_1                                 0.320988\n",
       "relevent_experience_Has relevent experience  major_discipline_STEM                          0.270124\n",
       "major_discipline_STEM                        relevent_experience_No relevent experience     0.270124\n",
       "education_level_High School                  relevent_experience_Has relevent experience    0.254929\n",
       "dtype: float64"
      ]
     },
     "execution_count": 147,
     "metadata": {},
     "output_type": "execute_result"
    }
   ],
   "source": [
    "(temp:=pd.get_dummies(x_train).corr().unstack()).loc[temp < 1].loc[temp > -0.99].map(abs).sort_values(ascending=False)[::2].head(20)"
   ]
  },
  {
   "cell_type": "code",
   "execution_count": 153,
   "metadata": {},
   "outputs": [
    {
     "name": "stdout",
     "output_type": "stream",
     "text": [
      "(12452, 27)\n"
     ]
    }
   ],
   "source": [
    "x_train_dummies = pd.get_dummies(x_train)\n",
    "y_train = y_train['target']\n",
    "x_test_dummies = pd.get_dummies(x_test)\n",
    "y_test = y_test['target']\n",
    "print(x_train_dummies.shape)"
   ]
  },
  {
   "cell_type": "code",
   "execution_count": 157,
   "metadata": {},
   "outputs": [
    {
     "data": {
      "text/plain": [
       "RandomForestClassifier()"
      ]
     },
     "execution_count": 157,
     "metadata": {},
     "output_type": "execute_result"
    }
   ],
   "source": [
    "from sklearn.model_selection import train_test_split\n",
    "from sklearn.ensemble import RandomForestClassifier\n",
    "from sklearn.metrics import accuracy_score, f1_score, recall_score, precision_score, roc_auc_score\n",
    "\n",
    "X_train, X_val, Y_train, Y_val = train_test_split(x_train_dummies, y_train, train_size=0.7)\n",
    "\n",
    "rf = RandomForestClassifier()\n",
    "rf.fit(X_train, Y_train)"
   ]
  },
  {
   "cell_type": "code",
   "execution_count": 165,
   "metadata": {},
   "outputs": [
    {
     "name": "stdout",
     "output_type": "stream",
     "text": [
      "val acc:  0.7299250535331906\n",
      "val f1_score:  0.38885523924894\n",
      "val recall_score:  0.3436830835117773\n",
      "val precision_score:  0.4476987447698745\n",
      "val roc_auc_score:  0.6765502463061717\n"
     ]
    }
   ],
   "source": [
    "val_predict = rf.predict(X_val)\n",
    "val_predict_proba = rf.predict_proba(X_val)[:, 1]\n",
    "\n",
    "print('val acc: ', accuracy_score(Y_val, val_predict))\n",
    "print('val f1_score: ', f1_score(Y_val, val_predict))\n",
    "print('val recall_score: ', recall_score(Y_val, val_predict))\n",
    "print('val precision_score: ', precision_score(Y_val, val_predict))\n",
    "print('val roc_auc_score: ', roc_auc_score(Y_val, val_predict_proba))"
   ]
  },
  {
   "cell_type": "code",
   "execution_count": 176,
   "metadata": {},
   "outputs": [
    {
     "name": "stdout",
     "output_type": "stream",
     "text": [
      "test acc:  0.7302415747092156\n"
     ]
    }
   ],
   "source": [
    "test_predict = rf.predict(x_test_dummies)\n",
    "print('test acc: ', accuracy_score(y_test, test_predict))\n",
    "x_test = pd.read_csv(\"https://raw.githubusercontent.com/Datamanim/datarepo/main/HRdata/X_test.csv\")\n",
    "res = pd.DataFrame({'enrollee_id': x_test.enrollee_id, 'target': test_predict})\n",
    "res.to_csv('./etc/datamanim_type2_q02.csv', index=False)"
   ]
  },
  {
   "cell_type": "markdown",
   "metadata": {},
   "source": [
    "# Q 3. 정시 배송 여부 판단 (2회기출)"
   ]
  },
  {
   "cell_type": "code",
   "execution_count": null,
   "metadata": {},
   "outputs": [],
   "source": [
    "\"\"\"\n",
    "데이터 설명 : e-commerce 배송의 정시 도착여부 (1: 정시배송 0 : 정시미배송)\n",
    "x_train: https://raw.githubusercontent.com/Datamanim/datarepo/main/shipping/X_train.csv\n",
    "y_train: https://raw.githubusercontent.com/Datamanim/datarepo/main/shipping/y_train.csv\n",
    "x_test: https://raw.githubusercontent.com/Datamanim/datarepo/main/shipping/X_test.csv\n",
    "x_label(평가용) : https://raw.githubusercontent.com/Datamanim/datarepo/main/shipping/y_test.csv\n",
    "데이터 출처 :https://www.kaggle.com/datasets/prachi13/customer-analytics (참고, 데이터 수정)\n",
    "\"\"\""
   ]
  },
  {
   "cell_type": "code",
   "execution_count": 178,
   "metadata": {},
   "outputs": [
    {
     "name": "stdout",
     "output_type": "stream",
     "text": [
      "(6598, 11)\n",
      "<class 'pandas.core.frame.DataFrame'>\n",
      "RangeIndex: 6598 entries, 0 to 6597\n",
      "Data columns (total 11 columns):\n",
      " #   Column               Non-Null Count  Dtype \n",
      "---  ------               --------------  ----- \n",
      " 0   ID                   6598 non-null   int64 \n",
      " 1   Warehouse_block      6598 non-null   object\n",
      " 2   Mode_of_Shipment     6598 non-null   object\n",
      " 3   Customer_care_calls  6598 non-null   object\n",
      " 4   Customer_rating      6598 non-null   int64 \n",
      " 5   Cost_of_the_Product  6598 non-null   int64 \n",
      " 6   Prior_purchases      6598 non-null   int64 \n",
      " 7   Product_importance   6598 non-null   object\n",
      " 8   Gender               6598 non-null   object\n",
      " 9   Discount_offered     6598 non-null   int64 \n",
      " 10  Weight_in_gms        6598 non-null   int64 \n",
      "dtypes: int64(6), object(5)\n",
      "memory usage: 567.1+ KB\n"
     ]
    },
    {
     "data": {
      "text/plain": [
       "None"
      ]
     },
     "metadata": {},
     "output_type": "display_data"
    },
    {
     "data": {
      "text/html": [
       "<div>\n",
       "<style scoped>\n",
       "    .dataframe tbody tr th:only-of-type {\n",
       "        vertical-align: middle;\n",
       "    }\n",
       "\n",
       "    .dataframe tbody tr th {\n",
       "        vertical-align: top;\n",
       "    }\n",
       "\n",
       "    .dataframe thead th {\n",
       "        text-align: right;\n",
       "    }\n",
       "</style>\n",
       "<table border=\"1\" class=\"dataframe\">\n",
       "  <thead>\n",
       "    <tr style=\"text-align: right;\">\n",
       "      <th></th>\n",
       "      <th>ID</th>\n",
       "      <th>Warehouse_block</th>\n",
       "      <th>Mode_of_Shipment</th>\n",
       "      <th>Customer_care_calls</th>\n",
       "      <th>Customer_rating</th>\n",
       "      <th>Cost_of_the_Product</th>\n",
       "      <th>Prior_purchases</th>\n",
       "      <th>Product_importance</th>\n",
       "      <th>Gender</th>\n",
       "      <th>Discount_offered</th>\n",
       "      <th>Weight_in_gms</th>\n",
       "    </tr>\n",
       "  </thead>\n",
       "  <tbody>\n",
       "    <tr>\n",
       "      <th>0</th>\n",
       "      <td>6045</td>\n",
       "      <td>A</td>\n",
       "      <td>Flight</td>\n",
       "      <td>4</td>\n",
       "      <td>3</td>\n",
       "      <td>266</td>\n",
       "      <td>5</td>\n",
       "      <td>high</td>\n",
       "      <td>F</td>\n",
       "      <td>5</td>\n",
       "      <td>1590</td>\n",
       "    </tr>\n",
       "    <tr>\n",
       "      <th>1</th>\n",
       "      <td>44</td>\n",
       "      <td>F</td>\n",
       "      <td>Ship</td>\n",
       "      <td>3</td>\n",
       "      <td>1</td>\n",
       "      <td>174</td>\n",
       "      <td>2</td>\n",
       "      <td>low</td>\n",
       "      <td>M</td>\n",
       "      <td>44</td>\n",
       "      <td>1556</td>\n",
       "    </tr>\n",
       "    <tr>\n",
       "      <th>2</th>\n",
       "      <td>7940</td>\n",
       "      <td>F</td>\n",
       "      <td>Road</td>\n",
       "      <td>4</td>\n",
       "      <td>1</td>\n",
       "      <td>154</td>\n",
       "      <td>10</td>\n",
       "      <td>high</td>\n",
       "      <td>M</td>\n",
       "      <td>10</td>\n",
       "      <td>5674</td>\n",
       "    </tr>\n",
       "  </tbody>\n",
       "</table>\n",
       "</div>"
      ],
      "text/plain": [
       "     ID Warehouse_block Mode_of_Shipment Customer_care_calls  Customer_rating  \\\n",
       "0  6045               A           Flight                   4                3   \n",
       "1    44               F             Ship                   3                1   \n",
       "2  7940               F             Road                   4                1   \n",
       "\n",
       "   Cost_of_the_Product  Prior_purchases Product_importance Gender  \\\n",
       "0                  266                5               high      F   \n",
       "1                  174                2                low      M   \n",
       "2                  154               10               high      M   \n",
       "\n",
       "   Discount_offered  Weight_in_gms  \n",
       "0                 5           1590  \n",
       "1                44           1556  \n",
       "2                10           5674  "
      ]
     },
     "metadata": {},
     "output_type": "display_data"
    },
    {
     "data": {
      "text/plain": [
       "ID                     6598\n",
       "Warehouse_block           5\n",
       "Mode_of_Shipment          3\n",
       "Customer_care_calls       6\n",
       "Customer_rating           5\n",
       "Cost_of_the_Product     215\n",
       "Prior_purchases           8\n",
       "Product_importance        3\n",
       "Gender                    2\n",
       "Discount_offered         65\n",
       "Weight_in_gms          3365\n",
       "dtype: int64"
      ]
     },
     "metadata": {},
     "output_type": "display_data"
    },
    {
     "data": {
      "text/html": [
       "<div>\n",
       "<style scoped>\n",
       "    .dataframe tbody tr th:only-of-type {\n",
       "        vertical-align: middle;\n",
       "    }\n",
       "\n",
       "    .dataframe tbody tr th {\n",
       "        vertical-align: top;\n",
       "    }\n",
       "\n",
       "    .dataframe thead th {\n",
       "        text-align: right;\n",
       "    }\n",
       "</style>\n",
       "<table border=\"1\" class=\"dataframe\">\n",
       "  <thead>\n",
       "    <tr style=\"text-align: right;\">\n",
       "      <th></th>\n",
       "      <th>ID</th>\n",
       "      <th>Reached.on.Time_Y.N</th>\n",
       "    </tr>\n",
       "  </thead>\n",
       "  <tbody>\n",
       "    <tr>\n",
       "      <th>0</th>\n",
       "      <td>6045</td>\n",
       "      <td>0</td>\n",
       "    </tr>\n",
       "    <tr>\n",
       "      <th>1</th>\n",
       "      <td>44</td>\n",
       "      <td>1</td>\n",
       "    </tr>\n",
       "    <tr>\n",
       "      <th>2</th>\n",
       "      <td>7940</td>\n",
       "      <td>1</td>\n",
       "    </tr>\n",
       "  </tbody>\n",
       "</table>\n",
       "</div>"
      ],
      "text/plain": [
       "     ID  Reached.on.Time_Y.N\n",
       "0  6045                    0\n",
       "1    44                    1\n",
       "2  7940                    1"
      ]
     },
     "metadata": {},
     "output_type": "display_data"
    }
   ],
   "source": [
    "x_train_origin = pd.read_csv(\"https://raw.githubusercontent.com/Datamanim/datarepo/main/shipping/X_train.csv\")\n",
    "y_train_origin = pd.read_csv(\"https://raw.githubusercontent.com/Datamanim/datarepo/main/shipping/y_train.csv\")\n",
    "x_test_origin = pd.read_csv(\"https://raw.githubusercontent.com/Datamanim/datarepo/main/shipping/X_test.csv\")\n",
    "y_test_origin = pd.read_csv(\"https://raw.githubusercontent.com/Datamanim/datarepo/main/shipping/y_test.csv\")\n",
    "\n",
    "print(x_train_origin.shape)\n",
    "display(x_train_origin.info())\n",
    "display(x_train_origin.head(3))\n",
    "display(x_train_origin.nunique())\n",
    "display(y_train_origin.head(3))"
   ]
  },
  {
   "cell_type": "code",
   "execution_count": 182,
   "metadata": {},
   "outputs": [],
   "source": [
    "x_train = x_train_origin.drop('ID', axis=1)\n",
    "y_train = y_train_origin['Reached.on.Time_Y.N']\n",
    "x_test = x_test_origin.drop('ID', axis=1)\n",
    "y_test = y_test_origin['Reached.on.Time_Y.N']"
   ]
  },
  {
   "cell_type": "code",
   "execution_count": 184,
   "metadata": {},
   "outputs": [
    {
     "data": {
      "text/plain": [
       "(6598, 24)"
      ]
     },
     "execution_count": 184,
     "metadata": {},
     "output_type": "execute_result"
    }
   ],
   "source": [
    "x_train_dummies = pd.get_dummies(x_train)\n",
    "x_test_dummies = pd.get_dummies(x_test)\n",
    "x_train_dummies.shape"
   ]
  },
  {
   "cell_type": "code",
   "execution_count": 186,
   "metadata": {},
   "outputs": [
    {
     "data": {
      "text/plain": [
       "RandomForestClassifier()"
      ]
     },
     "execution_count": 186,
     "metadata": {},
     "output_type": "execute_result"
    }
   ],
   "source": [
    "from sklearn.model_selection import train_test_split\n",
    "from sklearn.ensemble import RandomForestClassifier\n",
    "from sklearn.metrics import accuracy_score, f1_score, recall_score, precision_score, roc_auc_score\n",
    "\n",
    "X_train, X_val, Y_train, Y_val = train_test_split(x_train_dummies, y_train)\n",
    "\n",
    "rf = RandomForestClassifier()\n",
    "rf.fit(X_train, Y_train)"
   ]
  },
  {
   "cell_type": "code",
   "execution_count": 190,
   "metadata": {},
   "outputs": [
    {
     "name": "stdout",
     "output_type": "stream",
     "text": [
      "val acc:  0.6690909090909091\n",
      "val f1_score:  0.7055016181229774\n",
      "val recall_score:  0.6592741935483871\n",
      "val precision_score:  0.7587006960556845\n",
      "val roc_auc_score:  0.7532823377291891\n"
     ]
    }
   ],
   "source": [
    "val_predict = rf.predict(X_val)\n",
    "val_predict_proba = rf.predict_proba(X_val)[:, 1]\n",
    "\n",
    "print('val acc: ', accuracy_score(Y_val, val_predict))\n",
    "print('val f1_score: ', f1_score(Y_val, val_predict))\n",
    "print('val recall_score: ', recall_score(Y_val, val_predict))\n",
    "print('val precision_score: ', precision_score(Y_val, val_predict))\n",
    "print('val roc_auc_score: ', roc_auc_score(Y_val, val_predict_proba))"
   ]
  },
  {
   "cell_type": "code",
   "execution_count": 194,
   "metadata": {},
   "outputs": [
    {
     "name": "stdout",
     "output_type": "stream",
     "text": [
      "test acc:  0.6593955919109293\n"
     ]
    }
   ],
   "source": [
    "test_predict = rf.predict(x_test_dummies)\n",
    "print('test acc: ', accuracy_score(y_test, test_predict))\n",
    "res = pd.DataFrame({'ID': x_test_origin['ID'], 'Reached.on.Time_Y.N': test_predict})\n",
    "res.to_csv('./etc/datamanim_type2_q03.csv', index=False)"
   ]
  },
  {
   "cell_type": "markdown",
   "metadata": {},
   "source": [
    "# Q 4. 성인 건강검진 데이터"
   ]
  },
  {
   "cell_type": "code",
   "execution_count": null,
   "metadata": {},
   "outputs": [],
   "source": [
    "\"\"\"\n",
    "데이터 설명 : 2018년도 성인의 건강검 진데이터 (종속변수 : 흡연상태 1- 흡연, 0-비흡연 )\n",
    "x_train: https://raw.githubusercontent.com/Datamanim/datarepo/main/smoke/x_train.csv\n",
    "y_train: https://raw.githubusercontent.com/Datamanim/datarepo/main/smoke/y_train.csv\n",
    "x_test: https://raw.githubusercontent.com/Datamanim/datarepo/main/smoke/x_test.csv\n",
    "x_label(평가용) : https://raw.githubusercontent.com/Datamanim/datarepo/main/smoke/y_test.csv\n",
    "데이터 출처 :https://www.data.go.kr/data/15007122/fileData.do (참고, 데이터 수정)\n",
    "\"\"\""
   ]
  },
  {
   "cell_type": "code",
   "execution_count": 14,
   "metadata": {},
   "outputs": [
    {
     "name": "stdout",
     "output_type": "stream",
     "text": [
      "(44553, 26)\n",
      "<class 'pandas.core.frame.DataFrame'>\n",
      "RangeIndex: 44553 entries, 0 to 44552\n",
      "Data columns (total 26 columns):\n",
      " #   Column       Non-Null Count  Dtype  \n",
      "---  ------       --------------  -----  \n",
      " 0   ID           44553 non-null  int64  \n",
      " 1   성별코드         44553 non-null  object \n",
      " 2   연령대코드(5세단위)  44553 non-null  int64  \n",
      " 3   신장(5Cm단위)    44553 non-null  int64  \n",
      " 4   체중(5Kg단위)    44553 non-null  int64  \n",
      " 5   허리둘레         44553 non-null  float64\n",
      " 6   시력(좌)        44553 non-null  float64\n",
      " 7   시력(우)        44553 non-null  float64\n",
      " 8   청력(좌)        44553 non-null  float64\n",
      " 9   청력(우)        44553 non-null  float64\n",
      " 10  수축기혈압        44553 non-null  float64\n",
      " 11  이완기혈압        44553 non-null  float64\n",
      " 12  식전혈당(공복혈당)   44553 non-null  float64\n",
      " 13  총콜레스테롤       44553 non-null  float64\n",
      " 14  트리글리세라이드     44553 non-null  float64\n",
      " 15  HDL콜레스테롤     44553 non-null  float64\n",
      " 16  LDL콜레스테롤     44553 non-null  float64\n",
      " 17  혈색소          44553 non-null  float64\n",
      " 18  요단백          44553 non-null  float64\n",
      " 19  혈청크레아티닌      44553 non-null  float64\n",
      " 20  (혈청지오티)AST   44553 non-null  float64\n",
      " 21  (혈청지오티)ALT   44553 non-null  float64\n",
      " 22  감마지티피        44553 non-null  float64\n",
      " 23  구강검진수검여부     44553 non-null  object \n",
      " 24  치아우식증유무      44553 non-null  float64\n",
      " 25  치석           44553 non-null  object \n",
      "dtypes: float64(19), int64(4), object(3)\n",
      "memory usage: 8.8+ MB\n"
     ]
    },
    {
     "data": {
      "text/plain": [
       "None"
      ]
     },
     "metadata": {},
     "output_type": "display_data"
    },
    {
     "data": {
      "text/html": [
       "<div>\n",
       "<style scoped>\n",
       "    .dataframe tbody tr th:only-of-type {\n",
       "        vertical-align: middle;\n",
       "    }\n",
       "\n",
       "    .dataframe tbody tr th {\n",
       "        vertical-align: top;\n",
       "    }\n",
       "\n",
       "    .dataframe thead th {\n",
       "        text-align: right;\n",
       "    }\n",
       "</style>\n",
       "<table border=\"1\" class=\"dataframe\">\n",
       "  <thead>\n",
       "    <tr style=\"text-align: right;\">\n",
       "      <th></th>\n",
       "      <th>ID</th>\n",
       "      <th>성별코드</th>\n",
       "      <th>연령대코드(5세단위)</th>\n",
       "      <th>신장(5Cm단위)</th>\n",
       "      <th>체중(5Kg단위)</th>\n",
       "      <th>허리둘레</th>\n",
       "      <th>시력(좌)</th>\n",
       "      <th>시력(우)</th>\n",
       "      <th>청력(좌)</th>\n",
       "      <th>청력(우)</th>\n",
       "      <th>...</th>\n",
       "      <th>LDL콜레스테롤</th>\n",
       "      <th>혈색소</th>\n",
       "      <th>요단백</th>\n",
       "      <th>혈청크레아티닌</th>\n",
       "      <th>(혈청지오티)AST</th>\n",
       "      <th>(혈청지오티)ALT</th>\n",
       "      <th>감마지티피</th>\n",
       "      <th>구강검진수검여부</th>\n",
       "      <th>치아우식증유무</th>\n",
       "      <th>치석</th>\n",
       "    </tr>\n",
       "  </thead>\n",
       "  <tbody>\n",
       "    <tr>\n",
       "      <th>0</th>\n",
       "      <td>0</td>\n",
       "      <td>F</td>\n",
       "      <td>40</td>\n",
       "      <td>155</td>\n",
       "      <td>60</td>\n",
       "      <td>81.3</td>\n",
       "      <td>1.2</td>\n",
       "      <td>1.0</td>\n",
       "      <td>1.0</td>\n",
       "      <td>1.0</td>\n",
       "      <td>...</td>\n",
       "      <td>126.0</td>\n",
       "      <td>12.9</td>\n",
       "      <td>1.0</td>\n",
       "      <td>0.7</td>\n",
       "      <td>18.0</td>\n",
       "      <td>19.0</td>\n",
       "      <td>27.0</td>\n",
       "      <td>Y</td>\n",
       "      <td>0.0</td>\n",
       "      <td>Y</td>\n",
       "    </tr>\n",
       "    <tr>\n",
       "      <th>1</th>\n",
       "      <td>1</td>\n",
       "      <td>F</td>\n",
       "      <td>40</td>\n",
       "      <td>160</td>\n",
       "      <td>60</td>\n",
       "      <td>81.0</td>\n",
       "      <td>0.8</td>\n",
       "      <td>0.6</td>\n",
       "      <td>1.0</td>\n",
       "      <td>1.0</td>\n",
       "      <td>...</td>\n",
       "      <td>127.0</td>\n",
       "      <td>12.7</td>\n",
       "      <td>1.0</td>\n",
       "      <td>0.6</td>\n",
       "      <td>22.0</td>\n",
       "      <td>19.0</td>\n",
       "      <td>18.0</td>\n",
       "      <td>Y</td>\n",
       "      <td>0.0</td>\n",
       "      <td>Y</td>\n",
       "    </tr>\n",
       "    <tr>\n",
       "      <th>2</th>\n",
       "      <td>2</td>\n",
       "      <td>M</td>\n",
       "      <td>55</td>\n",
       "      <td>170</td>\n",
       "      <td>60</td>\n",
       "      <td>80.0</td>\n",
       "      <td>0.8</td>\n",
       "      <td>0.8</td>\n",
       "      <td>1.0</td>\n",
       "      <td>1.0</td>\n",
       "      <td>...</td>\n",
       "      <td>151.0</td>\n",
       "      <td>15.8</td>\n",
       "      <td>1.0</td>\n",
       "      <td>1.0</td>\n",
       "      <td>21.0</td>\n",
       "      <td>16.0</td>\n",
       "      <td>22.0</td>\n",
       "      <td>Y</td>\n",
       "      <td>0.0</td>\n",
       "      <td>N</td>\n",
       "    </tr>\n",
       "  </tbody>\n",
       "</table>\n",
       "<p>3 rows × 26 columns</p>\n",
       "</div>"
      ],
      "text/plain": [
       "   ID 성별코드  연령대코드(5세단위)  신장(5Cm단위)  체중(5Kg단위)  허리둘레  시력(좌)  시력(우)  청력(좌)  \\\n",
       "0   0    F           40        155         60  81.3    1.2    1.0    1.0   \n",
       "1   1    F           40        160         60  81.0    0.8    0.6    1.0   \n",
       "2   2    M           55        170         60  80.0    0.8    0.8    1.0   \n",
       "\n",
       "   청력(우)  ...  LDL콜레스테롤   혈색소  요단백  혈청크레아티닌  (혈청지오티)AST  (혈청지오티)ALT  감마지티피  \\\n",
       "0    1.0  ...     126.0  12.9  1.0      0.7        18.0        19.0   27.0   \n",
       "1    1.0  ...     127.0  12.7  1.0      0.6        22.0        19.0   18.0   \n",
       "2    1.0  ...     151.0  15.8  1.0      1.0        21.0        16.0   22.0   \n",
       "\n",
       "   구강검진수검여부  치아우식증유무  치석  \n",
       "0         Y      0.0   Y  \n",
       "1         Y      0.0   Y  \n",
       "2         Y      0.0   N  \n",
       "\n",
       "[3 rows x 26 columns]"
      ]
     },
     "metadata": {},
     "output_type": "display_data"
    },
    {
     "data": {
      "text/plain": [
       "ID             44553\n",
       "성별코드               2\n",
       "연령대코드(5세단위)       14\n",
       "신장(5Cm단위)         13\n",
       "체중(5Kg단위)         22\n",
       "허리둘레             566\n",
       "시력(좌)             19\n",
       "시력(우)             17\n",
       "청력(좌)              2\n",
       "청력(우)              2\n",
       "수축기혈압            130\n",
       "이완기혈압             95\n",
       "식전혈당(공복혈당)       276\n",
       "총콜레스테롤           286\n",
       "트리글리세라이드         390\n",
       "HDL콜레스테롤         126\n",
       "LDL콜레스테롤         289\n",
       "혈색소              145\n",
       "요단백                6\n",
       "혈청크레아티닌           38\n",
       "(혈청지오티)AST       219\n",
       "(혈청지오티)ALT       245\n",
       "감마지티피            488\n",
       "구강검진수검여부           1\n",
       "치아우식증유무            2\n",
       "치석                 2\n",
       "dtype: int64"
      ]
     },
     "metadata": {},
     "output_type": "display_data"
    },
    {
     "data": {
      "text/html": [
       "<div>\n",
       "<style scoped>\n",
       "    .dataframe tbody tr th:only-of-type {\n",
       "        vertical-align: middle;\n",
       "    }\n",
       "\n",
       "    .dataframe tbody tr th {\n",
       "        vertical-align: top;\n",
       "    }\n",
       "\n",
       "    .dataframe thead th {\n",
       "        text-align: right;\n",
       "    }\n",
       "</style>\n",
       "<table border=\"1\" class=\"dataframe\">\n",
       "  <thead>\n",
       "    <tr style=\"text-align: right;\">\n",
       "      <th></th>\n",
       "      <th>ID</th>\n",
       "      <th>흡연상태</th>\n",
       "    </tr>\n",
       "  </thead>\n",
       "  <tbody>\n",
       "    <tr>\n",
       "      <th>0</th>\n",
       "      <td>0</td>\n",
       "      <td>0</td>\n",
       "    </tr>\n",
       "    <tr>\n",
       "      <th>1</th>\n",
       "      <td>1</td>\n",
       "      <td>0</td>\n",
       "    </tr>\n",
       "    <tr>\n",
       "      <th>2</th>\n",
       "      <td>2</td>\n",
       "      <td>1</td>\n",
       "    </tr>\n",
       "  </tbody>\n",
       "</table>\n",
       "</div>"
      ],
      "text/plain": [
       "   ID  흡연상태\n",
       "0   0     0\n",
       "1   1     0\n",
       "2   2     1"
      ]
     },
     "metadata": {},
     "output_type": "display_data"
    }
   ],
   "source": [
    "x_train_origin = pd.read_csv(\"https://raw.githubusercontent.com/Datamanim/datarepo/main/smoke/x_train.csv\")\n",
    "y_train_origin = pd.read_csv(\"https://raw.githubusercontent.com/Datamanim/datarepo/main/smoke/y_train.csv\")\n",
    "x_test_origin = pd.read_csv(\"https://raw.githubusercontent.com/Datamanim/datarepo/main/smoke/x_test.csv\")\n",
    "y_test_origin = pd.read_csv(\"https://raw.githubusercontent.com/Datamanim/datarepo/main/smoke/y_test.csv\")\n",
    "\n",
    "print(x_train_origin.shape)\n",
    "display(x_train_origin.info())\n",
    "display(x_train_origin.head(3))\n",
    "display(x_train_origin.nunique())\n",
    "display(y_train_origin.head(3))"
   ]
  },
  {
   "cell_type": "code",
   "execution_count": 15,
   "metadata": {},
   "outputs": [
    {
     "name": "stdout",
     "output_type": "stream",
     "text": [
      "44553\n"
     ]
    }
   ],
   "source": [
    "print((x_train_origin['ID'] == y_train_origin['ID']).sum())\n",
    "\n",
    "x_train = x_train_origin.drop(['ID', '구강검진수검여부'], axis=1)\n",
    "y_train = y_train_origin['흡연상태']\n",
    "x_test = x_test_origin.drop(['ID', '구강검진수검여부'], axis=1)\n",
    "y_test = y_test_origin['흡연상태']"
   ]
  },
  {
   "cell_type": "code",
   "execution_count": 16,
   "metadata": {},
   "outputs": [],
   "source": [
    "def changeSex(x):\n",
    "    if str(x) == 'F':\n",
    "        return 0\n",
    "    return 1\n",
    "def changeTooth(x):\n",
    "    if str(x) == 'N':\n",
    "        return 0\n",
    "    return 1\n",
    "x_train['성별코드'] = x_train['성별코드'].apply(changeSex)\n",
    "x_train['치석'] = x_train['치석'].apply(changeTooth)\n",
    "x_test['성별코드'] = x_test['성별코드'].apply(changeSex)\n",
    "x_test['치석'] = x_test['치석'].apply(changeTooth)"
   ]
  },
  {
   "cell_type": "code",
   "execution_count": 19,
   "metadata": {},
   "outputs": [
    {
     "data": {
      "text/plain": [
       "RandomForestClassifier()"
      ]
     },
     "execution_count": 19,
     "metadata": {},
     "output_type": "execute_result"
    }
   ],
   "source": [
    "from sklearn.model_selection import train_test_split\n",
    "from sklearn.ensemble import RandomForestClassifier\n",
    "from sklearn.metrics import accuracy_score, f1_score, recall_score, precision_score, roc_auc_score\n",
    "\n",
    "X_train, X_val, Y_train, Y_val = train_test_split(x_train, y_train)\n",
    "\n",
    "rf = RandomForestClassifier()\n",
    "rf.fit(X_train, Y_train)"
   ]
  },
  {
   "cell_type": "code",
   "execution_count": 21,
   "metadata": {},
   "outputs": [
    {
     "name": "stdout",
     "output_type": "stream",
     "text": [
      "Val acc:  0.7590447975581291\n",
      "Val f1_score:  0.6782546152001918\n",
      "Val recall_score:  0.693212447929429\n",
      "Val precision_score:  0.6639286552452476\n",
      "Val roc_auc_score:  0.8372522687885424\n"
     ]
    }
   ],
   "source": [
    "val_predict = rf.predict(X_val)\n",
    "val_predict_proba = rf.predict_proba(X_val)[:, 1]\n",
    "\n",
    "print('Val acc: ', accuracy_score(Y_val, val_predict))\n",
    "print('Val f1_score: ', f1_score(Y_val, val_predict))\n",
    "print('Val recall_score: ', recall_score(Y_val, val_predict))\n",
    "print('Val precision_score: ', precision_score(Y_val, val_predict))\n",
    "print('Val roc_auc_score: ', roc_auc_score(Y_val, val_predict_proba))"
   ]
  },
  {
   "cell_type": "code",
   "execution_count": 22,
   "metadata": {},
   "outputs": [
    {
     "name": "stdout",
     "output_type": "stream",
     "text": [
      "test acc:  0.9394918753927641\n"
     ]
    }
   ],
   "source": [
    "test_predict = rf.predict(x_test)\n",
    "print('test acc: ', accuracy_score(y_test, test_predict))\n",
    "res = pd.DataFrame({'ID': x_test_origin['ID'], '흡연상태': test_predict})\n",
    "res.to_csv('./etc/datamanim_type2_q04.csv', index=False)"
   ]
  },
  {
   "cell_type": "markdown",
   "metadata": {},
   "source": [
    "# Q 5. 자동차 보험가입 예측데이터"
   ]
  },
  {
   "cell_type": "code",
   "execution_count": null,
   "metadata": {},
   "outputs": [],
   "source": [
    "\"\"\"\n",
    "데이터 설명 : 자동차 보험 가입 예측 (종속변수 Response: 1 : 가입 , 0 :미가입)\n",
    "x_train: https://raw.githubusercontent.com/Datamanim/datarepo/main/insurance/x_train.csv\n",
    "y_train: https://raw.githubusercontent.com/Datamanim/datarepo/main/insurance/y_train.csv\n",
    "x_test: https://raw.githubusercontent.com/Datamanim/datarepo/main/insurance/x_test.csv\n",
    "x_label(평가용) : https://raw.githubusercontent.com/Datamanim/datarepo/main/insurance/y_test.csv\n",
    "데이터 출처 :https://www.kaggle.com/anmolkumar/health-insurance-cross-sell-prediction(참고, 데이터 수정)\n",
    "\"\"\""
   ]
  },
  {
   "cell_type": "code",
   "execution_count": 23,
   "metadata": {},
   "outputs": [
    {
     "name": "stdout",
     "output_type": "stream",
     "text": [
      "(304887, 12)\n",
      "<class 'pandas.core.frame.DataFrame'>\n",
      "RangeIndex: 304887 entries, 0 to 304886\n",
      "Data columns (total 12 columns):\n",
      " #   Column                Non-Null Count   Dtype  \n",
      "---  ------                --------------   -----  \n",
      " 0   ID                    304887 non-null  int64  \n",
      " 1   Gender                304887 non-null  object \n",
      " 2   Age                   304887 non-null  int64  \n",
      " 3   Driving_License       304887 non-null  int64  \n",
      " 4   Region_Code           304887 non-null  float64\n",
      " 5   Previously_Insured    304887 non-null  int64  \n",
      " 6   Vehicle_Age           304887 non-null  object \n",
      " 7   Vehicle_Damage        304887 non-null  object \n",
      " 8   Annual_Premium        304887 non-null  float64\n",
      " 9   Policy_Sales_Channel  304887 non-null  float64\n",
      " 10  Vintage               304887 non-null  int64  \n",
      " 11  id                    0 non-null       float64\n",
      "dtypes: float64(4), int64(5), object(3)\n",
      "memory usage: 27.9+ MB\n"
     ]
    },
    {
     "data": {
      "text/plain": [
       "None"
      ]
     },
     "metadata": {},
     "output_type": "display_data"
    },
    {
     "data": {
      "text/html": [
       "<div>\n",
       "<style scoped>\n",
       "    .dataframe tbody tr th:only-of-type {\n",
       "        vertical-align: middle;\n",
       "    }\n",
       "\n",
       "    .dataframe tbody tr th {\n",
       "        vertical-align: top;\n",
       "    }\n",
       "\n",
       "    .dataframe thead th {\n",
       "        text-align: right;\n",
       "    }\n",
       "</style>\n",
       "<table border=\"1\" class=\"dataframe\">\n",
       "  <thead>\n",
       "    <tr style=\"text-align: right;\">\n",
       "      <th></th>\n",
       "      <th>ID</th>\n",
       "      <th>Gender</th>\n",
       "      <th>Age</th>\n",
       "      <th>Driving_License</th>\n",
       "      <th>Region_Code</th>\n",
       "      <th>Previously_Insured</th>\n",
       "      <th>Vehicle_Age</th>\n",
       "      <th>Vehicle_Damage</th>\n",
       "      <th>Annual_Premium</th>\n",
       "      <th>Policy_Sales_Channel</th>\n",
       "      <th>Vintage</th>\n",
       "      <th>id</th>\n",
       "    </tr>\n",
       "  </thead>\n",
       "  <tbody>\n",
       "    <tr>\n",
       "      <th>0</th>\n",
       "      <td>0</td>\n",
       "      <td>Female</td>\n",
       "      <td>23</td>\n",
       "      <td>1</td>\n",
       "      <td>8.0</td>\n",
       "      <td>0</td>\n",
       "      <td>&lt; 1 Year</td>\n",
       "      <td>Yes</td>\n",
       "      <td>61354.0</td>\n",
       "      <td>152.0</td>\n",
       "      <td>235</td>\n",
       "      <td>NaN</td>\n",
       "    </tr>\n",
       "    <tr>\n",
       "      <th>1</th>\n",
       "      <td>1</td>\n",
       "      <td>Male</td>\n",
       "      <td>27</td>\n",
       "      <td>1</td>\n",
       "      <td>28.0</td>\n",
       "      <td>1</td>\n",
       "      <td>&lt; 1 Year</td>\n",
       "      <td>No</td>\n",
       "      <td>38036.0</td>\n",
       "      <td>152.0</td>\n",
       "      <td>207</td>\n",
       "      <td>NaN</td>\n",
       "    </tr>\n",
       "    <tr>\n",
       "      <th>2</th>\n",
       "      <td>2</td>\n",
       "      <td>Female</td>\n",
       "      <td>23</td>\n",
       "      <td>1</td>\n",
       "      <td>45.0</td>\n",
       "      <td>0</td>\n",
       "      <td>&lt; 1 Year</td>\n",
       "      <td>Yes</td>\n",
       "      <td>25984.0</td>\n",
       "      <td>152.0</td>\n",
       "      <td>217</td>\n",
       "      <td>NaN</td>\n",
       "    </tr>\n",
       "  </tbody>\n",
       "</table>\n",
       "</div>"
      ],
      "text/plain": [
       "   ID  Gender  Age  Driving_License  Region_Code  Previously_Insured  \\\n",
       "0   0  Female   23                1          8.0                   0   \n",
       "1   1    Male   27                1         28.0                   1   \n",
       "2   2  Female   23                1         45.0                   0   \n",
       "\n",
       "  Vehicle_Age Vehicle_Damage  Annual_Premium  Policy_Sales_Channel  Vintage  \\\n",
       "0    < 1 Year            Yes         61354.0                 152.0      235   \n",
       "1    < 1 Year             No         38036.0                 152.0      207   \n",
       "2    < 1 Year            Yes         25984.0                 152.0      217   \n",
       "\n",
       "   id  \n",
       "0 NaN  \n",
       "1 NaN  \n",
       "2 NaN  "
      ]
     },
     "metadata": {},
     "output_type": "display_data"
    },
    {
     "data": {
      "text/plain": [
       "ID                      304887\n",
       "Gender                       2\n",
       "Age                         66\n",
       "Driving_License              2\n",
       "Region_Code                 53\n",
       "Previously_Insured           2\n",
       "Vehicle_Age                  3\n",
       "Vehicle_Damage               2\n",
       "Annual_Premium           46430\n",
       "Policy_Sales_Channel       155\n",
       "Vintage                    290\n",
       "id                           0\n",
       "dtype: int64"
      ]
     },
     "metadata": {},
     "output_type": "display_data"
    },
    {
     "data": {
      "text/html": [
       "<div>\n",
       "<style scoped>\n",
       "    .dataframe tbody tr th:only-of-type {\n",
       "        vertical-align: middle;\n",
       "    }\n",
       "\n",
       "    .dataframe tbody tr th {\n",
       "        vertical-align: top;\n",
       "    }\n",
       "\n",
       "    .dataframe thead th {\n",
       "        text-align: right;\n",
       "    }\n",
       "</style>\n",
       "<table border=\"1\" class=\"dataframe\">\n",
       "  <thead>\n",
       "    <tr style=\"text-align: right;\">\n",
       "      <th></th>\n",
       "      <th>ID</th>\n",
       "      <th>Response</th>\n",
       "    </tr>\n",
       "  </thead>\n",
       "  <tbody>\n",
       "    <tr>\n",
       "      <th>0</th>\n",
       "      <td>0</td>\n",
       "      <td>0</td>\n",
       "    </tr>\n",
       "    <tr>\n",
       "      <th>1</th>\n",
       "      <td>1</td>\n",
       "      <td>0</td>\n",
       "    </tr>\n",
       "    <tr>\n",
       "      <th>2</th>\n",
       "      <td>2</td>\n",
       "      <td>1</td>\n",
       "    </tr>\n",
       "  </tbody>\n",
       "</table>\n",
       "</div>"
      ],
      "text/plain": [
       "   ID  Response\n",
       "0   0         0\n",
       "1   1         0\n",
       "2   2         1"
      ]
     },
     "metadata": {},
     "output_type": "display_data"
    }
   ],
   "source": [
    "x_train_origin = pd.read_csv(\"https://raw.githubusercontent.com/Datamanim/datarepo/main/insurance/x_train.csv\")\n",
    "y_train_origin = pd.read_csv(\"https://raw.githubusercontent.com/Datamanim/datarepo/main/insurance/y_train.csv\")\n",
    "x_test_origin = pd.read_csv(\"https://raw.githubusercontent.com/Datamanim/datarepo/main/insurance/x_test.csv\")\n",
    "y_test_origin = pd.read_csv(\"https://raw.githubusercontent.com/Datamanim/datarepo/main/insurance/y_test.csv\")\n",
    "\n",
    "print(x_train_origin.shape)\n",
    "display(x_train_origin.info())\n",
    "display(x_train_origin.head(3))\n",
    "display(x_train_origin.nunique())\n",
    "display(y_train_origin.head(3))"
   ]
  },
  {
   "cell_type": "code",
   "execution_count": 25,
   "metadata": {},
   "outputs": [],
   "source": [
    "x_train = x_train_origin.drop(['ID', 'id'], axis=1)\n",
    "y_train = y_train_origin['Response']\n",
    "x_test = x_test_origin.drop(['ID', 'id'], axis=1)\n",
    "y_test = y_test_origin['Response']"
   ]
  },
  {
   "cell_type": "code",
   "execution_count": 26,
   "metadata": {},
   "outputs": [
    {
     "data": {
      "text/plain": [
       "RandomForestClassifier()"
      ]
     },
     "execution_count": 26,
     "metadata": {},
     "output_type": "execute_result"
    }
   ],
   "source": [
    "from sklearn.model_selection import train_test_split\n",
    "from sklearn.ensemble import RandomForestClassifier\n",
    "from sklearn.metrics import accuracy_score, f1_score, recall_score, precision_score, roc_auc_score\n",
    "\n",
    "x_train_dummies = pd.get_dummies(x_train)\n",
    "x_test_dummies = pd.get_dummies(x_test)\n",
    "\n",
    "X_train, X_val, Y_train, Y_val = train_test_split(x_train_dummies, y_train)\n",
    "\n",
    "rf = RandomForestClassifier()\n",
    "rf.fit(X_train, Y_train)"
   ]
  },
  {
   "cell_type": "code",
   "execution_count": 30,
   "metadata": {},
   "outputs": [
    {
     "name": "stdout",
     "output_type": "stream",
     "text": [
      "val acc:  0.8671249770407494\n",
      "val f1_score:  0.1813773035887488\n",
      "val recall_score:  0.12082705147533922\n",
      "val precision_score:  0.36357744653272844\n",
      "val roc_auc_score:  0.834476223326767\n"
     ]
    }
   ],
   "source": [
    "val_predict = rf.predict(X_val)\n",
    "val_predict_proba = rf.predict_proba(X_val)[:, 1]\n",
    "\n",
    "print('val acc: ', accuracy_score(Y_val, val_predict))\n",
    "print('val f1_score: ', f1_score(Y_val, val_predict))\n",
    "print('val recall_score: ', recall_score(Y_val, val_predict))\n",
    "print('val precision_score: ', precision_score(Y_val, val_predict))\n",
    "print('val roc_auc_score: ', roc_auc_score(Y_val, val_predict_proba))"
   ]
  },
  {
   "cell_type": "code",
   "execution_count": 36,
   "metadata": {},
   "outputs": [
    {
     "name": "stdout",
     "output_type": "stream",
     "text": [
      "test acc:  0.9666238093988612\n"
     ]
    }
   ],
   "source": [
    "test_predict = rf.predict(x_test_dummies)\n",
    "print('test acc: ', accuracy_score(y_test, test_predict))"
   ]
  },
  {
   "cell_type": "markdown",
   "metadata": {},
   "source": [
    "# Q 6. 비행탑승 경험 만족도 데이터"
   ]
  },
  {
   "cell_type": "code",
   "execution_count": null,
   "metadata": {},
   "outputs": [],
   "source": [
    "\"\"\"\n",
    "데이터 설명 : 비행탑승 경험 만족도 (satisfaction 컬럼 : ‘neutral or dissatisfied’ or satisfied ) (83123, 24) shape\n",
    "x_train: https://raw.githubusercontent.com/Datamanim/datarepo/main/airline/x_train.csv\n",
    "y_train: https://raw.githubusercontent.com/Datamanim/datarepo/main/airline/y_train.csv\n",
    "x_test: https://raw.githubusercontent.com/Datamanim/datarepo/main/airline/x_test.csv\n",
    "x_label(평가용) : https://raw.githubusercontent.com/Datamanim/datarepo/main/airline/y_test.csv\n",
    "데이터 출처 :https://www.kaggle.com/teejmahal20/airline-passenger-satisfaction?select=train.csv (참고, 데이터 수정)\n",
    "\"\"\""
   ]
  },
  {
   "cell_type": "code",
   "execution_count": null,
   "metadata": {},
   "outputs": [],
   "source": []
  },
  {
   "cell_type": "code",
   "execution_count": null,
   "metadata": {},
   "outputs": [],
   "source": []
  },
  {
   "cell_type": "code",
   "execution_count": null,
   "metadata": {},
   "outputs": [],
   "source": []
  },
  {
   "cell_type": "markdown",
   "metadata": {},
   "source": [
    "# Q 7. 수질 음용성 여부 데이터"
   ]
  },
  {
   "cell_type": "markdown",
   "metadata": {},
   "source": [
    "# Q 8. 약물 분류 데이터"
   ]
  },
  {
   "cell_type": "markdown",
   "metadata": {},
   "source": [
    "# Q 9. 사기회사 분류 데이터"
   ]
  },
  {
   "cell_type": "markdown",
   "metadata": {},
   "source": [
    "# Q 10. 센서데이터 동작유형 분류 데이터"
   ]
  },
  {
   "cell_type": "markdown",
   "metadata": {},
   "source": [
    "# Q 11. 당뇨여부판단 데이터"
   ]
  },
  {
   "cell_type": "markdown",
   "metadata": {},
   "source": [
    "----"
   ]
  },
  {
   "cell_type": "markdown",
   "metadata": {},
   "source": [
    "# Q 12. 학생성적 예측 데이터"
   ]
  },
  {
   "cell_type": "code",
   "execution_count": null,
   "metadata": {},
   "outputs": [],
   "source": [
    "\"\"\"\n",
    "데이터 설명 : 학생성적 예측 (종속변수 :G3)\n",
    "x_train: https://raw.githubusercontent.com/Datamanim/datarepo/main/studentscore/X_train.csv\n",
    "y_train: https://raw.githubusercontent.com/Datamanim/datarepo/main/studentscore/y_train.csv\n",
    "x_test: https://raw.githubusercontent.com/Datamanim/datarepo/main/studentscore/X_test.csv\n",
    "x_label(평가용) : https://raw.githubusercontent.com/Datamanim/datarepo/main/studentscore/y_test.csv\n",
    "데이터 출처 :https://www.kaggle.com/datasets/ishandutta/student-performance-data-set (참고, 데이터 수정)\n",
    "\"\"\""
   ]
  },
  {
   "cell_type": "code",
   "execution_count": 2,
   "metadata": {},
   "outputs": [
    {
     "name": "stdout",
     "output_type": "stream",
     "text": [
      "(678, 33)\n",
      "<class 'pandas.core.frame.DataFrame'>\n",
      "RangeIndex: 678 entries, 0 to 677\n",
      "Data columns (total 33 columns):\n",
      " #   Column      Non-Null Count  Dtype \n",
      "---  ------      --------------  ----- \n",
      " 0   StudentID   678 non-null    int64 \n",
      " 1   school      678 non-null    object\n",
      " 2   sex         678 non-null    object\n",
      " 3   age         678 non-null    int64 \n",
      " 4   address     678 non-null    object\n",
      " 5   famsize     678 non-null    object\n",
      " 6   Pstatus     678 non-null    object\n",
      " 7   Medu        678 non-null    int64 \n",
      " 8   Fedu        678 non-null    int64 \n",
      " 9   Mjob        678 non-null    object\n",
      " 10  Fjob        678 non-null    object\n",
      " 11  reason      678 non-null    object\n",
      " 12  guardian    678 non-null    object\n",
      " 13  traveltime  678 non-null    int64 \n",
      " 14  studytime   678 non-null    int64 \n",
      " 15  failures    678 non-null    int64 \n",
      " 16  schoolsup   678 non-null    object\n",
      " 17  famsup      678 non-null    object\n",
      " 18  paid        678 non-null    object\n",
      " 19  activities  678 non-null    object\n",
      " 20  nursery     678 non-null    object\n",
      " 21  higher      678 non-null    object\n",
      " 22  internet    678 non-null    object\n",
      " 23  romantic    678 non-null    object\n",
      " 24  famrel      678 non-null    int64 \n",
      " 25  freetime    678 non-null    int64 \n",
      " 26  goout       678 non-null    int64 \n",
      " 27  Dalc        678 non-null    int64 \n",
      " 28  Walc        678 non-null    int64 \n",
      " 29  health      678 non-null    int64 \n",
      " 30  absences    678 non-null    int64 \n",
      " 31  G1          678 non-null    int64 \n",
      " 32  G2          678 non-null    int64 \n",
      "dtypes: int64(16), object(17)\n",
      "memory usage: 174.9+ KB\n"
     ]
    },
    {
     "data": {
      "text/plain": [
       "None"
      ]
     },
     "metadata": {},
     "output_type": "display_data"
    },
    {
     "data": {
      "text/html": [
       "<div>\n",
       "<style scoped>\n",
       "    .dataframe tbody tr th:only-of-type {\n",
       "        vertical-align: middle;\n",
       "    }\n",
       "\n",
       "    .dataframe tbody tr th {\n",
       "        vertical-align: top;\n",
       "    }\n",
       "\n",
       "    .dataframe thead th {\n",
       "        text-align: right;\n",
       "    }\n",
       "</style>\n",
       "<table border=\"1\" class=\"dataframe\">\n",
       "  <thead>\n",
       "    <tr style=\"text-align: right;\">\n",
       "      <th></th>\n",
       "      <th>StudentID</th>\n",
       "      <th>school</th>\n",
       "      <th>sex</th>\n",
       "      <th>age</th>\n",
       "      <th>address</th>\n",
       "      <th>famsize</th>\n",
       "      <th>Pstatus</th>\n",
       "      <th>Medu</th>\n",
       "      <th>Fedu</th>\n",
       "      <th>Mjob</th>\n",
       "      <th>...</th>\n",
       "      <th>romantic</th>\n",
       "      <th>famrel</th>\n",
       "      <th>freetime</th>\n",
       "      <th>goout</th>\n",
       "      <th>Dalc</th>\n",
       "      <th>Walc</th>\n",
       "      <th>health</th>\n",
       "      <th>absences</th>\n",
       "      <th>G1</th>\n",
       "      <th>G2</th>\n",
       "    </tr>\n",
       "  </thead>\n",
       "  <tbody>\n",
       "    <tr>\n",
       "      <th>0</th>\n",
       "      <td>1714</td>\n",
       "      <td>GP</td>\n",
       "      <td>F</td>\n",
       "      <td>18</td>\n",
       "      <td>U</td>\n",
       "      <td>GT3</td>\n",
       "      <td>T</td>\n",
       "      <td>4</td>\n",
       "      <td>3</td>\n",
       "      <td>other</td>\n",
       "      <td>...</td>\n",
       "      <td>no</td>\n",
       "      <td>4</td>\n",
       "      <td>3</td>\n",
       "      <td>3</td>\n",
       "      <td>1</td>\n",
       "      <td>1</td>\n",
       "      <td>3</td>\n",
       "      <td>0</td>\n",
       "      <td>14</td>\n",
       "      <td>13</td>\n",
       "    </tr>\n",
       "    <tr>\n",
       "      <th>1</th>\n",
       "      <td>1254</td>\n",
       "      <td>GP</td>\n",
       "      <td>F</td>\n",
       "      <td>17</td>\n",
       "      <td>U</td>\n",
       "      <td>GT3</td>\n",
       "      <td>T</td>\n",
       "      <td>4</td>\n",
       "      <td>3</td>\n",
       "      <td>health</td>\n",
       "      <td>...</td>\n",
       "      <td>yes</td>\n",
       "      <td>4</td>\n",
       "      <td>4</td>\n",
       "      <td>3</td>\n",
       "      <td>1</td>\n",
       "      <td>3</td>\n",
       "      <td>4</td>\n",
       "      <td>0</td>\n",
       "      <td>13</td>\n",
       "      <td>15</td>\n",
       "    </tr>\n",
       "    <tr>\n",
       "      <th>2</th>\n",
       "      <td>1639</td>\n",
       "      <td>GP</td>\n",
       "      <td>F</td>\n",
       "      <td>16</td>\n",
       "      <td>R</td>\n",
       "      <td>GT3</td>\n",
       "      <td>T</td>\n",
       "      <td>4</td>\n",
       "      <td>4</td>\n",
       "      <td>health</td>\n",
       "      <td>...</td>\n",
       "      <td>no</td>\n",
       "      <td>2</td>\n",
       "      <td>4</td>\n",
       "      <td>4</td>\n",
       "      <td>2</td>\n",
       "      <td>3</td>\n",
       "      <td>4</td>\n",
       "      <td>6</td>\n",
       "      <td>10</td>\n",
       "      <td>11</td>\n",
       "    </tr>\n",
       "  </tbody>\n",
       "</table>\n",
       "<p>3 rows × 33 columns</p>\n",
       "</div>"
      ],
      "text/plain": [
       "   StudentID school sex  age address famsize Pstatus  Medu  Fedu    Mjob  ...  \\\n",
       "0       1714     GP   F   18       U     GT3       T     4     3   other  ...   \n",
       "1       1254     GP   F   17       U     GT3       T     4     3  health  ...   \n",
       "2       1639     GP   F   16       R     GT3       T     4     4  health  ...   \n",
       "\n",
       "  romantic famrel freetime  goout  Dalc  Walc health absences  G1  G2  \n",
       "0       no      4        3      3     1     1      3        0  14  13  \n",
       "1      yes      4        4      3     1     3      4        0  13  15  \n",
       "2       no      2        4      4     2     3      4        6  10  11  \n",
       "\n",
       "[3 rows x 33 columns]"
      ]
     },
     "metadata": {},
     "output_type": "display_data"
    },
    {
     "data": {
      "text/plain": [
       "StudentID     678\n",
       "school          2\n",
       "sex             2\n",
       "age             8\n",
       "address         2\n",
       "famsize         2\n",
       "Pstatus         2\n",
       "Medu            5\n",
       "Fedu            5\n",
       "Mjob            5\n",
       "Fjob            5\n",
       "reason          4\n",
       "guardian        3\n",
       "traveltime      4\n",
       "studytime       4\n",
       "failures        4\n",
       "schoolsup       2\n",
       "famsup          2\n",
       "paid            2\n",
       "activities      2\n",
       "nursery         2\n",
       "higher          2\n",
       "internet        2\n",
       "romantic        2\n",
       "famrel          5\n",
       "freetime        5\n",
       "goout           5\n",
       "Dalc            5\n",
       "Walc            5\n",
       "health          5\n",
       "absences       31\n",
       "G1             16\n",
       "G2             16\n",
       "dtype: int64"
      ]
     },
     "metadata": {},
     "output_type": "display_data"
    },
    {
     "data": {
      "text/html": [
       "<div>\n",
       "<style scoped>\n",
       "    .dataframe tbody tr th:only-of-type {\n",
       "        vertical-align: middle;\n",
       "    }\n",
       "\n",
       "    .dataframe tbody tr th {\n",
       "        vertical-align: top;\n",
       "    }\n",
       "\n",
       "    .dataframe thead th {\n",
       "        text-align: right;\n",
       "    }\n",
       "</style>\n",
       "<table border=\"1\" class=\"dataframe\">\n",
       "  <thead>\n",
       "    <tr style=\"text-align: right;\">\n",
       "      <th></th>\n",
       "      <th>StudentID</th>\n",
       "      <th>G3</th>\n",
       "    </tr>\n",
       "  </thead>\n",
       "  <tbody>\n",
       "    <tr>\n",
       "      <th>0</th>\n",
       "      <td>1714</td>\n",
       "      <td>14</td>\n",
       "    </tr>\n",
       "    <tr>\n",
       "      <th>1</th>\n",
       "      <td>1254</td>\n",
       "      <td>15</td>\n",
       "    </tr>\n",
       "    <tr>\n",
       "      <th>2</th>\n",
       "      <td>1639</td>\n",
       "      <td>11</td>\n",
       "    </tr>\n",
       "  </tbody>\n",
       "</table>\n",
       "</div>"
      ],
      "text/plain": [
       "   StudentID  G3\n",
       "0       1714  14\n",
       "1       1254  15\n",
       "2       1639  11"
      ]
     },
     "metadata": {},
     "output_type": "display_data"
    },
    {
     "name": "stdout",
     "output_type": "stream",
     "text": [
      "Index(['StudentID', 'school', 'sex', 'age', 'address', 'famsize', 'Pstatus',\n",
      "       'Medu', 'Fedu', 'Mjob', 'Fjob', 'reason', 'guardian', 'traveltime',\n",
      "       'studytime', 'failures', 'schoolsup', 'famsup', 'paid', 'activities',\n",
      "       'nursery', 'higher', 'internet', 'romantic', 'famrel', 'freetime',\n",
      "       'goout', 'Dalc', 'Walc', 'health', 'absences', 'G1', 'G2'],\n",
      "      dtype='object')\n"
     ]
    }
   ],
   "source": [
    "x_train_origin = pd.read_csv(\"https://raw.githubusercontent.com/Datamanim/datarepo/main/studentscore/X_train.csv\")\n",
    "y_train_origin = pd.read_csv(\"https://raw.githubusercontent.com/Datamanim/datarepo/main/studentscore/y_train.csv\")\n",
    "x_test_origin = pd.read_csv(\"https://raw.githubusercontent.com/Datamanim/datarepo/main/studentscore/X_test.csv\")\n",
    "y_test_origin = pd.read_csv(\"https://raw.githubusercontent.com/Datamanim/datarepo/main/studentscore/y_test.csv\")\n",
    "\n",
    "print(x_train_origin.shape)\n",
    "display(x_train_origin.info())\n",
    "display(x_train_origin.head(3))\n",
    "display(x_train_origin.nunique())\n",
    "display(y_train_origin.head(3))\n",
    "print(x_train_origin.columns)"
   ]
  },
  {
   "cell_type": "code",
   "execution_count": 3,
   "metadata": {},
   "outputs": [],
   "source": [
    "temp = x_train_origin.copy()\n",
    "temp['y'] = y_train_origin['G3']"
   ]
  },
  {
   "cell_type": "code",
   "execution_count": 96,
   "metadata": {},
   "outputs": [
    {
     "data": {
      "text/html": [
       "<div>\n",
       "<style scoped>\n",
       "    .dataframe tbody tr th:only-of-type {\n",
       "        vertical-align: middle;\n",
       "    }\n",
       "\n",
       "    .dataframe tbody tr th {\n",
       "        vertical-align: top;\n",
       "    }\n",
       "\n",
       "    .dataframe thead th {\n",
       "        text-align: right;\n",
       "    }\n",
       "</style>\n",
       "<table border=\"1\" class=\"dataframe\">\n",
       "  <thead>\n",
       "    <tr style=\"text-align: right;\">\n",
       "      <th></th>\n",
       "      <th>y</th>\n",
       "      <th>Pstatus_A</th>\n",
       "      <th>Pstatus_T</th>\n",
       "    </tr>\n",
       "  </thead>\n",
       "  <tbody>\n",
       "    <tr>\n",
       "      <th>y</th>\n",
       "      <td>1.000000</td>\n",
       "      <td>-0.001743</td>\n",
       "      <td>0.001743</td>\n",
       "    </tr>\n",
       "    <tr>\n",
       "      <th>Pstatus_A</th>\n",
       "      <td>-0.001743</td>\n",
       "      <td>1.000000</td>\n",
       "      <td>-1.000000</td>\n",
       "    </tr>\n",
       "    <tr>\n",
       "      <th>Pstatus_T</th>\n",
       "      <td>0.001743</td>\n",
       "      <td>-1.000000</td>\n",
       "      <td>1.000000</td>\n",
       "    </tr>\n",
       "  </tbody>\n",
       "</table>\n",
       "</div>"
      ],
      "text/plain": [
       "                  y  Pstatus_A  Pstatus_T\n",
       "y          1.000000  -0.001743   0.001743\n",
       "Pstatus_A -0.001743   1.000000  -1.000000\n",
       "Pstatus_T  0.001743  -1.000000   1.000000"
      ]
     },
     "execution_count": 96,
     "metadata": {},
     "output_type": "execute_result"
    }
   ],
   "source": [
    "pd.get_dummies(temp[['Pstatus','y']]).corr()"
   ]
  },
  {
   "cell_type": "code",
   "execution_count": 16,
   "metadata": {},
   "outputs": [
    {
     "name": "stdout",
     "output_type": "stream",
     "text": [
      "(678, 27)\n"
     ]
    }
   ],
   "source": [
    "x_train = x_train_origin.drop(['StudentID', 'sex', 'Pstatus', 'nursery', 'absences', 'activities', 'famsup', 'famrel','paid', 'Mjob', 'Fjob', 'schoolsup', 'guardian', 'famsize'], axis=1)\n",
    "# x_train = x_train_origin.drop(['StudentID', 'sex', 'Pstatus'], axis=1)\n",
    "# x_train = x_train_origin[['Medu', 'failures', 'G1', 'G2']]\n",
    "y_train = y_train_origin['G3']\n",
    "x_test = x_test_origin.drop(['StudentID', 'sex', 'Pstatus', 'nursery', 'absences', 'activities', 'famsup', 'famrel','paid', 'Mjob', 'Fjob', 'schoolsup', 'guardian', 'famsize'], axis=1)\n",
    "# x_test = x_test_origin.drop(['StudentID', 'sex', 'Pstatus'], axis=1)\n",
    "# x_test = x_test_origin[['Medu', 'failures', 'G1', 'G2']]\n",
    "y_test = y_test_origin['G3']\n",
    "\n",
    "x_train_dummies = pd.get_dummies(x_train)\n",
    "x_test_dummies = pd.get_dummies(x_test)\n",
    "print(x_train_dummies.shape)"
   ]
  },
  {
   "cell_type": "code",
   "execution_count": 82,
   "metadata": {},
   "outputs": [
    {
     "data": {
      "text/html": [
       "<div>\n",
       "<style scoped>\n",
       "    .dataframe tbody tr th:only-of-type {\n",
       "        vertical-align: middle;\n",
       "    }\n",
       "\n",
       "    .dataframe tbody tr th {\n",
       "        vertical-align: top;\n",
       "    }\n",
       "\n",
       "    .dataframe thead th {\n",
       "        text-align: right;\n",
       "    }\n",
       "</style>\n",
       "<table border=\"1\" class=\"dataframe\">\n",
       "  <thead>\n",
       "    <tr style=\"text-align: right;\">\n",
       "      <th></th>\n",
       "      <th>age</th>\n",
       "      <th>Medu</th>\n",
       "      <th>Fedu</th>\n",
       "      <th>traveltime</th>\n",
       "      <th>studytime</th>\n",
       "      <th>failures</th>\n",
       "      <th>freetime</th>\n",
       "      <th>goout</th>\n",
       "      <th>Dalc</th>\n",
       "      <th>Walc</th>\n",
       "      <th>...</th>\n",
       "      <th>reason_course</th>\n",
       "      <th>reason_home</th>\n",
       "      <th>reason_other</th>\n",
       "      <th>reason_reputation</th>\n",
       "      <th>higher_no</th>\n",
       "      <th>higher_yes</th>\n",
       "      <th>internet_no</th>\n",
       "      <th>internet_yes</th>\n",
       "      <th>romantic_no</th>\n",
       "      <th>romantic_yes</th>\n",
       "    </tr>\n",
       "  </thead>\n",
       "  <tbody>\n",
       "    <tr>\n",
       "      <th>0</th>\n",
       "      <td>0.428571</td>\n",
       "      <td>1.0</td>\n",
       "      <td>0.75</td>\n",
       "      <td>0.0</td>\n",
       "      <td>1.000000</td>\n",
       "      <td>0.0</td>\n",
       "      <td>0.50</td>\n",
       "      <td>0.50</td>\n",
       "      <td>0.00</td>\n",
       "      <td>0.0</td>\n",
       "      <td>...</td>\n",
       "      <td>0.0</td>\n",
       "      <td>0.0</td>\n",
       "      <td>0.0</td>\n",
       "      <td>1.0</td>\n",
       "      <td>0.0</td>\n",
       "      <td>1.0</td>\n",
       "      <td>0.0</td>\n",
       "      <td>1.0</td>\n",
       "      <td>1.0</td>\n",
       "      <td>0.0</td>\n",
       "    </tr>\n",
       "    <tr>\n",
       "      <th>1</th>\n",
       "      <td>0.285714</td>\n",
       "      <td>1.0</td>\n",
       "      <td>0.75</td>\n",
       "      <td>0.0</td>\n",
       "      <td>0.666667</td>\n",
       "      <td>0.0</td>\n",
       "      <td>0.75</td>\n",
       "      <td>0.50</td>\n",
       "      <td>0.00</td>\n",
       "      <td>0.5</td>\n",
       "      <td>...</td>\n",
       "      <td>0.0</td>\n",
       "      <td>0.0</td>\n",
       "      <td>0.0</td>\n",
       "      <td>1.0</td>\n",
       "      <td>0.0</td>\n",
       "      <td>1.0</td>\n",
       "      <td>0.0</td>\n",
       "      <td>1.0</td>\n",
       "      <td>0.0</td>\n",
       "      <td>1.0</td>\n",
       "    </tr>\n",
       "    <tr>\n",
       "      <th>2</th>\n",
       "      <td>0.142857</td>\n",
       "      <td>1.0</td>\n",
       "      <td>1.00</td>\n",
       "      <td>0.0</td>\n",
       "      <td>0.333333</td>\n",
       "      <td>0.0</td>\n",
       "      <td>0.75</td>\n",
       "      <td>0.75</td>\n",
       "      <td>0.25</td>\n",
       "      <td>0.5</td>\n",
       "      <td>...</td>\n",
       "      <td>0.0</td>\n",
       "      <td>0.0</td>\n",
       "      <td>1.0</td>\n",
       "      <td>0.0</td>\n",
       "      <td>0.0</td>\n",
       "      <td>1.0</td>\n",
       "      <td>1.0</td>\n",
       "      <td>0.0</td>\n",
       "      <td>1.0</td>\n",
       "      <td>0.0</td>\n",
       "    </tr>\n",
       "  </tbody>\n",
       "</table>\n",
       "<p>3 rows × 27 columns</p>\n",
       "</div>"
      ],
      "text/plain": [
       "        age  Medu  Fedu  traveltime  studytime  failures  freetime  goout  \\\n",
       "0  0.428571   1.0  0.75         0.0   1.000000       0.0      0.50   0.50   \n",
       "1  0.285714   1.0  0.75         0.0   0.666667       0.0      0.75   0.50   \n",
       "2  0.142857   1.0  1.00         0.0   0.333333       0.0      0.75   0.75   \n",
       "\n",
       "   Dalc  Walc  ...  reason_course  reason_home  reason_other  \\\n",
       "0  0.00   0.0  ...            0.0          0.0           0.0   \n",
       "1  0.00   0.5  ...            0.0          0.0           0.0   \n",
       "2  0.25   0.5  ...            0.0          0.0           1.0   \n",
       "\n",
       "   reason_reputation  higher_no  higher_yes  internet_no  internet_yes  \\\n",
       "0                1.0        0.0         1.0          0.0           1.0   \n",
       "1                1.0        0.0         1.0          0.0           1.0   \n",
       "2                0.0        0.0         1.0          1.0           0.0   \n",
       "\n",
       "   romantic_no  romantic_yes  \n",
       "0          1.0           0.0  \n",
       "1          0.0           1.0  \n",
       "2          1.0           0.0  \n",
       "\n",
       "[3 rows x 27 columns]"
      ]
     },
     "execution_count": 82,
     "metadata": {},
     "output_type": "execute_result"
    }
   ],
   "source": [
    "from sklearn.preprocessing import MinMaxScaler, StandardScaler\n",
    "\n",
    "scaler = MinMaxScaler()\n",
    "x_train_scaled = pd.DataFrame(scaler.fit_transform(x_train_dummies), columns=x_train_dummies.columns)\n",
    "x_test_scaled = pd.DataFrame(scaler.transform(x_test_dummies), columns=x_test_dummies.columns)\n",
    "x_train_scaled.head(3)"
   ]
  },
  {
   "cell_type": "code",
   "execution_count": 109,
   "metadata": {},
   "outputs": [
    {
     "data": {
      "text/plain": [
       "RandomForestRegressor()"
      ]
     },
     "execution_count": 109,
     "metadata": {},
     "output_type": "execute_result"
    }
   ],
   "source": [
    "from sklearn.model_selection import train_test_split\n",
    "from sklearn.ensemble import RandomForestRegressor\n",
    "from sklearn.metrics import mean_squared_error, mean_absolute_error, r2_score, mean_absolute_percentage_error, ad\n",
    "\n",
    "X_train, X_val, Y_train, Y_val = train_test_split(x_train_dummies, y_train, random_state=42)\n",
    "\n",
    "rf = RandomForestRegressor()\n",
    "rf.fit(X_train, Y_train)"
   ]
  },
  {
   "cell_type": "code",
   "execution_count": 81,
   "metadata": {},
   "outputs": [
    {
     "name": "stdout",
     "output_type": "stream",
     "text": [
      "val mse:  2.3690338379084968\n",
      "val mae:  1.0244274509803921\n",
      "val r2:  0.8297858237084955\n",
      "val mape:  606131526319041.0\n",
      "val rmse: 24619738.550988737\n",
      "test mse:  3.0991868008841053\n",
      "test r2:  0.7984592160123816\n"
     ]
    }
   ],
   "source": [
    "val_predict = rf.predict(X_val)\n",
    "\n",
    "print('val mse: ', mean_squared_error(Y_val, val_predict))\n",
    "print('val mae: ', mean_absolute_error(Y_val, val_predict))\n",
    "print('val r2: ', r2_score(Y_val, val_predict))\n",
    "print('val mape: ', mean_absolute_percentage_error(Y_val, val_predict))\n",
    "print('val rmse:', np.sqrt(mean_absolute_percentage_error(Y_val, val_predict)))\n",
    "\n",
    "test_predict = rf.predict(x_test_dummies)\n",
    "\n",
    "print('test mse: ', mean_squared_error(y_test, test_predict))\n",
    "print('test r2: ', r2_score(y_test, test_predict))"
   ]
  },
  {
   "cell_type": "code",
   "execution_count": 110,
   "metadata": {},
   "outputs": [
    {
     "name": "stdout",
     "output_type": "stream",
     "text": [
      "val mse:  2.3975451137254904\n",
      "val mae:  1.045692156862745\n",
      "val r2:  0.8277372994322472\n",
      "val mape:  610105290696132.5\n",
      "val rmse: 24700309.526322387\n",
      "test mse:  118.30859972677594\n",
      "test r2:  -6.693633676617939\n"
     ]
    }
   ],
   "source": [
    "val_predict = rf.predict(X_val)\n",
    "\n",
    "print('val mse: ', mean_squared_error(Y_val, val_predict))\n",
    "print('val mae: ', mean_absolute_error(Y_val, val_predict))\n",
    "print('val r2: ', r2_score(Y_val, val_predict))\n",
    "print('val mape: ', mean_absolute_percentage_error(Y_val, val_predict))\n",
    "print('val rmse:', np.sqrt(mean_absolute_percentage_error(Y_val, val_predict)))\n",
    "\n",
    "test_predict = rf.predict(x_test_scaled)        # MinMaxScaler\n",
    "\n",
    "print('test mse: ', mean_squared_error(y_test, test_predict))\n",
    "print('test r2: ', r2_score(y_test, test_predict))"
   ]
  },
  {
   "cell_type": "code",
   "execution_count": 71,
   "metadata": {},
   "outputs": [
    {
     "name": "stdout",
     "output_type": "stream",
     "text": [
      "val mse:  2.4331111718954253\n",
      "val mae:  1.05228431372549\n",
      "val r2:  0.8251818917388408\n",
      "val mape:  577785340429120.8\n",
      "val rmse: 24037165.815235388\n",
      "test mse:  3.119926891247847\n",
      "test r2:  0.7971104834769016\n"
     ]
    }
   ],
   "source": [
    "val_predict = rf.predict(X_val)\n",
    "\n",
    "print('val mse: ', mean_squared_error(Y_val, val_predict))\n",
    "print('val mae: ', mean_absolute_error(Y_val, val_predict))\n",
    "print('val r2: ', r2_score(Y_val, val_predict))\n",
    "print('val mape: ', mean_absolute_percentage_error(Y_val, val_predict))\n",
    "print('val rmse:', np.sqrt(mean_absolute_percentage_error(Y_val, val_predict)))\n",
    "\n",
    "test_predict = rf.predict(x_test_scaled)        # StandardScaler\n",
    "\n",
    "print('test mse: ', mean_squared_error(y_test, test_predict))\n",
    "print('test r2: ', r2_score(y_test, test_predict))"
   ]
  },
  {
   "cell_type": "markdown",
   "metadata": {},
   "source": [
    "# Q 13. 중고차 가격 예측 데이터"
   ]
  },
  {
   "cell_type": "markdown",
   "metadata": {},
   "source": [
    "# Q 14. 의료 비용 예측 데이터"
   ]
  },
  {
   "cell_type": "markdown",
   "metadata": {},
   "source": [
    "# Q 15. 킹카운티 주거지 가격예측문제 데이터"
   ]
  },
  {
   "cell_type": "markdown",
   "metadata": {},
   "source": [
    "# Q 16. 대학원 입학가능성 데이터"
   ]
  },
  {
   "cell_type": "markdown",
   "metadata": {},
   "source": [
    "# Q 17. 레드 와인 퀄리티 예측 데이터"
   ]
  },
  {
   "cell_type": "markdown",
   "metadata": {},
   "source": [
    "# Q 18. 현대 차량 가격 분류문제 데이터"
   ]
  }
 ],
 "metadata": {
  "kernelspec": {
   "display_name": "bbg",
   "language": "python",
   "name": "python3"
  },
  "language_info": {
   "codemirror_mode": {
    "name": "ipython",
    "version": 3
   },
   "file_extension": ".py",
   "mimetype": "text/x-python",
   "name": "python",
   "nbconvert_exporter": "python",
   "pygments_lexer": "ipython3",
   "version": "3.9.19"
  }
 },
 "nbformat": 4,
 "nbformat_minor": 2
}
