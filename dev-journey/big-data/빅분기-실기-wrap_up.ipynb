{
 "cells": [
  {
   "cell_type": "code",
   "execution_count": 2,
   "metadata": {},
   "outputs": [],
   "source": [
    "import numpy as np; import pandas as pd; p = print; import matplotlib.pyplot as plt; from sklearn.datasets import load_iris; from seaborn import load_dataset"
   ]
  },
  {
   "cell_type": "markdown",
   "metadata": {},
   "source": [
    "# Python ~ Numpy ~ Pandas"
   ]
  },
  {
   "cell_type": "markdown",
   "metadata": {},
   "source": [
    "**▶ range / reversed**"
   ]
  },
  {
   "cell_type": "code",
   "execution_count": 3,
   "metadata": {},
   "outputs": [
    {
     "name": "stdout",
     "output_type": "stream",
     "text": [
      "8\n",
      "range(4, 8)\n",
      "<reversed object at 0x0000022CEBECD340>\n",
      "<list_reverseiterator object at 0x0000022CDAC1DF70>\n",
      "<reversed object at 0x0000022CEBECD340>\n",
      "<range_iterator object at 0x0000022CEBEDCC10>\n"
     ]
    }
   ],
   "source": [
    "'''\n",
    "range도 기본적으로 sequence형이라 iterable하게 쓸 수 있는 것이다.\n",
    "    - 인덱싱과 슬라이싱 가능\n",
    "'''\n",
    "print(range(1, 11)[7])\n",
    "print(range(1, 11)[3:7])    # range를 슬라이싱하면 range 객체로 나온다.\n",
    "'''\n",
    "reversed는 reversed 객체로 리턴됨.\n",
    "'''\n",
    "print(reversed('abcde'))\n",
    "print(reversed([1, 2, 3 ,4, 5]))\n",
    "print(reversed((1, 2, 3, 4, 5)))\n",
    "print(reversed(range(10)))"
   ]
  },
  {
   "cell_type": "markdown",
   "metadata": {},
   "source": [
    "**▶ ndarray**"
   ]
  },
  {
   "cell_type": "code",
   "execution_count": 28,
   "metadata": {},
   "outputs": [
    {
     "name": "stdout",
     "output_type": "stream",
     "text": [
      "['3' '4' '5' '6']\n",
      "<class 'numpy.ndarray'>\n",
      "[[0. 0. 0. 0.]\n",
      " [0. 0. 0. 0.]]\n",
      "[[9 9 9 9 9]\n",
      " [9 9 9 9 9]]\n",
      "[[1. 0. 0.]\n",
      " [0. 1. 0.]\n",
      " [0. 0. 1.]]\n",
      "\n",
      "[[ 1  2  3]\n",
      " [ 4  5  6]\n",
      " [ 7  8  9]\n",
      " [10 11 12]]\n",
      "8\n",
      "[[ 5  6]\n",
      " [ 8  9]\n",
      " [11 12]]\n",
      "[[4 5 6]\n",
      " [7 8 9]]\n"
     ]
    }
   ],
   "source": [
    "'''\n",
    "numpy 배열을 만들 때 dtype 인자를 사용하면 데이터 타입을 바꿀 수 있다.  ★\n",
    "'''\n",
    "print(arr:=np.array([3, 4, 5, 6], dtype='str'))\n",
    "print(type(arr))\n",
    "print(np.zeros((2, 4), dtype='float'))\n",
    "print(np.full((2, 5), 9))       # 9로 채운 행렬 만들기\n",
    "print(np.identity(3))           # 단위행렬\n",
    "p()\n",
    "arr = np.arange(1, 13).reshape(4, -1)\n",
    "print(arr)\n",
    "print(arr[-2, -2])\n",
    "print(arr[-3:, 1:])\n",
    "print(arr[1:3, :])"
   ]
  },
  {
   "cell_type": "code",
   "execution_count": 40,
   "metadata": {},
   "outputs": [
    {
     "name": "stdout",
     "output_type": "stream",
     "text": [
      "[3 4 5 6 0]\n",
      "[3. 4. 5. 6. 0.]\n",
      "[ 1 -1 -1  1  0]\n",
      "[ 3. -4. -5.  6.]\n",
      "\n"
     ]
    }
   ],
   "source": [
    "# abs(numpy.ndarray)\n",
    "arr = np.array([3, -4, -5, 6, 0])\n",
    "print(np.abs(arr))\n",
    "print(np.fabs(arr))     # 복소수가 아닌 경우에는 fabs로 빠르게 연산 가능하다고 함\n",
    "print(np.sign(arr))     # 부호만 가져옴. 0의 부호는 0\n",
    "'''넘파이 연산\n",
    "     np.sqrt(arr)  np.square(arr)  np.exp(arr)  np.log(arr)  np.log10(arr)\n",
    "     np.round(arr, 2)  np.ceil(arr)  np.floor(arr)'''\n",
    "print(np.trunc([3.14, -4.15, -5.79, 6.88]))     # 일반적인 올림, 내림과는 다르게 소수점 파트를 삭제함.\n",
    "'''형상 변환 \n",
    "     arr.reshape()  arr.ravel() == arr.flatten()  arr.transpose()\n",
    "   통계\n",
    "     np.mean(arr)  np.min(arr)  np.max(arr)\n",
    "     np.var(arr, ddof=None)  np.std(arr, ddof=None)     ← ddof = 자유도. 표본 통계량을 구할 때는 ddof=1을 줘야 함. ★\n",
    "     np.argmin(arr)  np.argmax(arr)                    ★\n",
    "'''; p()"
   ]
  },
  {
   "cell_type": "markdown",
   "metadata": {},
   "source": [
    "**▶ DataFrame**"
   ]
  },
  {
   "cell_type": "code",
   "execution_count": 53,
   "metadata": {},
   "outputs": [
    {
     "data": {
      "text/html": [
       "<div>\n",
       "<style scoped>\n",
       "    .dataframe tbody tr th:only-of-type {\n",
       "        vertical-align: middle;\n",
       "    }\n",
       "\n",
       "    .dataframe tbody tr th {\n",
       "        vertical-align: top;\n",
       "    }\n",
       "\n",
       "    .dataframe thead th {\n",
       "        text-align: right;\n",
       "    }\n",
       "</style>\n",
       "<table border=\"1\" class=\"dataframe\">\n",
       "  <thead>\n",
       "    <tr style=\"text-align: right;\">\n",
       "      <th></th>\n",
       "      <th>Name</th>\n",
       "      <th>Sex</th>\n",
       "      <th>Age</th>\n",
       "    </tr>\n",
       "  </thead>\n",
       "  <tbody>\n",
       "    <tr>\n",
       "      <th>a</th>\n",
       "      <td>Olivia</td>\n",
       "      <td>F</td>\n",
       "      <td>22</td>\n",
       "    </tr>\n",
       "    <tr>\n",
       "      <th>b</th>\n",
       "      <td>Lucas</td>\n",
       "      <td>M</td>\n",
       "      <td>32</td>\n",
       "    </tr>\n",
       "    <tr>\n",
       "      <th>c</th>\n",
       "      <td>Sophia</td>\n",
       "      <td>F</td>\n",
       "      <td>27</td>\n",
       "    </tr>\n",
       "    <tr>\n",
       "      <th>d</th>\n",
       "      <td>Zoe</td>\n",
       "      <td>F</td>\n",
       "      <td>24</td>\n",
       "    </tr>\n",
       "    <tr>\n",
       "      <th>e</th>\n",
       "      <td>Aca</td>\n",
       "      <td>F</td>\n",
       "      <td>38</td>\n",
       "    </tr>\n",
       "    <tr>\n",
       "      <th>f</th>\n",
       "      <td>Elliot</td>\n",
       "      <td>M</td>\n",
       "      <td>19</td>\n",
       "    </tr>\n",
       "  </tbody>\n",
       "</table>\n",
       "</div>"
      ],
      "text/plain": [
       "     Name Sex  Age\n",
       "a  Olivia   F   22\n",
       "b   Lucas   M   32\n",
       "c  Sophia   F   27\n",
       "d     Zoe   F   24\n",
       "e     Aca   F   38\n",
       "f  Elliot   M   19"
      ]
     },
     "metadata": {},
     "output_type": "display_data"
    },
    {
     "name": "stdout",
     "output_type": "stream",
     "text": [
      "Zoe\n",
      "24\n",
      "     Name Sex  Age\n",
      "c  Sophia   F   27\n",
      "d     Zoe   F   24\n",
      "e     Aca   F   38\n",
      "     Name Sex  Age\n",
      "c  Sophia   F   27\n",
      "d     Zoe   F   24\n",
      "e     Aca   F   38\n",
      "Sophia Sophia\n"
     ]
    }
   ],
   "source": [
    "'''\n",
    "    pd.DataFrame(object, index, columns)\n",
    "'''\n",
    "df = pd.DataFrame({\n",
    "    'Name': ['Olivia', 'Lucas', 'Sophia', 'Zoe', 'Aca', 'Elliot'],\n",
    "    'Sex': ['F', 'M', 'F', 'F', 'F', 'M'],\n",
    "    'Age': [22, 32, 27, 24, 38, 19]\n",
    "}, index=list('abcdef'))\n",
    "display(df)\n",
    "print(df.iloc[3, 0])\n",
    "print(df.loc['d', 'Age'])\n",
    "print(df.iloc[2:5])\n",
    "print(df.loc['c':'e'])      # loc는 마지막 슬라이싱 행이 포함됨. 지져스\n",
    "print(df['Name']['c'], df['Name'][2])       # 인덱서 없이 인덱싱할 때는 열 → 행 순서. 걍 loc나 iloc 쓰자."
   ]
  },
  {
   "cell_type": "code",
   "execution_count": 68,
   "metadata": {},
   "outputs": [
    {
     "name": "stdout",
     "output_type": "stream",
     "text": [
      "[(5.02, 5.74], (4.296, 5.02], (5.74, 6.46], (6.46, 7.18], (7.18, 7.9]]\n",
      "Categories (5, interval[float64, right]): [(4.296, 5.02] < (5.02, 5.74] < (5.74, 6.46] < (6.46, 7.18] < (7.18, 7.9]]\n"
     ]
    }
   ],
   "source": [
    "'''데이터 프레임의 통계\n",
    "        df.describe()  df.count()  df.mean()  df.min()  df.max()\n",
    "        df.var(ddof=1)  df.std(ddof=1)      ← 넘파이와는 다르게 ddof=1이 디폴트 ★\n",
    "        df.median()  df.quantile(q=0.5)  df.mode()     ★\n",
    "\n",
    "   입출력\n",
    "        pd.read_csv(path, sep=',', encoding=None)\n",
    "        pd.to_csv(path, index=True)\n",
    "\n",
    "   정렬\n",
    "        df.sort_values(by, ascending=True, axis=0)\n",
    "        df.sort_index(axis=0, ascending=True, level=None)       ← axis=1이면 열 인덱스(특성 순서)을 정렬함\n",
    "\n",
    "   순위\n",
    "        df.rank(axis=0, method='average', ascending=True)\n",
    "\n",
    "   컬럼 추가, 삭제, 구간화\n",
    "        df['컬럼명'] = 추가할 컬럼\n",
    "        df.insert(loc, column, value)\n",
    "        df.drop(labels, axis=0)\n",
    "        pd.cut(x, bins, labels=None, right=True)        ← 구간화(비닝, binning)\n",
    "        pd.qcut(x, q, labels=None, right=True)          ← 분위수 기반의 구간화\n",
    "'''\n",
    "iris = pd.DataFrame(load_iris()['data'], columns=load_iris()['feature_names'])\n",
    "iris['cut'] = pd.cut(iris['sepal length (cm)'], bins=5)\n",
    "print(iris['cut'].unique())"
   ]
  },
  {
   "cell_type": "markdown",
   "metadata": {},
   "source": [
    "# 데이터 인코딩"
   ]
  },
  {
   "cell_type": "markdown",
   "metadata": {},
   "source": [
    "**▶ Label Encoding**"
   ]
  },
  {
   "cell_type": "code",
   "execution_count": 10,
   "metadata": {},
   "outputs": [
    {
     "data": {
      "text/html": [
       "<div>\n",
       "<style scoped>\n",
       "    .dataframe tbody tr th:only-of-type {\n",
       "        vertical-align: middle;\n",
       "    }\n",
       "\n",
       "    .dataframe tbody tr th {\n",
       "        vertical-align: top;\n",
       "    }\n",
       "\n",
       "    .dataframe thead th {\n",
       "        text-align: right;\n",
       "    }\n",
       "</style>\n",
       "<table border=\"1\" class=\"dataframe\">\n",
       "  <thead>\n",
       "    <tr style=\"text-align: right;\">\n",
       "      <th></th>\n",
       "      <th>Class</th>\n",
       "    </tr>\n",
       "  </thead>\n",
       "  <tbody>\n",
       "    <tr>\n",
       "      <th>0</th>\n",
       "      <td>A</td>\n",
       "    </tr>\n",
       "    <tr>\n",
       "      <th>1</th>\n",
       "      <td>B</td>\n",
       "    </tr>\n",
       "    <tr>\n",
       "      <th>2</th>\n",
       "      <td>A</td>\n",
       "    </tr>\n",
       "    <tr>\n",
       "      <th>3</th>\n",
       "      <td>C</td>\n",
       "    </tr>\n",
       "    <tr>\n",
       "      <th>4</th>\n",
       "      <td>E</td>\n",
       "    </tr>\n",
       "    <tr>\n",
       "      <th>5</th>\n",
       "      <td>D</td>\n",
       "    </tr>\n",
       "    <tr>\n",
       "      <th>6</th>\n",
       "      <td>D</td>\n",
       "    </tr>\n",
       "    <tr>\n",
       "      <th>7</th>\n",
       "      <td>A</td>\n",
       "    </tr>\n",
       "    <tr>\n",
       "      <th>8</th>\n",
       "      <td>F</td>\n",
       "    </tr>\n",
       "  </tbody>\n",
       "</table>\n",
       "</div>"
      ],
      "text/plain": [
       "  Class\n",
       "0     A\n",
       "1     B\n",
       "2     A\n",
       "3     C\n",
       "4     E\n",
       "5     D\n",
       "6     D\n",
       "7     A\n",
       "8     F"
      ]
     },
     "metadata": {},
     "output_type": "display_data"
    },
    {
     "name": "stderr",
     "output_type": "stream",
     "text": [
      "c:\\Users\\ALT\\anaconda3\\envs\\bbg\\lib\\site-packages\\sklearn\\utils\\validation.py:63: DataConversionWarning: A column-vector y was passed when a 1d array was expected. Please change the shape of y to (n_samples, ), for example using ravel().\n",
      "  return f(*args, **kwargs)\n"
     ]
    },
    {
     "data": {
      "text/plain": [
       "array([0, 1, 0, 2, 4, 3, 3, 0, 5])"
      ]
     },
     "metadata": {},
     "output_type": "display_data"
    },
    {
     "name": "stdout",
     "output_type": "stream",
     "text": [
      "['A' 'B' 'C' 'D' 'E' 'F']\n",
      "['A' 'B' 'A' 'C' 'E' 'D' 'D' 'A' 'F']\n"
     ]
    }
   ],
   "source": [
    "'''\n",
    "- 단순하게 문자열 값을 숫자형 카테고리 값으로 일대일로 변환.\n",
    "- 숫자가 대소의 의미를 가지게 되므로, 가급적 트리 계열과 같은 특정 머신러닝 알고리즘에서만 사용해야 한다.\n",
    "- 넘파이의 select()나 판다스의 map()으로도 같은 기능 가능\n",
    "'''\n",
    "from sklearn.preprocessing import LabelEncoder\n",
    "\n",
    "df = pd.DataFrame({'Class': ['A', 'B', 'A', 'C', 'E', 'D', 'D', 'A', 'F']})\n",
    "display(df)\n",
    "\n",
    "encoder = LabelEncoder()\n",
    "df_encoded = encoder.fit_transform(df)  # 경고메시지는 1d array로 입력하라는 것. df['class']\n",
    "display(df_encoded)\n",
    "print(encoder.classes_)\n",
    "print(encoder.inverse_transform(df_encoded))    # 디코딩"
   ]
  },
  {
   "cell_type": "markdown",
   "metadata": {},
   "source": [
    "**▶ One-Hot Encoding**"
   ]
  },
  {
   "cell_type": "code",
   "execution_count": 28,
   "metadata": {},
   "outputs": [
    {
     "data": {
      "text/html": [
       "<div>\n",
       "<style scoped>\n",
       "    .dataframe tbody tr th:only-of-type {\n",
       "        vertical-align: middle;\n",
       "    }\n",
       "\n",
       "    .dataframe tbody tr th {\n",
       "        vertical-align: top;\n",
       "    }\n",
       "\n",
       "    .dataframe thead th {\n",
       "        text-align: right;\n",
       "    }\n",
       "</style>\n",
       "<table border=\"1\" class=\"dataframe\">\n",
       "  <thead>\n",
       "    <tr style=\"text-align: right;\">\n",
       "      <th></th>\n",
       "      <th>Class</th>\n",
       "    </tr>\n",
       "  </thead>\n",
       "  <tbody>\n",
       "    <tr>\n",
       "      <th>0</th>\n",
       "      <td>A</td>\n",
       "    </tr>\n",
       "    <tr>\n",
       "      <th>1</th>\n",
       "      <td>B</td>\n",
       "    </tr>\n",
       "    <tr>\n",
       "      <th>2</th>\n",
       "      <td>A</td>\n",
       "    </tr>\n",
       "    <tr>\n",
       "      <th>3</th>\n",
       "      <td>C</td>\n",
       "    </tr>\n",
       "    <tr>\n",
       "      <th>4</th>\n",
       "      <td>E</td>\n",
       "    </tr>\n",
       "    <tr>\n",
       "      <th>5</th>\n",
       "      <td>D</td>\n",
       "    </tr>\n",
       "    <tr>\n",
       "      <th>6</th>\n",
       "      <td>D</td>\n",
       "    </tr>\n",
       "    <tr>\n",
       "      <th>7</th>\n",
       "      <td>A</td>\n",
       "    </tr>\n",
       "    <tr>\n",
       "      <th>8</th>\n",
       "      <td>F</td>\n",
       "    </tr>\n",
       "  </tbody>\n",
       "</table>\n",
       "</div>"
      ],
      "text/plain": [
       "  Class\n",
       "0     A\n",
       "1     B\n",
       "2     A\n",
       "3     C\n",
       "4     E\n",
       "5     D\n",
       "6     D\n",
       "7     A\n",
       "8     F"
      ]
     },
     "metadata": {},
     "output_type": "display_data"
    },
    {
     "data": {
      "text/html": [
       "<div>\n",
       "<style scoped>\n",
       "    .dataframe tbody tr th:only-of-type {\n",
       "        vertical-align: middle;\n",
       "    }\n",
       "\n",
       "    .dataframe tbody tr th {\n",
       "        vertical-align: top;\n",
       "    }\n",
       "\n",
       "    .dataframe thead th {\n",
       "        text-align: right;\n",
       "    }\n",
       "</style>\n",
       "<table border=\"1\" class=\"dataframe\">\n",
       "  <thead>\n",
       "    <tr style=\"text-align: right;\">\n",
       "      <th></th>\n",
       "      <th>Class</th>\n",
       "      <th>Class_A</th>\n",
       "      <th>Class_B</th>\n",
       "      <th>Class_C</th>\n",
       "      <th>Class_D</th>\n",
       "      <th>Class_E</th>\n",
       "      <th>Class_F</th>\n",
       "    </tr>\n",
       "  </thead>\n",
       "  <tbody>\n",
       "    <tr>\n",
       "      <th>0</th>\n",
       "      <td>A</td>\n",
       "      <td>1</td>\n",
       "      <td>0</td>\n",
       "      <td>0</td>\n",
       "      <td>0</td>\n",
       "      <td>0</td>\n",
       "      <td>0</td>\n",
       "    </tr>\n",
       "    <tr>\n",
       "      <th>1</th>\n",
       "      <td>B</td>\n",
       "      <td>0</td>\n",
       "      <td>1</td>\n",
       "      <td>0</td>\n",
       "      <td>0</td>\n",
       "      <td>0</td>\n",
       "      <td>0</td>\n",
       "    </tr>\n",
       "    <tr>\n",
       "      <th>2</th>\n",
       "      <td>A</td>\n",
       "      <td>1</td>\n",
       "      <td>0</td>\n",
       "      <td>0</td>\n",
       "      <td>0</td>\n",
       "      <td>0</td>\n",
       "      <td>0</td>\n",
       "    </tr>\n",
       "    <tr>\n",
       "      <th>3</th>\n",
       "      <td>C</td>\n",
       "      <td>0</td>\n",
       "      <td>0</td>\n",
       "      <td>1</td>\n",
       "      <td>0</td>\n",
       "      <td>0</td>\n",
       "      <td>0</td>\n",
       "    </tr>\n",
       "    <tr>\n",
       "      <th>4</th>\n",
       "      <td>E</td>\n",
       "      <td>0</td>\n",
       "      <td>0</td>\n",
       "      <td>0</td>\n",
       "      <td>0</td>\n",
       "      <td>1</td>\n",
       "      <td>0</td>\n",
       "    </tr>\n",
       "    <tr>\n",
       "      <th>5</th>\n",
       "      <td>D</td>\n",
       "      <td>0</td>\n",
       "      <td>0</td>\n",
       "      <td>0</td>\n",
       "      <td>1</td>\n",
       "      <td>0</td>\n",
       "      <td>0</td>\n",
       "    </tr>\n",
       "    <tr>\n",
       "      <th>6</th>\n",
       "      <td>D</td>\n",
       "      <td>0</td>\n",
       "      <td>0</td>\n",
       "      <td>0</td>\n",
       "      <td>1</td>\n",
       "      <td>0</td>\n",
       "      <td>0</td>\n",
       "    </tr>\n",
       "    <tr>\n",
       "      <th>7</th>\n",
       "      <td>A</td>\n",
       "      <td>1</td>\n",
       "      <td>0</td>\n",
       "      <td>0</td>\n",
       "      <td>0</td>\n",
       "      <td>0</td>\n",
       "      <td>0</td>\n",
       "    </tr>\n",
       "    <tr>\n",
       "      <th>8</th>\n",
       "      <td>F</td>\n",
       "      <td>0</td>\n",
       "      <td>0</td>\n",
       "      <td>0</td>\n",
       "      <td>0</td>\n",
       "      <td>0</td>\n",
       "      <td>1</td>\n",
       "    </tr>\n",
       "  </tbody>\n",
       "</table>\n",
       "</div>"
      ],
      "text/plain": [
       "  Class  Class_A  Class_B  Class_C  Class_D  Class_E  Class_F\n",
       "0     A        1        0        0        0        0        0\n",
       "1     B        0        1        0        0        0        0\n",
       "2     A        1        0        0        0        0        0\n",
       "3     C        0        0        1        0        0        0\n",
       "4     E        0        0        0        0        1        0\n",
       "5     D        0        0        0        1        0        0\n",
       "6     D        0        0        0        1        0        0\n",
       "7     A        1        0        0        0        0        0\n",
       "8     F        0        0        0        0        0        1"
      ]
     },
     "execution_count": 28,
     "metadata": {},
     "output_type": "execute_result"
    }
   ],
   "source": [
    "'''\n",
    "- get_dummies() 후에 concat((), axis=1) 을 사용\n",
    "- OneHotEncoder는 LabelEncoder나 .values등으로 1차원 넘파이로 변환 후 2차원으로 다시 변환해야 함.\n",
    "- 넘파이의 where() 나 판다스의 loc인덱서 + 부올린 인덱싱으로도 가능.\n",
    "'''\n",
    "df = pd.DataFrame({'Class': ['A', 'B', 'A', 'C', 'E', 'D', 'D', 'A', 'F']})\n",
    "display(df)\n",
    "\n",
    "df_encoded = pd.get_dummies(df)\n",
    "pd.concat((df, df_encoded), axis=1)"
   ]
  },
  {
   "cell_type": "code",
   "execution_count": 35,
   "metadata": {},
   "outputs": [
    {
     "data": {
      "text/html": [
       "<div>\n",
       "<style scoped>\n",
       "    .dataframe tbody tr th:only-of-type {\n",
       "        vertical-align: middle;\n",
       "    }\n",
       "\n",
       "    .dataframe tbody tr th {\n",
       "        vertical-align: top;\n",
       "    }\n",
       "\n",
       "    .dataframe thead th {\n",
       "        text-align: right;\n",
       "    }\n",
       "</style>\n",
       "<table border=\"1\" class=\"dataframe\">\n",
       "  <thead>\n",
       "    <tr style=\"text-align: right;\">\n",
       "      <th></th>\n",
       "      <th>survived</th>\n",
       "      <th>pclass</th>\n",
       "      <th>sex</th>\n",
       "      <th>age</th>\n",
       "      <th>sibsp</th>\n",
       "      <th>parch</th>\n",
       "      <th>fare</th>\n",
       "      <th>embarked</th>\n",
       "      <th>class</th>\n",
       "      <th>who</th>\n",
       "      <th>adult_male</th>\n",
       "      <th>deck</th>\n",
       "      <th>embark_town</th>\n",
       "      <th>alive</th>\n",
       "      <th>alone</th>\n",
       "    </tr>\n",
       "  </thead>\n",
       "  <tbody>\n",
       "    <tr>\n",
       "      <th>0</th>\n",
       "      <td>0</td>\n",
       "      <td>3</td>\n",
       "      <td>male</td>\n",
       "      <td>22.0</td>\n",
       "      <td>1</td>\n",
       "      <td>0</td>\n",
       "      <td>7.2500</td>\n",
       "      <td>S</td>\n",
       "      <td>Third</td>\n",
       "      <td>man</td>\n",
       "      <td>True</td>\n",
       "      <td>NaN</td>\n",
       "      <td>Southampton</td>\n",
       "      <td>no</td>\n",
       "      <td>False</td>\n",
       "    </tr>\n",
       "    <tr>\n",
       "      <th>1</th>\n",
       "      <td>1</td>\n",
       "      <td>1</td>\n",
       "      <td>female</td>\n",
       "      <td>38.0</td>\n",
       "      <td>1</td>\n",
       "      <td>0</td>\n",
       "      <td>71.2833</td>\n",
       "      <td>C</td>\n",
       "      <td>First</td>\n",
       "      <td>woman</td>\n",
       "      <td>False</td>\n",
       "      <td>C</td>\n",
       "      <td>Cherbourg</td>\n",
       "      <td>yes</td>\n",
       "      <td>False</td>\n",
       "    </tr>\n",
       "    <tr>\n",
       "      <th>2</th>\n",
       "      <td>1</td>\n",
       "      <td>3</td>\n",
       "      <td>female</td>\n",
       "      <td>26.0</td>\n",
       "      <td>0</td>\n",
       "      <td>0</td>\n",
       "      <td>7.9250</td>\n",
       "      <td>S</td>\n",
       "      <td>Third</td>\n",
       "      <td>woman</td>\n",
       "      <td>False</td>\n",
       "      <td>NaN</td>\n",
       "      <td>Southampton</td>\n",
       "      <td>yes</td>\n",
       "      <td>True</td>\n",
       "    </tr>\n",
       "  </tbody>\n",
       "</table>\n",
       "</div>"
      ],
      "text/plain": [
       "   survived  pclass     sex   age  sibsp  parch     fare embarked  class  \\\n",
       "0         0       3    male  22.0      1      0   7.2500        S  Third   \n",
       "1         1       1  female  38.0      1      0  71.2833        C  First   \n",
       "2         1       3  female  26.0      0      0   7.9250        S  Third   \n",
       "\n",
       "     who  adult_male deck  embark_town alive  alone  \n",
       "0    man        True  NaN  Southampton    no  False  \n",
       "1  woman       False    C    Cherbourg   yes  False  \n",
       "2  woman       False  NaN  Southampton   yes   True  "
      ]
     },
     "metadata": {},
     "output_type": "display_data"
    },
    {
     "data": {
      "text/html": [
       "<div>\n",
       "<style scoped>\n",
       "    .dataframe tbody tr th:only-of-type {\n",
       "        vertical-align: middle;\n",
       "    }\n",
       "\n",
       "    .dataframe tbody tr th {\n",
       "        vertical-align: top;\n",
       "    }\n",
       "\n",
       "    .dataframe thead th {\n",
       "        text-align: right;\n",
       "    }\n",
       "</style>\n",
       "<table border=\"1\" class=\"dataframe\">\n",
       "  <thead>\n",
       "    <tr style=\"text-align: right;\">\n",
       "      <th></th>\n",
       "      <th>survived</th>\n",
       "      <th>pclass</th>\n",
       "      <th>sex</th>\n",
       "      <th>age</th>\n",
       "      <th>sibsp</th>\n",
       "      <th>parch</th>\n",
       "      <th>fare</th>\n",
       "      <th>embarked</th>\n",
       "      <th>class</th>\n",
       "      <th>who</th>\n",
       "      <th>adult_male</th>\n",
       "      <th>deck</th>\n",
       "      <th>embark_town</th>\n",
       "      <th>alive</th>\n",
       "      <th>alone</th>\n",
       "      <th>요금_대중소</th>\n",
       "      <th>low</th>\n",
       "      <th>middle</th>\n",
       "      <th>high</th>\n",
       "    </tr>\n",
       "  </thead>\n",
       "  <tbody>\n",
       "    <tr>\n",
       "      <th>0</th>\n",
       "      <td>0</td>\n",
       "      <td>3</td>\n",
       "      <td>male</td>\n",
       "      <td>22.0</td>\n",
       "      <td>1</td>\n",
       "      <td>0</td>\n",
       "      <td>7.2500</td>\n",
       "      <td>S</td>\n",
       "      <td>Third</td>\n",
       "      <td>man</td>\n",
       "      <td>True</td>\n",
       "      <td>NaN</td>\n",
       "      <td>Southampton</td>\n",
       "      <td>no</td>\n",
       "      <td>False</td>\n",
       "      <td>low</td>\n",
       "      <td>1</td>\n",
       "      <td>0</td>\n",
       "      <td>0</td>\n",
       "    </tr>\n",
       "    <tr>\n",
       "      <th>1</th>\n",
       "      <td>1</td>\n",
       "      <td>1</td>\n",
       "      <td>female</td>\n",
       "      <td>38.0</td>\n",
       "      <td>1</td>\n",
       "      <td>0</td>\n",
       "      <td>71.2833</td>\n",
       "      <td>C</td>\n",
       "      <td>First</td>\n",
       "      <td>woman</td>\n",
       "      <td>False</td>\n",
       "      <td>C</td>\n",
       "      <td>Cherbourg</td>\n",
       "      <td>yes</td>\n",
       "      <td>False</td>\n",
       "      <td>high</td>\n",
       "      <td>0</td>\n",
       "      <td>0</td>\n",
       "      <td>1</td>\n",
       "    </tr>\n",
       "    <tr>\n",
       "      <th>2</th>\n",
       "      <td>1</td>\n",
       "      <td>3</td>\n",
       "      <td>female</td>\n",
       "      <td>26.0</td>\n",
       "      <td>0</td>\n",
       "      <td>0</td>\n",
       "      <td>7.9250</td>\n",
       "      <td>S</td>\n",
       "      <td>Third</td>\n",
       "      <td>woman</td>\n",
       "      <td>False</td>\n",
       "      <td>NaN</td>\n",
       "      <td>Southampton</td>\n",
       "      <td>yes</td>\n",
       "      <td>True</td>\n",
       "      <td>low</td>\n",
       "      <td>1</td>\n",
       "      <td>0</td>\n",
       "      <td>0</td>\n",
       "    </tr>\n",
       "    <tr>\n",
       "      <th>3</th>\n",
       "      <td>1</td>\n",
       "      <td>1</td>\n",
       "      <td>female</td>\n",
       "      <td>35.0</td>\n",
       "      <td>1</td>\n",
       "      <td>0</td>\n",
       "      <td>53.1000</td>\n",
       "      <td>S</td>\n",
       "      <td>First</td>\n",
       "      <td>woman</td>\n",
       "      <td>False</td>\n",
       "      <td>C</td>\n",
       "      <td>Southampton</td>\n",
       "      <td>yes</td>\n",
       "      <td>False</td>\n",
       "      <td>middle</td>\n",
       "      <td>0</td>\n",
       "      <td>1</td>\n",
       "      <td>0</td>\n",
       "    </tr>\n",
       "    <tr>\n",
       "      <th>4</th>\n",
       "      <td>0</td>\n",
       "      <td>3</td>\n",
       "      <td>male</td>\n",
       "      <td>35.0</td>\n",
       "      <td>0</td>\n",
       "      <td>0</td>\n",
       "      <td>8.0500</td>\n",
       "      <td>S</td>\n",
       "      <td>Third</td>\n",
       "      <td>man</td>\n",
       "      <td>True</td>\n",
       "      <td>NaN</td>\n",
       "      <td>Southampton</td>\n",
       "      <td>no</td>\n",
       "      <td>True</td>\n",
       "      <td>low</td>\n",
       "      <td>1</td>\n",
       "      <td>0</td>\n",
       "      <td>0</td>\n",
       "    </tr>\n",
       "    <tr>\n",
       "      <th>...</th>\n",
       "      <td>...</td>\n",
       "      <td>...</td>\n",
       "      <td>...</td>\n",
       "      <td>...</td>\n",
       "      <td>...</td>\n",
       "      <td>...</td>\n",
       "      <td>...</td>\n",
       "      <td>...</td>\n",
       "      <td>...</td>\n",
       "      <td>...</td>\n",
       "      <td>...</td>\n",
       "      <td>...</td>\n",
       "      <td>...</td>\n",
       "      <td>...</td>\n",
       "      <td>...</td>\n",
       "      <td>...</td>\n",
       "      <td>...</td>\n",
       "      <td>...</td>\n",
       "      <td>...</td>\n",
       "    </tr>\n",
       "    <tr>\n",
       "      <th>886</th>\n",
       "      <td>0</td>\n",
       "      <td>2</td>\n",
       "      <td>male</td>\n",
       "      <td>27.0</td>\n",
       "      <td>0</td>\n",
       "      <td>0</td>\n",
       "      <td>13.0000</td>\n",
       "      <td>S</td>\n",
       "      <td>Second</td>\n",
       "      <td>man</td>\n",
       "      <td>True</td>\n",
       "      <td>NaN</td>\n",
       "      <td>Southampton</td>\n",
       "      <td>no</td>\n",
       "      <td>True</td>\n",
       "      <td>low</td>\n",
       "      <td>1</td>\n",
       "      <td>0</td>\n",
       "      <td>0</td>\n",
       "    </tr>\n",
       "    <tr>\n",
       "      <th>887</th>\n",
       "      <td>1</td>\n",
       "      <td>1</td>\n",
       "      <td>female</td>\n",
       "      <td>19.0</td>\n",
       "      <td>0</td>\n",
       "      <td>0</td>\n",
       "      <td>30.0000</td>\n",
       "      <td>S</td>\n",
       "      <td>First</td>\n",
       "      <td>woman</td>\n",
       "      <td>False</td>\n",
       "      <td>B</td>\n",
       "      <td>Southampton</td>\n",
       "      <td>yes</td>\n",
       "      <td>True</td>\n",
       "      <td>middle</td>\n",
       "      <td>0</td>\n",
       "      <td>1</td>\n",
       "      <td>0</td>\n",
       "    </tr>\n",
       "    <tr>\n",
       "      <th>888</th>\n",
       "      <td>0</td>\n",
       "      <td>3</td>\n",
       "      <td>female</td>\n",
       "      <td>NaN</td>\n",
       "      <td>1</td>\n",
       "      <td>2</td>\n",
       "      <td>23.4500</td>\n",
       "      <td>S</td>\n",
       "      <td>Third</td>\n",
       "      <td>woman</td>\n",
       "      <td>False</td>\n",
       "      <td>NaN</td>\n",
       "      <td>Southampton</td>\n",
       "      <td>no</td>\n",
       "      <td>False</td>\n",
       "      <td>middle</td>\n",
       "      <td>0</td>\n",
       "      <td>1</td>\n",
       "      <td>0</td>\n",
       "    </tr>\n",
       "    <tr>\n",
       "      <th>889</th>\n",
       "      <td>1</td>\n",
       "      <td>1</td>\n",
       "      <td>male</td>\n",
       "      <td>26.0</td>\n",
       "      <td>0</td>\n",
       "      <td>0</td>\n",
       "      <td>30.0000</td>\n",
       "      <td>C</td>\n",
       "      <td>First</td>\n",
       "      <td>man</td>\n",
       "      <td>True</td>\n",
       "      <td>C</td>\n",
       "      <td>Cherbourg</td>\n",
       "      <td>yes</td>\n",
       "      <td>True</td>\n",
       "      <td>middle</td>\n",
       "      <td>0</td>\n",
       "      <td>1</td>\n",
       "      <td>0</td>\n",
       "    </tr>\n",
       "    <tr>\n",
       "      <th>890</th>\n",
       "      <td>0</td>\n",
       "      <td>3</td>\n",
       "      <td>male</td>\n",
       "      <td>32.0</td>\n",
       "      <td>0</td>\n",
       "      <td>0</td>\n",
       "      <td>7.7500</td>\n",
       "      <td>Q</td>\n",
       "      <td>Third</td>\n",
       "      <td>man</td>\n",
       "      <td>True</td>\n",
       "      <td>NaN</td>\n",
       "      <td>Queenstown</td>\n",
       "      <td>no</td>\n",
       "      <td>True</td>\n",
       "      <td>low</td>\n",
       "      <td>1</td>\n",
       "      <td>0</td>\n",
       "      <td>0</td>\n",
       "    </tr>\n",
       "  </tbody>\n",
       "</table>\n",
       "<p>891 rows × 19 columns</p>\n",
       "</div>"
      ],
      "text/plain": [
       "     survived  pclass     sex   age  sibsp  parch     fare embarked   class  \\\n",
       "0           0       3    male  22.0      1      0   7.2500        S   Third   \n",
       "1           1       1  female  38.0      1      0  71.2833        C   First   \n",
       "2           1       3  female  26.0      0      0   7.9250        S   Third   \n",
       "3           1       1  female  35.0      1      0  53.1000        S   First   \n",
       "4           0       3    male  35.0      0      0   8.0500        S   Third   \n",
       "..        ...     ...     ...   ...    ...    ...      ...      ...     ...   \n",
       "886         0       2    male  27.0      0      0  13.0000        S  Second   \n",
       "887         1       1  female  19.0      0      0  30.0000        S   First   \n",
       "888         0       3  female   NaN      1      2  23.4500        S   Third   \n",
       "889         1       1    male  26.0      0      0  30.0000        C   First   \n",
       "890         0       3    male  32.0      0      0   7.7500        Q   Third   \n",
       "\n",
       "       who  adult_male deck  embark_town alive  alone  요금_대중소  low  middle  \\\n",
       "0      man        True  NaN  Southampton    no  False     low    1       0   \n",
       "1    woman       False    C    Cherbourg   yes  False    high    0       0   \n",
       "2    woman       False  NaN  Southampton   yes   True     low    1       0   \n",
       "3    woman       False    C  Southampton   yes  False  middle    0       1   \n",
       "4      man        True  NaN  Southampton    no   True     low    1       0   \n",
       "..     ...         ...  ...          ...   ...    ...     ...  ...     ...   \n",
       "886    man        True  NaN  Southampton    no   True     low    1       0   \n",
       "887  woman       False    B  Southampton   yes   True  middle    0       1   \n",
       "888  woman       False  NaN  Southampton    no  False  middle    0       1   \n",
       "889    man        True    C    Cherbourg   yes   True  middle    0       1   \n",
       "890    man        True  NaN   Queenstown    no   True     low    1       0   \n",
       "\n",
       "     high  \n",
       "0       0  \n",
       "1       1  \n",
       "2       0  \n",
       "3       0  \n",
       "4       0  \n",
       "..    ...  \n",
       "886     0  \n",
       "887     0  \n",
       "888     0  \n",
       "889     0  \n",
       "890     0  \n",
       "\n",
       "[891 rows x 19 columns]"
      ]
     },
     "metadata": {},
     "output_type": "display_data"
    }
   ],
   "source": [
    "titanic = load_dataset('titanic')\n",
    "display(titanic.head(3))\n",
    "\n",
    "titanic['요금_대중소'] = pd.cut(titanic['fare'], bins=[0, 20, 70, 300], labels=['low', 'middle', 'high'])\n",
    "titanic_encoded = pd.get_dummies(titanic['요금_대중소'])\n",
    "display(pd.concat((titanic, titanic_encoded), axis=1))"
   ]
  },
  {
   "cell_type": "markdown",
   "metadata": {},
   "source": [
    "### 데이터 스케일링\n",
    "\n",
    "**▶ StandardScaler**  \n",
    "- 평균을 기준으로 얼마나 떨어져 있는지를 나타냄\n",
    "- 표준화 후, 특정 범위를 벗어난 데이터를 이상치로 판별할 수도 있음\n",
    "\n",
    "**▶ MinMaxScaler**\n",
    "- 데이터군내에서 특정 개체가 가지는 위치를 파악하고 비교할 때 사용"
   ]
  },
  {
   "cell_type": "markdown",
   "metadata": {},
   "source": [
    "### 데이터 축소\n",
    "\n",
    "**▶ PCA　(Principal Component Analysis, 주성분분석)**  "
   ]
  },
  {
   "cell_type": "code",
   "execution_count": 50,
   "metadata": {},
   "outputs": [
    {
     "data": {
      "text/html": [
       "<div>\n",
       "<style scoped>\n",
       "    .dataframe tbody tr th:only-of-type {\n",
       "        vertical-align: middle;\n",
       "    }\n",
       "\n",
       "    .dataframe tbody tr th {\n",
       "        vertical-align: top;\n",
       "    }\n",
       "\n",
       "    .dataframe thead th {\n",
       "        text-align: right;\n",
       "    }\n",
       "</style>\n",
       "<table border=\"1\" class=\"dataframe\">\n",
       "  <thead>\n",
       "    <tr style=\"text-align: right;\">\n",
       "      <th></th>\n",
       "      <th>Murder</th>\n",
       "      <th>Assault</th>\n",
       "      <th>UrbanPop</th>\n",
       "      <th>Rape</th>\n",
       "    </tr>\n",
       "  </thead>\n",
       "  <tbody>\n",
       "    <tr>\n",
       "      <th>Alabama</th>\n",
       "      <td>13.2</td>\n",
       "      <td>236</td>\n",
       "      <td>58</td>\n",
       "      <td>21.2</td>\n",
       "    </tr>\n",
       "    <tr>\n",
       "      <th>Alaska</th>\n",
       "      <td>10.0</td>\n",
       "      <td>263</td>\n",
       "      <td>48</td>\n",
       "      <td>44.5</td>\n",
       "    </tr>\n",
       "    <tr>\n",
       "      <th>Arizona</th>\n",
       "      <td>8.1</td>\n",
       "      <td>294</td>\n",
       "      <td>80</td>\n",
       "      <td>31.0</td>\n",
       "    </tr>\n",
       "  </tbody>\n",
       "</table>\n",
       "</div>"
      ],
      "text/plain": [
       "         Murder  Assault  UrbanPop  Rape\n",
       "Alabama    13.2      236        58  21.2\n",
       "Alaska     10.0      263        48  44.5\n",
       "Arizona     8.1      294        80  31.0"
      ]
     },
     "metadata": {},
     "output_type": "display_data"
    },
    {
     "name": "stdout",
     "output_type": "stream",
     "text": [
      "분산 기여율:  [0.62006039 0.24744129 0.0891408  0.04335752]\n",
      "누적 기여율:  [0.62006039 0.86750168 0.95664248 1.        ]\n"
     ]
    },
    {
     "data": {
      "text/html": [
       "<div>\n",
       "<style scoped>\n",
       "    .dataframe tbody tr th:only-of-type {\n",
       "        vertical-align: middle;\n",
       "    }\n",
       "\n",
       "    .dataframe tbody tr th {\n",
       "        vertical-align: top;\n",
       "    }\n",
       "\n",
       "    .dataframe thead th {\n",
       "        text-align: right;\n",
       "    }\n",
       "</style>\n",
       "<table border=\"1\" class=\"dataframe\">\n",
       "  <thead>\n",
       "    <tr style=\"text-align: right;\">\n",
       "      <th></th>\n",
       "      <th>PCA1</th>\n",
       "      <th>PCA2</th>\n",
       "    </tr>\n",
       "  </thead>\n",
       "  <tbody>\n",
       "    <tr>\n",
       "      <th>0</th>\n",
       "      <td>0.985566</td>\n",
       "      <td>1.133392</td>\n",
       "    </tr>\n",
       "    <tr>\n",
       "      <th>1</th>\n",
       "      <td>1.950138</td>\n",
       "      <td>1.073213</td>\n",
       "    </tr>\n",
       "    <tr>\n",
       "      <th>2</th>\n",
       "      <td>1.763164</td>\n",
       "      <td>-0.745957</td>\n",
       "    </tr>\n",
       "    <tr>\n",
       "      <th>3</th>\n",
       "      <td>-0.141420</td>\n",
       "      <td>1.119797</td>\n",
       "    </tr>\n",
       "    <tr>\n",
       "      <th>4</th>\n",
       "      <td>2.523980</td>\n",
       "      <td>-1.542934</td>\n",
       "    </tr>\n",
       "  </tbody>\n",
       "</table>\n",
       "</div>"
      ],
      "text/plain": [
       "       PCA1      PCA2\n",
       "0  0.985566  1.133392\n",
       "1  1.950138  1.073213\n",
       "2  1.763164 -0.745957\n",
       "3 -0.141420  1.119797\n",
       "4  2.523980 -1.542934"
      ]
     },
     "execution_count": 50,
     "metadata": {},
     "output_type": "execute_result"
    }
   ],
   "source": [
    "from sklearn.preprocessing import StandardScaler\n",
    "from sklearn.decomposition import PCA\n",
    "\n",
    "df = pd.read_csv('samples/예제/USArrests_rownames.csv', index_col=0)\n",
    "display(df.head(3))\n",
    "\n",
    "scaler = StandardScaler()\n",
    "df_scaled = scaler.fit_transform(df)\n",
    "\n",
    "pca = PCA(4)    # n_components=4 주성분 개수를 전체 컬럼 수로.\n",
    "pca_arr = pca.fit_transform(df_scaled)\n",
    "print('분산 기여율: ', pca.explained_variance_ratio_)\n",
    "print('누적 기여율: ', pca.explained_variance_ratio_.cumsum())      # 주성분 개수를 2개로 정함\n",
    "\n",
    "pca = PCA(2)\n",
    "pca_arr = pca.fit_transform(df_scaled)\n",
    "pd.DataFrame(pca_arr, columns=['PCA1', 'PCA2']).head()"
   ]
  },
  {
   "cell_type": "markdown",
   "metadata": {},
   "source": [
    "### 데이터 결합 및 요약\n",
    "\n",
    "**▶ concat**\n",
    "- 물리적으로 연결\n",
    "\n",
    "**▶ merge**\n",
    "- df1.merge(df2, how='inner', on=컬럼명)\n",
    "- 고유한 키를 기준으로 두 데이터프레임을 병합 = 조인 (how='inner'가 디폴트. 'left', 'right', 'outer'도 가능)\n",
    "\n",
    "**▶ groupby**\n",
    "\n",
    "**▶ agg**\n",
    "\n",
    "**▶ map**\n",
    "- 시리즈에만 사용 가능\n",
    "\n",
    "**▶ apply**\n"
   ]
  },
  {
   "cell_type": "markdown",
   "metadata": {},
   "source": [
    "### 결측치와 이상치\n",
    "\n"
   ]
  },
  {
   "cell_type": "code",
   "execution_count": null,
   "metadata": {},
   "outputs": [],
   "source": []
  },
  {
   "cell_type": "markdown",
   "metadata": {},
   "source": [
    "### 텍스트 데이터와 날짜시간 데이터"
   ]
  },
  {
   "cell_type": "code",
   "execution_count": null,
   "metadata": {},
   "outputs": [],
   "source": []
  },
  {
   "cell_type": "markdown",
   "metadata": {},
   "source": [
    "# 가설 검정  \n",
    "모집단에 대한 가설을 설정한 후 그 가설의 타당성 여부를 검정하는 것.\n",
    "- 상관분석\n",
    "- 정규성 검정\n",
    "- 모평균과 모분산 검정\n",
    "- 카이제곱 검정\n",
    "- 비모수 검정"
   ]
  },
  {
   "cell_type": "markdown",
   "metadata": {},
   "source": [
    "### **▼ 상관분석**\n",
    "- 데이터가 정규분포를 따를 때, 상관분석 -> 피어슨 상관계수"
   ]
  },
  {
   "cell_type": "code",
   "execution_count": 60,
   "metadata": {},
   "outputs": [
    {
     "data": {
      "text/html": [
       "<div>\n",
       "<style scoped>\n",
       "    .dataframe tbody tr th:only-of-type {\n",
       "        vertical-align: middle;\n",
       "    }\n",
       "\n",
       "    .dataframe tbody tr th {\n",
       "        vertical-align: top;\n",
       "    }\n",
       "\n",
       "    .dataframe thead th {\n",
       "        text-align: right;\n",
       "    }\n",
       "</style>\n",
       "<table border=\"1\" class=\"dataframe\">\n",
       "  <thead>\n",
       "    <tr style=\"text-align: right;\">\n",
       "      <th></th>\n",
       "      <th>age</th>\n",
       "      <th>sex</th>\n",
       "      <th>bmi</th>\n",
       "      <th>bp</th>\n",
       "      <th>s1</th>\n",
       "      <th>s2</th>\n",
       "      <th>s3</th>\n",
       "      <th>s4</th>\n",
       "      <th>s5</th>\n",
       "      <th>s6</th>\n",
       "    </tr>\n",
       "  </thead>\n",
       "  <tbody>\n",
       "    <tr>\n",
       "      <th>0</th>\n",
       "      <td>0.038076</td>\n",
       "      <td>0.050680</td>\n",
       "      <td>0.061696</td>\n",
       "      <td>0.021872</td>\n",
       "      <td>-0.044223</td>\n",
       "      <td>-0.034821</td>\n",
       "      <td>-0.043401</td>\n",
       "      <td>-0.002592</td>\n",
       "      <td>0.019908</td>\n",
       "      <td>-0.017646</td>\n",
       "    </tr>\n",
       "    <tr>\n",
       "      <th>1</th>\n",
       "      <td>-0.001882</td>\n",
       "      <td>-0.044642</td>\n",
       "      <td>-0.051474</td>\n",
       "      <td>-0.026328</td>\n",
       "      <td>-0.008449</td>\n",
       "      <td>-0.019163</td>\n",
       "      <td>0.074412</td>\n",
       "      <td>-0.039493</td>\n",
       "      <td>-0.068330</td>\n",
       "      <td>-0.092204</td>\n",
       "    </tr>\n",
       "  </tbody>\n",
       "</table>\n",
       "</div>"
      ],
      "text/plain": [
       "        age       sex       bmi        bp        s1        s2        s3  \\\n",
       "0  0.038076  0.050680  0.061696  0.021872 -0.044223 -0.034821 -0.043401   \n",
       "1 -0.001882 -0.044642 -0.051474 -0.026328 -0.008449 -0.019163  0.074412   \n",
       "\n",
       "         s4        s5        s6  \n",
       "0 -0.002592  0.019908 -0.017646  \n",
       "1 -0.039493 -0.068330 -0.092204  "
      ]
     },
     "metadata": {},
     "output_type": "display_data"
    },
    {
     "name": "stdout",
     "output_type": "stream",
     "text": [
      "피어슨 상관계수:  0.18508466614655558\n",
      "pvalue(유의확률):  9.076791865412659e-05 True\n"
     ]
    },
    {
     "data": {
      "text/html": [
       "<div>\n",
       "<style scoped>\n",
       "    .dataframe tbody tr th:only-of-type {\n",
       "        vertical-align: middle;\n",
       "    }\n",
       "\n",
       "    .dataframe tbody tr th {\n",
       "        vertical-align: top;\n",
       "    }\n",
       "\n",
       "    .dataframe thead th {\n",
       "        text-align: right;\n",
       "    }\n",
       "</style>\n",
       "<table border=\"1\" class=\"dataframe\">\n",
       "  <thead>\n",
       "    <tr style=\"text-align: right;\">\n",
       "      <th></th>\n",
       "      <th>age</th>\n",
       "      <th>bmi</th>\n",
       "    </tr>\n",
       "  </thead>\n",
       "  <tbody>\n",
       "    <tr>\n",
       "      <th>age</th>\n",
       "      <td>1.000000</td>\n",
       "      <td>0.185085</td>\n",
       "    </tr>\n",
       "    <tr>\n",
       "      <th>bmi</th>\n",
       "      <td>0.185085</td>\n",
       "      <td>1.000000</td>\n",
       "    </tr>\n",
       "  </tbody>\n",
       "</table>\n",
       "</div>"
      ],
      "text/plain": [
       "          age       bmi\n",
       "age  1.000000  0.185085\n",
       "bmi  0.185085  1.000000"
      ]
     },
     "metadata": {},
     "output_type": "display_data"
    }
   ],
   "source": [
    "from sklearn.datasets import load_diabetes\n",
    "from scipy import stats\n",
    "\n",
    "diabetes = pd.DataFrame(load_diabetes()['data'], columns=load_diabetes()['feature_names'])\n",
    "display(diabetes.head(2))\n",
    "\n",
    "p, pvalue = stats.pearsonr(diabetes['age'], diabetes['bmi'])        # 피어슨 상관계수\n",
    "print('피어슨 상관계수: ', p)\n",
    "print('pvalue(유의확률): ', pvalue, pvalue < 0.05)\n",
    "# 상관계수가 0.185로 두 컬럼은 서로 상관관계가 적은 것으로 나타났다. 하지만 귀무가설이 기각됐기 때문에, 상관계수는 작지만 유의하다는 것을 알수 있다.\n",
    "\n",
    "display(diabetes[['age', 'bmi']].corr())        # 단순한 상관계수는 corr()로도 확인 가능."
   ]
  },
  {
   "cell_type": "markdown",
   "metadata": {},
   "source": [
    "### **▼ 정규성 검정**\n",
    "- 샤피로-윌크 검정　　(R언어의 한계 때문에 이거만. scipy.stats에는 더 다양한 정규성 검정 함수가 있음. kstest, anderson, jarque_bera 등)"
   ]
  },
  {
   "cell_type": "code",
   "execution_count": 63,
   "metadata": {},
   "outputs": [
    {
     "name": "stdout",
     "output_type": "stream",
     "text": [
      "통계량:  0.8969665765762329\n",
      "pvalue:  0.20285499095916748 False\n"
     ]
    }
   ],
   "source": [
    "from scipy import stats\n",
    "\n",
    "np.random.seed(2024)\n",
    "data = np.random.random(10)\n",
    "\n",
    "s, pvalue = stats.shapiro(data)\n",
    "print('통계량: ', s)\n",
    "print('pvalue: ', pvalue, pvalue < 0.05)    # p-value가 매우 크므로 귀무가설을 기각할 수 없기 때문에, 정규성을 만족한다."
   ]
  },
  {
   "cell_type": "markdown",
   "metadata": {},
   "source": [
    "### **▼ 모평균 검정**\n",
    "- 표본 수에 따라 단일표본, 이표본 등으로 구분됨.\n",
    "- 여기서는 단일표본 t-검정, 대응표본 t-검정, 독립표본 t-검정 이 세가지의 t-검정을 할거다.\n",
    "    - 단측 검정할 때는 alternative='less', 'greater' 를 사용."
   ]
  },
  {
   "cell_type": "code",
   "execution_count": 67,
   "metadata": {},
   "outputs": [
    {
     "name": "stdout",
     "output_type": "stream",
     "text": [
      "66.56428571428572\n",
      "t통계량:  -1.0289933120202257\n",
      "pvalue:  0.3222484823978743 False\n"
     ]
    }
   ],
   "source": [
    "# t_test_1samp(데이터, 귀무가설값, alternative='two-sided')\n",
    "from scipy import stats\n",
    "\n",
    "kg = np.array([75.5, 83.9, 75.7, 56.2, 73.4, 67.7, 79.0, 50.7, 58.4, 74.1, 65.1, 77.8, 48.1, 46.3])\n",
    "print(kg.mean())    # 모집단의 평균이 70이라고 할 수 있는지 단일표본 t-검정을 수행. (정규성 만족 가정)\n",
    "t, pvalue = stats.ttest_1samp(kg, 70)\n",
    "print('t통계량: ', t)\n",
    "print('pvalue: ', pvalue, pvalue < 0.05)        # 귀무가설 채택. 모집단의 평균은 70이라고 할 수 있다."
   ]
  },
  {
   "cell_type": "code",
   "execution_count": 69,
   "metadata": {},
   "outputs": [
    {
     "name": "stdout",
     "output_type": "stream",
     "text": [
      "평균 차이:  -12.985714285714295\n",
      "t통계량:  -2.0784469330649724\n",
      "pvalue:  0.08291274205610197 False\n"
     ]
    }
   ],
   "source": [
    "from scipy import stats\n",
    "\n",
    "female = np.array([50.7, 58.4, 74.1, 65.1, 77.8, 48.1, 46.3])\n",
    "male = np.array([75.5, 83.9, 75.7, 56.2, 73.4, 67.7, 79.0])\n",
    "print('평균 차이: ', female.mean() - male.mean())       # 두 데이터의 모평균은 다르다고 할 수 있는지 대응표본 t-검정을 수행. (정규성 만족 가정)\n",
    "\n",
    "t, pvalue = stats.ttest_rel(female, male)\n",
    "print('t통계량: ', t)\n",
    "print('pvalue: ', pvalue, pvalue < 0.05)        # 귀무가설 채택. 모집단의 평균은 서로 다르다고 볼 수 없다."
   ]
  },
  {
   "cell_type": "code",
   "execution_count": 70,
   "metadata": {},
   "outputs": [
    {
     "name": "stdout",
     "output_type": "stream",
     "text": [
      "t통계량:  -2.218664157777296\n",
      "pvalue:  0.04655012211056963 True\n"
     ]
    }
   ],
   "source": [
    "from scipy import stats\n",
    "\n",
    "# 바로 위의 데이터로 두 데이터가 독립이라고 가정한 후, 두 데이터에 대한 모평균이 서로 다르다고 할 수 있는 지 독립표본 t-검증을 수행. (정규성, 등분산성 만족 가정)\n",
    "\n",
    "t, pvalue = stats.ttest_ind(female, male)\n",
    "print('t통계량: ', t)\n",
    "print('pvalue: ', pvalue, pvalue < 0.05)        # 귀무가설 기각. 모집단의 평균은 서로 다르다고 볼 수 있다."
   ]
  },
  {
   "cell_type": "markdown",
   "metadata": {},
   "source": [
    "### **▼ 모분산 검정**\n",
    "- 모분산 검정도 표본의 수에 따라 구분됨.\n",
    "- 단일표본에 대한 모분산 검정, 이표본에 대한 분산비 검정, 이표본 이상에 대한 Bartlett 검정과 Levene 검정"
   ]
  },
  {
   "cell_type": "code",
   "execution_count": 78,
   "metadata": {},
   "outputs": [
    {
     "name": "stdout",
     "output_type": "stream",
     "text": [
      "표본 분산:  278.1033333333333\n",
      "검정통계량:  1.5169272727272727\n",
      "0.041637780038918736\n",
      "> 검정 결과 p-value가 0.0416이므로 유의수준 5%에서 귀무가설을 기각. 모분산은 1100보다 작다고 할 수 있다.\n",
      "0.9583622199610813\n",
      "0.08327556007783747\n"
     ]
    }
   ],
   "source": [
    "# 단일 표본에 대한 모분산 검정을 바로 수행하는 함수가 없어서, chi2으로 cdf해서 유의확률을 구해야 한다.\n",
    "from scipy import stats\n",
    "\n",
    "score = np.array([80.5, 60.2, 70, 87, 45, 91, 85])\n",
    "var0 = 1100      # 귀무가설에서 설정한 모분산\n",
    "sample_var = np.var(score, ddof=1)          # 표본 분산\n",
    "print('표본 분산: ', sample_var)\n",
    "\n",
    "stat = (len(score)-1) * sample_var / var0   # 검정 통계량\n",
    "print('검정통계량: ', stat)\n",
    "print(stats.chi2.cdf(stat, len(score)-1))   # 카이분포를 통해 직접 유의확률 계산. 좌측 검정이므로 Pr[chi2(자유도) < 검정통계량]으로 계산\n",
    "print('> 검정 결과 p-value가 0.0416이므로 유의수준 5%에서 귀무가설을 기각. 모분산은 1100보다 작다고 할 수 있다.')\n",
    "print(1 - stats.chi2.cdf(stat, len(score)-1))   # 우측 검정일 경우, Pr[chi2(자유도) > 검정통계량]으로 계산\n",
    "print(2 * stats.chi2.cdf(stat, len(score)-1))   # 양측 검정일 경우, 2 * 좌측검정의 유의확률 또는 2* 우측검정의 유의확률로 계산"
   ]
  },
  {
   "cell_type": "code",
   "execution_count": 80,
   "metadata": {},
   "outputs": [
    {
     "name": "stdout",
     "output_type": "stream",
     "text": [
      "검정통계량:  0.18681014154026346\n",
      "0.04153943037562959\n",
      "> 유의확률이 0.0415로 유의수준 5%에서 귀무가설을 기각. a 모분산은 b 모분산보다 작다고 할 수 있다.\n",
      "0.9584605696243704\n",
      "0.08307886075125918\n"
     ]
    }
   ],
   "source": [
    "# 분산비 검정은 일반적으로 이표본에 대한 등분산 검정을 의미. 이 또한 바로 수행하는 함수가 없어서, f분포로 cdf해서 유의확률을 구해야 한다.\n",
    "# 대립가설: a 모분산 < b 모분산으로 가정. 정규성 만족 가정.\n",
    "from scipy import stats\n",
    "\n",
    "a = np.array([70, 80, 75, 65, 100, 98])\n",
    "b = np.array([20, 100, 50, 94, 28, 80, 95, 30])\n",
    "\n",
    "var_a = np.var(a, ddof=1)       # 표본 분산\n",
    "var_b = np.var(b, ddof=1)\n",
    "\n",
    "stat = var_a / var_b\n",
    "print('검정통계량: ', stat)         # 검정통계량 = a의 분산 / b의 분산 (가설: a 모분산 < b 모분산)\n",
    "print(stats.f.cdf(stat, len(a)-1, len(b)-1))        # F분포로 직접 유의확률 계산. 좌측검정을 함.\n",
    "print('> 유의확률이 0.0415로 유의수준 5%에서 귀무가설을 기각. a 모분산은 b 모분산보다 작다고 할 수 있다.')\n",
    "print(1 - stats.f.cdf(stat, len(a)-1, len(b)-1))    # 우측 검정\n",
    "print(2 * stats.f.cdf(stat, len(a)-1, len(b)-1))    # 양측 검정"
   ]
  },
  {
   "cell_type": "code",
   "execution_count": 86,
   "metadata": {},
   "outputs": [
    {
     "name": "stdout",
     "output_type": "stream",
     "text": [
      "BartlettResult(statistic=15.6702722148674, pvalue=0.00039558846873743075)\n"
     ]
    }
   ],
   "source": [
    "# Bartlett 검정\n",
    "# 이표본 이상에 대한 등분산 검정 방법 중 하나로 정규성을 충족해야함.\n",
    "from scipy import stats\n",
    "\n",
    "a = np.array([70, 80, 75, 65, 100, 98])\n",
    "b = np.array([20, 100, 50, 94, 28, 80])\n",
    "c = np.array([90, 97, 95, 94, 99, 100])\n",
    "\n",
    "print(stats.bartlett(a, b, c))  # 유의확률이 0.05보다 작으므로, 그룹 간의 분산에 유의미한 차이가 있다고 볼 수 있다."
   ]
  },
  {
   "cell_type": "code",
   "execution_count": 87,
   "metadata": {},
   "outputs": [
    {
     "name": "stdout",
     "output_type": "stream",
     "text": [
      "LeveneResult(statistic=14.365736704446384, pvalue=0.00032713621045500125)\n"
     ]
    }
   ],
   "source": [
    "# Levene 검정\n",
    "# 이표본 이상에 대한 등분산 검정 방법 중 하나로 정규성을 충족하지 않는 데이터에 사용.\n",
    "from scipy import stats\n",
    "\n",
    "print(stats.levene(a, b, c))    # 유의확률이 0.05보다 작으므로, 그룹 간의 분산에 유의미한 차이가 있다고 볼 수 있다."
   ]
  },
  {
   "cell_type": "markdown",
   "metadata": {},
   "source": [
    "**▶ 분산 분석 ANOVA**\n",
    "- 분산 분석(ANOVA)는 두 집단 이상의 모평균을 검정하는 방법.\n",
    "- 여기서는 일원배치 분산분석과 이원배치 분산분석만 다룰거임."
   ]
  },
  {
   "cell_type": "code",
   "execution_count": 93,
   "metadata": {},
   "outputs": [
    {
     "name": "stdout",
     "output_type": "stream",
     "text": [
      "(3000, 5)\n"
     ]
    },
    {
     "data": {
      "text/html": [
       "<div>\n",
       "<style scoped>\n",
       "    .dataframe tbody tr th:only-of-type {\n",
       "        vertical-align: middle;\n",
       "    }\n",
       "\n",
       "    .dataframe tbody tr th {\n",
       "        vertical-align: top;\n",
       "    }\n",
       "\n",
       "    .dataframe thead th {\n",
       "        text-align: right;\n",
       "    }\n",
       "</style>\n",
       "<table border=\"1\" class=\"dataframe\">\n",
       "  <thead>\n",
       "    <tr style=\"text-align: right;\">\n",
       "      <th></th>\n",
       "      <th>id</th>\n",
       "      <th>School</th>\n",
       "      <th>Sex</th>\n",
       "      <th>Grade</th>\n",
       "      <th>Final</th>\n",
       "    </tr>\n",
       "  </thead>\n",
       "  <tbody>\n",
       "    <tr>\n",
       "      <th>0</th>\n",
       "      <td>1</td>\n",
       "      <td>A</td>\n",
       "      <td>M</td>\n",
       "      <td>1</td>\n",
       "      <td>44.4</td>\n",
       "    </tr>\n",
       "    <tr>\n",
       "      <th>1</th>\n",
       "      <td>2</td>\n",
       "      <td>A</td>\n",
       "      <td>M</td>\n",
       "      <td>2</td>\n",
       "      <td>47.7</td>\n",
       "    </tr>\n",
       "  </tbody>\n",
       "</table>\n",
       "</div>"
      ],
      "text/plain": [
       "   id School Sex  Grade  Final\n",
       "0   1      A   M      1   44.4\n",
       "1   2      A   M      2   47.7"
      ]
     },
     "metadata": {},
     "output_type": "display_data"
    },
    {
     "data": {
      "text/html": [
       "<div>\n",
       "<style scoped>\n",
       "    .dataframe tbody tr th:only-of-type {\n",
       "        vertical-align: middle;\n",
       "    }\n",
       "\n",
       "    .dataframe tbody tr th {\n",
       "        vertical-align: top;\n",
       "    }\n",
       "\n",
       "    .dataframe thead th {\n",
       "        text-align: right;\n",
       "    }\n",
       "</style>\n",
       "<table border=\"1\" class=\"dataframe\">\n",
       "  <thead>\n",
       "    <tr style=\"text-align: right;\">\n",
       "      <th></th>\n",
       "      <th>df</th>\n",
       "      <th>sum_sq</th>\n",
       "      <th>mean_sq</th>\n",
       "      <th>F</th>\n",
       "      <th>PR(&gt;F)</th>\n",
       "    </tr>\n",
       "  </thead>\n",
       "  <tbody>\n",
       "    <tr>\n",
       "      <th>C(School)</th>\n",
       "      <td>2.0</td>\n",
       "      <td>996939.237147</td>\n",
       "      <td>498469.618573</td>\n",
       "      <td>5722.221007</td>\n",
       "      <td>0.0</td>\n",
       "    </tr>\n",
       "    <tr>\n",
       "      <th>Residual</th>\n",
       "      <td>2997.0</td>\n",
       "      <td>261072.308290</td>\n",
       "      <td>87.111214</td>\n",
       "      <td>NaN</td>\n",
       "      <td>NaN</td>\n",
       "    </tr>\n",
       "  </tbody>\n",
       "</table>\n",
       "</div>"
      ],
      "text/plain": [
       "               df         sum_sq        mean_sq            F  PR(>F)\n",
       "C(School)     2.0  996939.237147  498469.618573  5722.221007     0.0\n",
       "Residual   2997.0  261072.308290      87.111214          NaN     NaN"
      ]
     },
     "metadata": {},
     "output_type": "display_data"
    }
   ],
   "source": [
    "# 일원배치 분산분석\n",
    "# A~C 세 학교에서 각각 1000명씩 층화 추출한 데이터를 활용해서 세 학교 간의 기말고사 성적의 평균이 서로 차이가 있는 지 검정. (성별, 학년의 비율은 세 학교가 동일, 정규성, 등분산성 등 만족 가정)\n",
    "from statsmodels.formula.api import ols\n",
    "from statsmodels.stats.anova import anova_lm\n",
    "\n",
    "df = pd.read_csv('samples/예제/school_score.csv')\n",
    "print(df.shape)\n",
    "display(df.head(2))\n",
    "\n",
    "one_way = ols('Final ~ C(School)', data=df).fit()\n",
    "display(anova_lm(one_way))\n",
    "# C(School)의 PR(>F)값이 매우 작으므로, 유의수준 5%에서 귀무가설을 기각. 세 학교의 기말고사 성적의 평균은 차이가 있다고 할 수 있다."
   ]
  },
  {
   "cell_type": "code",
   "execution_count": 94,
   "metadata": {},
   "outputs": [
    {
     "name": "stdout",
     "output_type": "stream",
     "text": [
      "Multiple Comparison of Means - Tukey HSD, FWER=0.05 \n",
      "====================================================\n",
      "group1 group2 meandiff p-adj   lower   upper  reject\n",
      "----------------------------------------------------\n",
      "     A      B  38.8464   -0.0 37.8677 39.8251   True\n",
      "     A      C  38.4922   -0.0 37.5135 39.4709   True\n",
      "     B      C  -0.3542 0.6728 -1.3329  0.6245  False\n",
      "----------------------------------------------------\n"
     ]
    }
   ],
   "source": [
    "# 사후검정 - Tukey의 HSD 검정\n",
    "# 바로 위에서 세 학교의 평균에 차이가 있음을 알았지만, 세 학교가 모두 다른지, A와 B만 다른지, A와 C가 다른지는 알 수가 없다.\n",
    "# 이를알기 위해서는 사후검정을 해야 한다.\n",
    "\n",
    "from statsmodels.stats.multicomp import pairwise_tukeyhsd\n",
    "\n",
    "print(pairwise_tukeyhsd(df['Final'], df['School'], 0.05))   # endog=df['Final'], groups=df['School'], alpha=0.05\n",
    "# A와 B, A와 C 사이에는 평균에 유의미한 차이가 있다고 할 수 있고, B와 C는 유의미한 차이가 없다고 할 수 있다.\n",
    "# 신뢰구간에 0을 포함하는지 아니면 reject 결과로 알 수 있다."
   ]
  },
  {
   "cell_type": "code",
   "execution_count": 100,
   "metadata": {},
   "outputs": [
    {
     "data": {
      "text/html": [
       "<div>\n",
       "<style scoped>\n",
       "    .dataframe tbody tr th:only-of-type {\n",
       "        vertical-align: middle;\n",
       "    }\n",
       "\n",
       "    .dataframe tbody tr th {\n",
       "        vertical-align: top;\n",
       "    }\n",
       "\n",
       "    .dataframe thead th {\n",
       "        text-align: right;\n",
       "    }\n",
       "</style>\n",
       "<table border=\"1\" class=\"dataframe\">\n",
       "  <thead>\n",
       "    <tr style=\"text-align: right;\">\n",
       "      <th></th>\n",
       "      <th>df</th>\n",
       "      <th>sum_sq</th>\n",
       "      <th>mean_sq</th>\n",
       "      <th>F</th>\n",
       "      <th>PR(&gt;F)</th>\n",
       "    </tr>\n",
       "  </thead>\n",
       "  <tbody>\n",
       "    <tr>\n",
       "      <th>C(School)</th>\n",
       "      <td>2.0</td>\n",
       "      <td>996939.237147</td>\n",
       "      <td>498469.618573</td>\n",
       "      <td>5721.620556</td>\n",
       "      <td>0.000000</td>\n",
       "    </tr>\n",
       "    <tr>\n",
       "      <th>C(Grade)</th>\n",
       "      <td>2.0</td>\n",
       "      <td>324.472829</td>\n",
       "      <td>162.236415</td>\n",
       "      <td>1.862210</td>\n",
       "      <td>0.155509</td>\n",
       "    </tr>\n",
       "    <tr>\n",
       "      <th>C(School):C(Grade)</th>\n",
       "      <td>4.0</td>\n",
       "      <td>170.851257</td>\n",
       "      <td>42.712814</td>\n",
       "      <td>0.490274</td>\n",
       "      <td>0.742912</td>\n",
       "    </tr>\n",
       "    <tr>\n",
       "      <th>Residual</th>\n",
       "      <td>2991.0</td>\n",
       "      <td>260576.984204</td>\n",
       "      <td>87.120356</td>\n",
       "      <td>NaN</td>\n",
       "      <td>NaN</td>\n",
       "    </tr>\n",
       "  </tbody>\n",
       "</table>\n",
       "</div>"
      ],
      "text/plain": [
       "                        df         sum_sq        mean_sq            F  \\\n",
       "C(School)              2.0  996939.237147  498469.618573  5721.620556   \n",
       "C(Grade)               2.0     324.472829     162.236415     1.862210   \n",
       "C(School):C(Grade)     4.0     170.851257      42.712814     0.490274   \n",
       "Residual            2991.0  260576.984204      87.120356          NaN   \n",
       "\n",
       "                      PR(>F)  \n",
       "C(School)           0.000000  \n",
       "C(Grade)            0.155509  \n",
       "C(School):C(Grade)  0.742912  \n",
       "Residual                 NaN  "
      ]
     },
     "metadata": {},
     "output_type": "display_data"
    },
    {
     "name": "stdout",
     "output_type": "stream",
     "text": [
      "> 이원배치 분산분석에서는 상호작용항의 유의성을 먼저 고려한다. 0.742912로 p-value가 매우 크므로, 상호작용 효과가 통계적으로 유의하지 않은 것을 알 수있다.\n",
      "> 교호작용이 유의하지 않으므로, 이를 고려하지 않고 다시 분산분석을 수행한다. \n",
      "\n"
     ]
    },
    {
     "data": {
      "text/html": [
       "<div>\n",
       "<style scoped>\n",
       "    .dataframe tbody tr th:only-of-type {\n",
       "        vertical-align: middle;\n",
       "    }\n",
       "\n",
       "    .dataframe tbody tr th {\n",
       "        vertical-align: top;\n",
       "    }\n",
       "\n",
       "    .dataframe thead th {\n",
       "        text-align: right;\n",
       "    }\n",
       "</style>\n",
       "<table border=\"1\" class=\"dataframe\">\n",
       "  <thead>\n",
       "    <tr style=\"text-align: right;\">\n",
       "      <th></th>\n",
       "      <th>df</th>\n",
       "      <th>sum_sq</th>\n",
       "      <th>mean_sq</th>\n",
       "      <th>F</th>\n",
       "      <th>PR(&gt;F)</th>\n",
       "    </tr>\n",
       "  </thead>\n",
       "  <tbody>\n",
       "    <tr>\n",
       "      <th>C(School)</th>\n",
       "      <td>2.0</td>\n",
       "      <td>996939.237147</td>\n",
       "      <td>498469.618573</td>\n",
       "      <td>5725.518315</td>\n",
       "      <td>0.000000</td>\n",
       "    </tr>\n",
       "    <tr>\n",
       "      <th>C(Grade)</th>\n",
       "      <td>2.0</td>\n",
       "      <td>324.472829</td>\n",
       "      <td>162.236415</td>\n",
       "      <td>1.863479</td>\n",
       "      <td>0.155312</td>\n",
       "    </tr>\n",
       "    <tr>\n",
       "      <th>Residual</th>\n",
       "      <td>2995.0</td>\n",
       "      <td>260747.835461</td>\n",
       "      <td>87.061047</td>\n",
       "      <td>NaN</td>\n",
       "      <td>NaN</td>\n",
       "    </tr>\n",
       "  </tbody>\n",
       "</table>\n",
       "</div>"
      ],
      "text/plain": [
       "               df         sum_sq        mean_sq            F    PR(>F)\n",
       "C(School)     2.0  996939.237147  498469.618573  5725.518315  0.000000\n",
       "C(Grade)      2.0     324.472829     162.236415     1.863479  0.155312\n",
       "Residual   2995.0  260747.835461      87.061047          NaN       NaN"
      ]
     },
     "metadata": {},
     "output_type": "display_data"
    },
    {
     "name": "stdout",
     "output_type": "stream",
     "text": [
      "> 학교의 p-value는 매우 작으므로, 학교간의 평균차이는 있다고 볼 수 있고, 학년의 p-value는 0.05를 넘으므로, 학년간의 차이는 유의미하지 않다고 볼 수 있다.\n"
     ]
    }
   ],
   "source": [
    "# 이원배치 분산분석\n",
    "# 이원배치 분산분석은 일원배치 분산분석과 유하하지만, formula 입력 방식에 차이가 있다.\n",
    "# 교호작용이 있는 경우: '반응변수 ~ C(그룹1) + C(그룹2) + C(그룹1):C(그룹2)'\n",
    "# 교호작용이 없는 경우: '반응변수 ~ C(그룹1) + C(그룹2)'\n",
    "\n",
    "from statsmodels.formula.api import ols\n",
    "from statsmodels.stats.anova import anova_lm\n",
    "\n",
    "df = pd.read_csv('samples/예제/school_score.csv')\n",
    "\n",
    "two_way = ols('Final ~ C(School) + C(Grade) + C(School):C(Grade)', df).fit()\n",
    "display(anova_lm(two_way))\n",
    "print('> 이원배치 분산분석에서는 상호작용항의 유의성을 먼저 고려한다. 0.742912로 p-value가 매우 크므로, 상호작용 효과가 통계적으로 유의하지 않은 것을 알 수있다.')\n",
    "print('> 교호작용이 유의하지 않으므로, 이를 고려하지 않고 다시 분산분석을 수행한다. \\n')\n",
    "two_way = ols('Final ~ C(School) + C(Grade)', df).fit()\n",
    "display(anova_lm(two_way))\n",
    "print('> 학교의 p-value는 매우 작으므로, 학교간의 평균차이는 있다고 볼 수 있고, 학년의 p-value는 0.05를 넘으므로, 학년간의 차이는 유의미하지 않다고 볼 수 있다.')"
   ]
  },
  {
   "cell_type": "markdown",
   "metadata": {},
   "source": [
    "### **▼ 카이제곱 검정**\n",
    "- 주로 범주형 자료 분석에 사용.\n",
    "- 적합성 검정, 동질성 검정, 독립성 검정"
   ]
  },
  {
   "cell_type": "markdown",
   "metadata": {},
   "source": [
    "**▶ 적합성 검정** "
   ]
  },
  {
   "cell_type": "code",
   "execution_count": 104,
   "metadata": {},
   "outputs": [
    {
     "name": "stdout",
     "output_type": "stream",
     "text": [
      "Power_divergenceResult(statistic=82.94, pvalue=4.14849046718008e-17)\n",
      "> p-value가 0.05보다 작으므로 귀무가설을 기각. 색상별로 동일한 비율로 생산한다고 볼 수 없다.\n"
     ]
    }
   ],
   "source": [
    "# A 회사에서 출시되는 제품 공정 결과의 예를 보고, 색상과 관계없이 동일한 비율로 제품을 생산하는 지 적합성 검정을 수행하자\n",
    "\n",
    "from scipy import stats\n",
    "\n",
    "color = ['Black','Gold','Purple','Red', 'White']    # 색상(분석엔 필요 X)\n",
    "counts = [423, 304, 274, 205, 294]                  # 수량\n",
    "expected = 300                          # 기대도수(동일한 비율 = 1500/5)\n",
    "\n",
    "print(stats.chisquare(counts, expected))        # f_obs=counts, f_exp=expected\n",
    "print('> p-value가 0.05보다 작으므로 귀무가설을 기각. 색상별로 동일한 비율로 생산한다고 볼 수 없다.')"
   ]
  },
  {
   "cell_type": "markdown",
   "metadata": {},
   "source": [
    "**▶ 동질성 검정** "
   ]
  },
  {
   "cell_type": "code",
   "execution_count": 111,
   "metadata": {},
   "outputs": [
    {
     "data": {
      "text/html": [
       "<div>\n",
       "<style scoped>\n",
       "    .dataframe tbody tr th:only-of-type {\n",
       "        vertical-align: middle;\n",
       "    }\n",
       "\n",
       "    .dataframe tbody tr th {\n",
       "        vertical-align: top;\n",
       "    }\n",
       "\n",
       "    .dataframe thead th {\n",
       "        text-align: right;\n",
       "    }\n",
       "</style>\n",
       "<table border=\"1\" class=\"dataframe\">\n",
       "  <thead>\n",
       "    <tr style=\"text-align: right;\">\n",
       "      <th></th>\n",
       "      <th>Good</th>\n",
       "      <th>Bad</th>\n",
       "    </tr>\n",
       "  </thead>\n",
       "  <tbody>\n",
       "    <tr>\n",
       "      <th>남성</th>\n",
       "      <td>400</td>\n",
       "      <td>350</td>\n",
       "    </tr>\n",
       "    <tr>\n",
       "      <th>여성</th>\n",
       "      <td>350</td>\n",
       "      <td>800</td>\n",
       "    </tr>\n",
       "  </tbody>\n",
       "</table>\n",
       "</div>"
      ],
      "text/plain": [
       "    Good  Bad\n",
       "남성   400  350\n",
       "여성   350  800"
      ]
     },
     "metadata": {},
     "output_type": "display_data"
    },
    {
     "name": "stdout",
     "output_type": "stream",
     "text": [
      "(98.66917336693975, 2.984113573360021e-23, 1, array([[296.05263158, 453.94736842],\n",
      "       [453.94736842, 696.05263158]]))\n",
      "> p-value가 0.05보다 작으므로 귀무가설 기각. 성별 간 선호도의 차이가 있다고 볼 수 있다.\n"
     ]
    }
   ],
   "source": [
    "# A 회사의 성별에 따른 제품 선호도조사의 예를 보고, 성별 간 선호도의 차이 검증을 위한 동질성 검정을 수행하자\n",
    "\n",
    "from scipy import stats\n",
    "\n",
    "cross = pd.DataFrame({\"Good\" : [400 , 350],\"Bad\" : [350, 800]}, index=['남성', '여성'])\n",
    "display(cross)\n",
    "\n",
    "print(stats.chi2_contingency(cross))\n",
    "chi, pvalue, df, expected = stats.chi2_contingency(cross)   # 카이제곱통계량, 유의확률, 자유도, 기대빈도\n",
    "print('> p-value가 0.05보다 작으므로 귀무가설 기각. 성별 간 선호도의 차이가 있다고 볼 수 있다.')"
   ]
  },
  {
   "cell_type": "markdown",
   "metadata": {},
   "source": [
    "**▶ 독립성 검정** "
   ]
  },
  {
   "cell_type": "code",
   "execution_count": 115,
   "metadata": {},
   "outputs": [
    {
     "data": {
      "text/html": [
       "<div>\n",
       "<style scoped>\n",
       "    .dataframe tbody tr th:only-of-type {\n",
       "        vertical-align: middle;\n",
       "    }\n",
       "\n",
       "    .dataframe tbody tr th {\n",
       "        vertical-align: top;\n",
       "    }\n",
       "\n",
       "    .dataframe thead th {\n",
       "        text-align: right;\n",
       "    }\n",
       "</style>\n",
       "<table border=\"1\" class=\"dataframe\">\n",
       "  <thead>\n",
       "    <tr style=\"text-align: right;\">\n",
       "      <th></th>\n",
       "      <th>Black</th>\n",
       "      <th>Gold</th>\n",
       "      <th>Purple</th>\n",
       "      <th>Red</th>\n",
       "      <th>White</th>\n",
       "    </tr>\n",
       "  </thead>\n",
       "  <tbody>\n",
       "    <tr>\n",
       "      <th>남성</th>\n",
       "      <td>1620</td>\n",
       "      <td>385</td>\n",
       "      <td>778</td>\n",
       "      <td>394</td>\n",
       "      <td>800</td>\n",
       "    </tr>\n",
       "    <tr>\n",
       "      <th>여성</th>\n",
       "      <td>2380</td>\n",
       "      <td>615</td>\n",
       "      <td>1230</td>\n",
       "      <td>610</td>\n",
       "      <td>180</td>\n",
       "    </tr>\n",
       "  </tbody>\n",
       "</table>\n",
       "</div>"
      ],
      "text/plain": [
       "    Black  Gold  Purple  Red  White\n",
       "남성   1620   385     778  394    800\n",
       "여성   2380   615    1230  610    180"
      ]
     },
     "metadata": {},
     "output_type": "display_data"
    },
    {
     "name": "stdout",
     "output_type": "stream",
     "text": [
      "카이제곱통계량:  626.2830361414021\n",
      "pvalue:  3.1731601033660286e-134\n",
      "자유도:  4 \n",
      " 기대빈도: \n",
      " [[1769.12811388  442.28202847  888.10231317  444.05115658  433.4363879 ]\n",
      " [2230.87188612  557.71797153 1119.89768683  559.94884342  546.5636121 ]]\n"
     ]
    }
   ],
   "source": [
    "# A 회사의 출시된 제품의 한 달 간 판매량의 예이다. 이를 통해 성별과 색상이 서로 관련이 있는 지 알아보기 위해 독립성 검정을 수행하자.\n",
    "from scipy import stats\n",
    "\n",
    "cross = pd.DataFrame({'Black' : [1620, 2380],'Gold' : [385, 615],'Purple' : [778, 1230],'Red' : [394, 610],'White' : [800, 180]}, index=['남성', '여성'])\n",
    "display(cross)\n",
    "\n",
    "chi, pvalue, df, expected = stats.chi2_contingency(cross)\n",
    "print('카이제곱통계량: ', chi)\n",
    "print('pvalue: ', pvalue)\n",
    "print('> p-vale가 0.05보다 작으므로 귀무가설을 기각. 성별과 색상은 독립성이 없다 즉, 종속적이고 관련이 있다.')\n",
    "print('자유도: ', df, '\\n 기대빈도: \\n', expected)"
   ]
  },
  {
   "cell_type": "markdown",
   "metadata": {},
   "source": [
    "**● 교차표 만드는 법**   \n",
    "pd.crosstab(index, columns)"
   ]
  },
  {
   "cell_type": "code",
   "execution_count": 118,
   "metadata": {},
   "outputs": [
    {
     "data": {
      "text/html": [
       "<div>\n",
       "<style scoped>\n",
       "    .dataframe tbody tr th:only-of-type {\n",
       "        vertical-align: middle;\n",
       "    }\n",
       "\n",
       "    .dataframe tbody tr th {\n",
       "        vertical-align: top;\n",
       "    }\n",
       "\n",
       "    .dataframe thead th {\n",
       "        text-align: right;\n",
       "    }\n",
       "</style>\n",
       "<table border=\"1\" class=\"dataframe\">\n",
       "  <thead>\n",
       "    <tr style=\"text-align: right;\">\n",
       "      <th></th>\n",
       "      <th>survived</th>\n",
       "      <th>pclass</th>\n",
       "      <th>sex</th>\n",
       "      <th>age</th>\n",
       "      <th>sibsp</th>\n",
       "      <th>parch</th>\n",
       "      <th>fare</th>\n",
       "      <th>embarked</th>\n",
       "      <th>class</th>\n",
       "      <th>who</th>\n",
       "      <th>adult_male</th>\n",
       "      <th>deck</th>\n",
       "      <th>embark_town</th>\n",
       "      <th>alive</th>\n",
       "      <th>alone</th>\n",
       "      <th>요금_대중소</th>\n",
       "    </tr>\n",
       "  </thead>\n",
       "  <tbody>\n",
       "    <tr>\n",
       "      <th>0</th>\n",
       "      <td>0</td>\n",
       "      <td>3</td>\n",
       "      <td>male</td>\n",
       "      <td>22.0</td>\n",
       "      <td>1</td>\n",
       "      <td>0</td>\n",
       "      <td>7.2500</td>\n",
       "      <td>S</td>\n",
       "      <td>Third</td>\n",
       "      <td>man</td>\n",
       "      <td>True</td>\n",
       "      <td>NaN</td>\n",
       "      <td>Southampton</td>\n",
       "      <td>no</td>\n",
       "      <td>False</td>\n",
       "      <td>low</td>\n",
       "    </tr>\n",
       "    <tr>\n",
       "      <th>1</th>\n",
       "      <td>1</td>\n",
       "      <td>1</td>\n",
       "      <td>female</td>\n",
       "      <td>38.0</td>\n",
       "      <td>1</td>\n",
       "      <td>0</td>\n",
       "      <td>71.2833</td>\n",
       "      <td>C</td>\n",
       "      <td>First</td>\n",
       "      <td>woman</td>\n",
       "      <td>False</td>\n",
       "      <td>C</td>\n",
       "      <td>Cherbourg</td>\n",
       "      <td>yes</td>\n",
       "      <td>False</td>\n",
       "      <td>high</td>\n",
       "    </tr>\n",
       "    <tr>\n",
       "      <th>2</th>\n",
       "      <td>1</td>\n",
       "      <td>3</td>\n",
       "      <td>female</td>\n",
       "      <td>26.0</td>\n",
       "      <td>0</td>\n",
       "      <td>0</td>\n",
       "      <td>7.9250</td>\n",
       "      <td>S</td>\n",
       "      <td>Third</td>\n",
       "      <td>woman</td>\n",
       "      <td>False</td>\n",
       "      <td>NaN</td>\n",
       "      <td>Southampton</td>\n",
       "      <td>yes</td>\n",
       "      <td>True</td>\n",
       "      <td>low</td>\n",
       "    </tr>\n",
       "    <tr>\n",
       "      <th>3</th>\n",
       "      <td>1</td>\n",
       "      <td>1</td>\n",
       "      <td>female</td>\n",
       "      <td>35.0</td>\n",
       "      <td>1</td>\n",
       "      <td>0</td>\n",
       "      <td>53.1000</td>\n",
       "      <td>S</td>\n",
       "      <td>First</td>\n",
       "      <td>woman</td>\n",
       "      <td>False</td>\n",
       "      <td>C</td>\n",
       "      <td>Southampton</td>\n",
       "      <td>yes</td>\n",
       "      <td>False</td>\n",
       "      <td>middle</td>\n",
       "    </tr>\n",
       "    <tr>\n",
       "      <th>4</th>\n",
       "      <td>0</td>\n",
       "      <td>3</td>\n",
       "      <td>male</td>\n",
       "      <td>35.0</td>\n",
       "      <td>0</td>\n",
       "      <td>0</td>\n",
       "      <td>8.0500</td>\n",
       "      <td>S</td>\n",
       "      <td>Third</td>\n",
       "      <td>man</td>\n",
       "      <td>True</td>\n",
       "      <td>NaN</td>\n",
       "      <td>Southampton</td>\n",
       "      <td>no</td>\n",
       "      <td>True</td>\n",
       "      <td>low</td>\n",
       "    </tr>\n",
       "  </tbody>\n",
       "</table>\n",
       "</div>"
      ],
      "text/plain": [
       "   survived  pclass     sex   age  sibsp  parch     fare embarked  class  \\\n",
       "0         0       3    male  22.0      1      0   7.2500        S  Third   \n",
       "1         1       1  female  38.0      1      0  71.2833        C  First   \n",
       "2         1       3  female  26.0      0      0   7.9250        S  Third   \n",
       "3         1       1  female  35.0      1      0  53.1000        S  First   \n",
       "4         0       3    male  35.0      0      0   8.0500        S  Third   \n",
       "\n",
       "     who  adult_male deck  embark_town alive  alone  요금_대중소  \n",
       "0    man        True  NaN  Southampton    no  False     low  \n",
       "1  woman       False    C    Cherbourg   yes  False    high  \n",
       "2  woman       False  NaN  Southampton   yes   True     low  \n",
       "3  woman       False    C  Southampton   yes  False  middle  \n",
       "4    man        True  NaN  Southampton    no   True     low  "
      ]
     },
     "metadata": {},
     "output_type": "display_data"
    },
    {
     "data": {
      "text/html": [
       "<div>\n",
       "<style scoped>\n",
       "    .dataframe tbody tr th:only-of-type {\n",
       "        vertical-align: middle;\n",
       "    }\n",
       "\n",
       "    .dataframe tbody tr th {\n",
       "        vertical-align: top;\n",
       "    }\n",
       "\n",
       "    .dataframe thead th {\n",
       "        text-align: right;\n",
       "    }\n",
       "</style>\n",
       "<table border=\"1\" class=\"dataframe\">\n",
       "  <thead>\n",
       "    <tr style=\"text-align: right;\">\n",
       "      <th>embark_town</th>\n",
       "      <th>Cherbourg</th>\n",
       "      <th>Queenstown</th>\n",
       "      <th>Southampton</th>\n",
       "    </tr>\n",
       "    <tr>\n",
       "      <th>sex</th>\n",
       "      <th></th>\n",
       "      <th></th>\n",
       "      <th></th>\n",
       "    </tr>\n",
       "  </thead>\n",
       "  <tbody>\n",
       "    <tr>\n",
       "      <th>female</th>\n",
       "      <td>73</td>\n",
       "      <td>36</td>\n",
       "      <td>203</td>\n",
       "    </tr>\n",
       "    <tr>\n",
       "      <th>male</th>\n",
       "      <td>95</td>\n",
       "      <td>41</td>\n",
       "      <td>441</td>\n",
       "    </tr>\n",
       "  </tbody>\n",
       "</table>\n",
       "</div>"
      ],
      "text/plain": [
       "embark_town  Cherbourg  Queenstown  Southampton\n",
       "sex                                            \n",
       "female              73          36          203\n",
       "male                95          41          441"
      ]
     },
     "execution_count": 118,
     "metadata": {},
     "output_type": "execute_result"
    }
   ],
   "source": [
    "display(titanic.head())\n",
    "pd.crosstab(titanic['sex'], titanic['embark_town'])"
   ]
  },
  {
   "cell_type": "markdown",
   "metadata": {},
   "source": [
    "### **▼ 비모수 검정**\n",
    "- 모수적 검정은 가설 검정 시 분포를 가정하기 때문에, 실제 데이터가 가정한 분포와 이질적일수록 잘못된 결론을 내릴 가능성이 높다.\n",
    "- 실제로는 정규성 검정을 선행하여 정규성을 만족하면 모수적 검정, 정규성을 만족하지 않으면 비모수적 검정을 해야 한다."
   ]
  },
  {
   "cell_type": "markdown",
   "metadata": {},
   "source": [
    "**▶ 스피어만 상관계수** "
   ]
  },
  {
   "cell_type": "code",
   "execution_count": 120,
   "metadata": {},
   "outputs": [
    {
     "data": {
      "text/html": [
       "<div>\n",
       "<style scoped>\n",
       "    .dataframe tbody tr th:only-of-type {\n",
       "        vertical-align: middle;\n",
       "    }\n",
       "\n",
       "    .dataframe tbody tr th {\n",
       "        vertical-align: top;\n",
       "    }\n",
       "\n",
       "    .dataframe thead th {\n",
       "        text-align: right;\n",
       "    }\n",
       "</style>\n",
       "<table border=\"1\" class=\"dataframe\">\n",
       "  <thead>\n",
       "    <tr style=\"text-align: right;\">\n",
       "      <th></th>\n",
       "      <th>age</th>\n",
       "      <th>sex</th>\n",
       "      <th>bmi</th>\n",
       "      <th>bp</th>\n",
       "      <th>s1</th>\n",
       "      <th>s2</th>\n",
       "      <th>s3</th>\n",
       "      <th>s4</th>\n",
       "      <th>s5</th>\n",
       "      <th>s6</th>\n",
       "    </tr>\n",
       "  </thead>\n",
       "  <tbody>\n",
       "    <tr>\n",
       "      <th>0</th>\n",
       "      <td>0.038076</td>\n",
       "      <td>0.050680</td>\n",
       "      <td>0.061696</td>\n",
       "      <td>0.021872</td>\n",
       "      <td>-0.044223</td>\n",
       "      <td>-0.034821</td>\n",
       "      <td>-0.043401</td>\n",
       "      <td>-0.002592</td>\n",
       "      <td>0.019908</td>\n",
       "      <td>-0.017646</td>\n",
       "    </tr>\n",
       "    <tr>\n",
       "      <th>1</th>\n",
       "      <td>-0.001882</td>\n",
       "      <td>-0.044642</td>\n",
       "      <td>-0.051474</td>\n",
       "      <td>-0.026328</td>\n",
       "      <td>-0.008449</td>\n",
       "      <td>-0.019163</td>\n",
       "      <td>0.074412</td>\n",
       "      <td>-0.039493</td>\n",
       "      <td>-0.068330</td>\n",
       "      <td>-0.092204</td>\n",
       "    </tr>\n",
       "  </tbody>\n",
       "</table>\n",
       "</div>"
      ],
      "text/plain": [
       "        age       sex       bmi        bp        s1        s2        s3  \\\n",
       "0  0.038076  0.050680  0.061696  0.021872 -0.044223 -0.034821 -0.043401   \n",
       "1 -0.001882 -0.044642 -0.051474 -0.026328 -0.008449 -0.019163  0.074412   \n",
       "\n",
       "         s4        s5        s6  \n",
       "0 -0.002592  0.019908 -0.017646  \n",
       "1 -0.039493 -0.068330 -0.092204  "
      ]
     },
     "metadata": {},
     "output_type": "display_data"
    },
    {
     "name": "stdout",
     "output_type": "stream",
     "text": [
      "SpearmanrResult(correlation=0.09807947297621517, pvalue=0.03929011358104615)\n",
      "> 상관계수 0.098로 서로 상관관계가 적다고 볼 수 있다. 다만, p-value는 0.05보다 낮으므로 귀무가설을 기각, 상관계수는 작지만 유의하다는 것을 확인할 수 있다.\n"
     ]
    }
   ],
   "source": [
    "from sklearn.datasets import load_diabetes\n",
    "from scipy import stats\n",
    "\n",
    "diabetes = pd.DataFrame(load_diabetes()['data'], columns=load_diabetes()['feature_names'])\n",
    "display(diabetes.head(2))\n",
    "\n",
    "print(stats.spearmanr(diabetes['sex'], diabetes['bmi']))\n",
    "print('> 상관계수 0.098로 서로 상관관계가 적다고 볼 수 있다. 다만, p-value는 0.05보다 낮으므로 귀무가설을 기각, 상관계수는 작지만 유의하다는 것을 확인할 수 있다.')"
   ]
  },
  {
   "cell_type": "markdown",
   "metadata": {},
   "source": [
    "**▶ 켄달의 타우 검정** "
   ]
  },
  {
   "cell_type": "code",
   "execution_count": 123,
   "metadata": {},
   "outputs": [
    {
     "name": "stdout",
     "output_type": "stream",
     "text": [
      "KendalltauResult(correlation=-0.29814239699997197, pvalue=0.4205962375999267)\n",
      "> 상관계수가 -0.298로 순위 간 상관관계가 거의 없는 것으로 확인된다.\n"
     ]
    }
   ],
   "source": [
    "# 두 개의 등수 데이터를 임의로 생성하고 두 순위 간 상관관계가 있는지 검정하자.\n",
    "\n",
    "from scipy import stats\n",
    "\n",
    "x = np.array([5, 4, 3, 6, 1, 2])\n",
    "y = np.array([1, 5, 2, 2, 2, 6])\n",
    "\n",
    "print(stats.kendalltau(x, y))\n",
    "print('> 상관계수가 -0.298로 순위 간 상관관계가 거의 없는 것으로 확인된다.')    # 스피어만 상관계수 검정은 켄탈 타우 검정과 마찬가지로 순위 데이터에 대해서도 검정을 할 수 있다!"
   ]
  },
  {
   "cell_type": "markdown",
   "metadata": {},
   "source": [
    "**▶ 윌콕슨의 부호순위 검정** "
   ]
  },
  {
   "cell_type": "code",
   "execution_count": 130,
   "metadata": {},
   "outputs": [
    {
     "name": "stdout",
     "output_type": "stream",
     "text": [
      "WilcoxonResult(statistic=42.0, pvalue=0.5416259765625)\n",
      "> 귀무가설 채택. 모집단의 중위수는 70과 같다고 할 수 있다.\n",
      "WilcoxonResult(statistic=5.0, pvalue=0.15625)\n",
      "> 귀무가설 채택. 둘의 중앙값에 유의한 차이가 없다.\n"
     ]
    }
   ],
   "source": [
    "from scipy import stats\n",
    "\n",
    "# 단일표본 t-검정 대신 일표본 부호순위 검정\n",
    "kg = np.array([75.5, 83.9, 75.7, 56.2, 73.4, 67.7, 79.0, 50.7, 58.4, 74.1, 65.1, 77.8, 48.1, 46.3])\n",
    "\n",
    "print(stats.wilcoxon(kg - 70))\n",
    "print('> 귀무가설 채택. 모집단의 중위수는 70과 같다고 할 수 있다.')\n",
    "\n",
    " # 대응표본 t-검정 대신 이표본 부호순위 검정\n",
    "female = np.array([50.7, 58.4, 74.1, 65.1, 77.8, 48.1, 46.3])      \n",
    "male = np.array([75.5, 83.9, 75.7, 56.2, 73.4, 67.7, 79.0])\n",
    "\n",
    "print(stats.wilcoxon(female, male))\n",
    "print('> 귀무가설 채택. 둘의 중앙값에 유의한 차이가 없다.')"
   ]
  },
  {
   "cell_type": "markdown",
   "metadata": {},
   "source": [
    "**▶ 윌콕슨의 순위합 검정** "
   ]
  },
  {
   "cell_type": "code",
   "execution_count": 129,
   "metadata": {},
   "outputs": [
    {
     "name": "stdout",
     "output_type": "stream",
     "text": [
      "RanksumsResult(statistic=-1.8527420384998257, pvalue=0.06391934147515746)\n",
      "> 귀무가설 채택. 두 표본의 중앙값에 유의한 차이가 없다.\n"
     ]
    }
   ],
   "source": [
    "# 독립표본 t-검정 대신 순위합 검정\n",
    "from scipy import stats\n",
    "\n",
    "print(stats.ranksums(female, male))\n",
    "print('> 귀무가설 채택. 두 표본의 중앙값에 유의한 차이가 없다.')"
   ]
  },
  {
   "cell_type": "markdown",
   "metadata": {},
   "source": [
    "**▶ 만-위트니 U 검정** "
   ]
  },
  {
   "cell_type": "code",
   "execution_count": 132,
   "metadata": {},
   "outputs": [
    {
     "name": "stdout",
     "output_type": "stream",
     "text": [
      "MannwhitneyuResult(statistic=10.0, pvalue=0.07284382284382285)\n",
      "> 귀무가설 채택. 두 표본의 중앙값에 유의한 차이가 없다.\n"
     ]
    }
   ],
   "source": [
    "# 독립표본 t-검정 대신 만-위트니 U 검정\n",
    "from scipy import stats\n",
    "\n",
    "print(stats.mannwhitneyu(female, male))\n",
    "print('> 귀무가설 채택. 두 표본의 중앙값에 유의한 차이가 없다.')"
   ]
  },
  {
   "cell_type": "markdown",
   "metadata": {},
   "source": [
    "**▶ 크루스칼-왈리스 H 검정** "
   ]
  },
  {
   "cell_type": "code",
   "execution_count": 143,
   "metadata": {},
   "outputs": [
    {
     "data": {
      "text/html": [
       "<div>\n",
       "<style scoped>\n",
       "    .dataframe tbody tr th:only-of-type {\n",
       "        vertical-align: middle;\n",
       "    }\n",
       "\n",
       "    .dataframe tbody tr th {\n",
       "        vertical-align: top;\n",
       "    }\n",
       "\n",
       "    .dataframe thead th {\n",
       "        text-align: right;\n",
       "    }\n",
       "</style>\n",
       "<table border=\"1\" class=\"dataframe\">\n",
       "  <thead>\n",
       "    <tr style=\"text-align: right;\">\n",
       "      <th></th>\n",
       "      <th>id</th>\n",
       "      <th>School</th>\n",
       "      <th>Sex</th>\n",
       "      <th>Grade</th>\n",
       "      <th>Final</th>\n",
       "    </tr>\n",
       "  </thead>\n",
       "  <tbody>\n",
       "    <tr>\n",
       "      <th>0</th>\n",
       "      <td>1</td>\n",
       "      <td>A</td>\n",
       "      <td>M</td>\n",
       "      <td>1</td>\n",
       "      <td>44.4</td>\n",
       "    </tr>\n",
       "    <tr>\n",
       "      <th>1</th>\n",
       "      <td>2</td>\n",
       "      <td>A</td>\n",
       "      <td>M</td>\n",
       "      <td>2</td>\n",
       "      <td>47.7</td>\n",
       "    </tr>\n",
       "  </tbody>\n",
       "</table>\n",
       "</div>"
      ],
      "text/plain": [
       "   id School Sex  Grade  Final\n",
       "0   1      A   M      1   44.4\n",
       "1   2      A   M      2   47.7"
      ]
     },
     "metadata": {},
     "output_type": "display_data"
    },
    {
     "name": "stdout",
     "output_type": "stream",
     "text": [
      "KruskalResult(statistic=1978.1734792103248, pvalue=0.0)\n",
      "> 귀무가설 기각. 학교 간 기말고사 성적에는 유의미한 차이가 있다.\n"
     ]
    }
   ],
   "source": [
    "# 일원배치 분산분석 대신\n",
    "from scipy import stats\n",
    "\n",
    "df = pd.read_csv('samples/예제/school_score.csv')\n",
    "display(df.head(2))\n",
    "\n",
    "final_A = df.loc[df['School'] == 'A']['Final'].values\n",
    "final_B = df.loc[df['School'] == 'B']['Final'].values\n",
    "final_C = df.loc[df['School'] == 'C']['Final'].values\n",
    "print(stats.kruskal(final_A, final_B, final_C))\n",
    "print('> 귀무가설 기각. 학교 간 기말고사 성적에는 유의미한 차이가 있다.')"
   ]
  },
  {
   "cell_type": "markdown",
   "metadata": {},
   "source": [
    "# 통계모형 - 선형 회귀모형"
   ]
  },
  {
   "cell_type": "markdown",
   "metadata": {},
   "source": [
    "# 머신러닝 - 지도학습\n",
    "- 선형 모델\n",
    "- 서포트 벡터 머신\n",
    "- 나이브베이즈\n",
    "- K-최근접이웃\n",
    "- 신경망\n",
    "- 의사결정나무\n",
    "- 앙상블"
   ]
  },
  {
   "cell_type": "markdown",
   "metadata": {},
   "source": [
    "### **▼ 데이터 분할**"
   ]
  },
  {
   "cell_type": "markdown",
   "metadata": {},
   "source": [
    "**▶ 홀드아웃** "
   ]
  },
  {
   "cell_type": "code",
   "execution_count": 7,
   "metadata": {},
   "outputs": [],
   "source": [
    "from sklearn.model_selection import train_test_split\n",
    "\n",
    "train_X, val_X, train_Y, val_Y = train_test_split(X, Y, train_size=0.75, shuffle=True, stratify=None, random_state=None)\n",
    "# stratify=Y 은 Y를 기준으로 층화추출하는 것. 목표 레이블 비율에 맞게 데이터를 분할하고자 할 때 사용."
   ]
  },
  {
   "cell_type": "markdown",
   "metadata": {},
   "source": [
    "**▶ K-Fold** "
   ]
  },
  {
   "cell_type": "code",
   "execution_count": 10,
   "metadata": {},
   "outputs": [],
   "source": [
    "from sklearn.model_selection import KFold\n",
    "\n",
    "kfold = KFold(5)    # n_splits=5, shuffle=False\n",
    "kfold.split(X, Y)\n",
    "\n",
    "from sklearn.model_selection import StratifiedKFold     # 층화추출 K-Fold\n",
    "\n",
    "skfold = StratifiedKFold(5)     # n_splits=5, shuffle=False\n",
    "skfold.split(X, Y)"
   ]
  },
  {
   "cell_type": "markdown",
   "metadata": {},
   "source": [
    "### **▼ 성과 분석**"
   ]
  },
  {
   "cell_type": "markdown",
   "metadata": {},
   "source": [
    "**▶ 분류 지표** "
   ]
  },
  {
   "cell_type": "code",
   "execution_count": 10,
   "metadata": {},
   "outputs": [
    {
     "name": "stdout",
     "output_type": "stream",
     "text": [
      "              precision    recall  f1-score   support\n",
      "\n",
      "           0       1.00      0.67      0.80         3\n",
      "           1       0.75      1.00      0.86         3\n",
      "\n",
      "    accuracy                           0.83         6\n",
      "   macro avg       0.88      0.83      0.83         6\n",
      "weighted avg       0.88      0.83      0.83         6\n",
      "\n",
      "0.8571428571428571\n",
      "0.8333333333333334\n"
     ]
    }
   ],
   "source": [
    "from sklearn.metrics import confusion_matrix, classification_report, accuracy_score, precision_score, recall_score, f1_score, roc_curve, auc\n",
    "\n",
    "# val_Y = [0, 0, 0, 1, 1, 2, 2, 2, 2]\n",
    "# predicted = [0, 1, 1, 1, 0, 0, 1, 2, 2]\n",
    "val_Y = [0, 0, 0, 1, 1, 1]\n",
    "predicted = [0, 1, 0, 1, 1, 1]\n",
    "\n",
    "print(classification_report(val_Y, predicted))\n",
    "print(f1_score(val_Y, predicted))\n",
    "fpr, tpr, thresholds = roc_curve(val_Y, predicted)\n",
    "print(auc(fpr, tpr))"
   ]
  },
  {
   "cell_type": "markdown",
   "metadata": {},
   "source": [
    "**▶ 예측 지표** "
   ]
  },
  {
   "cell_type": "code",
   "execution_count": 9,
   "metadata": {},
   "outputs": [],
   "source": [
    "from sklearn.metrics import mean_absolute_error, mean_squared_error, mean_absolute_percentage_error, r2_score"
   ]
  },
  {
   "cell_type": "markdown",
   "metadata": {},
   "source": [
    "### **▼ 선형 모델**"
   ]
  },
  {
   "cell_type": "markdown",
   "metadata": {},
   "source": [
    "**▶ 다중 선형 회귀모형** "
   ]
  },
  {
   "cell_type": "code",
   "execution_count": 47,
   "metadata": {},
   "outputs": [
    {
     "name": "stdout",
     "output_type": "stream",
     "text": [
      "계수:  [[ 608.9434702   301.13217977  990.86949656 -938.98139897 -597.46405077]]\n",
      "절편:  [152.13348416]\n",
      "0.47721326169685596\n",
      "0.47721326169685596\n"
     ]
    }
   ],
   "source": [
    "from sklearn.linear_model import LinearRegression\n",
    "from sklearn.datasets import load_diabetes\n",
    "\n",
    "X = pd.DataFrame(load_diabetes()['data'], columns=load_diabetes()['feature_names'])[['bmi', 'bp', 's1', 's2', 's3']]\n",
    "Y = pd.DataFrame(load_diabetes()['target'], columns=['target'])\n",
    "\n",
    "model = LinearRegression()\n",
    "model.fit(X, Y)\n",
    "\n",
    "print('계수: ', model.coef_)\n",
    "print('절편: ', model.intercept_)\n",
    "print(r2_score(Y, model.predict(X)))\n",
    "print(model.score(X, Y))            # 사이킷런의 회귀분석은 모형의 통계적 유의성이나 회귀계수의 유의성을 제공하지 않아서, statsmodels를 쓰는게 더 다양하다."
   ]
  },
  {
   "cell_type": "markdown",
   "metadata": {},
   "source": [
    "**▶ 릿지 회귀** "
   ]
  },
  {
   "cell_type": "code",
   "execution_count": 49,
   "metadata": {},
   "outputs": [
    {
     "name": "stdout",
     "output_type": "stream",
     "text": [
      "계수:  [[ 595.99217991  339.09043254  397.33941231 -338.99997282 -406.34685926]]\n",
      "절편:  [152.13348416]\n",
      "0.4576889481357329\n"
     ]
    }
   ],
   "source": [
    "from sklearn.linear_model import Ridge\n",
    "from sklearn.datasets import load_diabetes\n",
    "\n",
    "X = pd.DataFrame(load_diabetes()['data'], columns=load_diabetes()['feature_names'])[['bmi', 'bp', 's1', 's2', 's3']]\n",
    "Y = pd.DataFrame(load_diabetes()['target'], columns=['target'])\n",
    "\n",
    "model = Ridge(0.1)  # alpha=1   / 릿지의 알파는  규제 강도를 제어하는 L2항에 곱하는 상수로, 0~무한대까지 가능하며, 0일 경우 규제항이 없는 일반적인 선형회귀가 됨.\n",
    "model.fit(X, Y)\n",
    "\n",
    "print('계수: ', model.coef_)\n",
    "print('절편: ', model.intercept_)\n",
    "print(r2_score(Y, model.predict(X)))"
   ]
  },
  {
   "cell_type": "markdown",
   "metadata": {},
   "source": [
    "**▶ 라쏘 회귀** "
   ]
  },
  {
   "cell_type": "code",
   "execution_count": 51,
   "metadata": {},
   "outputs": [
    {
     "name": "stdout",
     "output_type": "stream",
     "text": [
      "계수:  [ 574.0437769   237.23009748    0.            0.         -165.17218128]\n",
      "절편:  [152.13348416]\n",
      "0.39524439294179814\n"
     ]
    }
   ],
   "source": [
    "from sklearn.linear_model import Lasso\n",
    "\n",
    "model = Lasso(0.5)     # alpha=1, fit_intercept=True   / 규제 강도를 제어하는 L1항에 곱하는 상수. 0~무한대가 가능하며, 0일 경우 규제항이 없는 일반적인 선형회귀가 됨.\n",
    "model.fit(X, Y)\n",
    "\n",
    "print('계수: ', model.coef_)\n",
    "print('절편: ', model.intercept_)\n",
    "print(r2_score(Y, model.predict(X)))        # 결과를 보면 0이 있다. 이를 통해 라쏘 회귀모형은 중요한 변수를 선택하는 역할을 수행할 수 있음을 알 수 있다."
   ]
  },
  {
   "cell_type": "code",
   "execution_count": 60,
   "metadata": {},
   "outputs": [
    {
     "name": "stdout",
     "output_type": "stream",
     "text": [
      "계수:  [ 594.71505474  203.35253134    0.            0.         -145.53698093]\n",
      "절편:  [150.89548632]\n",
      "0.42182483358045586\n"
     ]
    }
   ],
   "source": [
    "# exam p.258\n",
    "X = pd.DataFrame(load_diabetes()['data'], columns=load_diabetes()['feature_names'])[['bmi', 'bp', 's1', 's2', 's3']]\n",
    "Y = pd.DataFrame(load_diabetes()['target'], columns=['target'])\n",
    "\n",
    "train_X = X.loc[:310]; val_X = X.loc[310:]; train_Y = Y.loc[:310]; val_Y = Y.loc[310:]      # 왜 loc로 인덱싱할 때랑 그냥 인덱싱할 때랑 차이가 있지??\n",
    "#train_X = X[:310]; val_X = X[310:]; train_Y = Y[:310]; val_Y = Y[310:]\n",
    "model= Lasso(0.5)\n",
    "model.fit(train_X, train_Y)\n",
    "print('계수: ', model.coef_)\n",
    "print('절편: ', model.intercept_)\n",
    "print(r2_score(val_Y, model.predict(val_X)))"
   ]
  },
  {
   "cell_type": "markdown",
   "metadata": {},
   "source": [
    "**▶ 로지스틱 회귀** "
   ]
  },
  {
   "cell_type": "code",
   "execution_count": 149,
   "metadata": {},
   "outputs": [
    {
     "name": "stdout",
     "output_type": "stream",
     "text": [
      "정확도:  0.9824561403508771\n",
      "auc:  0.9983465608465608\n"
     ]
    }
   ],
   "source": [
    "# 선형 회귀모델과는 다르게 로지스틱 회귀모형은 릿지와 라쏘를 함께 지원한다.\n",
    "# LogisticRegression(penalty='l2', C=1, multi_class='auto', max_iter=100)   / penalty='l2', 'l1', 'none'  C=1 규제상수  max_iter=100 수렴할 때까지 걸리는 최대 반복 횟수\n",
    "from sklearn.linear_model import LogisticRegression\n",
    "from sklearn.datasets import load_breast_cancer\n",
    "from sklearn.model_selection import train_test_split\n",
    "\n",
    "X = pd.DataFrame(load_breast_cancer()['data'], columns=load_breast_cancer()['feature_names'])\n",
    "Y = load_breast_cancer()['target']\n",
    "train_X, val_X, train_Y, val_Y = train_test_split(X, Y, train_size=0.8, random_state=2205, stratify=Y)\n",
    "\n",
    "model = LogisticRegression(C=0.5, max_iter=2000)\n",
    "model.fit(train_X, train_Y)\n",
    "\n",
    "predicted = model.predict(val_X)\n",
    "print('정확도: ', accuracy_score(val_Y, predicted))\n",
    "fpr, tpr, thresholds = roc_curve(val_Y, model.predict_proba(val_X)[:, 1])   # predict_proba는 열이 2개인데 첫번째 열은 0이 될 확률이고, 두번째 열은 1이 될 확률이다.\n",
    "print('auc: ', auc(fpr, tpr))"
   ]
  },
  {
   "cell_type": "code",
   "execution_count": 148,
   "metadata": {},
   "outputs": [
    {
     "name": "stdout",
     "output_type": "stream",
     "text": [
      "macro f1-score는 \n",
      "               precision    recall  f1-score   support\n",
      "\n",
      "           0       1.00      1.00      1.00        10\n",
      "           1       1.00      0.90      0.95        10\n",
      "           2       0.91      1.00      0.95        10\n",
      "\n",
      "    accuracy                           0.97        30\n",
      "   macro avg       0.97      0.97      0.97        30\n",
      "weighted avg       0.97      0.97      0.97        30\n",
      "\n",
      "0.9665831244778613\n"
     ]
    }
   ],
   "source": [
    "# exam p.261\n",
    "from sklearn.datasets import load_iris\n",
    "from sklearn.linear_model import LogisticRegression\n",
    "from sklearn.model_selection import train_test_split\n",
    "from sklearn.metrics import classification_report\n",
    "\n",
    "X = pd.DataFrame(load_iris()['data'], columns=load_iris()['feature_names'])\n",
    "Y = load_iris()['target']\n",
    "train_X, val_X, train_Y, val_Y = train_test_split(X, Y, train_size=0.8, stratify=Y, random_state=2205)\n",
    "\n",
    "model = LogisticRegression(C=0.05, max_iter=200)\n",
    "model.fit(train_X, train_Y)\n",
    "\n",
    "predicted = model.predict(val_X)\n",
    "print('macro f1-score는 \\n', classification_report(val_Y, predicted))\n",
    "print(f1_score(val_Y, predicted, average='macro'))      # average='binary'  ['micro', 'macro', 'weighted', 'samples']"
   ]
  },
  {
   "cell_type": "markdown",
   "metadata": {},
   "source": [
    "### **▼ SVM　　서포트 벡터 머신**"
   ]
  },
  {
   "cell_type": "markdown",
   "metadata": {},
   "source": [
    "**▶ SVC** - 이진분류"
   ]
  },
  {
   "cell_type": "code",
   "execution_count": 147,
   "metadata": {},
   "outputs": [
    {
     "name": "stdout",
     "output_type": "stream",
     "text": [
      "정확도:  0.9912280701754386\n",
      "auc:  0.9983465608465608\n"
     ]
    }
   ],
   "source": [
    "# SVC(C=1, kernel='rbf', gamma='scale') C는 규제화 매개변수로, 적을수록 규제가 강함. kernel은 커널유형으로, linear, poly, rbf, sigmoid가 가능. gamma는 rbf, poly, sigmoid에 대한 커널계수\n",
    "from sklearn.model_selection import train_test_split\n",
    "from sklearn.svm import SVC\n",
    "from sklearn.metrics import accuracy_score, roc_curve, auc\n",
    "from sklearn.datasets import load_breast_cancer\n",
    "\n",
    "X = pd.DataFrame(load_breast_cancer()['data'], columns=load_breast_cancer()['feature_names'])\n",
    "Y = load_breast_cancer()['target']\n",
    "train_X, val_X, train_Y, val_Y = train_test_split(X, Y, train_size=0.8, random_state=2205, stratify=Y)\n",
    "\n",
    "model = SVC(probability=True, kernel='linear', C=0.5)\n",
    "model.fit(train_X, train_Y)\n",
    "\n",
    "predicted = model.predict(val_X)\n",
    "print('정확도: ', accuracy_score(val_Y, predicted))\n",
    "fpr, tpr, thresholds = roc_curve(val_Y, model.predict_proba(val_X)[:, 1])\n",
    "print('auc: ', auc(fpr, tpr))"
   ]
  },
  {
   "cell_type": "markdown",
   "metadata": {},
   "source": [
    "**▶ LinearSVC** - 다지분류"
   ]
  },
  {
   "cell_type": "code",
   "execution_count": 146,
   "metadata": {},
   "outputs": [
    {
     "name": "stdout",
     "output_type": "stream",
     "text": [
      "정확도:  0.9666666666666667\n",
      "macro f1-score:  0.9665831244778613\n"
     ]
    },
    {
     "name": "stderr",
     "output_type": "stream",
     "text": [
      "c:\\Users\\ALT\\anaconda3\\envs\\bbg\\lib\\site-packages\\sklearn\\svm\\_base.py:985: ConvergenceWarning: Liblinear failed to converge, increase the number of iterations.\n",
      "  warnings.warn(\"Liblinear failed to converge, increase \"\n"
     ]
    }
   ],
   "source": [
    "from sklearn.svm import LinearSVC\n",
    "from sklearn.model_selection import train_test_split\n",
    "from sklearn.metrics import accuracy_score, f1_score\n",
    "from sklearn.datasets import load_iris\n",
    "\n",
    "X = pd.DataFrame(load_iris()['data'], columns=load_iris()['feature_names'])\n",
    "Y = load_iris()['target']\n",
    "train_X, val_X, train_Y, val_Y = train_test_split(X, Y, train_size=0.8, random_state=2205, stratify=Y)\n",
    "\n",
    "model = LinearSVC()\n",
    "model.fit(train_X, train_Y)\n",
    "\n",
    "predicted = model.predict(val_X)\n",
    "print('정확도: ', accuracy_score(val_Y, predicted))\n",
    "print('macro f1-score: ', f1_score(val_Y, predicted, average='macro'))"
   ]
  },
  {
   "cell_type": "markdown",
   "metadata": {},
   "source": [
    "**▶ SVR, LinearSVR** - 연속형"
   ]
  },
  {
   "cell_type": "code",
   "execution_count": 140,
   "metadata": {},
   "outputs": [
    {
     "name": "stdout",
     "output_type": "stream",
     "text": [
      "RMSE:  76.61319796718303\n",
      "R2:  0.07558358226529283\n",
      "RMSE:  99.64577466531667\n",
      "R2:  -0.5637893235592495\n"
     ]
    }
   ],
   "source": [
    "# SVR(C=1, epsilon=0.1 kernel='rbf', gamma='scale')\n",
    "# LinearSVR(C=1, loss='epsilon_insensitive')\n",
    "from sklearn.model_selection import train_test_split\n",
    "from sklearn.svm import SVR, LinearSVR\n",
    "from sklearn.metrics import mean_squared_error, r2_score\n",
    "from sklearn.datasets import load_diabetes\n",
    "\n",
    "X = pd.DataFrame(load_diabetes()['data'], columns=load_diabetes()['feature_names'])\n",
    "Y = load_diabetes()['target']\n",
    "train_X, val_X, train_Y, val_Y = train_test_split(X, Y, train_size=0.8, random_state=2205)\n",
    "\n",
    "model = SVR()\n",
    "model.fit(train_X, train_Y)\n",
    "model2 = LinearSVR()\n",
    "model2.fit(train_X, train_Y)\n",
    "\n",
    "predicted = model.predict(val_X)\n",
    "print('RMSE: ', np.sqrt(mean_squared_error(val_Y, predicted)))\n",
    "print('R2: ', r2_score(val_Y, predicted))\n",
    "\n",
    "predicted = model2.predict(val_X)\n",
    "print('RMSE: ', np.sqrt(mean_squared_error(val_Y, predicted)))\n",
    "print('R2: ', r2_score(val_Y, predicted))"
   ]
  },
  {
   "cell_type": "markdown",
   "metadata": {},
   "source": [
    "### **▼ 나이브베이즈**"
   ]
  },
  {
   "cell_type": "markdown",
   "metadata": {},
   "source": [
    "**▶ BernoulliNB** - 이진 분류"
   ]
  },
  {
   "cell_type": "code",
   "execution_count": 139,
   "metadata": {},
   "outputs": [
    {
     "name": "stdout",
     "output_type": "stream",
     "text": [
      "정확도:  0.631578947368421\n",
      "auc:  0.5347222222222222\n"
     ]
    }
   ],
   "source": [
    "# BernoulliNB(alpha=1)\n",
    "from sklearn.model_selection import train_test_split\n",
    "from sklearn.naive_bayes import BernoulliNB\n",
    "from sklearn.metrics import accuracy_score, roc_curve, auc\n",
    "from sklearn.datasets import load_breast_cancer\n",
    "\n",
    "X = pd.DataFrame(load_breast_cancer()['data'], columns=load_breast_cancer()['feature_names'])\n",
    "Y = load_breast_cancer()['target']\n",
    "train_X, val_X, train_Y, val_Y = train_test_split(X, Y, train_size=0.8, random_state=2205, stratify=Y)\n",
    "\n",
    "model = BernoulliNB()\n",
    "model.fit(train_X, train_Y)\n",
    "\n",
    "predicted = model.predict(val_X)\n",
    "print('정확도: ', accuracy_score(val_Y, predicted))\n",
    "fpr, tpr, thresholds = roc_curve(val_Y, model.predict_proba(val_X)[:, 1])\n",
    "print('auc: ', auc(fpr, tpr))"
   ]
  },
  {
   "cell_type": "markdown",
   "metadata": {},
   "source": [
    "**▶ MultinomialNB** - 다지 분류"
   ]
  },
  {
   "cell_type": "code",
   "execution_count": 138,
   "metadata": {},
   "outputs": [
    {
     "name": "stdout",
     "output_type": "stream",
     "text": [
      "정확도:  0.9666666666666667\n",
      "macro f1-score:  0.9665831244778613\n"
     ]
    }
   ],
   "source": [
    "# MultinomialNB(alpha=1)\n",
    "from sklearn.model_selection import train_test_split\n",
    "from sklearn.naive_bayes import MultinomialNB\n",
    "from sklearn.metrics import accuracy_score, roc_curve, auc, f1_score\n",
    "from sklearn.datasets import load_iris\n",
    "\n",
    "X = pd.DataFrame(load_iris()['data'], columns=load_iris()['feature_names'])\n",
    "Y = load_iris()['target']\n",
    "train_X, val_X, train_Y, val_Y = train_test_split(X, Y, train_size=0.8, random_state=2205, stratify=Y)\n",
    "\n",
    "model = MultinomialNB()\n",
    "model.fit(train_X, train_Y)\n",
    "\n",
    "predicted = model.predict(val_X)\n",
    "print('정확도: ', accuracy_score(val_Y, predicted))\n",
    "print('macro f1-score: ', f1_score(val_Y, predicted, average='macro'))"
   ]
  },
  {
   "cell_type": "markdown",
   "metadata": {},
   "source": [
    "**▶ GaussianNB** - 연속형"
   ]
  },
  {
   "cell_type": "code",
   "execution_count": 137,
   "metadata": {},
   "outputs": [
    {
     "name": "stdout",
     "output_type": "stream",
     "text": [
      "RMSE:  78.87808826910528\n",
      "R2:  0.020119261810313316\n"
     ]
    }
   ],
   "source": [
    "# GaussianNB(var_smoothing=1)\n",
    "from sklearn.model_selection import train_test_split\n",
    "from sklearn.naive_bayes import GaussianNB\n",
    "from sklearn.metrics import mean_squared_error, r2_score\n",
    "from sklearn.datasets import load_diabetes\n",
    "\n",
    "X = pd.DataFrame(load_diabetes()['data'], columns=load_diabetes()['feature_names'])\n",
    "Y = load_diabetes()['target']\n",
    "train_X, val_X, train_Y, val_Y = train_test_split(X, Y, train_size=0.8, random_state=2205)\n",
    "\n",
    "model = GaussianNB()\n",
    "model.fit(train_X, train_Y)\n",
    "\n",
    "predicted = model.predict(val_X)\n",
    "print('RMSE: ', np.sqrt(mean_squared_error(val_Y, predicted)))\n",
    "print('R2: ', r2_score(val_Y, predicted))"
   ]
  },
  {
   "cell_type": "markdown",
   "metadata": {},
   "source": [
    "### **▼ K-최근접이웃**"
   ]
  },
  {
   "cell_type": "code",
   "execution_count": 152,
   "metadata": {},
   "outputs": [
    {
     "name": "stdout",
     "output_type": "stream",
     "text": [
      "정확도:  0.9824561403508771\n",
      "auc:  0.9993386243386244\n"
     ]
    }
   ],
   "source": [
    "# KNeighborsClassifier(n_neighbors=5, weights='uniform')\n",
    "from sklearn.model_selection import train_test_split\n",
    "from sklearn.neighbors import KNeighborsClassifier\n",
    "from sklearn.metrics import accuracy_score, roc_curve, auc, f1_score, confusion_matrix, classification_report\n",
    "from sklearn.datasets import load_breast_cancer\n",
    "\n",
    "X = pd.DataFrame(load_breast_cancer()['data'], columns=load_breast_cancer()['feature_names'])\n",
    "Y = load_breast_cancer()['target']\n",
    "train_X, val_X, train_Y, val_Y = train_test_split(X, Y, train_size=0.8, random_state=2205, stratify=Y)\n",
    "\n",
    "model = KNeighborsClassifier(5, weights='distance')\n",
    "model.fit(train_X, train_Y)\n",
    "\n",
    "print('정확도: ', accuracy_score(val_Y, model.predict(val_X)))\n",
    "fpr, tpr, thresholds = roc_curve(val_Y, model.predict_proba(val_X)[:, 1])\n",
    "print('auc: ', auc(fpr, tpr))"
   ]
  },
  {
   "cell_type": "code",
   "execution_count": 157,
   "metadata": {},
   "outputs": [
    {
     "name": "stdout",
     "output_type": "stream",
     "text": [
      "정확도:  1.0\n",
      "macro f1_score:  1.0\n"
     ]
    }
   ],
   "source": [
    "from sklearn.datasets import load_iris\n",
    "\n",
    "X = pd.DataFrame(load_iris()['data'], columns=load_iris()['feature_names'])\n",
    "Y = load_iris()['target']\n",
    "train_X, val_X, train_Y, val_Y = train_test_split(X, Y, train_size=0.8, random_state=2205, stratify=Y)\n",
    "\n",
    "model = KNeighborsClassifier()\n",
    "model.fit(train_X, train_Y)\n",
    "\n",
    "print('정확도: ', accuracy_score(val_Y, model.predict(val_X)))\n",
    "print('macro f1_score: ', f1_score(val_Y, model.predict(val_X), average='macro'))"
   ]
  },
  {
   "cell_type": "code",
   "execution_count": 160,
   "metadata": {},
   "outputs": [
    {
     "name": "stdout",
     "output_type": "stream",
     "text": [
      "RMSE:  64.34099075385271\n",
      "R2:  0.3480174738117894\n"
     ]
    }
   ],
   "source": [
    "# KNeighborsRegressor(n_neighbors=5, weights='uniform')\n",
    "from sklearn.model_selection import train_test_split\n",
    "from sklearn.neighbors import KNeighborsRegressor\n",
    "from sklearn.metrics import mean_squared_error, r2_score\n",
    "from sklearn.datasets import load_diabetes\n",
    "\n",
    "X = pd.DataFrame(load_diabetes()['data'], columns=load_diabetes()['feature_names'])\n",
    "Y = load_diabetes()['target']\n",
    "train_X, val_X, train_Y, val_Y = train_test_split(X, Y, train_size=0.8, random_state=2205)\n",
    "\n",
    "model = KNeighborsRegressor(5, weights='distance')\n",
    "model.fit(train_X, train_Y)\n",
    "\n",
    "predicted = model.predict(val_X)\n",
    "print('RMSE: ', np.sqrt(mean_squared_error(val_Y, predicted)))\n",
    "print('R2: ', r2_score(val_Y, predicted))"
   ]
  },
  {
   "cell_type": "markdown",
   "metadata": {},
   "source": [
    "### **▼ 신경망**"
   ]
  },
  {
   "cell_type": "code",
   "execution_count": null,
   "metadata": {},
   "outputs": [],
   "source": [
    "from sklearn.neural_network import MLPClassifier"
   ]
  },
  {
   "cell_type": "code",
   "execution_count": null,
   "metadata": {},
   "outputs": [],
   "source": [
    "from sklearn.neural_network import MLPRegressor"
   ]
  },
  {
   "cell_type": "markdown",
   "metadata": {},
   "source": [
    "### **▼ 의사결정나무**"
   ]
  },
  {
   "cell_type": "code",
   "execution_count": null,
   "metadata": {},
   "outputs": [],
   "source": [
    "from sklearn.tree import DecisionTreeClassifier"
   ]
  },
  {
   "cell_type": "code",
   "execution_count": null,
   "metadata": {},
   "outputs": [],
   "source": [
    "from sklearn.tree import DecisionTreeRegressor"
   ]
  },
  {
   "cell_type": "markdown",
   "metadata": {},
   "source": [
    "### **▼ 앙상블**"
   ]
  },
  {
   "cell_type": "code",
   "execution_count": null,
   "metadata": {},
   "outputs": [],
   "source": [
    "from sklearn.ensemble import BaggingClassifier, BaggingRegressor"
   ]
  },
  {
   "cell_type": "code",
   "execution_count": null,
   "metadata": {},
   "outputs": [],
   "source": [
    "from sklearn.ensemble import RandomForestClassifier, RandomForestRegressor"
   ]
  },
  {
   "cell_type": "code",
   "execution_count": null,
   "metadata": {},
   "outputs": [],
   "source": [
    "from sklearn.ensemble import AdaBoostClassifier, AdaBoostRegressor"
   ]
  },
  {
   "cell_type": "code",
   "execution_count": null,
   "metadata": {},
   "outputs": [],
   "source": [
    "from sklearn.ensemble import GradientBoostingClassifier, GradientBoostingRegressor"
   ]
  },
  {
   "cell_type": "code",
   "execution_count": null,
   "metadata": {},
   "outputs": [],
   "source": [
    "from xgboost import XGBClassifier, XGBRegressor"
   ]
  },
  {
   "cell_type": "code",
   "execution_count": null,
   "metadata": {},
   "outputs": [],
   "source": [
    "from lightgbm import LGBMClassifier, LGBMRegressor"
   ]
  },
  {
   "cell_type": "markdown",
   "metadata": {},
   "source": [
    "# 머신러닝 - 군집 모형"
   ]
  },
  {
   "cell_type": "markdown",
   "metadata": {},
   "source": [
    "### **▼ 군집 평가**"
   ]
  },
  {
   "cell_type": "markdown",
   "metadata": {},
   "source": [
    "**▶ 실루엣 계수**\n",
    "- silhouette_score: 전체 개체에 대한 실루엣 계수의 평균을 계산\n",
    "- silhouette_samples: 각 개체에 대한 개별 실루엣계수를 계산"
   ]
  },
  {
   "cell_type": "code",
   "execution_count": null,
   "metadata": {},
   "outputs": [],
   "source": [
    "from sklearn.metrics import silhouette_score, silhouette_samples"
   ]
  },
  {
   "cell_type": "markdown",
   "metadata": {},
   "source": [
    "**▶ 랜드지수, 조정 랜드지수　 RI, ARI**"
   ]
  },
  {
   "cell_type": "code",
   "execution_count": 17,
   "metadata": {},
   "outputs": [
    {
     "name": "stdout",
     "output_type": "stream",
     "text": [
      "ri:  0.7222222222222222\n",
      "ari:  0.3076923076923077\n"
     ]
    }
   ],
   "source": [
    "from sklearn.metrics import rand_score, adjusted_rand_score\n",
    "\n",
    "val_Y = [0, 0, 0, 1, 1, 1, 1, 2, 2]\n",
    "predicted = [0, 0, 1, 1, 1, 1, 2, 2, 2]\n",
    "\n",
    "print('ri: ', rand_score(val_Y, predicted))\n",
    "print('ari: ', adjusted_rand_score(val_Y, predicted))"
   ]
  },
  {
   "cell_type": "markdown",
   "metadata": {},
   "source": [
    "### **▼ 계층적 군집분석**"
   ]
  },
  {
   "cell_type": "code",
   "execution_count": 25,
   "metadata": {},
   "outputs": [
    {
     "name": "stdout",
     "output_type": "stream",
     "text": [
      "RI 비교: \n",
      "0.8797315436241611\n",
      "0.8922595078299776\n",
      "0.8367785234899329\n",
      "0.7766442953020134\n",
      "ARI 비교: \n",
      "0.7311985567707746\n",
      "0.7591987071071522\n",
      "0.6422512518362898\n",
      "0.5637510205230709\n"
     ]
    }
   ],
   "source": [
    "\n",
    "from sklearn.cluster import AgglomerativeClustering\n",
    "from sklearn.metrics import rand_score, adjusted_rand_score\n",
    "from sklearn.datasets import load_iris\n",
    "\n",
    "X = pd.DataFrame(load_iris()['data'], columns=load_iris()['feature_names'])\n",
    "Y = load_iris()['target']\n",
    "\n",
    "model_ward = AgglomerativeClustering(3)\n",
    "res_ward = model_ward.fit_predict(X)\n",
    "\n",
    "model_average = AgglomerativeClustering(3, linkage='average')\n",
    "res_average = model_average.fit_predict(X)\n",
    "\n",
    "model_complete = AgglomerativeClustering(3, linkage='complete')\n",
    "res_complete = model_complete.fit_predict(X)\n",
    "\n",
    "model_single = AgglomerativeClustering(3, linkage='single')\n",
    "res_single = model_single.fit_predict(X)\n",
    "\n",
    "print('RI 비교: ')\n",
    "print(rand_score(Y, res_ward), rand_score(Y, res_average), rand_score(Y, res_complete), rand_score(Y, res_single), sep='\\n')\n",
    "print('ARI 비교: ')\n",
    "print(adjusted_rand_score(Y, res_ward), adjusted_rand_score(Y, res_average), adjusted_rand_score(Y, res_complete), adjusted_rand_score(Y, res_single), sep='\\n')"
   ]
  },
  {
   "cell_type": "markdown",
   "metadata": {},
   "source": [
    "### **▼ k-means 군집분석**"
   ]
  },
  {
   "cell_type": "code",
   "execution_count": 35,
   "metadata": {},
   "outputs": [
    {
     "name": "stdout",
     "output_type": "stream",
     "text": [
      "전체 실루엣 계수 평균:  0.6810461692117462\n"
     ]
    },
    {
     "data": {
      "text/html": [
       "<div>\n",
       "<style scoped>\n",
       "    .dataframe tbody tr th:only-of-type {\n",
       "        vertical-align: middle;\n",
       "    }\n",
       "\n",
       "    .dataframe tbody tr th {\n",
       "        vertical-align: top;\n",
       "    }\n",
       "\n",
       "    .dataframe thead th {\n",
       "        text-align: right;\n",
       "    }\n",
       "</style>\n",
       "<table border=\"1\" class=\"dataframe\">\n",
       "  <thead>\n",
       "    <tr style=\"text-align: right;\">\n",
       "      <th></th>\n",
       "      <th>silhouette</th>\n",
       "    </tr>\n",
       "    <tr>\n",
       "      <th>labels</th>\n",
       "      <th></th>\n",
       "    </tr>\n",
       "  </thead>\n",
       "  <tbody>\n",
       "    <tr>\n",
       "      <th>0</th>\n",
       "      <td>0.632701</td>\n",
       "    </tr>\n",
       "    <tr>\n",
       "      <th>1</th>\n",
       "      <td>0.769526</td>\n",
       "    </tr>\n",
       "  </tbody>\n",
       "</table>\n",
       "</div>"
      ],
      "text/plain": [
       "        silhouette\n",
       "labels            \n",
       "0         0.632701\n",
       "1         0.769526"
      ]
     },
     "metadata": {},
     "output_type": "display_data"
    },
    {
     "name": "stdout",
     "output_type": "stream",
     "text": [
      "전체 실루엣 계수 평균:  0.5528190123564095\n"
     ]
    },
    {
     "data": {
      "text/html": [
       "<div>\n",
       "<style scoped>\n",
       "    .dataframe tbody tr th:only-of-type {\n",
       "        vertical-align: middle;\n",
       "    }\n",
       "\n",
       "    .dataframe tbody tr th {\n",
       "        vertical-align: top;\n",
       "    }\n",
       "\n",
       "    .dataframe thead th {\n",
       "        text-align: right;\n",
       "    }\n",
       "</style>\n",
       "<table border=\"1\" class=\"dataframe\">\n",
       "  <thead>\n",
       "    <tr style=\"text-align: right;\">\n",
       "      <th></th>\n",
       "      <th>silhouette</th>\n",
       "    </tr>\n",
       "    <tr>\n",
       "      <th>labels</th>\n",
       "      <th></th>\n",
       "    </tr>\n",
       "  </thead>\n",
       "  <tbody>\n",
       "    <tr>\n",
       "      <th>0</th>\n",
       "      <td>0.798140</td>\n",
       "    </tr>\n",
       "    <tr>\n",
       "      <th>1</th>\n",
       "      <td>0.417320</td>\n",
       "    </tr>\n",
       "    <tr>\n",
       "      <th>2</th>\n",
       "      <td>0.451105</td>\n",
       "    </tr>\n",
       "  </tbody>\n",
       "</table>\n",
       "</div>"
      ],
      "text/plain": [
       "        silhouette\n",
       "labels            \n",
       "0         0.798140\n",
       "1         0.417320\n",
       "2         0.451105"
      ]
     },
     "metadata": {},
     "output_type": "display_data"
    },
    {
     "name": "stdout",
     "output_type": "stream",
     "text": [
      "전체 실루엣 계수 평균:  0.49805050499728737\n"
     ]
    },
    {
     "data": {
      "text/html": [
       "<div>\n",
       "<style scoped>\n",
       "    .dataframe tbody tr th:only-of-type {\n",
       "        vertical-align: middle;\n",
       "    }\n",
       "\n",
       "    .dataframe tbody tr th {\n",
       "        vertical-align: top;\n",
       "    }\n",
       "\n",
       "    .dataframe thead th {\n",
       "        text-align: right;\n",
       "    }\n",
       "</style>\n",
       "<table border=\"1\" class=\"dataframe\">\n",
       "  <thead>\n",
       "    <tr style=\"text-align: right;\">\n",
       "      <th></th>\n",
       "      <th>silhouette</th>\n",
       "    </tr>\n",
       "    <tr>\n",
       "      <th>labels</th>\n",
       "      <th></th>\n",
       "    </tr>\n",
       "  </thead>\n",
       "  <tbody>\n",
       "    <tr>\n",
       "      <th>0</th>\n",
       "      <td>0.362998</td>\n",
       "    </tr>\n",
       "    <tr>\n",
       "      <th>1</th>\n",
       "      <td>0.763176</td>\n",
       "    </tr>\n",
       "    <tr>\n",
       "      <th>2</th>\n",
       "      <td>0.419518</td>\n",
       "    </tr>\n",
       "    <tr>\n",
       "      <th>3</th>\n",
       "      <td>0.321324</td>\n",
       "    </tr>\n",
       "  </tbody>\n",
       "</table>\n",
       "</div>"
      ],
      "text/plain": [
       "        silhouette\n",
       "labels            \n",
       "0         0.362998\n",
       "1         0.763176\n",
       "2         0.419518\n",
       "3         0.321324"
      ]
     },
     "metadata": {},
     "output_type": "display_data"
    }
   ],
   "source": [
    "from sklearn.cluster import KMeans\n",
    "from sklearn.metrics import silhouette_score, silhouette_samples\n",
    "from sklearn.datasets import load_iris\n",
    "\n",
    "X = pd.DataFrame(load_iris()['data'], columns=load_iris()['feature_names'])\n",
    "\n",
    "model_2 = KMeans(2, random_state=2022)\n",
    "model_2.fit(X)\n",
    "predicted = model_2.predict(X)\n",
    "print('전체 실루엣 계수 평균: ', silhouette_score(X, predicted))\n",
    "ss = silhouette_samples(X, predicted)\n",
    "ss_df = pd.DataFrame({'labels': predicted, 'silhouette': ss})\n",
    "display(ss_df.groupby('labels').mean())\n",
    "\n",
    "model_3 = KMeans(3, random_state=2022)\n",
    "model_3.fit(X)\n",
    "predicted = model_3.predict(X)\n",
    "print('전체 실루엣 계수 평균: ', silhouette_score(X, predicted))\n",
    "ss = silhouette_samples(X, predicted)\n",
    "ss_df = pd.DataFrame({'labels': predicted, 'silhouette': ss})\n",
    "display(ss_df.groupby('labels').mean())\n",
    "\n",
    "model_4 = KMeans(4, random_state=2022)\n",
    "predicted = model_4.fit_predict(X)\n",
    "print('전체 실루엣 계수 평균: ', silhouette_score(X, predicted))\n",
    "ss = silhouette_samples(X, predicted)\n",
    "ss_df = pd.DataFrame({'labels': predicted, 'silhouette': ss})\n",
    "display(ss_df.groupby('labels').mean())\n",
    "# 전체 실루엣 계수의 평균이 1에 가까우면서, 라벨간의 평균의 편차가 적어야 좋은 군집임."
   ]
  },
  {
   "cell_type": "markdown",
   "metadata": {},
   "source": [
    "<br>\n",
    "<br>\n",
    "\n",
    "연습문제\n",
    "\n",
    "<br><br>"
   ]
  },
  {
   "cell_type": "code",
   "execution_count": 147,
   "metadata": {},
   "outputs": [
    {
     "name": "stdout",
     "output_type": "stream",
     "text": [
      "rmse:  1719.9379168089336\n",
      "r2:  0.8538625271126741  훈련r2:  1.0 1.0\n",
      "Overall                   0\n",
      "Preferred_Foot            0\n",
      "Work_Rate                 0\n",
      "Position_Class          509\n",
      "Contract_Valid_Until      0\n",
      "Height                    0\n",
      "Height_cm               188\n",
      "Weight_lb                 0\n",
      "Release_Clause            0\n",
      "Wage                      0\n",
      "dtype: int64\n"
     ]
    },
    {
     "data": {
      "text/html": [
       "<div>\n",
       "<style scoped>\n",
       "    .dataframe tbody tr th:only-of-type {\n",
       "        vertical-align: middle;\n",
       "    }\n",
       "\n",
       "    .dataframe tbody tr th {\n",
       "        vertical-align: top;\n",
       "    }\n",
       "\n",
       "    .dataframe thead th {\n",
       "        text-align: right;\n",
       "    }\n",
       "</style>\n",
       "<table border=\"1\" class=\"dataframe\">\n",
       "  <thead>\n",
       "    <tr style=\"text-align: right;\">\n",
       "      <th></th>\n",
       "      <th>Value</th>\n",
       "    </tr>\n",
       "    <tr>\n",
       "      <th>ID</th>\n",
       "      <th></th>\n",
       "    </tr>\n",
       "  </thead>\n",
       "  <tbody>\n",
       "    <tr>\n",
       "      <th>137351</th>\n",
       "      <td>3600</td>\n",
       "    </tr>\n",
       "    <tr>\n",
       "      <th>207707</th>\n",
       "      <td>6000</td>\n",
       "    </tr>\n",
       "    <tr>\n",
       "      <th>242101</th>\n",
       "      <td>575</td>\n",
       "    </tr>\n",
       "    <tr>\n",
       "      <th>200104</th>\n",
       "      <td>26500</td>\n",
       "    </tr>\n",
       "    <tr>\n",
       "      <th>244229</th>\n",
       "      <td>650</td>\n",
       "    </tr>\n",
       "  </tbody>\n",
       "</table>\n",
       "</div>"
      ],
      "text/plain": [
       "        Value\n",
       "ID           \n",
       "137351   3600\n",
       "207707   6000\n",
       "242101    575\n",
       "200104  26500\n",
       "244229    650"
      ]
     },
     "metadata": {},
     "output_type": "display_data"
    },
    {
     "name": "stdout",
     "output_type": "stream",
     "text": [
      "진짜 rmse:  2886.7356185231097\n",
      "진짜 r2:  0.801068381761349\n"
     ]
    }
   ],
   "source": [
    "from sklearn.ensemble import RandomForestRegressor\n",
    "from sklearn.preprocessing import StandardScaler\n",
    "from sklearn.model_selection import train_test_split\n",
    "from sklearn.metrics import mean_squared_error, r2_score\n",
    "\n",
    "X = pd.read_csv('samples/연습문제/FIFA_X_train.csv', encoding='cp949', index_col=0).drop(['Nationality', 'Club', 'Position', 'Age', 'Jersey_Number'], axis=1)\n",
    "Y = pd.read_csv('samples/연습문제/FIFA_y_train.csv', encoding='cp949', index_col=0)\n",
    "df = pd.concat((X, Y), axis=1)\n",
    "df = df.dropna(subset=['Weight_lb'])\n",
    "df['Height_cm'] = df['Height'].apply(lambda x: int(x.split(\"'\")[0])*30 + int(x.split(\"'\")[1])*2.5) # 키\n",
    "#### df = df.loc[~(df['Age'] == '2*') & ~(df['Age'] == '3*') & ~(df['Age'] == '1*')]\n",
    "df['Preferred_Foot'] = df['Preferred_Foot'].apply(lambda x: 0 if x == 'Left' else 1)        # 왼발오른발\n",
    "df = pd.concat((df, pd.get_dummies(df['Position_Class'])), axis=1).drop('Position_Class', axis=1)   # 원핫\n",
    "df = pd.concat((df, pd.get_dummies(df['Work_Rate'])), axis=1).drop('Work_Rate', axis=1)             # 원핫\n",
    "# print(df.shape)\n",
    "# display(df.head(3))\n",
    "# print(df.info())\n",
    "#print(df['Age'].value_counts())\n",
    "#print(len(df['Wage'].unique()), df['Wage'].unique())\n",
    "X = df.drop(['Value', 'Height'], axis=1); Y = df['Value']\n",
    "train_X, val_X, train_Y, val_Y = train_test_split(X, Y, train_size=0.8, random_state=42)\n",
    "\n",
    "model = RandomForestClassifier(random_state=42)\n",
    "#model.fit(X, Y)\n",
    "model.fit(train_X, train_Y)\n",
    "\n",
    "predicted = model.predict(val_X)\n",
    "print('rmse: ', np.sqrt(mean_squared_error(val_Y, predicted)))\n",
    "print('r2: ', r2_score(val_Y, predicted), ' 훈련r2: ', model.score(train_X, train_Y), r2_score(train_Y, model.predict(train_X)))\n",
    "\n",
    "df = pd.read_csv('samples/연습문제/FIFA_X_test.csv', encoding='cp949', index_col=0).drop(['Nationality', 'Club', 'Position', 'Age', 'Jersey_Number'], axis=1)\n",
    "print(df.isnull().sum())\n",
    "df['Height_cm'] = df['Height'].apply(lambda x: int(x.split(\"'\")[0])*30 + int(x.split(\"'\")[1])*2.5) # 키\n",
    "df['Preferred_Foot'] = df['Preferred_Foot'].apply(lambda x: 0 if x == 'Left' else 1)        # 왼발오른발\n",
    "df = pd.concat((df, pd.get_dummies(df['Position_Class'])), axis=1).drop('Position_Class', axis=1)   # 원핫\n",
    "df = pd.concat((df, pd.get_dummies(df['Work_Rate'])), axis=1).drop('Work_Rate', axis=1)             # 원핫\n",
    "df = df.drop(['Height'], axis=1)\n",
    "\n",
    "res = model.predict(df)\n",
    "#print(df.index)\n",
    "res = pd.DataFrame(res, index=df.index, columns=['Value'])\n",
    "res.to_csv('./temp.csv')\n",
    "\n",
    "res = pd.read_csv('./temp.csv', index_col=0)\n",
    "display(res.head())\n",
    "res_real = pd.read_csv('samples/연습문제/FIFA_y_test.csv', encoding='cp949', index_col=0)\n",
    "print('진짜 rmse: ', np.sqrt(mean_squared_error(res_real, res)))\n",
    "print('진짜 r2: ', r2_score(res_real, res))\n",
    "\n",
    "# model = RandomForestClassifier(random_state=42, oob_score=True)"
   ]
  },
  {
   "cell_type": "code",
   "execution_count": 180,
   "metadata": {},
   "outputs": [
    {
     "name": "stdout",
     "output_type": "stream",
     "text": [
      "     Apps  Accept  Enroll  Top10perc  Top25perc  F.Undergrad  P.Undergrad  \\\n",
      "ID                                                                          \n",
      "681  2850    2044    1046         20         50         9260         1387   \n",
      "746  2702    1623     604          7         24         2315          146   \n",
      "\n",
      "     Outstate  Room.Board  Books  Personal  PhD  Terminal  S.F.Ratio  \\\n",
      "ID                                                                     \n",
      "681      4652        2470    500       500   78        99       18.7   \n",
      "746      5918        3755    500      2050   76        79       19.4   \n",
      "\n",
      "     perc.alumni  Expend  Grad.Rate  \n",
      "ID                                   \n",
      "681           23    5917         45  \n",
      "746            4    4599         52  \n",
      "<class 'pandas.core.frame.DataFrame'>\n",
      "Int64Index: 621 entries, 681 to 381\n",
      "Data columns (total 17 columns):\n",
      " #   Column       Non-Null Count  Dtype  \n",
      "---  ------       --------------  -----  \n",
      " 0   Apps         621 non-null    int64  \n",
      " 1   Accept       621 non-null    int64  \n",
      " 2   Enroll       621 non-null    int64  \n",
      " 3   Top10perc    621 non-null    int64  \n",
      " 4   Top25perc    621 non-null    int64  \n",
      " 5   F.Undergrad  621 non-null    int64  \n",
      " 6   P.Undergrad  621 non-null    int64  \n",
      " 7   Outstate     621 non-null    int64  \n",
      " 8   Room.Board   621 non-null    int64  \n",
      " 9   Books        621 non-null    int64  \n",
      " 10  Personal     621 non-null    int64  \n",
      " 11  PhD          621 non-null    int64  \n",
      " 12  Terminal     621 non-null    int64  \n",
      " 13  S.F.Ratio    621 non-null    float64\n",
      " 14  perc.alumni  621 non-null    int64  \n",
      " 15  Expend       621 non-null    int64  \n",
      " 16  Grad.Rate    621 non-null    int64  \n",
      "dtypes: float64(1), int64(16)\n",
      "memory usage: 87.3 KB\n",
      "None\n",
      "정확도:  0.93048128342246\n",
      "auc:  0.9832915622389307\n",
      "혼동행렬: \n",
      " [[ 50   4]\n",
      " [  9 124]]\n",
      "     prob_Private\n",
      "ID               \n",
      "62              0\n",
      "79              0\n",
      "80              0\n",
      "120             1\n",
      "162             0\n",
      "진짜 정확도:  0.9294871794871795\n",
      "진짜 auc:  0.9651162790697673\n",
      "진짜 혼동행렬: \n",
      " [[ 40   3]\n",
      " [  8 105]]\n"
     ]
    },
    {
     "name": "stderr",
     "output_type": "stream",
     "text": [
      "C:\\Users\\ALT\\AppData\\Local\\Temp\\ipykernel_13300\\553946578.py:17: DataConversionWarning: A column-vector y was passed when a 1d array was expected. Please change the shape of y to (n_samples,), for example using ravel().\n",
      "  model.fit(train_X, train_Y)\n"
     ]
    }
   ],
   "source": [
    "from sklearn.ensemble import RandomForestClassifier\n",
    "from sklearn.model_selection import train_test_split\n",
    "from sklearn.metrics import accuracy_score, roc_curve, auc, f1_score, confusion_matrix\n",
    "\n",
    "X = pd.read_csv('samples/연습문제/College_X_train.csv', index_col=0).drop('Name', axis=1)\n",
    "test_X = pd.read_csv('samples/연습문제/College_X_test.csv', index_col=0).drop('Name', axis=1)\n",
    "Y = pd.read_csv('samples/연습문제/College_y_train.csv', index_col=0)   # Yes 452 / No 169\n",
    "Y['Private'] = Y['Private'].map({'Yes': 1, 'No': 0}) \n",
    "print(X.head(2))\n",
    "print(X.info())\n",
    "# for i in X.columns:\n",
    "#     print(i, '\\t',len(X[i].unique()))\n",
    "\n",
    "train_X, val_X, train_Y, val_Y = train_test_split(X, Y, train_size=0.7, random_state=42)\n",
    "\n",
    "model = RandomForestClassifier()\n",
    "model.fit(train_X, train_Y)\n",
    "\n",
    "predicted = model.predict(val_X)\n",
    "print('정확도: ', accuracy_score(val_Y, predicted))\n",
    "fpr, tpr, thresholds = roc_curve(val_Y, model.predict_proba(val_X)[:, 1])\n",
    "print('auc: ', auc(fpr, tpr))\n",
    "print('혼동행렬: \\n', confusion_matrix(val_Y, predicted))\n",
    "\n",
    "res = model.predict(test_X)\n",
    "res = pd.DataFrame(res, index=test_X.index, columns=['prob_Private'])\n",
    "res.to_csv('./temp.csv')\n",
    "\n",
    "res = pd.read_csv('./temp.csv', index_col=0)\n",
    "print(res.head())\n",
    "real_res = pd.read_csv('samples/연습문제/College_y_test.csv', index_col=0)\n",
    "real_res['Private'] = real_res['Private'].map({'Yes': 1, 'No': 0}) \n",
    "print('진짜 정확도: ', accuracy_score(real_res, res))\n",
    "fpr, tpr, thresholds = roc_curve(real_res, model.predict_proba(test_X)[:, 1])\n",
    "print('진짜 auc: ', auc(fpr, tpr))\n",
    "print('진짜 혼동행렬: \\n', confusion_matrix(real_res, res))"
   ]
  },
  {
   "cell_type": "code",
   "execution_count": 269,
   "metadata": {},
   "outputs": [
    {
     "name": "stderr",
     "output_type": "stream",
     "text": [
      "C:\\Users\\ALT\\AppData\\Local\\Temp\\ipykernel_13300\\4130667396.py:9: FutureWarning: Dropping of nuisance columns in DataFrame reductions (with 'numeric_only=None') is deprecated; in a future version this will raise TypeError.  Select only valid columns before calling the reduction.\n",
      "  X = X.fillna(X.mean())\n",
      "C:\\Users\\ALT\\AppData\\Local\\Temp\\ipykernel_13300\\4130667396.py:10: FutureWarning: Dropping of nuisance columns in DataFrame reductions (with 'numeric_only=None') is deprecated; in a future version this will raise TypeError.  Select only valid columns before calling the reduction.\n",
      "  test_X = test_X.fillna(test_X.mean())\n"
     ]
    },
    {
     "name": "stdout",
     "output_type": "stream",
     "text": [
      "정확도:  0.7849217638691323\n",
      "auc:  0.7609540909224204\n",
      "혼동행렬: \n",
      " [[2452  221]\n",
      " [ 535  307]]\n",
      "진짜 auc:  0.7029902408882442\n",
      "진짜 정확도:  0.7825336555056955\n"
     ]
    }
   ],
   "source": [
    "from sklearn.ensemble import RandomForestClassifier\n",
    "from sklearn.model_selection import train_test_split\n",
    "from sklearn.metrics import accuracy_score, roc_curve, auc, confusion_matrix\n",
    "\n",
    "X = pd.read_csv('samples\\연습문제\\weatherAUS_X_train.csv').drop(['Location', 'WindGustDir', 'WindDir9am', 'WindDir3pm', 'RainToday', 'Cloud9am', 'Cloud3pm', 'Pressure9am', 'Pressure3pm', 'Humidity3pm', 'Temp3pm', 'WindSpeed3pm', 'WindGustSpeed'], axis=1)\n",
    "test_X = pd.read_csv('samples\\연습문제\\weatherAUS_X_test.csv').drop(['Location', 'WindGustDir', 'WindDir9am', 'WindDir3pm', 'RainToday', 'Cloud9am', 'Cloud3pm', 'Pressure9am', 'Pressure3pm', 'Humidity3pm', 'Temp3pm', 'WindSpeed3pm', 'WindGustSpeed'], axis=1)\n",
    "Y = pd.read_csv('samples\\연습문제\\weatherAUS_y_train.csv')  # No 8882 / Yes 2832\n",
    "#display(X.head())\n",
    "X = X.fillna(X.mean())\n",
    "test_X = test_X.fillna(test_X.mean())\n",
    "Y['RainTomorrow'] = Y['RainTomorrow'].map({'No': 0, 'Yes': 1})\n",
    "# print(X.isnull().sum())\n",
    "# print(test_X.isnull().sum())\n",
    "# print(len(X['Location'].value_counts()))  # 49개 도시. 도시당 약 240개 데이터\n",
    "# print(X.info())\n",
    "#mean_table = X.groupby('Date').mean()  # 날짜별로 묶으면 널 없음.\n",
    "# print(X.groupby('Date').max() - X.groupby('Date').mean()) # 날짜로 묶어봤는데 최대 최소 편차가 큰거 같기도\n",
    "# print(X.groupby('Location').max() - X.groupby('Location').mean()) # 지역별로 묶으면 널이 좀..\n",
    "\n",
    "train_X, val_X, train_Y, val_Y = train_test_split(X, Y, train_size=0.7, random_state=42)\n",
    "\n",
    "model = RandomForestClassifier()\n",
    "model.fit(train_X.drop('Date', axis=1), train_Y['RainTomorrow'])\n",
    "\n",
    "predicted = model.predict(val_X.drop('Date', axis=1))\n",
    "print('정확도: ', accuracy_score(val_Y['RainTomorrow'], predicted))\n",
    "fpr, tpr, thresholds = roc_curve(val_Y['RainTomorrow'], model.predict_proba(val_X.drop('Date', axis=1))[:, 1])\n",
    "print('auc: ', auc(fpr, tpr))\n",
    "print('혼동행렬: \\n', confusion_matrix(val_Y['RainTomorrow'], predicted))\n",
    "\n",
    "res = model.predict_proba(test_X.drop('Date', axis=1))[:, 1]\n",
    "res = pd.DataFrame(res, index=test_X['Date'], columns=['RainTomorrow_Prob'])\n",
    "res.to_csv('./temp.csv')\n",
    "\n",
    "res = pd.read_csv('./temp.csv')\n",
    "res_real = pd.read_csv('samples\\연습문제\\weatherAUS_y_test.csv')\n",
    "res_real['RainTomorrow'] = res_real['RainTomorrow'].map({'No': 0, 'Yes': 1})\n",
    "fpr, tpr, thresholds = roc_curve(res_real['RainTomorrow'], res['RainTomorrow_Prob'])\n",
    "print('진짜 auc: ', auc(fpr, tpr))\n",
    "print('진짜 정확도: ', accuracy_score(res_real['RainTomorrow'], model.predict(test_X.drop('Date', axis=1))))"
   ]
  },
  {
   "cell_type": "markdown",
   "metadata": {},
   "source": [
    "<br>\n",
    "\n",
    "## 7회\n",
    "\n",
    "<br>"
   ]
  },
  {
   "cell_type": "code",
   "execution_count": 304,
   "metadata": {},
   "outputs": [
    {
     "name": "stdout",
     "output_type": "stream",
     "text": [
      "0.5991\n",
      "0.5990785244426713\n",
      "0.5962725206117928\n",
      "0.5962725206117928\n"
     ]
    }
   ],
   "source": [
    "from sklearn.preprocessing import StandardScaler\n",
    "df = pd.read_csv('samples/기출복원/07회/test_score.csv', encoding='cp949')\n",
    "df = df.dropna()\n",
    "#print(df.groupby('연령대').size()) # 가장 많은 연령대는 20 880개\n",
    "res = pd.DataFrame(df.loc[(df['연령대'] == 20) & (df['과목명'] == '기본간호학')]['과목별점수'])\n",
    "#res = res.dropna()\n",
    "\n",
    "scaler = StandardScaler()\n",
    "scaled = scaler.fit_transform(res)\n",
    "print(round(max(scaled)[0], 4))\n",
    "\n",
    "res = df.loc[(df['연령대'] == 20) & (df['과목명'] == '기본간호학')]['과목별점수']\n",
    "print((max(res) - np.mean(res)) / np.std(res))\n",
    "print((max(res) - np.mean(res)) / np.std(res, ddof=1))\n",
    "print(((res - res.mean()) / res.std()).max())"
   ]
  },
  {
   "cell_type": "code",
   "execution_count": 316,
   "metadata": {},
   "outputs": [
    {
     "name": "stdout",
     "output_type": "stream",
     "text": [
      "s3            -0.394789\n",
      "sex            0.043062\n",
      "s2             0.174054\n",
      "age            0.187889\n",
      "s1             0.212022\n",
      "s6             0.382483\n",
      "s4             0.430453\n",
      "bp             0.441482\n",
      "s5             0.565883\n",
      "bmi            0.586450\n",
      "progression    1.000000\n",
      "Name: progression, dtype: float64\n",
      "0.17\n"
     ]
    }
   ],
   "source": [
    "from sklearn.linear_model import LinearRegression\n",
    "df = pd.read_csv('samples/기출복원/07회/diabetes.csv')\n",
    "print(df.corr()['progression'].sort_values())\n",
    "\n",
    "print(round(max(df['bmi']), 2))"
   ]
  },
  {
   "cell_type": "code",
   "execution_count": 331,
   "metadata": {},
   "outputs": [
    {
     "name": "stdout",
     "output_type": "stream",
     "text": [
      "106    11.0\n",
      "117     9.0\n",
      "133     8.5\n",
      "144     3.0\n",
      "147     2.8\n",
      "Name: sepal_length, dtype: float64\n",
      "5\n"
     ]
    }
   ],
   "source": [
    "df = pd.read_csv('samples/기출복원/07회/iris.csv')['sepal_length']\n",
    "df = df.fillna(df.median())\n",
    "iqr = df.quantile(0.75) - df.quantile(0.25)\n",
    "print(res:=df.loc[(df < df.quantile(0.25) - (iqr*1.5)) | (df > df.quantile(0.75) + (iqr*1.5))])     # ★★★\n",
    "print(len(res))"
   ]
  },
  {
   "cell_type": "code",
   "execution_count": 48,
   "metadata": {},
   "outputs": [
    {
     "name": "stdout",
     "output_type": "stream",
     "text": [
      "RMSE:  4613.517285388608\n",
      "R2:  0.9610926881610016\n",
      "       pred\n",
      "0  11478.97\n",
      "1   5078.12\n",
      "2  13552.49\n",
      "3  19694.78\n",
      "4   2163.61\n",
      "진짜 RMSE:  4536.22866916044\n",
      "진짜 R2:  0.9606264993345255\n"
     ]
    }
   ],
   "source": [
    "from xgboost import XGBRegressor\n",
    "from sklearn.ensemble import RandomForestRegressor\n",
    "from sklearn.model_selection import train_test_split\n",
    "from sklearn.preprocessing import StandardScaler\n",
    "from sklearn.metrics import mean_squared_error, r2_score\n",
    "\n",
    "df = pd.read_csv('samples/기출복원/07회/Flight_train.csv').drop('flight', axis=1)\n",
    "test_X = pd.read_csv('samples/기출복원/07회/Flight_test.csv').drop('flight', axis=1)\n",
    "df['class'] = df['class'].map({'Economy': 0, 'Business': 1})\n",
    "df['stops'] = df['stops'].map({'zero': 0, 'one': 1, 'two_or_more': 2})\n",
    "df = pd.concat((df, pd.get_dummies(df[['airline', 'source_city', 'destination_city', 'arrival_time','departure_time']])), axis=1)\n",
    "df = df.drop(['airline', 'source_city', 'destination_city', 'arrival_time','departure_time'], axis=1)\n",
    "#print(df.info())    # 결측치없음. /class 'Economy' 'Business'] /stops 'one' 'zero' 'two_or_more'\n",
    "# print(df.nunique())\n",
    "# print(test_X.nunique())\n",
    "scaler = StandardScaler()\n",
    "# df_scaled = scaler.fit_transform(df[['duration', 'days_left']])\n",
    "# df[['duration', 'days_left']] = df_scaled\n",
    "df_scaled = scaler.fit_transform(df.drop('price', axis=1))\n",
    "train_X, val_X, train_Y, val_Y = train_test_split(df_scaled, df['price'], train_size=0.9, random_state=42)\n",
    "\n",
    "model = RandomForestRegressor(random_state=42)\n",
    "model.fit(train_X, train_Y)\n",
    "'''\n",
    "[-0.91783263 -1.17154926]\n",
    " [-1.38417167 -1.02410514]\n",
    " [ 1.55670513 -0.50805072]\n",
    "'''\n",
    "predicted = model.predict(val_X)                # 정석스케일러 RMSE: 4383.348013196695 R2: 0.9636504461469366 /안함 RMSE: 4400.632090453199 R2: 0.9633632195042433\n",
    "print('RMSE: ', np.sqrt(mean_squared_error(val_Y, predicted)))  # 전부 스케일링 RMSE:  4375.940869606868 R2:  0.9637731919899649\n",
    "print('R2: ', r2_score(val_Y, predicted))\n",
    "#---------------------------------------\n",
    "test_X['class'] = test_X['class'].map({'Economy': 0, 'Business': 1})\n",
    "test_X['stops'] = test_X['stops'].map({'zero': 0, 'one': 1, 'two_or_more': 2})\n",
    "test_X = pd.concat((test_X, pd.get_dummies(test_X[['airline', 'source_city', 'destination_city', 'arrival_time','departure_time']])), axis=1)\n",
    "test_X = test_X.drop(['airline', 'source_city', 'destination_city', 'arrival_time','departure_time'], axis=1)\n",
    "test_X_scaled = scaler.transform(test_X)\n",
    "#print(test_X.info())\n",
    "res = model.predict(test_X_scaled)\n",
    "res = pd.DataFrame(res, columns=['pred'])\n",
    "print(res.head())\n",
    "res.to_csv('./result.csv', index=False)\n",
    "#------------------------------------\n",
    "res = pd.read_csv('./result.csv')\n",
    "res_real = pd.read_csv('samples/기출복원/07회/Flight_y_test.csv')\n",
    "print('진짜 RMSE: ', np.sqrt(mean_squared_error(res_real, res)))    # train_size=0.7일 때, RMSE: 4680.018296243825  R2: 0.9580908113511515\n",
    "print('진짜 R2: ', r2_score(res_real, res))"
   ]
  },
  {
   "cell_type": "code",
   "execution_count": 86,
   "metadata": {},
   "outputs": [
    {
     "name": "stdout",
     "output_type": "stream",
     "text": [
      "                 Generalized Linear Model Regression Results                  \n",
      "==============================================================================\n",
      "Dep. Variable:                 gender   No. Observations:                  800\n",
      "Model:                            GLM   Df Residuals:                      793\n",
      "Model Family:                Binomial   Df Model:                            6\n",
      "Link Function:                  Logit   Scale:                          1.0000\n",
      "Method:                          IRLS   Log-Likelihood:                -233.47\n",
      "Date:                Thu, 20 Jun 2024   Deviance:                       466.94\n",
      "Time:                        18:58:25   Pearson chi2:                     731.\n",
      "No. Iterations:                     7   Pseudo R-squ. (CS):             0.5514\n",
      "Covariance Type:            nonrobust                                         \n",
      "=================================================================================\n",
      "                    coef    std err          z      P>|z|      [0.025      0.975]\n",
      "---------------------------------------------------------------------------------\n",
      "math score        0.3770      0.027     14.064      0.000       0.324       0.430\n",
      "reading score    -0.0174      0.029     -0.591      0.554      -0.075       0.040\n",
      "writing score    -0.3504      0.035    -10.095      0.000      -0.418      -0.282\n",
      "group B          -0.3531      0.428     -0.826      0.409      -1.191       0.485\n",
      "group C           0.1105      0.399      0.277      0.782      -0.672       0.893\n",
      "group D           0.4018      0.409      0.983      0.326      -0.400       1.203\n",
      "group E          -1.2851      0.494     -2.601      0.009      -2.253      -0.317\n",
      "=================================================================================\n",
      "Q1-1 - math score가 한 단위 증가할 때 오즈비를 구해라:  1.46\n",
      "Q1-2 - 잔차 이탈도를 구해라:  466.94\n",
      "Q1-3 - 평가용 데이터에서 모형의 오분류율을 구해라:  0.12\n"
     ]
    }
   ],
   "source": [
    "import statsmodels.api as sm\n",
    "from sklearn.metrics import accuracy_score\n",
    "df = pd.read_csv('samples/기출복원/07회/StudentsPerformance.csv')\n",
    "df['gender'] = df['gender'].map({'female': 0, 'male': 1})\n",
    "df = pd.concat((df, pd.get_dummies(df['race'], drop_first=True)), axis=1)\n",
    "df = df.drop('race', axis=1)\n",
    "#print(df.info())\n",
    "train_X = df.drop('gender', axis=1).iloc[:800]\n",
    "train_Y = df['gender'].iloc[:800]\n",
    "test_X = df.drop('gender', axis=1).iloc[800:]\n",
    "test_Y = df['gender'].iloc[800:]\n",
    "\n",
    "model = sm.GLM(train_Y, train_X, family=sm.families.Binomial()).fit()\n",
    "print(model.summary())\n",
    "print('Q1-1 - math score가 한 단위 증가할 때 오즈비를 구해라: ', round(np.exp(0.3770), 2))  # ★★★\n",
    "print('Q1-2 - 잔차 이탈도를 구해라: ', 466.94)          # ★★★\n",
    "res = model.predict(test_X)\n",
    "\n",
    "print('Q1-3 - 평가용 데이터에서 모형의 오분류율을 구해라: ', round(1- accuracy_score(test_Y, np.round(res)), 2))"
   ]
  },
  {
   "cell_type": "code",
   "execution_count": 91,
   "metadata": {},
   "outputs": [
    {
     "data": {
      "text/plain": [
       "12.0"
      ]
     },
     "execution_count": 91,
     "metadata": {},
     "output_type": "execute_result"
    }
   ],
   "source": [
    "round(12.5, 0)"
   ]
  },
  {
   "cell_type": "code",
   "execution_count": 93,
   "metadata": {},
   "outputs": [
    {
     "name": "stdout",
     "output_type": "stream",
     "text": [
      "disp   -0.847551\n",
      "hp     -0.776168\n",
      "drat    0.681172\n",
      "wt     -0.867659\n",
      "mpg     1.000000\n",
      "Name: mpg, dtype: float64\n",
      "2-1번 답:  -0.868\n",
      "계수:  [ 0.00381524 -0.03478353  1.76804877 -3.47966753]\n",
      "2-2번 답 R2:  0.838\n",
      "2-3번 답:  1.768\n",
      "                            OLS Regression Results                            \n",
      "==============================================================================\n",
      "Dep. Variable:                    mpg   R-squared:                       0.838\n",
      "Model:                            OLS   Adj. R-squared:                  0.814\n",
      "Method:                 Least Squares   F-statistic:                     34.82\n",
      "Date:                Thu, 20 Jun 2024   Prob (F-statistic):           2.70e-10\n",
      "Time:                        19:05:29   Log-Likelihood:                -73.292\n",
      "No. Observations:                  32   AIC:                             156.6\n",
      "Df Residuals:                      27   BIC:                             163.9\n",
      "Df Model:                           4                                         \n",
      "Covariance Type:            nonrobust                                         \n",
      "==============================================================================\n",
      "                 coef    std err          t      P>|t|      [0.025      0.975]\n",
      "------------------------------------------------------------------------------\n",
      "const         29.1487      6.294      4.631      0.000      16.235      42.062\n",
      "disp           0.0038      0.011      0.353      0.727      -0.018       0.026\n",
      "hp            -0.0348      0.012     -2.999      0.006      -0.059      -0.011\n",
      "drat           1.7680      1.320      1.340      0.192      -0.940       4.476\n",
      "wt            -3.4797      1.078     -3.227      0.003      -5.692      -1.267\n",
      "==============================================================================\n",
      "Omnibus:                        5.267   Durbin-Watson:                   1.736\n",
      "Prob(Omnibus):                  0.072   Jarque-Bera (JB):                4.327\n",
      "Skew:                           0.899   Prob(JB):                        0.115\n",
      "Kurtosis:                       3.102   Cond. No.                     4.26e+03\n",
      "==============================================================================\n",
      "\n",
      "Notes:\n",
      "[1] Standard Errors assume that the covariance matrix of the errors is correctly specified.\n",
      "[2] The condition number is large, 4.26e+03. This might indicate that there are\n",
      "strong multicollinearity or other numerical problems.\n",
      "Q2-1 - 가장 높은 상관계수:  0.868\n",
      "Q2-2 - 결정계수:  0.838\n",
      "Q2-3 - 독립변수 중 가장 유의하지 않은 변수의 회귀계수 추정값:  0.004\n"
     ]
    }
   ],
   "source": [
    "from sklearn.linear_model import LinearRegression\n",
    "from sklearn.metrics import r2_score\n",
    "df = pd.read_csv('samples/기출복원/07회/mtcars.csv')[['disp', 'hp', 'drat', 'wt', 'mpg']]\n",
    "#print(df.info())\n",
    "X = df[['disp', 'hp', 'drat', 'wt']]\n",
    "Y = df['mpg']\n",
    "print(df.corr()['mpg'])\n",
    "print('2-1번 답: ', round(-0.867659, 3))\n",
    "\n",
    "model = LinearRegression()\n",
    "model.fit(X, Y)\n",
    "print('계수: ', model.coef_)\n",
    "print('2-2번 답 R2: ', round(r2_score(Y, model.predict(X)), 3))\n",
    "print('2-3번 답: ', round(1.76804877, 3))\n",
    "\n",
    "# 올바른 방법 -----------------\n",
    "import statsmodels.api as sm\n",
    "X = df[['disp', 'hp', 'drat', 'wt']]\n",
    "Y = df['mpg']\n",
    "X = sm.add_constant(X)\n",
    "\n",
    "model = sm.OLS(Y, X).fit()\n",
    "print(model.summary())\n",
    "print('Q2-1 - 가장 높은 상관계수: ', round(abs(-0.867659), 3))\n",
    "print('Q2-2 - 결정계수: ', 0.838)\n",
    "print('Q2-3 - 독립변수 중 가장 유의하지 않은 변수의 회귀계수 추정값: ', round(0.0038, 3))"
   ]
  },
  {
   "cell_type": "markdown",
   "metadata": {},
   "source": [
    "<br>\n",
    "\n",
    "## 6회\n",
    "\n",
    "<br>"
   ]
  },
  {
   "cell_type": "code",
   "execution_count": 125,
   "metadata": {},
   "outputs": [
    {
     "name": "stdout",
     "output_type": "stream",
     "text": [
      "      관할서명       서센터명  ...              상황종료일시           화재진압시간\n",
      "54  조치원소방서  조치원119구조대  ... 2012-08-08 07:31:00 38 days 06:55:00\n",
      "14  조치원소방서  조치원119구조대  ... 2012-07-31 22:39:00 30 days 22:06:00\n",
      "15  조치원소방서  부강119안전센터  ... 2012-07-31 22:42:00 27 days 05:40:00\n",
      "\n",
      "[3 rows x 6 columns]\n",
      "화재진압이 가장 오래걸린 서센터의 평균 화재진압시간:  1 days 02:13:06.176470588\n",
      "분수로:  1 2 13 -> 1573\n",
      "<class 'pandas._libs.tslibs.timedeltas.Timedelta'>\n"
     ]
    }
   ],
   "source": [
    "df = pd.read_csv('samples/기출복원/06회/sejong_fire.csv', encoding='cp949')\n",
    "df['접수일시'] = pd.to_datetime(df['접수일시'])\n",
    "df['상황종료일시'] = pd.to_datetime(df['상황종료일시'])\n",
    "df['화재진압시간'] = df['상황종료일시'] - df['접수일시']\n",
    "# print(df.head())\n",
    "# print(df.info())\n",
    "print(df.sort_values('화재진압시간', ascending=False).head(3))      # 조치원119구조대\n",
    "print('화재진압이 가장 오래걸린 서센터의 평균 화재진압시간: ', res:=df.loc[df['서센터명']=='조치원119구조대']['화재진압시간'].mean())\n",
    "print('분수로: ', res.components.days, res.components.hours, res.components.minutes, '->', res.components.minutes+res.components.hours*60+res.components.days*60*24)\n",
    "print(type(res))    # ★★★"
   ]
  },
  {
   "cell_type": "code",
   "execution_count": 149,
   "metadata": {},
   "outputs": [
    {
     "name": "stdout",
     "output_type": "stream",
     "text": [
      "    school_name  student_1  student_2  ...  teacher   sum       rate\n",
      "81       동성초등학교        112        128  ...       24   744  31.000000\n",
      "14     부산삼육초등학교         60         64  ...       10   303  30.300000\n",
      "42       동래초등학교        112        119  ...       22   619  28.136364\n",
      "64       혜화초등학교         60         59  ...       12   327  27.250000\n",
      "300      명원초등학교        223        371  ...       71  1759  24.774648\n",
      "\n",
      "[5 rows x 10 columns]\n",
      "24\n"
     ]
    }
   ],
   "source": [
    "df = pd.read_csv('samples/기출복원/06회/busan_school_Info.csv', encoding='cp949')\n",
    "df['sum'] = df['student_1'] + df['student_2'] + df['student_3'] + df['student_4'] + df['student_5'] + df['student_6']\n",
    "df['rate'] = df['sum'] / df['teacher']\n",
    "#print(df.info())\n",
    "print(df.sort_values('rate', ascending=False).head())       # 동성초등학교\n",
    "print(df.loc[df['school_name'] == '동성초등학교']['teacher'].values[0])"
   ]
  },
  {
   "cell_type": "code",
   "execution_count": 204,
   "metadata": {},
   "outputs": [
    {
     "name": "stdout",
     "output_type": "stream",
     "text": [
      "             총발생건수      폭력_검거건수\n",
      "연도                             \n",
      "2012  18358.583333  4884.166667\n",
      "2011  18203.250000  4974.833333\n",
      "2009  18140.916667  5816.666667\n",
      "2010  18096.166667  5046.750000\n",
      "2013  17692.583333  4522.916667\n",
      "2008  16730.166667  5922.916667\n",
      "답:  4884\n"
     ]
    }
   ],
   "source": [
    "#pd.set_option('display.max_rows', None)\n",
    "df = pd.read_csv('samples/기출복원/06회/five_crime.csv', encoding='cp949')\n",
    "df['연도'] = df['연월'].apply(lambda x: x.split('.')[0].replace(' ', '')[:4])\n",
    "df['월'] = df['연월'].apply(lambda x: x.split('.')[1].strip()[:2])\n",
    "df = df.drop('연월', axis=1)\n",
    "df['총발생건수'] = df.iloc[:, 0:10].sum(axis=1)     # ★★★\n",
    "#print(df.info())\n",
    "print(df[['연도', '총발생건수', '폭력_검거건수']].groupby('연도').mean().sort_values('총발생건수', ascending=False)) # 2012년\n",
    "print('답: ',round(4884.166667))\n",
    "#pd.set_option('display.max_rows', 60)"
   ]
  },
  {
   "cell_type": "code",
   "execution_count": 225,
   "metadata": {},
   "outputs": [
    {
     "name": "stdout",
     "output_type": "stream",
     "text": [
      "정확도:  0.9518633540372671\n",
      "혼동행렬: \n",
      " [[328  16]\n",
      " [ 15 285]]\n",
      "f1_score:  0.9516477874091458\n",
      "            pred\n",
      "0  Not satisfied\n",
      "1      Satisfied\n",
      "2      Satisfied\n",
      "3  Not satisfied\n",
      "4  Not satisfied\n",
      "진짜 정확도:  0.9336228287841191\n",
      "진짜 혼동행렬: \n",
      " [[839  44]\n",
      " [ 63 666]]\n",
      "진짜 f1_score:  0.9328494149570878\n"
     ]
    }
   ],
   "source": [
    "from sklearn.ensemble import RandomForestClassifier\n",
    "from sklearn.model_selection import train_test_split\n",
    "from sklearn.preprocessing import StandardScaler\n",
    "from sklearn.metrics import accuracy_score, confusion_matrix, f1_score\n",
    "\n",
    "df = pd.read_csv('samples/기출복원/06회/Airline_train.csv')\n",
    "test_X = pd.read_csv('samples/기출복원/06회/Airline_test.csv')\n",
    "df['Gender'] = df['Gender'].map({'Female': 0, 'Male': 1})   # Ages ['[10, 20)' '[20, 30)' '[30, 40)' '[40, 49)' '[50, 59)']\n",
    "df['Customer_Type'] = df['Customer_Type'].map({'NL': 0, 'L': 1})        # Class ['Eco Plus' 'Eco' 'Business']\n",
    "Y = df['Satisfaction'].map({'No': 'Not satisfied', 'Yes': 'Satisfied'})\n",
    "df = df.drop('Satisfaction', axis=1)\n",
    "df = pd.get_dummies(df)\n",
    "#print(df.info())\n",
    "train_X, val_X, train_Y, val_Y = train_test_split(df, Y, train_size=0.9, random_state=42)\n",
    "\n",
    "model = RandomForestClassifier(random_state=42)\n",
    "model.fit(train_X, train_Y)\n",
    "\n",
    "predicted = model.predict(val_X)\n",
    "print('정확도: ', accuracy_score(val_Y, predicted))\n",
    "print('혼동행렬: \\n', confusion_matrix(val_Y, predicted))\n",
    "print('f1_score: ', f1_score(val_Y, predicted, average='macro'))\n",
    "# -------------------------------------\n",
    "test_X['Gender'] = test_X['Gender'].map({'Female': 0, 'Male': 1})\n",
    "test_X['Customer_Type'] = test_X['Customer_Type'].map({'NL': 0, 'L': 1})\n",
    "test_X = pd.get_dummies(test_X)\n",
    "res = model.predict(test_X)\n",
    "res = pd.DataFrame(res, columns=['pred'])\n",
    "print(res.head())\n",
    "res.to_csv('./result.csv', index=False)\n",
    "# -----------------------------------------\n",
    "res = pd.read_csv('./result.csv')\n",
    "res_real = pd.read_csv('samples/기출복원/06회/Airline_y_test.csv')\n",
    "print('진짜 정확도: ', accuracy_score(res_real, res))\n",
    "print('진짜 혼동행렬: \\n', confusion_matrix(res_real, res))\n",
    "print('진짜 f1_score: ', f1_score(res_real, res, average='macro'))"
   ]
  },
  {
   "cell_type": "code",
   "execution_count": 238,
   "metadata": {},
   "outputs": [
    {
     "name": "stdout",
     "output_type": "stream",
     "text": [
      "x      \n",
      "1_Grade    964\n",
      "2_Grade    627\n",
      "3_Grade    328\n",
      "None        81\n",
      "dtype: int64\n",
      "Q3-1 - 항암약의 \"부작용없음\"의 관찰도수는?  81\n"
     ]
    },
    {
     "data": {
      "text/html": [
       "<div>\n",
       "<style scoped>\n",
       "    .dataframe tbody tr th:only-of-type {\n",
       "        vertical-align: middle;\n",
       "    }\n",
       "\n",
       "    .dataframe tbody tr th {\n",
       "        vertical-align: top;\n",
       "    }\n",
       "\n",
       "    .dataframe thead th {\n",
       "        text-align: right;\n",
       "    }\n",
       "</style>\n",
       "<table border=\"1\" class=\"dataframe\">\n",
       "  <thead>\n",
       "    <tr style=\"text-align: right;\">\n",
       "      <th></th>\n",
       "      <th>cancer</th>\n",
       "      <th>cold</th>\n",
       "    </tr>\n",
       "  </thead>\n",
       "  <tbody>\n",
       "    <tr>\n",
       "      <th>1_Grade</th>\n",
       "      <td>0.4820</td>\n",
       "      <td>0.05</td>\n",
       "    </tr>\n",
       "    <tr>\n",
       "      <th>2_Grade</th>\n",
       "      <td>0.3135</td>\n",
       "      <td>0.05</td>\n",
       "    </tr>\n",
       "    <tr>\n",
       "      <th>3_Grade</th>\n",
       "      <td>0.1640</td>\n",
       "      <td>0.10</td>\n",
       "    </tr>\n",
       "    <tr>\n",
       "      <th>None</th>\n",
       "      <td>0.0405</td>\n",
       "      <td>0.80</td>\n",
       "    </tr>\n",
       "  </tbody>\n",
       "</table>\n",
       "</div>"
      ],
      "text/plain": [
       "         cancer  cold\n",
       "1_Grade  0.4820  0.05\n",
       "2_Grade  0.3135  0.05\n",
       "3_Grade  0.1640  0.10\n",
       "None     0.0405  0.80"
      ]
     },
     "execution_count": 238,
     "metadata": {},
     "output_type": "execute_result"
    }
   ],
   "source": [
    "import statsmodels.api as sm\n",
    "from scipy import stats\n",
    "\n",
    "df = pd.read_csv('samples/기출복원/06회/cancer.csv')\n",
    "print(df.value_counts())\n",
    "print('Q3-1 - 항암약의 \"부작용없음\"의 관찰도수는? ', df['x'].value_counts()['None'])\n",
    "\n",
    "pd.DataFrame({'cancer': np.array([964, 627, 328, 81])/2000, 'cold': [0.05, 0.05, 0.10, 0.80]}, index=['1_Grade', '2_Grade', '3_Grade', 'None'])"
   ]
  }
 ],
 "metadata": {
  "kernelspec": {
   "display_name": "bbg",
   "language": "python",
   "name": "python3"
  },
  "language_info": {
   "codemirror_mode": {
    "name": "ipython",
    "version": 3
   },
   "file_extension": ".py",
   "mimetype": "text/x-python",
   "name": "python",
   "nbconvert_exporter": "python",
   "pygments_lexer": "ipython3",
   "version": "3.9.19"
  }
 },
 "nbformat": 4,
 "nbformat_minor": 2
}
