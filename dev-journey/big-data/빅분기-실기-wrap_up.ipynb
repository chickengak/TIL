{
 "cells": [
  {
   "cell_type": "code",
   "execution_count": 1,
   "metadata": {},
   "outputs": [],
   "source": [
    "import numpy as np; import pandas as pd; p = print; import matplotlib.pyplot as plt; from sklearn.datasets import load_iris; from seaborn import load_dataset"
   ]
  },
  {
   "cell_type": "markdown",
   "metadata": {},
   "source": [
    "# Python ~ Numpy ~ Pandas"
   ]
  },
  {
   "cell_type": "markdown",
   "metadata": {},
   "source": [
    "**▶ range / reversed**"
   ]
  },
  {
   "cell_type": "code",
   "execution_count": 3,
   "metadata": {},
   "outputs": [
    {
     "name": "stdout",
     "output_type": "stream",
     "text": [
      "8\n",
      "range(4, 8)\n",
      "<reversed object at 0x0000022CEBECD340>\n",
      "<list_reverseiterator object at 0x0000022CDAC1DF70>\n",
      "<reversed object at 0x0000022CEBECD340>\n",
      "<range_iterator object at 0x0000022CEBEDCC10>\n"
     ]
    }
   ],
   "source": [
    "'''\n",
    "range도 기본적으로 sequence형이라 iterable하게 쓸 수 있는 것이다.\n",
    "    - 인덱싱과 슬라이싱 가능\n",
    "'''\n",
    "print(range(1, 11)[7])\n",
    "print(range(1, 11)[3:7])    # range를 슬라이싱하면 range 객체로 나온다.\n",
    "'''\n",
    "reversed는 reversed 객체로 리턴됨.\n",
    "'''\n",
    "print(reversed('abcde'))\n",
    "print(reversed([1, 2, 3 ,4, 5]))\n",
    "print(reversed((1, 2, 3, 4, 5)))\n",
    "print(reversed(range(10)))"
   ]
  },
  {
   "cell_type": "markdown",
   "metadata": {},
   "source": [
    "**▶ ndarray**"
   ]
  },
  {
   "cell_type": "code",
   "execution_count": 28,
   "metadata": {},
   "outputs": [
    {
     "name": "stdout",
     "output_type": "stream",
     "text": [
      "['3' '4' '5' '6']\n",
      "<class 'numpy.ndarray'>\n",
      "[[0. 0. 0. 0.]\n",
      " [0. 0. 0. 0.]]\n",
      "[[9 9 9 9 9]\n",
      " [9 9 9 9 9]]\n",
      "[[1. 0. 0.]\n",
      " [0. 1. 0.]\n",
      " [0. 0. 1.]]\n",
      "\n",
      "[[ 1  2  3]\n",
      " [ 4  5  6]\n",
      " [ 7  8  9]\n",
      " [10 11 12]]\n",
      "8\n",
      "[[ 5  6]\n",
      " [ 8  9]\n",
      " [11 12]]\n",
      "[[4 5 6]\n",
      " [7 8 9]]\n"
     ]
    }
   ],
   "source": [
    "'''\n",
    "numpy 배열을 만들 때 dtype 인자를 사용하면 데이터 타입을 바꿀 수 있다.  ★\n",
    "'''\n",
    "print(arr:=np.array([3, 4, 5, 6], dtype='str'))\n",
    "print(type(arr))\n",
    "print(np.zeros((2, 4), dtype='float'))\n",
    "print(np.full((2, 5), 9))       # 9로 채운 행렬 만들기\n",
    "print(np.identity(3))           # 단위행렬\n",
    "p()\n",
    "arr = np.arange(1, 13).reshape(4, -1)\n",
    "print(arr)\n",
    "print(arr[-2, -2])\n",
    "print(arr[-3:, 1:])\n",
    "print(arr[1:3, :])"
   ]
  },
  {
   "cell_type": "code",
   "execution_count": 40,
   "metadata": {},
   "outputs": [
    {
     "name": "stdout",
     "output_type": "stream",
     "text": [
      "[3 4 5 6 0]\n",
      "[3. 4. 5. 6. 0.]\n",
      "[ 1 -1 -1  1  0]\n",
      "[ 3. -4. -5.  6.]\n",
      "\n"
     ]
    }
   ],
   "source": [
    "# abs(numpy.ndarray)\n",
    "arr = np.array([3, -4, -5, 6, 0])\n",
    "print(np.abs(arr))\n",
    "print(np.fabs(arr))     # 복소수가 아닌 경우에는 fabs로 빠르게 연산 가능하다고 함\n",
    "print(np.sign(arr))     # 부호만 가져옴. 0의 부호는 0\n",
    "'''넘파이 연산\n",
    "     np.sqrt(arr)  np.square(arr)  np.exp(arr)  np.log(arr)  np.log10(arr)\n",
    "     np.round(arr, 2)  np.ceil(arr)  np.floor(arr)'''\n",
    "print(np.trunc([3.14, -4.15, -5.79, 6.88]))     # 일반적인 올림, 내림과는 다르게 소수점 파트를 삭제함.\n",
    "'''형상 변환 \n",
    "     arr.reshape()  arr.ravel() == arr.flatten()  arr.transpose()\n",
    "   통계\n",
    "     np.mean(arr)  np.min(arr)  np.max(arr)\n",
    "     np.var(arr, ddof=None)  np.std(arr, ddof=None)     ← ddof = 자유도. 표본 통계량을 구할 때는 ddof=1을 줘야 함. ★\n",
    "     np.argmin(arr)  np.argmax(arr)                    ★\n",
    "'''; p()"
   ]
  },
  {
   "cell_type": "markdown",
   "metadata": {},
   "source": [
    "**▶ DataFrame**"
   ]
  },
  {
   "cell_type": "code",
   "execution_count": 53,
   "metadata": {},
   "outputs": [
    {
     "data": {
      "text/html": [
       "<div>\n",
       "<style scoped>\n",
       "    .dataframe tbody tr th:only-of-type {\n",
       "        vertical-align: middle;\n",
       "    }\n",
       "\n",
       "    .dataframe tbody tr th {\n",
       "        vertical-align: top;\n",
       "    }\n",
       "\n",
       "    .dataframe thead th {\n",
       "        text-align: right;\n",
       "    }\n",
       "</style>\n",
       "<table border=\"1\" class=\"dataframe\">\n",
       "  <thead>\n",
       "    <tr style=\"text-align: right;\">\n",
       "      <th></th>\n",
       "      <th>Name</th>\n",
       "      <th>Sex</th>\n",
       "      <th>Age</th>\n",
       "    </tr>\n",
       "  </thead>\n",
       "  <tbody>\n",
       "    <tr>\n",
       "      <th>a</th>\n",
       "      <td>Olivia</td>\n",
       "      <td>F</td>\n",
       "      <td>22</td>\n",
       "    </tr>\n",
       "    <tr>\n",
       "      <th>b</th>\n",
       "      <td>Lucas</td>\n",
       "      <td>M</td>\n",
       "      <td>32</td>\n",
       "    </tr>\n",
       "    <tr>\n",
       "      <th>c</th>\n",
       "      <td>Sophia</td>\n",
       "      <td>F</td>\n",
       "      <td>27</td>\n",
       "    </tr>\n",
       "    <tr>\n",
       "      <th>d</th>\n",
       "      <td>Zoe</td>\n",
       "      <td>F</td>\n",
       "      <td>24</td>\n",
       "    </tr>\n",
       "    <tr>\n",
       "      <th>e</th>\n",
       "      <td>Aca</td>\n",
       "      <td>F</td>\n",
       "      <td>38</td>\n",
       "    </tr>\n",
       "    <tr>\n",
       "      <th>f</th>\n",
       "      <td>Elliot</td>\n",
       "      <td>M</td>\n",
       "      <td>19</td>\n",
       "    </tr>\n",
       "  </tbody>\n",
       "</table>\n",
       "</div>"
      ],
      "text/plain": [
       "     Name Sex  Age\n",
       "a  Olivia   F   22\n",
       "b   Lucas   M   32\n",
       "c  Sophia   F   27\n",
       "d     Zoe   F   24\n",
       "e     Aca   F   38\n",
       "f  Elliot   M   19"
      ]
     },
     "metadata": {},
     "output_type": "display_data"
    },
    {
     "name": "stdout",
     "output_type": "stream",
     "text": [
      "Zoe\n",
      "24\n",
      "     Name Sex  Age\n",
      "c  Sophia   F   27\n",
      "d     Zoe   F   24\n",
      "e     Aca   F   38\n",
      "     Name Sex  Age\n",
      "c  Sophia   F   27\n",
      "d     Zoe   F   24\n",
      "e     Aca   F   38\n",
      "Sophia Sophia\n"
     ]
    }
   ],
   "source": [
    "'''\n",
    "    pd.DataFrame(object, index, columns)\n",
    "'''\n",
    "df = pd.DataFrame({\n",
    "    'Name': ['Olivia', 'Lucas', 'Sophia', 'Zoe', 'Aca', 'Elliot'],\n",
    "    'Sex': ['F', 'M', 'F', 'F', 'F', 'M'],\n",
    "    'Age': [22, 32, 27, 24, 38, 19]\n",
    "}, index=list('abcdef'))\n",
    "display(df)\n",
    "print(df.iloc[3, 0])\n",
    "print(df.loc['d', 'Age'])\n",
    "print(df.iloc[2:5])\n",
    "print(df.loc['c':'e'])      # loc는 마지막 슬라이싱 행이 포함됨. 지져스\n",
    "print(df['Name']['c'], df['Name'][2])       # 인덱서 없이 인덱싱할 때는 열 → 행 순서. 걍 loc나 iloc 쓰자."
   ]
  },
  {
   "cell_type": "code",
   "execution_count": 68,
   "metadata": {},
   "outputs": [
    {
     "name": "stdout",
     "output_type": "stream",
     "text": [
      "[(5.02, 5.74], (4.296, 5.02], (5.74, 6.46], (6.46, 7.18], (7.18, 7.9]]\n",
      "Categories (5, interval[float64, right]): [(4.296, 5.02] < (5.02, 5.74] < (5.74, 6.46] < (6.46, 7.18] < (7.18, 7.9]]\n"
     ]
    }
   ],
   "source": [
    "'''데이터 프레임의 통계\n",
    "        df.describe()  df.count()  df.mean()  df.min()  df.max()\n",
    "        df.var(ddof=1)  df.std(ddof=1)      ← 넘파이와는 다르게 ddof=1이 디폴트 ★\n",
    "        df.median()  df.quantile(q=0.5)  df.mode()     ★\n",
    "\n",
    "   입출력\n",
    "        pd.read_csv(path, sep=',', encoding=None)\n",
    "        pd.to_csv(path, index=True)\n",
    "\n",
    "   정렬\n",
    "        df.sort_values(by, ascending=True, axis=0)\n",
    "        df.sort_index(axis=0, ascending=True, level=None)       ← axis=1이면 열 인덱스(특성 순서)을 정렬함\n",
    "\n",
    "   순위\n",
    "        df.rank(axis=0, method='average', ascending=True)\n",
    "\n",
    "   컬럼 추가, 삭제, 구간화\n",
    "        df['컬럼명'] = 추가할 컬럼\n",
    "        df.insert(loc, column, value)\n",
    "        df.drop(labels, axis=0)\n",
    "        pd.cut(x, bins, labels=None, right=True)        ← 구간화(비닝, binning)\n",
    "        pd.qcut(x, q, labels=None, right=True)          ← 분위수 기반의 구간화\n",
    "'''\n",
    "iris = pd.DataFrame(load_iris()['data'], columns=load_iris()['feature_names'])\n",
    "iris['cut'] = pd.cut(iris['sepal length (cm)'], bins=5)\n",
    "print(iris['cut'].unique())"
   ]
  },
  {
   "cell_type": "markdown",
   "metadata": {},
   "source": [
    "# 데이터 인코딩"
   ]
  },
  {
   "cell_type": "markdown",
   "metadata": {},
   "source": [
    "**▶ Label Encoding**"
   ]
  },
  {
   "cell_type": "code",
   "execution_count": 10,
   "metadata": {},
   "outputs": [
    {
     "data": {
      "text/html": [
       "<div>\n",
       "<style scoped>\n",
       "    .dataframe tbody tr th:only-of-type {\n",
       "        vertical-align: middle;\n",
       "    }\n",
       "\n",
       "    .dataframe tbody tr th {\n",
       "        vertical-align: top;\n",
       "    }\n",
       "\n",
       "    .dataframe thead th {\n",
       "        text-align: right;\n",
       "    }\n",
       "</style>\n",
       "<table border=\"1\" class=\"dataframe\">\n",
       "  <thead>\n",
       "    <tr style=\"text-align: right;\">\n",
       "      <th></th>\n",
       "      <th>Class</th>\n",
       "    </tr>\n",
       "  </thead>\n",
       "  <tbody>\n",
       "    <tr>\n",
       "      <th>0</th>\n",
       "      <td>A</td>\n",
       "    </tr>\n",
       "    <tr>\n",
       "      <th>1</th>\n",
       "      <td>B</td>\n",
       "    </tr>\n",
       "    <tr>\n",
       "      <th>2</th>\n",
       "      <td>A</td>\n",
       "    </tr>\n",
       "    <tr>\n",
       "      <th>3</th>\n",
       "      <td>C</td>\n",
       "    </tr>\n",
       "    <tr>\n",
       "      <th>4</th>\n",
       "      <td>E</td>\n",
       "    </tr>\n",
       "    <tr>\n",
       "      <th>5</th>\n",
       "      <td>D</td>\n",
       "    </tr>\n",
       "    <tr>\n",
       "      <th>6</th>\n",
       "      <td>D</td>\n",
       "    </tr>\n",
       "    <tr>\n",
       "      <th>7</th>\n",
       "      <td>A</td>\n",
       "    </tr>\n",
       "    <tr>\n",
       "      <th>8</th>\n",
       "      <td>F</td>\n",
       "    </tr>\n",
       "  </tbody>\n",
       "</table>\n",
       "</div>"
      ],
      "text/plain": [
       "  Class\n",
       "0     A\n",
       "1     B\n",
       "2     A\n",
       "3     C\n",
       "4     E\n",
       "5     D\n",
       "6     D\n",
       "7     A\n",
       "8     F"
      ]
     },
     "metadata": {},
     "output_type": "display_data"
    },
    {
     "name": "stderr",
     "output_type": "stream",
     "text": [
      "c:\\Users\\ALT\\anaconda3\\envs\\bbg\\lib\\site-packages\\sklearn\\utils\\validation.py:63: DataConversionWarning: A column-vector y was passed when a 1d array was expected. Please change the shape of y to (n_samples, ), for example using ravel().\n",
      "  return f(*args, **kwargs)\n"
     ]
    },
    {
     "data": {
      "text/plain": [
       "array([0, 1, 0, 2, 4, 3, 3, 0, 5])"
      ]
     },
     "metadata": {},
     "output_type": "display_data"
    },
    {
     "name": "stdout",
     "output_type": "stream",
     "text": [
      "['A' 'B' 'C' 'D' 'E' 'F']\n",
      "['A' 'B' 'A' 'C' 'E' 'D' 'D' 'A' 'F']\n"
     ]
    }
   ],
   "source": [
    "'''\n",
    "- 단순하게 문자열 값을 숫자형 카테고리 값으로 일대일로 변환.\n",
    "- 숫자가 대소의 의미를 가지게 되므로, 가급적 트리 계열과 같은 특정 머신러닝 알고리즘에서만 사용해야 한다.\n",
    "- 넘파이의 select()나 판다스의 map()으로도 같은 기능 가능\n",
    "'''\n",
    "from sklearn.preprocessing import LabelEncoder\n",
    "\n",
    "df = pd.DataFrame({'Class': ['A', 'B', 'A', 'C', 'E', 'D', 'D', 'A', 'F']})\n",
    "display(df)\n",
    "\n",
    "encoder = LabelEncoder()\n",
    "df_encoded = encoder.fit_transform(df)  # 경고메시지는 1d array로 입력하라는 것. df['class']\n",
    "display(df_encoded)\n",
    "print(encoder.classes_)\n",
    "print(encoder.inverse_transform(df_encoded))    # 디코딩"
   ]
  },
  {
   "cell_type": "markdown",
   "metadata": {},
   "source": [
    "**▶ One-Hot Encoding**"
   ]
  },
  {
   "cell_type": "code",
   "execution_count": 28,
   "metadata": {},
   "outputs": [
    {
     "data": {
      "text/html": [
       "<div>\n",
       "<style scoped>\n",
       "    .dataframe tbody tr th:only-of-type {\n",
       "        vertical-align: middle;\n",
       "    }\n",
       "\n",
       "    .dataframe tbody tr th {\n",
       "        vertical-align: top;\n",
       "    }\n",
       "\n",
       "    .dataframe thead th {\n",
       "        text-align: right;\n",
       "    }\n",
       "</style>\n",
       "<table border=\"1\" class=\"dataframe\">\n",
       "  <thead>\n",
       "    <tr style=\"text-align: right;\">\n",
       "      <th></th>\n",
       "      <th>Class</th>\n",
       "    </tr>\n",
       "  </thead>\n",
       "  <tbody>\n",
       "    <tr>\n",
       "      <th>0</th>\n",
       "      <td>A</td>\n",
       "    </tr>\n",
       "    <tr>\n",
       "      <th>1</th>\n",
       "      <td>B</td>\n",
       "    </tr>\n",
       "    <tr>\n",
       "      <th>2</th>\n",
       "      <td>A</td>\n",
       "    </tr>\n",
       "    <tr>\n",
       "      <th>3</th>\n",
       "      <td>C</td>\n",
       "    </tr>\n",
       "    <tr>\n",
       "      <th>4</th>\n",
       "      <td>E</td>\n",
       "    </tr>\n",
       "    <tr>\n",
       "      <th>5</th>\n",
       "      <td>D</td>\n",
       "    </tr>\n",
       "    <tr>\n",
       "      <th>6</th>\n",
       "      <td>D</td>\n",
       "    </tr>\n",
       "    <tr>\n",
       "      <th>7</th>\n",
       "      <td>A</td>\n",
       "    </tr>\n",
       "    <tr>\n",
       "      <th>8</th>\n",
       "      <td>F</td>\n",
       "    </tr>\n",
       "  </tbody>\n",
       "</table>\n",
       "</div>"
      ],
      "text/plain": [
       "  Class\n",
       "0     A\n",
       "1     B\n",
       "2     A\n",
       "3     C\n",
       "4     E\n",
       "5     D\n",
       "6     D\n",
       "7     A\n",
       "8     F"
      ]
     },
     "metadata": {},
     "output_type": "display_data"
    },
    {
     "data": {
      "text/html": [
       "<div>\n",
       "<style scoped>\n",
       "    .dataframe tbody tr th:only-of-type {\n",
       "        vertical-align: middle;\n",
       "    }\n",
       "\n",
       "    .dataframe tbody tr th {\n",
       "        vertical-align: top;\n",
       "    }\n",
       "\n",
       "    .dataframe thead th {\n",
       "        text-align: right;\n",
       "    }\n",
       "</style>\n",
       "<table border=\"1\" class=\"dataframe\">\n",
       "  <thead>\n",
       "    <tr style=\"text-align: right;\">\n",
       "      <th></th>\n",
       "      <th>Class</th>\n",
       "      <th>Class_A</th>\n",
       "      <th>Class_B</th>\n",
       "      <th>Class_C</th>\n",
       "      <th>Class_D</th>\n",
       "      <th>Class_E</th>\n",
       "      <th>Class_F</th>\n",
       "    </tr>\n",
       "  </thead>\n",
       "  <tbody>\n",
       "    <tr>\n",
       "      <th>0</th>\n",
       "      <td>A</td>\n",
       "      <td>1</td>\n",
       "      <td>0</td>\n",
       "      <td>0</td>\n",
       "      <td>0</td>\n",
       "      <td>0</td>\n",
       "      <td>0</td>\n",
       "    </tr>\n",
       "    <tr>\n",
       "      <th>1</th>\n",
       "      <td>B</td>\n",
       "      <td>0</td>\n",
       "      <td>1</td>\n",
       "      <td>0</td>\n",
       "      <td>0</td>\n",
       "      <td>0</td>\n",
       "      <td>0</td>\n",
       "    </tr>\n",
       "    <tr>\n",
       "      <th>2</th>\n",
       "      <td>A</td>\n",
       "      <td>1</td>\n",
       "      <td>0</td>\n",
       "      <td>0</td>\n",
       "      <td>0</td>\n",
       "      <td>0</td>\n",
       "      <td>0</td>\n",
       "    </tr>\n",
       "    <tr>\n",
       "      <th>3</th>\n",
       "      <td>C</td>\n",
       "      <td>0</td>\n",
       "      <td>0</td>\n",
       "      <td>1</td>\n",
       "      <td>0</td>\n",
       "      <td>0</td>\n",
       "      <td>0</td>\n",
       "    </tr>\n",
       "    <tr>\n",
       "      <th>4</th>\n",
       "      <td>E</td>\n",
       "      <td>0</td>\n",
       "      <td>0</td>\n",
       "      <td>0</td>\n",
       "      <td>0</td>\n",
       "      <td>1</td>\n",
       "      <td>0</td>\n",
       "    </tr>\n",
       "    <tr>\n",
       "      <th>5</th>\n",
       "      <td>D</td>\n",
       "      <td>0</td>\n",
       "      <td>0</td>\n",
       "      <td>0</td>\n",
       "      <td>1</td>\n",
       "      <td>0</td>\n",
       "      <td>0</td>\n",
       "    </tr>\n",
       "    <tr>\n",
       "      <th>6</th>\n",
       "      <td>D</td>\n",
       "      <td>0</td>\n",
       "      <td>0</td>\n",
       "      <td>0</td>\n",
       "      <td>1</td>\n",
       "      <td>0</td>\n",
       "      <td>0</td>\n",
       "    </tr>\n",
       "    <tr>\n",
       "      <th>7</th>\n",
       "      <td>A</td>\n",
       "      <td>1</td>\n",
       "      <td>0</td>\n",
       "      <td>0</td>\n",
       "      <td>0</td>\n",
       "      <td>0</td>\n",
       "      <td>0</td>\n",
       "    </tr>\n",
       "    <tr>\n",
       "      <th>8</th>\n",
       "      <td>F</td>\n",
       "      <td>0</td>\n",
       "      <td>0</td>\n",
       "      <td>0</td>\n",
       "      <td>0</td>\n",
       "      <td>0</td>\n",
       "      <td>1</td>\n",
       "    </tr>\n",
       "  </tbody>\n",
       "</table>\n",
       "</div>"
      ],
      "text/plain": [
       "  Class  Class_A  Class_B  Class_C  Class_D  Class_E  Class_F\n",
       "0     A        1        0        0        0        0        0\n",
       "1     B        0        1        0        0        0        0\n",
       "2     A        1        0        0        0        0        0\n",
       "3     C        0        0        1        0        0        0\n",
       "4     E        0        0        0        0        1        0\n",
       "5     D        0        0        0        1        0        0\n",
       "6     D        0        0        0        1        0        0\n",
       "7     A        1        0        0        0        0        0\n",
       "8     F        0        0        0        0        0        1"
      ]
     },
     "execution_count": 28,
     "metadata": {},
     "output_type": "execute_result"
    }
   ],
   "source": [
    "'''\n",
    "- get_dummies() 후에 concat((), axis=1) 을 사용\n",
    "- OneHotEncoder는 LabelEncoder나 .values등으로 1차원 넘파이로 변환 후 2차원으로 다시 변환해야 함.\n",
    "- 넘파이의 where() 나 판다스의 loc인덱서 + 부올린 인덱싱으로도 가능.\n",
    "'''\n",
    "df = pd.DataFrame({'Class': ['A', 'B', 'A', 'C', 'E', 'D', 'D', 'A', 'F']})\n",
    "display(df)\n",
    "\n",
    "df_encoded = pd.get_dummies(df)\n",
    "pd.concat((df, df_encoded), axis=1)"
   ]
  },
  {
   "cell_type": "code",
   "execution_count": 35,
   "metadata": {},
   "outputs": [
    {
     "data": {
      "text/html": [
       "<div>\n",
       "<style scoped>\n",
       "    .dataframe tbody tr th:only-of-type {\n",
       "        vertical-align: middle;\n",
       "    }\n",
       "\n",
       "    .dataframe tbody tr th {\n",
       "        vertical-align: top;\n",
       "    }\n",
       "\n",
       "    .dataframe thead th {\n",
       "        text-align: right;\n",
       "    }\n",
       "</style>\n",
       "<table border=\"1\" class=\"dataframe\">\n",
       "  <thead>\n",
       "    <tr style=\"text-align: right;\">\n",
       "      <th></th>\n",
       "      <th>survived</th>\n",
       "      <th>pclass</th>\n",
       "      <th>sex</th>\n",
       "      <th>age</th>\n",
       "      <th>sibsp</th>\n",
       "      <th>parch</th>\n",
       "      <th>fare</th>\n",
       "      <th>embarked</th>\n",
       "      <th>class</th>\n",
       "      <th>who</th>\n",
       "      <th>adult_male</th>\n",
       "      <th>deck</th>\n",
       "      <th>embark_town</th>\n",
       "      <th>alive</th>\n",
       "      <th>alone</th>\n",
       "    </tr>\n",
       "  </thead>\n",
       "  <tbody>\n",
       "    <tr>\n",
       "      <th>0</th>\n",
       "      <td>0</td>\n",
       "      <td>3</td>\n",
       "      <td>male</td>\n",
       "      <td>22.0</td>\n",
       "      <td>1</td>\n",
       "      <td>0</td>\n",
       "      <td>7.2500</td>\n",
       "      <td>S</td>\n",
       "      <td>Third</td>\n",
       "      <td>man</td>\n",
       "      <td>True</td>\n",
       "      <td>NaN</td>\n",
       "      <td>Southampton</td>\n",
       "      <td>no</td>\n",
       "      <td>False</td>\n",
       "    </tr>\n",
       "    <tr>\n",
       "      <th>1</th>\n",
       "      <td>1</td>\n",
       "      <td>1</td>\n",
       "      <td>female</td>\n",
       "      <td>38.0</td>\n",
       "      <td>1</td>\n",
       "      <td>0</td>\n",
       "      <td>71.2833</td>\n",
       "      <td>C</td>\n",
       "      <td>First</td>\n",
       "      <td>woman</td>\n",
       "      <td>False</td>\n",
       "      <td>C</td>\n",
       "      <td>Cherbourg</td>\n",
       "      <td>yes</td>\n",
       "      <td>False</td>\n",
       "    </tr>\n",
       "    <tr>\n",
       "      <th>2</th>\n",
       "      <td>1</td>\n",
       "      <td>3</td>\n",
       "      <td>female</td>\n",
       "      <td>26.0</td>\n",
       "      <td>0</td>\n",
       "      <td>0</td>\n",
       "      <td>7.9250</td>\n",
       "      <td>S</td>\n",
       "      <td>Third</td>\n",
       "      <td>woman</td>\n",
       "      <td>False</td>\n",
       "      <td>NaN</td>\n",
       "      <td>Southampton</td>\n",
       "      <td>yes</td>\n",
       "      <td>True</td>\n",
       "    </tr>\n",
       "  </tbody>\n",
       "</table>\n",
       "</div>"
      ],
      "text/plain": [
       "   survived  pclass     sex   age  sibsp  parch     fare embarked  class  \\\n",
       "0         0       3    male  22.0      1      0   7.2500        S  Third   \n",
       "1         1       1  female  38.0      1      0  71.2833        C  First   \n",
       "2         1       3  female  26.0      0      0   7.9250        S  Third   \n",
       "\n",
       "     who  adult_male deck  embark_town alive  alone  \n",
       "0    man        True  NaN  Southampton    no  False  \n",
       "1  woman       False    C    Cherbourg   yes  False  \n",
       "2  woman       False  NaN  Southampton   yes   True  "
      ]
     },
     "metadata": {},
     "output_type": "display_data"
    },
    {
     "data": {
      "text/html": [
       "<div>\n",
       "<style scoped>\n",
       "    .dataframe tbody tr th:only-of-type {\n",
       "        vertical-align: middle;\n",
       "    }\n",
       "\n",
       "    .dataframe tbody tr th {\n",
       "        vertical-align: top;\n",
       "    }\n",
       "\n",
       "    .dataframe thead th {\n",
       "        text-align: right;\n",
       "    }\n",
       "</style>\n",
       "<table border=\"1\" class=\"dataframe\">\n",
       "  <thead>\n",
       "    <tr style=\"text-align: right;\">\n",
       "      <th></th>\n",
       "      <th>survived</th>\n",
       "      <th>pclass</th>\n",
       "      <th>sex</th>\n",
       "      <th>age</th>\n",
       "      <th>sibsp</th>\n",
       "      <th>parch</th>\n",
       "      <th>fare</th>\n",
       "      <th>embarked</th>\n",
       "      <th>class</th>\n",
       "      <th>who</th>\n",
       "      <th>adult_male</th>\n",
       "      <th>deck</th>\n",
       "      <th>embark_town</th>\n",
       "      <th>alive</th>\n",
       "      <th>alone</th>\n",
       "      <th>요금_대중소</th>\n",
       "      <th>low</th>\n",
       "      <th>middle</th>\n",
       "      <th>high</th>\n",
       "    </tr>\n",
       "  </thead>\n",
       "  <tbody>\n",
       "    <tr>\n",
       "      <th>0</th>\n",
       "      <td>0</td>\n",
       "      <td>3</td>\n",
       "      <td>male</td>\n",
       "      <td>22.0</td>\n",
       "      <td>1</td>\n",
       "      <td>0</td>\n",
       "      <td>7.2500</td>\n",
       "      <td>S</td>\n",
       "      <td>Third</td>\n",
       "      <td>man</td>\n",
       "      <td>True</td>\n",
       "      <td>NaN</td>\n",
       "      <td>Southampton</td>\n",
       "      <td>no</td>\n",
       "      <td>False</td>\n",
       "      <td>low</td>\n",
       "      <td>1</td>\n",
       "      <td>0</td>\n",
       "      <td>0</td>\n",
       "    </tr>\n",
       "    <tr>\n",
       "      <th>1</th>\n",
       "      <td>1</td>\n",
       "      <td>1</td>\n",
       "      <td>female</td>\n",
       "      <td>38.0</td>\n",
       "      <td>1</td>\n",
       "      <td>0</td>\n",
       "      <td>71.2833</td>\n",
       "      <td>C</td>\n",
       "      <td>First</td>\n",
       "      <td>woman</td>\n",
       "      <td>False</td>\n",
       "      <td>C</td>\n",
       "      <td>Cherbourg</td>\n",
       "      <td>yes</td>\n",
       "      <td>False</td>\n",
       "      <td>high</td>\n",
       "      <td>0</td>\n",
       "      <td>0</td>\n",
       "      <td>1</td>\n",
       "    </tr>\n",
       "    <tr>\n",
       "      <th>2</th>\n",
       "      <td>1</td>\n",
       "      <td>3</td>\n",
       "      <td>female</td>\n",
       "      <td>26.0</td>\n",
       "      <td>0</td>\n",
       "      <td>0</td>\n",
       "      <td>7.9250</td>\n",
       "      <td>S</td>\n",
       "      <td>Third</td>\n",
       "      <td>woman</td>\n",
       "      <td>False</td>\n",
       "      <td>NaN</td>\n",
       "      <td>Southampton</td>\n",
       "      <td>yes</td>\n",
       "      <td>True</td>\n",
       "      <td>low</td>\n",
       "      <td>1</td>\n",
       "      <td>0</td>\n",
       "      <td>0</td>\n",
       "    </tr>\n",
       "    <tr>\n",
       "      <th>3</th>\n",
       "      <td>1</td>\n",
       "      <td>1</td>\n",
       "      <td>female</td>\n",
       "      <td>35.0</td>\n",
       "      <td>1</td>\n",
       "      <td>0</td>\n",
       "      <td>53.1000</td>\n",
       "      <td>S</td>\n",
       "      <td>First</td>\n",
       "      <td>woman</td>\n",
       "      <td>False</td>\n",
       "      <td>C</td>\n",
       "      <td>Southampton</td>\n",
       "      <td>yes</td>\n",
       "      <td>False</td>\n",
       "      <td>middle</td>\n",
       "      <td>0</td>\n",
       "      <td>1</td>\n",
       "      <td>0</td>\n",
       "    </tr>\n",
       "    <tr>\n",
       "      <th>4</th>\n",
       "      <td>0</td>\n",
       "      <td>3</td>\n",
       "      <td>male</td>\n",
       "      <td>35.0</td>\n",
       "      <td>0</td>\n",
       "      <td>0</td>\n",
       "      <td>8.0500</td>\n",
       "      <td>S</td>\n",
       "      <td>Third</td>\n",
       "      <td>man</td>\n",
       "      <td>True</td>\n",
       "      <td>NaN</td>\n",
       "      <td>Southampton</td>\n",
       "      <td>no</td>\n",
       "      <td>True</td>\n",
       "      <td>low</td>\n",
       "      <td>1</td>\n",
       "      <td>0</td>\n",
       "      <td>0</td>\n",
       "    </tr>\n",
       "    <tr>\n",
       "      <th>...</th>\n",
       "      <td>...</td>\n",
       "      <td>...</td>\n",
       "      <td>...</td>\n",
       "      <td>...</td>\n",
       "      <td>...</td>\n",
       "      <td>...</td>\n",
       "      <td>...</td>\n",
       "      <td>...</td>\n",
       "      <td>...</td>\n",
       "      <td>...</td>\n",
       "      <td>...</td>\n",
       "      <td>...</td>\n",
       "      <td>...</td>\n",
       "      <td>...</td>\n",
       "      <td>...</td>\n",
       "      <td>...</td>\n",
       "      <td>...</td>\n",
       "      <td>...</td>\n",
       "      <td>...</td>\n",
       "    </tr>\n",
       "    <tr>\n",
       "      <th>886</th>\n",
       "      <td>0</td>\n",
       "      <td>2</td>\n",
       "      <td>male</td>\n",
       "      <td>27.0</td>\n",
       "      <td>0</td>\n",
       "      <td>0</td>\n",
       "      <td>13.0000</td>\n",
       "      <td>S</td>\n",
       "      <td>Second</td>\n",
       "      <td>man</td>\n",
       "      <td>True</td>\n",
       "      <td>NaN</td>\n",
       "      <td>Southampton</td>\n",
       "      <td>no</td>\n",
       "      <td>True</td>\n",
       "      <td>low</td>\n",
       "      <td>1</td>\n",
       "      <td>0</td>\n",
       "      <td>0</td>\n",
       "    </tr>\n",
       "    <tr>\n",
       "      <th>887</th>\n",
       "      <td>1</td>\n",
       "      <td>1</td>\n",
       "      <td>female</td>\n",
       "      <td>19.0</td>\n",
       "      <td>0</td>\n",
       "      <td>0</td>\n",
       "      <td>30.0000</td>\n",
       "      <td>S</td>\n",
       "      <td>First</td>\n",
       "      <td>woman</td>\n",
       "      <td>False</td>\n",
       "      <td>B</td>\n",
       "      <td>Southampton</td>\n",
       "      <td>yes</td>\n",
       "      <td>True</td>\n",
       "      <td>middle</td>\n",
       "      <td>0</td>\n",
       "      <td>1</td>\n",
       "      <td>0</td>\n",
       "    </tr>\n",
       "    <tr>\n",
       "      <th>888</th>\n",
       "      <td>0</td>\n",
       "      <td>3</td>\n",
       "      <td>female</td>\n",
       "      <td>NaN</td>\n",
       "      <td>1</td>\n",
       "      <td>2</td>\n",
       "      <td>23.4500</td>\n",
       "      <td>S</td>\n",
       "      <td>Third</td>\n",
       "      <td>woman</td>\n",
       "      <td>False</td>\n",
       "      <td>NaN</td>\n",
       "      <td>Southampton</td>\n",
       "      <td>no</td>\n",
       "      <td>False</td>\n",
       "      <td>middle</td>\n",
       "      <td>0</td>\n",
       "      <td>1</td>\n",
       "      <td>0</td>\n",
       "    </tr>\n",
       "    <tr>\n",
       "      <th>889</th>\n",
       "      <td>1</td>\n",
       "      <td>1</td>\n",
       "      <td>male</td>\n",
       "      <td>26.0</td>\n",
       "      <td>0</td>\n",
       "      <td>0</td>\n",
       "      <td>30.0000</td>\n",
       "      <td>C</td>\n",
       "      <td>First</td>\n",
       "      <td>man</td>\n",
       "      <td>True</td>\n",
       "      <td>C</td>\n",
       "      <td>Cherbourg</td>\n",
       "      <td>yes</td>\n",
       "      <td>True</td>\n",
       "      <td>middle</td>\n",
       "      <td>0</td>\n",
       "      <td>1</td>\n",
       "      <td>0</td>\n",
       "    </tr>\n",
       "    <tr>\n",
       "      <th>890</th>\n",
       "      <td>0</td>\n",
       "      <td>3</td>\n",
       "      <td>male</td>\n",
       "      <td>32.0</td>\n",
       "      <td>0</td>\n",
       "      <td>0</td>\n",
       "      <td>7.7500</td>\n",
       "      <td>Q</td>\n",
       "      <td>Third</td>\n",
       "      <td>man</td>\n",
       "      <td>True</td>\n",
       "      <td>NaN</td>\n",
       "      <td>Queenstown</td>\n",
       "      <td>no</td>\n",
       "      <td>True</td>\n",
       "      <td>low</td>\n",
       "      <td>1</td>\n",
       "      <td>0</td>\n",
       "      <td>0</td>\n",
       "    </tr>\n",
       "  </tbody>\n",
       "</table>\n",
       "<p>891 rows × 19 columns</p>\n",
       "</div>"
      ],
      "text/plain": [
       "     survived  pclass     sex   age  sibsp  parch     fare embarked   class  \\\n",
       "0           0       3    male  22.0      1      0   7.2500        S   Third   \n",
       "1           1       1  female  38.0      1      0  71.2833        C   First   \n",
       "2           1       3  female  26.0      0      0   7.9250        S   Third   \n",
       "3           1       1  female  35.0      1      0  53.1000        S   First   \n",
       "4           0       3    male  35.0      0      0   8.0500        S   Third   \n",
       "..        ...     ...     ...   ...    ...    ...      ...      ...     ...   \n",
       "886         0       2    male  27.0      0      0  13.0000        S  Second   \n",
       "887         1       1  female  19.0      0      0  30.0000        S   First   \n",
       "888         0       3  female   NaN      1      2  23.4500        S   Third   \n",
       "889         1       1    male  26.0      0      0  30.0000        C   First   \n",
       "890         0       3    male  32.0      0      0   7.7500        Q   Third   \n",
       "\n",
       "       who  adult_male deck  embark_town alive  alone  요금_대중소  low  middle  \\\n",
       "0      man        True  NaN  Southampton    no  False     low    1       0   \n",
       "1    woman       False    C    Cherbourg   yes  False    high    0       0   \n",
       "2    woman       False  NaN  Southampton   yes   True     low    1       0   \n",
       "3    woman       False    C  Southampton   yes  False  middle    0       1   \n",
       "4      man        True  NaN  Southampton    no   True     low    1       0   \n",
       "..     ...         ...  ...          ...   ...    ...     ...  ...     ...   \n",
       "886    man        True  NaN  Southampton    no   True     low    1       0   \n",
       "887  woman       False    B  Southampton   yes   True  middle    0       1   \n",
       "888  woman       False  NaN  Southampton    no  False  middle    0       1   \n",
       "889    man        True    C    Cherbourg   yes   True  middle    0       1   \n",
       "890    man        True  NaN   Queenstown    no   True     low    1       0   \n",
       "\n",
       "     high  \n",
       "0       0  \n",
       "1       1  \n",
       "2       0  \n",
       "3       0  \n",
       "4       0  \n",
       "..    ...  \n",
       "886     0  \n",
       "887     0  \n",
       "888     0  \n",
       "889     0  \n",
       "890     0  \n",
       "\n",
       "[891 rows x 19 columns]"
      ]
     },
     "metadata": {},
     "output_type": "display_data"
    }
   ],
   "source": [
    "titanic = load_dataset('titanic')\n",
    "display(titanic.head(3))\n",
    "\n",
    "titanic['요금_대중소'] = pd.cut(titanic['fare'], bins=[0, 20, 70, 300], labels=['low', 'middle', 'high'])\n",
    "titanic_encoded = pd.get_dummies(titanic['요금_대중소'])\n",
    "display(pd.concat((titanic, titanic_encoded), axis=1))"
   ]
  },
  {
   "cell_type": "markdown",
   "metadata": {},
   "source": [
    "### 데이터 스케일링\n",
    "\n",
    "**▶ StandardScaler**  \n",
    "- 평균을 기준으로 얼마나 떨어져 있는지를 나타냄\n",
    "- 표준화 후, 특정 범위를 벗어난 데이터를 이상치로 판별할 수도 있음\n",
    "\n",
    "**▶ MinMaxScaler**\n",
    "- 데이터군내에서 특정 개체가 가지는 위치를 파악하고 비교할 때 사용"
   ]
  },
  {
   "cell_type": "markdown",
   "metadata": {},
   "source": [
    "### 데이터 축소\n",
    "\n",
    "**▶ PCA　(Principal Component Analysis, 주성분분석)**  "
   ]
  },
  {
   "cell_type": "code",
   "execution_count": 50,
   "metadata": {},
   "outputs": [
    {
     "data": {
      "text/html": [
       "<div>\n",
       "<style scoped>\n",
       "    .dataframe tbody tr th:only-of-type {\n",
       "        vertical-align: middle;\n",
       "    }\n",
       "\n",
       "    .dataframe tbody tr th {\n",
       "        vertical-align: top;\n",
       "    }\n",
       "\n",
       "    .dataframe thead th {\n",
       "        text-align: right;\n",
       "    }\n",
       "</style>\n",
       "<table border=\"1\" class=\"dataframe\">\n",
       "  <thead>\n",
       "    <tr style=\"text-align: right;\">\n",
       "      <th></th>\n",
       "      <th>Murder</th>\n",
       "      <th>Assault</th>\n",
       "      <th>UrbanPop</th>\n",
       "      <th>Rape</th>\n",
       "    </tr>\n",
       "  </thead>\n",
       "  <tbody>\n",
       "    <tr>\n",
       "      <th>Alabama</th>\n",
       "      <td>13.2</td>\n",
       "      <td>236</td>\n",
       "      <td>58</td>\n",
       "      <td>21.2</td>\n",
       "    </tr>\n",
       "    <tr>\n",
       "      <th>Alaska</th>\n",
       "      <td>10.0</td>\n",
       "      <td>263</td>\n",
       "      <td>48</td>\n",
       "      <td>44.5</td>\n",
       "    </tr>\n",
       "    <tr>\n",
       "      <th>Arizona</th>\n",
       "      <td>8.1</td>\n",
       "      <td>294</td>\n",
       "      <td>80</td>\n",
       "      <td>31.0</td>\n",
       "    </tr>\n",
       "  </tbody>\n",
       "</table>\n",
       "</div>"
      ],
      "text/plain": [
       "         Murder  Assault  UrbanPop  Rape\n",
       "Alabama    13.2      236        58  21.2\n",
       "Alaska     10.0      263        48  44.5\n",
       "Arizona     8.1      294        80  31.0"
      ]
     },
     "metadata": {},
     "output_type": "display_data"
    },
    {
     "name": "stdout",
     "output_type": "stream",
     "text": [
      "분산 기여율:  [0.62006039 0.24744129 0.0891408  0.04335752]\n",
      "누적 기여율:  [0.62006039 0.86750168 0.95664248 1.        ]\n"
     ]
    },
    {
     "data": {
      "text/html": [
       "<div>\n",
       "<style scoped>\n",
       "    .dataframe tbody tr th:only-of-type {\n",
       "        vertical-align: middle;\n",
       "    }\n",
       "\n",
       "    .dataframe tbody tr th {\n",
       "        vertical-align: top;\n",
       "    }\n",
       "\n",
       "    .dataframe thead th {\n",
       "        text-align: right;\n",
       "    }\n",
       "</style>\n",
       "<table border=\"1\" class=\"dataframe\">\n",
       "  <thead>\n",
       "    <tr style=\"text-align: right;\">\n",
       "      <th></th>\n",
       "      <th>PCA1</th>\n",
       "      <th>PCA2</th>\n",
       "    </tr>\n",
       "  </thead>\n",
       "  <tbody>\n",
       "    <tr>\n",
       "      <th>0</th>\n",
       "      <td>0.985566</td>\n",
       "      <td>1.133392</td>\n",
       "    </tr>\n",
       "    <tr>\n",
       "      <th>1</th>\n",
       "      <td>1.950138</td>\n",
       "      <td>1.073213</td>\n",
       "    </tr>\n",
       "    <tr>\n",
       "      <th>2</th>\n",
       "      <td>1.763164</td>\n",
       "      <td>-0.745957</td>\n",
       "    </tr>\n",
       "    <tr>\n",
       "      <th>3</th>\n",
       "      <td>-0.141420</td>\n",
       "      <td>1.119797</td>\n",
       "    </tr>\n",
       "    <tr>\n",
       "      <th>4</th>\n",
       "      <td>2.523980</td>\n",
       "      <td>-1.542934</td>\n",
       "    </tr>\n",
       "  </tbody>\n",
       "</table>\n",
       "</div>"
      ],
      "text/plain": [
       "       PCA1      PCA2\n",
       "0  0.985566  1.133392\n",
       "1  1.950138  1.073213\n",
       "2  1.763164 -0.745957\n",
       "3 -0.141420  1.119797\n",
       "4  2.523980 -1.542934"
      ]
     },
     "execution_count": 50,
     "metadata": {},
     "output_type": "execute_result"
    }
   ],
   "source": [
    "from sklearn.preprocessing import StandardScaler\n",
    "from sklearn.decomposition import PCA\n",
    "\n",
    "df = pd.read_csv('samples/예제/USArrests_rownames.csv', index_col=0)\n",
    "display(df.head(3))\n",
    "\n",
    "scaler = StandardScaler()\n",
    "df_scaled = scaler.fit_transform(df)\n",
    "\n",
    "pca = PCA(4)    # n_components=4 주성분 개수를 전체 컬럼 수로.\n",
    "pca_arr = pca.fit_transform(df_scaled)\n",
    "print('분산 기여율: ', pca.explained_variance_ratio_)\n",
    "print('누적 기여율: ', pca.explained_variance_ratio_.cumsum())      # 주성분 개수를 2개로 정함\n",
    "\n",
    "pca = PCA(2)\n",
    "pca_arr = pca.fit_transform(df_scaled)\n",
    "pd.DataFrame(pca_arr, columns=['PCA1', 'PCA2']).head()"
   ]
  },
  {
   "cell_type": "markdown",
   "metadata": {},
   "source": [
    "### 데이터 결합 및 요약\n",
    "\n",
    "**▶ concat**\n",
    "- 물리적으로 연결\n",
    "\n",
    "**▶ merge**\n",
    "- df1.merge(df2, how='inner', on=컬럼명)\n",
    "- 고유한 키를 기준으로 두 데이터프레임을 병합 = 조인 (how='inner'가 디폴트. 'left', 'right', 'outer'도 가능)\n",
    "\n",
    "**▶ groupby**\n",
    "\n",
    "**▶ agg**\n",
    "\n",
    "**▶ map**\n",
    "- 시리즈에만 사용 가능\n",
    "\n",
    "**▶ apply**\n"
   ]
  },
  {
   "cell_type": "markdown",
   "metadata": {},
   "source": [
    "### 결측치와 이상치\n",
    "\n"
   ]
  },
  {
   "cell_type": "code",
   "execution_count": null,
   "metadata": {},
   "outputs": [],
   "source": []
  },
  {
   "cell_type": "markdown",
   "metadata": {},
   "source": [
    "### 텍스트 데이터와 날짜시간 데이터"
   ]
  },
  {
   "cell_type": "code",
   "execution_count": null,
   "metadata": {},
   "outputs": [],
   "source": []
  },
  {
   "cell_type": "markdown",
   "metadata": {},
   "source": [
    "# 가설 검정  \n",
    "모집단에 대한 가설을 설정한 후 그 가설의 타당성 여부를 검정하는 것.\n",
    "- 상관분석\n",
    "- 정규성 검정\n",
    "- 모평균과 모분산 검정\n",
    "- 카이제곱 검정\n",
    "- 비모수 검정"
   ]
  },
  {
   "cell_type": "markdown",
   "metadata": {},
   "source": [
    "### **▼ 상관분석**\n",
    "- 데이터가 정규분포를 따를 때, 상관분석 -> 피어슨 상관계수"
   ]
  },
  {
   "cell_type": "code",
   "execution_count": 60,
   "metadata": {},
   "outputs": [
    {
     "data": {
      "text/html": [
       "<div>\n",
       "<style scoped>\n",
       "    .dataframe tbody tr th:only-of-type {\n",
       "        vertical-align: middle;\n",
       "    }\n",
       "\n",
       "    .dataframe tbody tr th {\n",
       "        vertical-align: top;\n",
       "    }\n",
       "\n",
       "    .dataframe thead th {\n",
       "        text-align: right;\n",
       "    }\n",
       "</style>\n",
       "<table border=\"1\" class=\"dataframe\">\n",
       "  <thead>\n",
       "    <tr style=\"text-align: right;\">\n",
       "      <th></th>\n",
       "      <th>age</th>\n",
       "      <th>sex</th>\n",
       "      <th>bmi</th>\n",
       "      <th>bp</th>\n",
       "      <th>s1</th>\n",
       "      <th>s2</th>\n",
       "      <th>s3</th>\n",
       "      <th>s4</th>\n",
       "      <th>s5</th>\n",
       "      <th>s6</th>\n",
       "    </tr>\n",
       "  </thead>\n",
       "  <tbody>\n",
       "    <tr>\n",
       "      <th>0</th>\n",
       "      <td>0.038076</td>\n",
       "      <td>0.050680</td>\n",
       "      <td>0.061696</td>\n",
       "      <td>0.021872</td>\n",
       "      <td>-0.044223</td>\n",
       "      <td>-0.034821</td>\n",
       "      <td>-0.043401</td>\n",
       "      <td>-0.002592</td>\n",
       "      <td>0.019908</td>\n",
       "      <td>-0.017646</td>\n",
       "    </tr>\n",
       "    <tr>\n",
       "      <th>1</th>\n",
       "      <td>-0.001882</td>\n",
       "      <td>-0.044642</td>\n",
       "      <td>-0.051474</td>\n",
       "      <td>-0.026328</td>\n",
       "      <td>-0.008449</td>\n",
       "      <td>-0.019163</td>\n",
       "      <td>0.074412</td>\n",
       "      <td>-0.039493</td>\n",
       "      <td>-0.068330</td>\n",
       "      <td>-0.092204</td>\n",
       "    </tr>\n",
       "  </tbody>\n",
       "</table>\n",
       "</div>"
      ],
      "text/plain": [
       "        age       sex       bmi        bp        s1        s2        s3  \\\n",
       "0  0.038076  0.050680  0.061696  0.021872 -0.044223 -0.034821 -0.043401   \n",
       "1 -0.001882 -0.044642 -0.051474 -0.026328 -0.008449 -0.019163  0.074412   \n",
       "\n",
       "         s4        s5        s6  \n",
       "0 -0.002592  0.019908 -0.017646  \n",
       "1 -0.039493 -0.068330 -0.092204  "
      ]
     },
     "metadata": {},
     "output_type": "display_data"
    },
    {
     "name": "stdout",
     "output_type": "stream",
     "text": [
      "피어슨 상관계수:  0.18508466614655558\n",
      "pvalue(유의확률):  9.076791865412659e-05 True\n"
     ]
    },
    {
     "data": {
      "text/html": [
       "<div>\n",
       "<style scoped>\n",
       "    .dataframe tbody tr th:only-of-type {\n",
       "        vertical-align: middle;\n",
       "    }\n",
       "\n",
       "    .dataframe tbody tr th {\n",
       "        vertical-align: top;\n",
       "    }\n",
       "\n",
       "    .dataframe thead th {\n",
       "        text-align: right;\n",
       "    }\n",
       "</style>\n",
       "<table border=\"1\" class=\"dataframe\">\n",
       "  <thead>\n",
       "    <tr style=\"text-align: right;\">\n",
       "      <th></th>\n",
       "      <th>age</th>\n",
       "      <th>bmi</th>\n",
       "    </tr>\n",
       "  </thead>\n",
       "  <tbody>\n",
       "    <tr>\n",
       "      <th>age</th>\n",
       "      <td>1.000000</td>\n",
       "      <td>0.185085</td>\n",
       "    </tr>\n",
       "    <tr>\n",
       "      <th>bmi</th>\n",
       "      <td>0.185085</td>\n",
       "      <td>1.000000</td>\n",
       "    </tr>\n",
       "  </tbody>\n",
       "</table>\n",
       "</div>"
      ],
      "text/plain": [
       "          age       bmi\n",
       "age  1.000000  0.185085\n",
       "bmi  0.185085  1.000000"
      ]
     },
     "metadata": {},
     "output_type": "display_data"
    }
   ],
   "source": [
    "from sklearn.datasets import load_diabetes\n",
    "from scipy import stats\n",
    "\n",
    "diabetes = pd.DataFrame(load_diabetes()['data'], columns=load_diabetes()['feature_names'])\n",
    "display(diabetes.head(2))\n",
    "\n",
    "p, pvalue = stats.pearsonr(diabetes['age'], diabetes['bmi'])        # 피어슨 상관계수\n",
    "print('피어슨 상관계수: ', p)\n",
    "print('pvalue(유의확률): ', pvalue, pvalue < 0.05)\n",
    "# 상관계수가 0.185로 두 컬럼은 서로 상관관계가 적은 것으로 나타났다. 하지만 귀무가설이 기각됐기 때문에, 상관계수는 작지만 유의하다는 것을 알수 있다.\n",
    "\n",
    "display(diabetes[['age', 'bmi']].corr())        # 단순한 상관계수는 corr()로도 확인 가능."
   ]
  },
  {
   "cell_type": "markdown",
   "metadata": {},
   "source": [
    "### **▼ 정규성 검정**\n",
    "- 샤피로-윌크 검정　　(R언어의 한계 때문에 이거만. scipy.stats에는 더 다양한 정규성 검정 함수가 있음. kstest, anderson, jarque_bera 등)"
   ]
  },
  {
   "cell_type": "code",
   "execution_count": 63,
   "metadata": {},
   "outputs": [
    {
     "name": "stdout",
     "output_type": "stream",
     "text": [
      "통계량:  0.8969665765762329\n",
      "pvalue:  0.20285499095916748 False\n"
     ]
    }
   ],
   "source": [
    "from scipy import stats\n",
    "\n",
    "np.random.seed(2024)\n",
    "data = np.random.random(10)\n",
    "\n",
    "s, pvalue = stats.shapiro(data)\n",
    "print('통계량: ', s)\n",
    "print('pvalue: ', pvalue, pvalue < 0.05)    # p-value가 매우 크므로 귀무가설을 기각할 수 없기 때문에, 정규성을 만족한다."
   ]
  },
  {
   "cell_type": "markdown",
   "metadata": {},
   "source": [
    "### **▼ 모평균 검정**\n",
    "- 표본 수에 따라 단일표본, 이표본 등으로 구분됨.\n",
    "- 여기서는 단일표본 t-검정, 대응표본 t-검정, 독립표본 t-검정 이 세가지의 t-검정을 할거다.\n",
    "    - 단측 검정할 때는 alternative='less', 'greater' 를 사용."
   ]
  },
  {
   "cell_type": "code",
   "execution_count": 67,
   "metadata": {},
   "outputs": [
    {
     "name": "stdout",
     "output_type": "stream",
     "text": [
      "66.56428571428572\n",
      "t통계량:  -1.0289933120202257\n",
      "pvalue:  0.3222484823978743 False\n"
     ]
    }
   ],
   "source": [
    "# t_test_1samp(데이터, 귀무가설값, alternative='two-sided')\n",
    "from scipy import stats\n",
    "\n",
    "kg = np.array([75.5, 83.9, 75.7, 56.2, 73.4, 67.7, 79.0, 50.7, 58.4, 74.1, 65.1, 77.8, 48.1, 46.3])\n",
    "print(kg.mean())    # 모집단의 평균이 70이라고 할 수 있는지 단일표본 t-검정을 수행. (정규성 만족 가정)\n",
    "t, pvalue = stats.ttest_1samp(kg, 70)\n",
    "print('t통계량: ', t)\n",
    "print('pvalue: ', pvalue, pvalue < 0.05)        # 귀무가설 채택. 모집단의 평균은 70이라고 할 수 있다."
   ]
  },
  {
   "cell_type": "code",
   "execution_count": 69,
   "metadata": {},
   "outputs": [
    {
     "name": "stdout",
     "output_type": "stream",
     "text": [
      "평균 차이:  -12.985714285714295\n",
      "t통계량:  -2.0784469330649724\n",
      "pvalue:  0.08291274205610197 False\n"
     ]
    }
   ],
   "source": [
    "from scipy import stats\n",
    "\n",
    "female = np.array([50.7, 58.4, 74.1, 65.1, 77.8, 48.1, 46.3])\n",
    "male = np.array([75.5, 83.9, 75.7, 56.2, 73.4, 67.7, 79.0])\n",
    "print('평균 차이: ', female.mean() - male.mean())       # 두 데이터의 모평균은 다르다고 할 수 있는지 대응표본 t-검정을 수행. (정규성 만족 가정)\n",
    "\n",
    "t, pvalue = stats.ttest_rel(female, male)\n",
    "print('t통계량: ', t)\n",
    "print('pvalue: ', pvalue, pvalue < 0.05)        # 귀무가설 채택. 모집단의 평균은 서로 다르다고 볼 수 없다."
   ]
  },
  {
   "cell_type": "code",
   "execution_count": 70,
   "metadata": {},
   "outputs": [
    {
     "name": "stdout",
     "output_type": "stream",
     "text": [
      "t통계량:  -2.218664157777296\n",
      "pvalue:  0.04655012211056963 True\n"
     ]
    }
   ],
   "source": [
    "from scipy import stats\n",
    "\n",
    "# 바로 위의 데이터로 두 데이터가 독립이라고 가정한 후, 두 데이터에 대한 모평균이 서로 다르다고 할 수 있는 지 독립표본 t-검증을 수행. (정규성, 등분산성 만족 가정)\n",
    "\n",
    "t, pvalue = stats.ttest_ind(female, male)\n",
    "print('t통계량: ', t)\n",
    "print('pvalue: ', pvalue, pvalue < 0.05)        # 귀무가설 기각. 모집단의 평균은 서로 다르다고 볼 수 있다."
   ]
  },
  {
   "cell_type": "markdown",
   "metadata": {},
   "source": [
    "### **▼ 모분산 검정**\n",
    "- 모분산 검정도 표본의 수에 따라 구분됨.\n",
    "- 단일표본에 대한 모분산 검정, 이표본에 대한 분산비 검정, 이표본 이상에 대한 Bartlett 검정과 Levene 검정"
   ]
  },
  {
   "cell_type": "code",
   "execution_count": 78,
   "metadata": {},
   "outputs": [
    {
     "name": "stdout",
     "output_type": "stream",
     "text": [
      "표본 분산:  278.1033333333333\n",
      "검정통계량:  1.5169272727272727\n",
      "0.041637780038918736\n",
      "> 검정 결과 p-value가 0.0416이므로 유의수준 5%에서 귀무가설을 기각. 모분산은 1100보다 작다고 할 수 있다.\n",
      "0.9583622199610813\n",
      "0.08327556007783747\n"
     ]
    }
   ],
   "source": [
    "# 단일 표본에 대한 모분산 검정을 바로 수행하는 함수가 없어서, chi2으로 cdf해서 유의확률을 구해야 한다.\n",
    "from scipy import stats\n",
    "\n",
    "score = np.array([80.5, 60.2, 70, 87, 45, 91, 85])\n",
    "var0 = 1100      # 귀무가설에서 설정한 모분산\n",
    "sample_var = np.var(score, ddof=1)          # 표본 분산\n",
    "print('표본 분산: ', sample_var)\n",
    "\n",
    "stat = (len(score)-1) * sample_var / var0   # 검정 통계량\n",
    "print('검정통계량: ', stat)\n",
    "print(stats.chi2.cdf(stat, len(score)-1))   # 카이분포를 통해 직접 유의확률 계산. 좌측 검정이므로 Pr[chi2(자유도) < 검정통계량]으로 계산\n",
    "print('> 검정 결과 p-value가 0.0416이므로 유의수준 5%에서 귀무가설을 기각. 모분산은 1100보다 작다고 할 수 있다.')\n",
    "print(1 - stats.chi2.cdf(stat, len(score)-1))   # 우측 검정일 경우, Pr[chi2(자유도) > 검정통계량]으로 계산\n",
    "print(2 * stats.chi2.cdf(stat, len(score)-1))   # 양측 검정일 경우, 2 * 좌측검정의 유의확률 또는 2* 우측검정의 유의확률로 계산"
   ]
  },
  {
   "cell_type": "code",
   "execution_count": 80,
   "metadata": {},
   "outputs": [
    {
     "name": "stdout",
     "output_type": "stream",
     "text": [
      "검정통계량:  0.18681014154026346\n",
      "0.04153943037562959\n",
      "> 유의확률이 0.0415로 유의수준 5%에서 귀무가설을 기각. a 모분산은 b 모분산보다 작다고 할 수 있다.\n",
      "0.9584605696243704\n",
      "0.08307886075125918\n"
     ]
    }
   ],
   "source": [
    "# 분산비 검정은 일반적으로 이표본에 대한 등분산 검정을 의미. 이 또한 바로 수행하는 함수가 없어서, f분포로 cdf해서 유의확률을 구해야 한다.\n",
    "# 대립가설: a 모분산 < b 모분산으로 가정. 정규성 만족 가정.\n",
    "from scipy import stats\n",
    "\n",
    "a = np.array([70, 80, 75, 65, 100, 98])\n",
    "b = np.array([20, 100, 50, 94, 28, 80, 95, 30])\n",
    "\n",
    "var_a = np.var(a, ddof=1)       # 표본 분산\n",
    "var_b = np.var(b, ddof=1)\n",
    "\n",
    "stat = var_a / var_b\n",
    "print('검정통계량: ', stat)         # 검정통계량 = a의 분산 / b의 분산 (가설: a 모분산 < b 모분산)\n",
    "print(stats.f.cdf(stat, len(a)-1, len(b)-1))        # F분포로 직접 유의확률 계산. 좌측검정을 함.\n",
    "print('> 유의확률이 0.0415로 유의수준 5%에서 귀무가설을 기각. a 모분산은 b 모분산보다 작다고 할 수 있다.')\n",
    "print(1 - stats.f.cdf(stat, len(a)-1, len(b)-1))    # 우측 검정\n",
    "print(2 * stats.f.cdf(stat, len(a)-1, len(b)-1))    # 양측 검정"
   ]
  },
  {
   "cell_type": "code",
   "execution_count": 86,
   "metadata": {},
   "outputs": [
    {
     "name": "stdout",
     "output_type": "stream",
     "text": [
      "BartlettResult(statistic=15.6702722148674, pvalue=0.00039558846873743075)\n"
     ]
    }
   ],
   "source": [
    "# Bartlett 검정\n",
    "# 이표본 이상에 대한 등분산 검정 방법 중 하나로 정규성을 충족해야함.\n",
    "from scipy import stats\n",
    "\n",
    "a = np.array([70, 80, 75, 65, 100, 98])\n",
    "b = np.array([20, 100, 50, 94, 28, 80])\n",
    "c = np.array([90, 97, 95, 94, 99, 100])\n",
    "\n",
    "print(stats.bartlett(a, b, c))  # 유의확률이 0.05보다 작으므로, 그룹 간의 분산에 유의미한 차이가 있다고 볼 수 있다."
   ]
  },
  {
   "cell_type": "code",
   "execution_count": 87,
   "metadata": {},
   "outputs": [
    {
     "name": "stdout",
     "output_type": "stream",
     "text": [
      "LeveneResult(statistic=14.365736704446384, pvalue=0.00032713621045500125)\n"
     ]
    }
   ],
   "source": [
    "# Levene 검정\n",
    "# 이표본 이상에 대한 등분산 검정 방법 중 하나로 정규성을 충족하지 않는 데이터에 사용.\n",
    "from scipy import stats\n",
    "\n",
    "print(stats.levene(a, b, c))    # 유의확률이 0.05보다 작으므로, 그룹 간의 분산에 유의미한 차이가 있다고 볼 수 있다."
   ]
  },
  {
   "cell_type": "markdown",
   "metadata": {},
   "source": [
    "**▶ 분산 분석 ANOVA**\n",
    "- 분산 분석(ANOVA)는 두 집단 이상의 모평균을 검정하는 방법.\n",
    "- 여기서는 일원배치 분산분석과 이원배치 분산분석만 다룰거임."
   ]
  },
  {
   "cell_type": "code",
   "execution_count": 93,
   "metadata": {},
   "outputs": [
    {
     "name": "stdout",
     "output_type": "stream",
     "text": [
      "(3000, 5)\n"
     ]
    },
    {
     "data": {
      "text/html": [
       "<div>\n",
       "<style scoped>\n",
       "    .dataframe tbody tr th:only-of-type {\n",
       "        vertical-align: middle;\n",
       "    }\n",
       "\n",
       "    .dataframe tbody tr th {\n",
       "        vertical-align: top;\n",
       "    }\n",
       "\n",
       "    .dataframe thead th {\n",
       "        text-align: right;\n",
       "    }\n",
       "</style>\n",
       "<table border=\"1\" class=\"dataframe\">\n",
       "  <thead>\n",
       "    <tr style=\"text-align: right;\">\n",
       "      <th></th>\n",
       "      <th>id</th>\n",
       "      <th>School</th>\n",
       "      <th>Sex</th>\n",
       "      <th>Grade</th>\n",
       "      <th>Final</th>\n",
       "    </tr>\n",
       "  </thead>\n",
       "  <tbody>\n",
       "    <tr>\n",
       "      <th>0</th>\n",
       "      <td>1</td>\n",
       "      <td>A</td>\n",
       "      <td>M</td>\n",
       "      <td>1</td>\n",
       "      <td>44.4</td>\n",
       "    </tr>\n",
       "    <tr>\n",
       "      <th>1</th>\n",
       "      <td>2</td>\n",
       "      <td>A</td>\n",
       "      <td>M</td>\n",
       "      <td>2</td>\n",
       "      <td>47.7</td>\n",
       "    </tr>\n",
       "  </tbody>\n",
       "</table>\n",
       "</div>"
      ],
      "text/plain": [
       "   id School Sex  Grade  Final\n",
       "0   1      A   M      1   44.4\n",
       "1   2      A   M      2   47.7"
      ]
     },
     "metadata": {},
     "output_type": "display_data"
    },
    {
     "data": {
      "text/html": [
       "<div>\n",
       "<style scoped>\n",
       "    .dataframe tbody tr th:only-of-type {\n",
       "        vertical-align: middle;\n",
       "    }\n",
       "\n",
       "    .dataframe tbody tr th {\n",
       "        vertical-align: top;\n",
       "    }\n",
       "\n",
       "    .dataframe thead th {\n",
       "        text-align: right;\n",
       "    }\n",
       "</style>\n",
       "<table border=\"1\" class=\"dataframe\">\n",
       "  <thead>\n",
       "    <tr style=\"text-align: right;\">\n",
       "      <th></th>\n",
       "      <th>df</th>\n",
       "      <th>sum_sq</th>\n",
       "      <th>mean_sq</th>\n",
       "      <th>F</th>\n",
       "      <th>PR(&gt;F)</th>\n",
       "    </tr>\n",
       "  </thead>\n",
       "  <tbody>\n",
       "    <tr>\n",
       "      <th>C(School)</th>\n",
       "      <td>2.0</td>\n",
       "      <td>996939.237147</td>\n",
       "      <td>498469.618573</td>\n",
       "      <td>5722.221007</td>\n",
       "      <td>0.0</td>\n",
       "    </tr>\n",
       "    <tr>\n",
       "      <th>Residual</th>\n",
       "      <td>2997.0</td>\n",
       "      <td>261072.308290</td>\n",
       "      <td>87.111214</td>\n",
       "      <td>NaN</td>\n",
       "      <td>NaN</td>\n",
       "    </tr>\n",
       "  </tbody>\n",
       "</table>\n",
       "</div>"
      ],
      "text/plain": [
       "               df         sum_sq        mean_sq            F  PR(>F)\n",
       "C(School)     2.0  996939.237147  498469.618573  5722.221007     0.0\n",
       "Residual   2997.0  261072.308290      87.111214          NaN     NaN"
      ]
     },
     "metadata": {},
     "output_type": "display_data"
    }
   ],
   "source": [
    "# 일원배치 분산분석\n",
    "# A~C 세 학교에서 각각 1000명씩 층화 추출한 데이터를 활용해서 세 학교 간의 기말고사 성적의 평균이 서로 차이가 있는 지 검정. (성별, 학년의 비율은 세 학교가 동일, 정규성, 등분산성 등 만족 가정)\n",
    "from statsmodels.formula.api import ols\n",
    "from statsmodels.stats.anova import anova_lm\n",
    "\n",
    "df = pd.read_csv('samples/예제/school_score.csv')\n",
    "print(df.shape)\n",
    "display(df.head(2))\n",
    "\n",
    "one_way = ols('Final ~ C(School)', data=df).fit()\n",
    "display(anova_lm(one_way))\n",
    "# C(School)의 PR(>F)값이 매우 작으므로, 유의수준 5%에서 귀무가설을 기각. 세 학교의 기말고사 성적의 평균은 차이가 있다고 할 수 있다."
   ]
  },
  {
   "cell_type": "code",
   "execution_count": 94,
   "metadata": {},
   "outputs": [
    {
     "name": "stdout",
     "output_type": "stream",
     "text": [
      "Multiple Comparison of Means - Tukey HSD, FWER=0.05 \n",
      "====================================================\n",
      "group1 group2 meandiff p-adj   lower   upper  reject\n",
      "----------------------------------------------------\n",
      "     A      B  38.8464   -0.0 37.8677 39.8251   True\n",
      "     A      C  38.4922   -0.0 37.5135 39.4709   True\n",
      "     B      C  -0.3542 0.6728 -1.3329  0.6245  False\n",
      "----------------------------------------------------\n"
     ]
    }
   ],
   "source": [
    "# 사후검정 - Tukey의 HSD 검정\n",
    "# 바로 위에서 세 학교의 평균에 차이가 있음을 알았지만, 세 학교가 모두 다른지, A와 B만 다른지, A와 C가 다른지는 알 수가 없다.\n",
    "# 이를알기 위해서는 사후검정을 해야 한다.\n",
    "\n",
    "from statsmodels.stats.multicomp import pairwise_tukeyhsd\n",
    "\n",
    "print(pairwise_tukeyhsd(df['Final'], df['School'], 0.05))   # endog=df['Final'], groups=df['School'], alpha=0.05\n",
    "# A와 B, A와 C 사이에는 평균에 유의미한 차이가 있다고 할 수 있고, B와 C는 유의미한 차이가 없다고 할 수 있다.\n",
    "# 신뢰구간에 0을 포함하는지 아니면 reject 결과로 알 수 있다."
   ]
  },
  {
   "cell_type": "code",
   "execution_count": 100,
   "metadata": {},
   "outputs": [
    {
     "data": {
      "text/html": [
       "<div>\n",
       "<style scoped>\n",
       "    .dataframe tbody tr th:only-of-type {\n",
       "        vertical-align: middle;\n",
       "    }\n",
       "\n",
       "    .dataframe tbody tr th {\n",
       "        vertical-align: top;\n",
       "    }\n",
       "\n",
       "    .dataframe thead th {\n",
       "        text-align: right;\n",
       "    }\n",
       "</style>\n",
       "<table border=\"1\" class=\"dataframe\">\n",
       "  <thead>\n",
       "    <tr style=\"text-align: right;\">\n",
       "      <th></th>\n",
       "      <th>df</th>\n",
       "      <th>sum_sq</th>\n",
       "      <th>mean_sq</th>\n",
       "      <th>F</th>\n",
       "      <th>PR(&gt;F)</th>\n",
       "    </tr>\n",
       "  </thead>\n",
       "  <tbody>\n",
       "    <tr>\n",
       "      <th>C(School)</th>\n",
       "      <td>2.0</td>\n",
       "      <td>996939.237147</td>\n",
       "      <td>498469.618573</td>\n",
       "      <td>5721.620556</td>\n",
       "      <td>0.000000</td>\n",
       "    </tr>\n",
       "    <tr>\n",
       "      <th>C(Grade)</th>\n",
       "      <td>2.0</td>\n",
       "      <td>324.472829</td>\n",
       "      <td>162.236415</td>\n",
       "      <td>1.862210</td>\n",
       "      <td>0.155509</td>\n",
       "    </tr>\n",
       "    <tr>\n",
       "      <th>C(School):C(Grade)</th>\n",
       "      <td>4.0</td>\n",
       "      <td>170.851257</td>\n",
       "      <td>42.712814</td>\n",
       "      <td>0.490274</td>\n",
       "      <td>0.742912</td>\n",
       "    </tr>\n",
       "    <tr>\n",
       "      <th>Residual</th>\n",
       "      <td>2991.0</td>\n",
       "      <td>260576.984204</td>\n",
       "      <td>87.120356</td>\n",
       "      <td>NaN</td>\n",
       "      <td>NaN</td>\n",
       "    </tr>\n",
       "  </tbody>\n",
       "</table>\n",
       "</div>"
      ],
      "text/plain": [
       "                        df         sum_sq        mean_sq            F  \\\n",
       "C(School)              2.0  996939.237147  498469.618573  5721.620556   \n",
       "C(Grade)               2.0     324.472829     162.236415     1.862210   \n",
       "C(School):C(Grade)     4.0     170.851257      42.712814     0.490274   \n",
       "Residual            2991.0  260576.984204      87.120356          NaN   \n",
       "\n",
       "                      PR(>F)  \n",
       "C(School)           0.000000  \n",
       "C(Grade)            0.155509  \n",
       "C(School):C(Grade)  0.742912  \n",
       "Residual                 NaN  "
      ]
     },
     "metadata": {},
     "output_type": "display_data"
    },
    {
     "name": "stdout",
     "output_type": "stream",
     "text": [
      "> 이원배치 분산분석에서는 상호작용항의 유의성을 먼저 고려한다. 0.742912로 p-value가 매우 크므로, 상호작용 효과가 통계적으로 유의하지 않은 것을 알 수있다.\n",
      "> 교호작용이 유의하지 않으므로, 이를 고려하지 않고 다시 분산분석을 수행한다. \n",
      "\n"
     ]
    },
    {
     "data": {
      "text/html": [
       "<div>\n",
       "<style scoped>\n",
       "    .dataframe tbody tr th:only-of-type {\n",
       "        vertical-align: middle;\n",
       "    }\n",
       "\n",
       "    .dataframe tbody tr th {\n",
       "        vertical-align: top;\n",
       "    }\n",
       "\n",
       "    .dataframe thead th {\n",
       "        text-align: right;\n",
       "    }\n",
       "</style>\n",
       "<table border=\"1\" class=\"dataframe\">\n",
       "  <thead>\n",
       "    <tr style=\"text-align: right;\">\n",
       "      <th></th>\n",
       "      <th>df</th>\n",
       "      <th>sum_sq</th>\n",
       "      <th>mean_sq</th>\n",
       "      <th>F</th>\n",
       "      <th>PR(&gt;F)</th>\n",
       "    </tr>\n",
       "  </thead>\n",
       "  <tbody>\n",
       "    <tr>\n",
       "      <th>C(School)</th>\n",
       "      <td>2.0</td>\n",
       "      <td>996939.237147</td>\n",
       "      <td>498469.618573</td>\n",
       "      <td>5725.518315</td>\n",
       "      <td>0.000000</td>\n",
       "    </tr>\n",
       "    <tr>\n",
       "      <th>C(Grade)</th>\n",
       "      <td>2.0</td>\n",
       "      <td>324.472829</td>\n",
       "      <td>162.236415</td>\n",
       "      <td>1.863479</td>\n",
       "      <td>0.155312</td>\n",
       "    </tr>\n",
       "    <tr>\n",
       "      <th>Residual</th>\n",
       "      <td>2995.0</td>\n",
       "      <td>260747.835461</td>\n",
       "      <td>87.061047</td>\n",
       "      <td>NaN</td>\n",
       "      <td>NaN</td>\n",
       "    </tr>\n",
       "  </tbody>\n",
       "</table>\n",
       "</div>"
      ],
      "text/plain": [
       "               df         sum_sq        mean_sq            F    PR(>F)\n",
       "C(School)     2.0  996939.237147  498469.618573  5725.518315  0.000000\n",
       "C(Grade)      2.0     324.472829     162.236415     1.863479  0.155312\n",
       "Residual   2995.0  260747.835461      87.061047          NaN       NaN"
      ]
     },
     "metadata": {},
     "output_type": "display_data"
    },
    {
     "name": "stdout",
     "output_type": "stream",
     "text": [
      "> 학교의 p-value는 매우 작으므로, 학교간의 평균차이는 있다고 볼 수 있고, 학년의 p-value는 0.05를 넘으므로, 학년간의 차이는 유의미하지 않다고 볼 수 있다.\n"
     ]
    }
   ],
   "source": [
    "# 이원배치 분산분석\n",
    "# 이원배치 분산분석은 일원배치 분산분석과 유하하지만, formula 입력 방식에 차이가 있다.\n",
    "# 교호작용이 있는 경우: '반응변수 ~ C(그룹1) + C(그룹2) + C(그룹1):C(그룹2)'\n",
    "# 교호작용이 없는 경우: '반응변수 ~ C(그룹1) + C(그룹2)'\n",
    "\n",
    "from statsmodels.formula.api import ols\n",
    "from statsmodels.stats.anova import anova_lm\n",
    "\n",
    "df = pd.read_csv('samples/예제/school_score.csv')\n",
    "\n",
    "two_way = ols('Final ~ C(School) + C(Grade) + C(School):C(Grade)', df).fit()\n",
    "display(anova_lm(two_way))\n",
    "print('> 이원배치 분산분석에서는 상호작용항의 유의성을 먼저 고려한다. 0.742912로 p-value가 매우 크므로, 상호작용 효과가 통계적으로 유의하지 않은 것을 알 수있다.')\n",
    "print('> 교호작용이 유의하지 않으므로, 이를 고려하지 않고 다시 분산분석을 수행한다. \\n')\n",
    "two_way = ols('Final ~ C(School) + C(Grade)', df).fit()\n",
    "display(anova_lm(two_way))\n",
    "print('> 학교의 p-value는 매우 작으므로, 학교간의 평균차이는 있다고 볼 수 있고, 학년의 p-value는 0.05를 넘으므로, 학년간의 차이는 유의미하지 않다고 볼 수 있다.')"
   ]
  },
  {
   "cell_type": "markdown",
   "metadata": {},
   "source": [
    "### **▼ 카이제곱 검정**\n",
    "- 주로 범주형 자료 분석에 사용.\n",
    "- 적합성 검정, 동질성 검정, 독립성 검정"
   ]
  },
  {
   "cell_type": "markdown",
   "metadata": {},
   "source": [
    "**▶ 적합성 검정** "
   ]
  },
  {
   "cell_type": "code",
   "execution_count": 104,
   "metadata": {},
   "outputs": [
    {
     "name": "stdout",
     "output_type": "stream",
     "text": [
      "Power_divergenceResult(statistic=82.94, pvalue=4.14849046718008e-17)\n",
      "> p-value가 0.05보다 작으므로 귀무가설을 기각. 색상별로 동일한 비율로 생산한다고 볼 수 없다.\n"
     ]
    }
   ],
   "source": [
    "# A 회사에서 출시되는 제품 공정 결과의 예를 보고, 색상과 관계없이 동일한 비율로 제품을 생산하는 지 적합성 검정을 수행하자\n",
    "\n",
    "from scipy import stats\n",
    "\n",
    "color = ['Black','Gold','Purple','Red', 'White']    # 색상(분석엔 필요 X)\n",
    "counts = [423, 304, 274, 205, 294]                  # 수량\n",
    "expected = 300                          # 기대도수(동일한 비율 = 1500/5)\n",
    "\n",
    "print(stats.chisquare(counts, expected))        # f_obs=counts, f_exp=expected\n",
    "print('> p-value가 0.05보다 작으므로 귀무가설을 기각. 색상별로 동일한 비율로 생산한다고 볼 수 없다.')"
   ]
  },
  {
   "cell_type": "markdown",
   "metadata": {},
   "source": [
    "**▶ 동질성 검정** "
   ]
  },
  {
   "cell_type": "code",
   "execution_count": 111,
   "metadata": {},
   "outputs": [
    {
     "data": {
      "text/html": [
       "<div>\n",
       "<style scoped>\n",
       "    .dataframe tbody tr th:only-of-type {\n",
       "        vertical-align: middle;\n",
       "    }\n",
       "\n",
       "    .dataframe tbody tr th {\n",
       "        vertical-align: top;\n",
       "    }\n",
       "\n",
       "    .dataframe thead th {\n",
       "        text-align: right;\n",
       "    }\n",
       "</style>\n",
       "<table border=\"1\" class=\"dataframe\">\n",
       "  <thead>\n",
       "    <tr style=\"text-align: right;\">\n",
       "      <th></th>\n",
       "      <th>Good</th>\n",
       "      <th>Bad</th>\n",
       "    </tr>\n",
       "  </thead>\n",
       "  <tbody>\n",
       "    <tr>\n",
       "      <th>남성</th>\n",
       "      <td>400</td>\n",
       "      <td>350</td>\n",
       "    </tr>\n",
       "    <tr>\n",
       "      <th>여성</th>\n",
       "      <td>350</td>\n",
       "      <td>800</td>\n",
       "    </tr>\n",
       "  </tbody>\n",
       "</table>\n",
       "</div>"
      ],
      "text/plain": [
       "    Good  Bad\n",
       "남성   400  350\n",
       "여성   350  800"
      ]
     },
     "metadata": {},
     "output_type": "display_data"
    },
    {
     "name": "stdout",
     "output_type": "stream",
     "text": [
      "(98.66917336693975, 2.984113573360021e-23, 1, array([[296.05263158, 453.94736842],\n",
      "       [453.94736842, 696.05263158]]))\n",
      "> p-value가 0.05보다 작으므로 귀무가설 기각. 성별 간 선호도의 차이가 있다고 볼 수 있다.\n"
     ]
    }
   ],
   "source": [
    "# A 회사의 성별에 따른 제품 선호도조사의 예를 보고, 성별 간 선호도의 차이 검증을 위한 동질성 검정을 수행하자\n",
    "\n",
    "from scipy import stats\n",
    "\n",
    "cross = pd.DataFrame({\"Good\" : [400 , 350],\"Bad\" : [350, 800]}, index=['남성', '여성'])\n",
    "display(cross)\n",
    "\n",
    "print(stats.chi2_contingency(cross))\n",
    "chi, pvalue, df, expected = stats.chi2_contingency(cross)   # 카이제곱통계량, 유의확률, 자유도, 기대빈도\n",
    "print('> p-value가 0.05보다 작으므로 귀무가설 기각. 성별 간 선호도의 차이가 있다고 볼 수 있다.')"
   ]
  },
  {
   "cell_type": "markdown",
   "metadata": {},
   "source": [
    "**▶ 독립성 검정** "
   ]
  },
  {
   "cell_type": "code",
   "execution_count": 115,
   "metadata": {},
   "outputs": [
    {
     "data": {
      "text/html": [
       "<div>\n",
       "<style scoped>\n",
       "    .dataframe tbody tr th:only-of-type {\n",
       "        vertical-align: middle;\n",
       "    }\n",
       "\n",
       "    .dataframe tbody tr th {\n",
       "        vertical-align: top;\n",
       "    }\n",
       "\n",
       "    .dataframe thead th {\n",
       "        text-align: right;\n",
       "    }\n",
       "</style>\n",
       "<table border=\"1\" class=\"dataframe\">\n",
       "  <thead>\n",
       "    <tr style=\"text-align: right;\">\n",
       "      <th></th>\n",
       "      <th>Black</th>\n",
       "      <th>Gold</th>\n",
       "      <th>Purple</th>\n",
       "      <th>Red</th>\n",
       "      <th>White</th>\n",
       "    </tr>\n",
       "  </thead>\n",
       "  <tbody>\n",
       "    <tr>\n",
       "      <th>남성</th>\n",
       "      <td>1620</td>\n",
       "      <td>385</td>\n",
       "      <td>778</td>\n",
       "      <td>394</td>\n",
       "      <td>800</td>\n",
       "    </tr>\n",
       "    <tr>\n",
       "      <th>여성</th>\n",
       "      <td>2380</td>\n",
       "      <td>615</td>\n",
       "      <td>1230</td>\n",
       "      <td>610</td>\n",
       "      <td>180</td>\n",
       "    </tr>\n",
       "  </tbody>\n",
       "</table>\n",
       "</div>"
      ],
      "text/plain": [
       "    Black  Gold  Purple  Red  White\n",
       "남성   1620   385     778  394    800\n",
       "여성   2380   615    1230  610    180"
      ]
     },
     "metadata": {},
     "output_type": "display_data"
    },
    {
     "name": "stdout",
     "output_type": "stream",
     "text": [
      "카이제곱통계량:  626.2830361414021\n",
      "pvalue:  3.1731601033660286e-134\n",
      "자유도:  4 \n",
      " 기대빈도: \n",
      " [[1769.12811388  442.28202847  888.10231317  444.05115658  433.4363879 ]\n",
      " [2230.87188612  557.71797153 1119.89768683  559.94884342  546.5636121 ]]\n"
     ]
    }
   ],
   "source": [
    "# A 회사의 출시된 제품의 한 달 간 판매량의 예이다. 이를 통해 성별과 색상이 서로 관련이 있는 지 알아보기 위해 독립성 검정을 수행하자.\n",
    "from scipy import stats\n",
    "\n",
    "cross = pd.DataFrame({'Black' : [1620, 2380],'Gold' : [385, 615],'Purple' : [778, 1230],'Red' : [394, 610],'White' : [800, 180]}, index=['남성', '여성'])\n",
    "display(cross)\n",
    "\n",
    "chi, pvalue, df, expected = stats.chi2_contingency(cross)\n",
    "print('카이제곱통계량: ', chi)\n",
    "print('pvalue: ', pvalue)\n",
    "print('> p-vale가 0.05보다 작으므로 귀무가설을 기각. 성별과 색상은 독립성이 없다 즉, 종속적이고 관련이 있다.')\n",
    "print('자유도: ', df, '\\n 기대빈도: \\n', expected)"
   ]
  },
  {
   "cell_type": "markdown",
   "metadata": {},
   "source": [
    "**● 교차표 만드는 법**   \n",
    "pd.crosstab(index, columns)"
   ]
  },
  {
   "cell_type": "code",
   "execution_count": 118,
   "metadata": {},
   "outputs": [
    {
     "data": {
      "text/html": [
       "<div>\n",
       "<style scoped>\n",
       "    .dataframe tbody tr th:only-of-type {\n",
       "        vertical-align: middle;\n",
       "    }\n",
       "\n",
       "    .dataframe tbody tr th {\n",
       "        vertical-align: top;\n",
       "    }\n",
       "\n",
       "    .dataframe thead th {\n",
       "        text-align: right;\n",
       "    }\n",
       "</style>\n",
       "<table border=\"1\" class=\"dataframe\">\n",
       "  <thead>\n",
       "    <tr style=\"text-align: right;\">\n",
       "      <th></th>\n",
       "      <th>survived</th>\n",
       "      <th>pclass</th>\n",
       "      <th>sex</th>\n",
       "      <th>age</th>\n",
       "      <th>sibsp</th>\n",
       "      <th>parch</th>\n",
       "      <th>fare</th>\n",
       "      <th>embarked</th>\n",
       "      <th>class</th>\n",
       "      <th>who</th>\n",
       "      <th>adult_male</th>\n",
       "      <th>deck</th>\n",
       "      <th>embark_town</th>\n",
       "      <th>alive</th>\n",
       "      <th>alone</th>\n",
       "      <th>요금_대중소</th>\n",
       "    </tr>\n",
       "  </thead>\n",
       "  <tbody>\n",
       "    <tr>\n",
       "      <th>0</th>\n",
       "      <td>0</td>\n",
       "      <td>3</td>\n",
       "      <td>male</td>\n",
       "      <td>22.0</td>\n",
       "      <td>1</td>\n",
       "      <td>0</td>\n",
       "      <td>7.2500</td>\n",
       "      <td>S</td>\n",
       "      <td>Third</td>\n",
       "      <td>man</td>\n",
       "      <td>True</td>\n",
       "      <td>NaN</td>\n",
       "      <td>Southampton</td>\n",
       "      <td>no</td>\n",
       "      <td>False</td>\n",
       "      <td>low</td>\n",
       "    </tr>\n",
       "    <tr>\n",
       "      <th>1</th>\n",
       "      <td>1</td>\n",
       "      <td>1</td>\n",
       "      <td>female</td>\n",
       "      <td>38.0</td>\n",
       "      <td>1</td>\n",
       "      <td>0</td>\n",
       "      <td>71.2833</td>\n",
       "      <td>C</td>\n",
       "      <td>First</td>\n",
       "      <td>woman</td>\n",
       "      <td>False</td>\n",
       "      <td>C</td>\n",
       "      <td>Cherbourg</td>\n",
       "      <td>yes</td>\n",
       "      <td>False</td>\n",
       "      <td>high</td>\n",
       "    </tr>\n",
       "    <tr>\n",
       "      <th>2</th>\n",
       "      <td>1</td>\n",
       "      <td>3</td>\n",
       "      <td>female</td>\n",
       "      <td>26.0</td>\n",
       "      <td>0</td>\n",
       "      <td>0</td>\n",
       "      <td>7.9250</td>\n",
       "      <td>S</td>\n",
       "      <td>Third</td>\n",
       "      <td>woman</td>\n",
       "      <td>False</td>\n",
       "      <td>NaN</td>\n",
       "      <td>Southampton</td>\n",
       "      <td>yes</td>\n",
       "      <td>True</td>\n",
       "      <td>low</td>\n",
       "    </tr>\n",
       "    <tr>\n",
       "      <th>3</th>\n",
       "      <td>1</td>\n",
       "      <td>1</td>\n",
       "      <td>female</td>\n",
       "      <td>35.0</td>\n",
       "      <td>1</td>\n",
       "      <td>0</td>\n",
       "      <td>53.1000</td>\n",
       "      <td>S</td>\n",
       "      <td>First</td>\n",
       "      <td>woman</td>\n",
       "      <td>False</td>\n",
       "      <td>C</td>\n",
       "      <td>Southampton</td>\n",
       "      <td>yes</td>\n",
       "      <td>False</td>\n",
       "      <td>middle</td>\n",
       "    </tr>\n",
       "    <tr>\n",
       "      <th>4</th>\n",
       "      <td>0</td>\n",
       "      <td>3</td>\n",
       "      <td>male</td>\n",
       "      <td>35.0</td>\n",
       "      <td>0</td>\n",
       "      <td>0</td>\n",
       "      <td>8.0500</td>\n",
       "      <td>S</td>\n",
       "      <td>Third</td>\n",
       "      <td>man</td>\n",
       "      <td>True</td>\n",
       "      <td>NaN</td>\n",
       "      <td>Southampton</td>\n",
       "      <td>no</td>\n",
       "      <td>True</td>\n",
       "      <td>low</td>\n",
       "    </tr>\n",
       "  </tbody>\n",
       "</table>\n",
       "</div>"
      ],
      "text/plain": [
       "   survived  pclass     sex   age  sibsp  parch     fare embarked  class  \\\n",
       "0         0       3    male  22.0      1      0   7.2500        S  Third   \n",
       "1         1       1  female  38.0      1      0  71.2833        C  First   \n",
       "2         1       3  female  26.0      0      0   7.9250        S  Third   \n",
       "3         1       1  female  35.0      1      0  53.1000        S  First   \n",
       "4         0       3    male  35.0      0      0   8.0500        S  Third   \n",
       "\n",
       "     who  adult_male deck  embark_town alive  alone  요금_대중소  \n",
       "0    man        True  NaN  Southampton    no  False     low  \n",
       "1  woman       False    C    Cherbourg   yes  False    high  \n",
       "2  woman       False  NaN  Southampton   yes   True     low  \n",
       "3  woman       False    C  Southampton   yes  False  middle  \n",
       "4    man        True  NaN  Southampton    no   True     low  "
      ]
     },
     "metadata": {},
     "output_type": "display_data"
    },
    {
     "data": {
      "text/html": [
       "<div>\n",
       "<style scoped>\n",
       "    .dataframe tbody tr th:only-of-type {\n",
       "        vertical-align: middle;\n",
       "    }\n",
       "\n",
       "    .dataframe tbody tr th {\n",
       "        vertical-align: top;\n",
       "    }\n",
       "\n",
       "    .dataframe thead th {\n",
       "        text-align: right;\n",
       "    }\n",
       "</style>\n",
       "<table border=\"1\" class=\"dataframe\">\n",
       "  <thead>\n",
       "    <tr style=\"text-align: right;\">\n",
       "      <th>embark_town</th>\n",
       "      <th>Cherbourg</th>\n",
       "      <th>Queenstown</th>\n",
       "      <th>Southampton</th>\n",
       "    </tr>\n",
       "    <tr>\n",
       "      <th>sex</th>\n",
       "      <th></th>\n",
       "      <th></th>\n",
       "      <th></th>\n",
       "    </tr>\n",
       "  </thead>\n",
       "  <tbody>\n",
       "    <tr>\n",
       "      <th>female</th>\n",
       "      <td>73</td>\n",
       "      <td>36</td>\n",
       "      <td>203</td>\n",
       "    </tr>\n",
       "    <tr>\n",
       "      <th>male</th>\n",
       "      <td>95</td>\n",
       "      <td>41</td>\n",
       "      <td>441</td>\n",
       "    </tr>\n",
       "  </tbody>\n",
       "</table>\n",
       "</div>"
      ],
      "text/plain": [
       "embark_town  Cherbourg  Queenstown  Southampton\n",
       "sex                                            \n",
       "female              73          36          203\n",
       "male                95          41          441"
      ]
     },
     "execution_count": 118,
     "metadata": {},
     "output_type": "execute_result"
    }
   ],
   "source": [
    "display(titanic.head())\n",
    "pd.crosstab(titanic['sex'], titanic['embark_town'])"
   ]
  },
  {
   "cell_type": "markdown",
   "metadata": {},
   "source": [
    "### **▼ 비모수 검정**\n",
    "- 모수적 검정은 가설 검정 시 분포를 가정하기 때문에, 실제 데이터가 가정한 분포와 이질적일수록 잘못된 결론을 내릴 가능성이 높다.\n",
    "- 실제로는 정규성 검정을 선행하여 정규성을 만족하면 모수적 검정, 정규성을 만족하지 않으면 비모수적 검정을 해야 한다."
   ]
  },
  {
   "cell_type": "markdown",
   "metadata": {},
   "source": [
    "**▶ 스피어만 상관계수** "
   ]
  },
  {
   "cell_type": "code",
   "execution_count": 120,
   "metadata": {},
   "outputs": [
    {
     "data": {
      "text/html": [
       "<div>\n",
       "<style scoped>\n",
       "    .dataframe tbody tr th:only-of-type {\n",
       "        vertical-align: middle;\n",
       "    }\n",
       "\n",
       "    .dataframe tbody tr th {\n",
       "        vertical-align: top;\n",
       "    }\n",
       "\n",
       "    .dataframe thead th {\n",
       "        text-align: right;\n",
       "    }\n",
       "</style>\n",
       "<table border=\"1\" class=\"dataframe\">\n",
       "  <thead>\n",
       "    <tr style=\"text-align: right;\">\n",
       "      <th></th>\n",
       "      <th>age</th>\n",
       "      <th>sex</th>\n",
       "      <th>bmi</th>\n",
       "      <th>bp</th>\n",
       "      <th>s1</th>\n",
       "      <th>s2</th>\n",
       "      <th>s3</th>\n",
       "      <th>s4</th>\n",
       "      <th>s5</th>\n",
       "      <th>s6</th>\n",
       "    </tr>\n",
       "  </thead>\n",
       "  <tbody>\n",
       "    <tr>\n",
       "      <th>0</th>\n",
       "      <td>0.038076</td>\n",
       "      <td>0.050680</td>\n",
       "      <td>0.061696</td>\n",
       "      <td>0.021872</td>\n",
       "      <td>-0.044223</td>\n",
       "      <td>-0.034821</td>\n",
       "      <td>-0.043401</td>\n",
       "      <td>-0.002592</td>\n",
       "      <td>0.019908</td>\n",
       "      <td>-0.017646</td>\n",
       "    </tr>\n",
       "    <tr>\n",
       "      <th>1</th>\n",
       "      <td>-0.001882</td>\n",
       "      <td>-0.044642</td>\n",
       "      <td>-0.051474</td>\n",
       "      <td>-0.026328</td>\n",
       "      <td>-0.008449</td>\n",
       "      <td>-0.019163</td>\n",
       "      <td>0.074412</td>\n",
       "      <td>-0.039493</td>\n",
       "      <td>-0.068330</td>\n",
       "      <td>-0.092204</td>\n",
       "    </tr>\n",
       "  </tbody>\n",
       "</table>\n",
       "</div>"
      ],
      "text/plain": [
       "        age       sex       bmi        bp        s1        s2        s3  \\\n",
       "0  0.038076  0.050680  0.061696  0.021872 -0.044223 -0.034821 -0.043401   \n",
       "1 -0.001882 -0.044642 -0.051474 -0.026328 -0.008449 -0.019163  0.074412   \n",
       "\n",
       "         s4        s5        s6  \n",
       "0 -0.002592  0.019908 -0.017646  \n",
       "1 -0.039493 -0.068330 -0.092204  "
      ]
     },
     "metadata": {},
     "output_type": "display_data"
    },
    {
     "name": "stdout",
     "output_type": "stream",
     "text": [
      "SpearmanrResult(correlation=0.09807947297621517, pvalue=0.03929011358104615)\n",
      "> 상관계수 0.098로 서로 상관관계가 적다고 볼 수 있다. 다만, p-value는 0.05보다 낮으므로 귀무가설을 기각, 상관계수는 작지만 유의하다는 것을 확인할 수 있다.\n"
     ]
    }
   ],
   "source": [
    "from sklearn.datasets import load_diabetes\n",
    "from scipy import stats\n",
    "\n",
    "diabetes = pd.DataFrame(load_diabetes()['data'], columns=load_diabetes()['feature_names'])\n",
    "display(diabetes.head(2))\n",
    "\n",
    "print(stats.spearmanr(diabetes['sex'], diabetes['bmi']))\n",
    "print('> 상관계수 0.098로 서로 상관관계가 적다고 볼 수 있다. 다만, p-value는 0.05보다 낮으므로 귀무가설을 기각, 상관계수는 작지만 유의하다는 것을 확인할 수 있다.')"
   ]
  },
  {
   "cell_type": "markdown",
   "metadata": {},
   "source": [
    "**▶ 켄달의 타우 검정** "
   ]
  },
  {
   "cell_type": "code",
   "execution_count": 123,
   "metadata": {},
   "outputs": [
    {
     "name": "stdout",
     "output_type": "stream",
     "text": [
      "KendalltauResult(correlation=-0.29814239699997197, pvalue=0.4205962375999267)\n",
      "> 상관계수가 -0.298로 순위 간 상관관계가 거의 없는 것으로 확인된다.\n"
     ]
    }
   ],
   "source": [
    "# 두 개의 등수 데이터를 임의로 생성하고 두 순위 간 상관관계가 있는지 검정하자.\n",
    "\n",
    "from scipy import stats\n",
    "\n",
    "x = np.array([5, 4, 3, 6, 1, 2])\n",
    "y = np.array([1, 5, 2, 2, 2, 6])\n",
    "\n",
    "print(stats.kendalltau(x, y))\n",
    "print('> 상관계수가 -0.298로 순위 간 상관관계가 거의 없는 것으로 확인된다.')    # 스피어만 상관계수 검정은 켄탈 타우 검정과 마찬가지로 순위 데이터에 대해서도 검정을 할 수 있다!"
   ]
  },
  {
   "cell_type": "markdown",
   "metadata": {},
   "source": [
    "**▶ 윌콕슨의 부호순위 검정** "
   ]
  },
  {
   "cell_type": "code",
   "execution_count": 130,
   "metadata": {},
   "outputs": [
    {
     "name": "stdout",
     "output_type": "stream",
     "text": [
      "WilcoxonResult(statistic=42.0, pvalue=0.5416259765625)\n",
      "> 귀무가설 채택. 모집단의 중위수는 70과 같다고 할 수 있다.\n",
      "WilcoxonResult(statistic=5.0, pvalue=0.15625)\n",
      "> 귀무가설 채택. 둘의 중앙값에 유의한 차이가 없다.\n"
     ]
    }
   ],
   "source": [
    "from scipy import stats\n",
    "\n",
    "# 단일표본 t-검정 대신 일표본 부호순위 검정\n",
    "kg = np.array([75.5, 83.9, 75.7, 56.2, 73.4, 67.7, 79.0, 50.7, 58.4, 74.1, 65.1, 77.8, 48.1, 46.3])\n",
    "\n",
    "print(stats.wilcoxon(kg - 70))\n",
    "print('> 귀무가설 채택. 모집단의 중위수는 70과 같다고 할 수 있다.')\n",
    "\n",
    " # 대응표본 t-검정 대신 이표본 부호순위 검정\n",
    "female = np.array([50.7, 58.4, 74.1, 65.1, 77.8, 48.1, 46.3])      \n",
    "male = np.array([75.5, 83.9, 75.7, 56.2, 73.4, 67.7, 79.0])\n",
    "\n",
    "print(stats.wilcoxon(female, male))\n",
    "print('> 귀무가설 채택. 둘의 중앙값에 유의한 차이가 없다.')"
   ]
  },
  {
   "cell_type": "markdown",
   "metadata": {},
   "source": [
    "**▶ 윌콕슨의 순위합 검정** "
   ]
  },
  {
   "cell_type": "code",
   "execution_count": 129,
   "metadata": {},
   "outputs": [
    {
     "name": "stdout",
     "output_type": "stream",
     "text": [
      "RanksumsResult(statistic=-1.8527420384998257, pvalue=0.06391934147515746)\n",
      "> 귀무가설 채택. 두 표본의 중앙값에 유의한 차이가 없다.\n"
     ]
    }
   ],
   "source": [
    "# 독립표본 t-검정 대신 순위합 검정\n",
    "from scipy import stats\n",
    "\n",
    "print(stats.ranksums(female, male))\n",
    "print('> 귀무가설 채택. 두 표본의 중앙값에 유의한 차이가 없다.')"
   ]
  },
  {
   "cell_type": "markdown",
   "metadata": {},
   "source": [
    "**▶ 만-위트니 U 검정** "
   ]
  },
  {
   "cell_type": "code",
   "execution_count": 132,
   "metadata": {},
   "outputs": [
    {
     "name": "stdout",
     "output_type": "stream",
     "text": [
      "MannwhitneyuResult(statistic=10.0, pvalue=0.07284382284382285)\n",
      "> 귀무가설 채택. 두 표본의 중앙값에 유의한 차이가 없다.\n"
     ]
    }
   ],
   "source": [
    "# 독립표본 t-검정 대신 만-위트니 U 검정\n",
    "from scipy import stats\n",
    "\n",
    "print(stats.mannwhitneyu(female, male))\n",
    "print('> 귀무가설 채택. 두 표본의 중앙값에 유의한 차이가 없다.')"
   ]
  },
  {
   "cell_type": "markdown",
   "metadata": {},
   "source": [
    "**▶ 크루스칼-왈리스 H 검정** "
   ]
  },
  {
   "cell_type": "code",
   "execution_count": 143,
   "metadata": {},
   "outputs": [
    {
     "data": {
      "text/html": [
       "<div>\n",
       "<style scoped>\n",
       "    .dataframe tbody tr th:only-of-type {\n",
       "        vertical-align: middle;\n",
       "    }\n",
       "\n",
       "    .dataframe tbody tr th {\n",
       "        vertical-align: top;\n",
       "    }\n",
       "\n",
       "    .dataframe thead th {\n",
       "        text-align: right;\n",
       "    }\n",
       "</style>\n",
       "<table border=\"1\" class=\"dataframe\">\n",
       "  <thead>\n",
       "    <tr style=\"text-align: right;\">\n",
       "      <th></th>\n",
       "      <th>id</th>\n",
       "      <th>School</th>\n",
       "      <th>Sex</th>\n",
       "      <th>Grade</th>\n",
       "      <th>Final</th>\n",
       "    </tr>\n",
       "  </thead>\n",
       "  <tbody>\n",
       "    <tr>\n",
       "      <th>0</th>\n",
       "      <td>1</td>\n",
       "      <td>A</td>\n",
       "      <td>M</td>\n",
       "      <td>1</td>\n",
       "      <td>44.4</td>\n",
       "    </tr>\n",
       "    <tr>\n",
       "      <th>1</th>\n",
       "      <td>2</td>\n",
       "      <td>A</td>\n",
       "      <td>M</td>\n",
       "      <td>2</td>\n",
       "      <td>47.7</td>\n",
       "    </tr>\n",
       "  </tbody>\n",
       "</table>\n",
       "</div>"
      ],
      "text/plain": [
       "   id School Sex  Grade  Final\n",
       "0   1      A   M      1   44.4\n",
       "1   2      A   M      2   47.7"
      ]
     },
     "metadata": {},
     "output_type": "display_data"
    },
    {
     "name": "stdout",
     "output_type": "stream",
     "text": [
      "KruskalResult(statistic=1978.1734792103248, pvalue=0.0)\n",
      "> 귀무가설 기각. 학교 간 기말고사 성적에는 유의미한 차이가 있다.\n"
     ]
    }
   ],
   "source": [
    "# 일원배치 분산분석 대신\n",
    "from scipy import stats\n",
    "\n",
    "df = pd.read_csv('samples/예제/school_score.csv')\n",
    "display(df.head(2))\n",
    "\n",
    "final_A = df.loc[df['School'] == 'A']['Final'].values\n",
    "final_B = df.loc[df['School'] == 'B']['Final'].values\n",
    "final_C = df.loc[df['School'] == 'C']['Final'].values\n",
    "print(stats.kruskal(final_A, final_B, final_C))\n",
    "print('> 귀무가설 기각. 학교 간 기말고사 성적에는 유의미한 차이가 있다.')"
   ]
  },
  {
   "cell_type": "markdown",
   "metadata": {},
   "source": [
    "# 통계모형 - 선형 회귀모형"
   ]
  },
  {
   "cell_type": "markdown",
   "metadata": {},
   "source": [
    "# 머신러닝 - 지도학습"
   ]
  },
  {
   "cell_type": "markdown",
   "metadata": {},
   "source": [
    "### **▼ 데이터 분할**"
   ]
  },
  {
   "cell_type": "markdown",
   "metadata": {},
   "source": [
    "**▶ 홀드아웃** "
   ]
  },
  {
   "cell_type": "code",
   "execution_count": 7,
   "metadata": {},
   "outputs": [],
   "source": [
    "from sklearn.model_selection import train_test_split\n",
    "\n",
    "train_X, val_X, train_Y, val_Y = train_test_split(X, Y, train_size=0.75, shuffle=True, stratify=None, random_state=None)\n",
    "# stratify=Y 은 Y를 기준으로 층화추출하는 것. 목표 레이블 비율에 맞게 데이터를 분할하고자 할 때 사용."
   ]
  },
  {
   "cell_type": "markdown",
   "metadata": {},
   "source": [
    "**▶ K-Fold** "
   ]
  },
  {
   "cell_type": "code",
   "execution_count": 10,
   "metadata": {},
   "outputs": [],
   "source": [
    "from sklearn.model_selection import KFold\n",
    "\n",
    "kfold = KFold(5)    # n_splits=5, shuffle=False\n",
    "kfold.split(X, Y)\n",
    "\n",
    "from sklearn.model_selection import StratifiedKFold     # 층화추출 K-Fold\n",
    "\n",
    "skfold = StratifiedKFold(5)     # n_splits=5, shuffle=False\n",
    "skfold.split(X, Y)"
   ]
  },
  {
   "cell_type": "markdown",
   "metadata": {},
   "source": [
    "### **▼ 성과 분석**"
   ]
  },
  {
   "cell_type": "markdown",
   "metadata": {},
   "source": []
  }
 ],
 "metadata": {
  "kernelspec": {
   "display_name": "bbg",
   "language": "python",
   "name": "python3"
  },
  "language_info": {
   "codemirror_mode": {
    "name": "ipython",
    "version": 3
   },
   "file_extension": ".py",
   "mimetype": "text/x-python",
   "name": "python",
   "nbconvert_exporter": "python",
   "pygments_lexer": "ipython3",
   "version": "3.9.19"
  }
 },
 "nbformat": 4,
 "nbformat_minor": 2
}
