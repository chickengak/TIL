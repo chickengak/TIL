{
 "cells": [
  {
   "cell_type": "code",
   "execution_count": 58,
   "metadata": {},
   "outputs": [],
   "source": [
    "import numpy as np; import pandas as pd; p = print; import matplotlib.pyplot as plt; from sklearn.datasets import load_iris"
   ]
  },
  {
   "cell_type": "markdown",
   "metadata": {},
   "source": [
    "# Python ~ Numpy ~ Pandas"
   ]
  },
  {
   "cell_type": "markdown",
   "metadata": {},
   "source": [
    "**▶ range / reversed**"
   ]
  },
  {
   "cell_type": "code",
   "execution_count": 3,
   "metadata": {},
   "outputs": [
    {
     "name": "stdout",
     "output_type": "stream",
     "text": [
      "8\n",
      "range(4, 8)\n",
      "<reversed object at 0x0000022CEBECD340>\n",
      "<list_reverseiterator object at 0x0000022CDAC1DF70>\n",
      "<reversed object at 0x0000022CEBECD340>\n",
      "<range_iterator object at 0x0000022CEBEDCC10>\n"
     ]
    }
   ],
   "source": [
    "'''\n",
    "range도 기본적으로 sequence형이라 iterable하게 쓸 수 있는 것이다.\n",
    "    - 인덱싱과 슬라이싱 가능\n",
    "'''\n",
    "print(range(1, 11)[7])\n",
    "print(range(1, 11)[3:7])    # range를 슬라이싱하면 range 객체로 나온다.\n",
    "'''\n",
    "reversed는 reversed 객체로 리턴됨.\n",
    "'''\n",
    "print(reversed('abcde'))\n",
    "print(reversed([1, 2, 3 ,4, 5]))\n",
    "print(reversed((1, 2, 3, 4, 5)))\n",
    "print(reversed(range(10)))"
   ]
  },
  {
   "cell_type": "markdown",
   "metadata": {},
   "source": [
    "**▶ ndarray**"
   ]
  },
  {
   "cell_type": "code",
   "execution_count": 28,
   "metadata": {},
   "outputs": [
    {
     "name": "stdout",
     "output_type": "stream",
     "text": [
      "['3' '4' '5' '6']\n",
      "<class 'numpy.ndarray'>\n",
      "[[0. 0. 0. 0.]\n",
      " [0. 0. 0. 0.]]\n",
      "[[9 9 9 9 9]\n",
      " [9 9 9 9 9]]\n",
      "[[1. 0. 0.]\n",
      " [0. 1. 0.]\n",
      " [0. 0. 1.]]\n",
      "\n",
      "[[ 1  2  3]\n",
      " [ 4  5  6]\n",
      " [ 7  8  9]\n",
      " [10 11 12]]\n",
      "8\n",
      "[[ 5  6]\n",
      " [ 8  9]\n",
      " [11 12]]\n",
      "[[4 5 6]\n",
      " [7 8 9]]\n"
     ]
    }
   ],
   "source": [
    "'''\n",
    "numpy 배열을 만들 때 dtype 인자를 사용하면 데이터 타입을 바꿀 수 있다.  ★\n",
    "'''\n",
    "print(arr:=np.array([3, 4, 5, 6], dtype='str'))\n",
    "print(type(arr))\n",
    "print(np.zeros((2, 4), dtype='float'))\n",
    "print(np.full((2, 5), 9))       # 9로 채운 행렬 만들기\n",
    "print(np.identity(3))           # 단위행렬\n",
    "p()\n",
    "arr = np.arange(1, 13).reshape(4, -1)\n",
    "print(arr)\n",
    "print(arr[-2, -2])\n",
    "print(arr[-3:, 1:])\n",
    "print(arr[1:3, :])"
   ]
  },
  {
   "cell_type": "code",
   "execution_count": 40,
   "metadata": {},
   "outputs": [
    {
     "name": "stdout",
     "output_type": "stream",
     "text": [
      "[3 4 5 6 0]\n",
      "[3. 4. 5. 6. 0.]\n",
      "[ 1 -1 -1  1  0]\n",
      "[ 3. -4. -5.  6.]\n",
      "\n"
     ]
    }
   ],
   "source": [
    "# abs(numpy.ndarray)\n",
    "arr = np.array([3, -4, -5, 6, 0])\n",
    "print(np.abs(arr))\n",
    "print(np.fabs(arr))     # 복소수가 아닌 경우에는 fabs로 빠르게 연산 가능하다고 함\n",
    "print(np.sign(arr))     # 부호만 가져옴. 0의 부호는 0\n",
    "'''넘파이 연산\n",
    "     np.sqrt(arr)  np.square(arr)  np.exp(arr)  np.log(arr)  np.log10(arr)\n",
    "     np.round(arr, 2)  np.ceil(arr)  np.floor(arr)'''\n",
    "print(np.trunc([3.14, -4.15, -5.79, 6.88]))     # 일반적인 올림, 내림과는 다르게 소수점 파트를 삭제함.\n",
    "'''형상 변환 \n",
    "     arr.reshape()  arr.ravel() == arr.flatten()  arr.transpose()\n",
    "   통계\n",
    "     np.mean(arr)  np.min(arr)  np.max(arr)\n",
    "     np.var(arr, ddof=None)  np.std(arr, ddof=None)     ← ddof = 자유도. 표본 통계량을 구할 때는 ddof=1을 줘야 함. ★\n",
    "     np.argmin(arr)  np.argmax(arr)                    ★\n",
    "'''; p()"
   ]
  },
  {
   "cell_type": "markdown",
   "metadata": {},
   "source": [
    "**▶ DataFrame**"
   ]
  },
  {
   "cell_type": "code",
   "execution_count": 53,
   "metadata": {},
   "outputs": [
    {
     "data": {
      "text/html": [
       "<div>\n",
       "<style scoped>\n",
       "    .dataframe tbody tr th:only-of-type {\n",
       "        vertical-align: middle;\n",
       "    }\n",
       "\n",
       "    .dataframe tbody tr th {\n",
       "        vertical-align: top;\n",
       "    }\n",
       "\n",
       "    .dataframe thead th {\n",
       "        text-align: right;\n",
       "    }\n",
       "</style>\n",
       "<table border=\"1\" class=\"dataframe\">\n",
       "  <thead>\n",
       "    <tr style=\"text-align: right;\">\n",
       "      <th></th>\n",
       "      <th>Name</th>\n",
       "      <th>Sex</th>\n",
       "      <th>Age</th>\n",
       "    </tr>\n",
       "  </thead>\n",
       "  <tbody>\n",
       "    <tr>\n",
       "      <th>a</th>\n",
       "      <td>Olivia</td>\n",
       "      <td>F</td>\n",
       "      <td>22</td>\n",
       "    </tr>\n",
       "    <tr>\n",
       "      <th>b</th>\n",
       "      <td>Lucas</td>\n",
       "      <td>M</td>\n",
       "      <td>32</td>\n",
       "    </tr>\n",
       "    <tr>\n",
       "      <th>c</th>\n",
       "      <td>Sophia</td>\n",
       "      <td>F</td>\n",
       "      <td>27</td>\n",
       "    </tr>\n",
       "    <tr>\n",
       "      <th>d</th>\n",
       "      <td>Zoe</td>\n",
       "      <td>F</td>\n",
       "      <td>24</td>\n",
       "    </tr>\n",
       "    <tr>\n",
       "      <th>e</th>\n",
       "      <td>Aca</td>\n",
       "      <td>F</td>\n",
       "      <td>38</td>\n",
       "    </tr>\n",
       "    <tr>\n",
       "      <th>f</th>\n",
       "      <td>Elliot</td>\n",
       "      <td>M</td>\n",
       "      <td>19</td>\n",
       "    </tr>\n",
       "  </tbody>\n",
       "</table>\n",
       "</div>"
      ],
      "text/plain": [
       "     Name Sex  Age\n",
       "a  Olivia   F   22\n",
       "b   Lucas   M   32\n",
       "c  Sophia   F   27\n",
       "d     Zoe   F   24\n",
       "e     Aca   F   38\n",
       "f  Elliot   M   19"
      ]
     },
     "metadata": {},
     "output_type": "display_data"
    },
    {
     "name": "stdout",
     "output_type": "stream",
     "text": [
      "Zoe\n",
      "24\n",
      "     Name Sex  Age\n",
      "c  Sophia   F   27\n",
      "d     Zoe   F   24\n",
      "e     Aca   F   38\n",
      "     Name Sex  Age\n",
      "c  Sophia   F   27\n",
      "d     Zoe   F   24\n",
      "e     Aca   F   38\n",
      "Sophia Sophia\n"
     ]
    }
   ],
   "source": [
    "'''\n",
    "    pd.DataFrame(object, index, columns)\n",
    "'''\n",
    "df = pd.DataFrame({\n",
    "    'Name': ['Olivia', 'Lucas', 'Sophia', 'Zoe', 'Aca', 'Elliot'],\n",
    "    'Sex': ['F', 'M', 'F', 'F', 'F', 'M'],\n",
    "    'Age': [22, 32, 27, 24, 38, 19]\n",
    "}, index=list('abcdef'))\n",
    "display(df)\n",
    "print(df.iloc[3, 0])\n",
    "print(df.loc['d', 'Age'])\n",
    "print(df.iloc[2:5])\n",
    "print(df.loc['c':'e'])      # loc는 마지막 슬라이싱 행이 포함됨. 지져스\n",
    "print(df['Name']['c'], df['Name'][2])       # 인덱서 없이 인덱싱할 때는 열 → 행 순서. 걍 loc나 iloc 쓰자."
   ]
  },
  {
   "cell_type": "code",
   "execution_count": 68,
   "metadata": {},
   "outputs": [
    {
     "name": "stdout",
     "output_type": "stream",
     "text": [
      "[(5.02, 5.74], (4.296, 5.02], (5.74, 6.46], (6.46, 7.18], (7.18, 7.9]]\n",
      "Categories (5, interval[float64, right]): [(4.296, 5.02] < (5.02, 5.74] < (5.74, 6.46] < (6.46, 7.18] < (7.18, 7.9]]\n"
     ]
    }
   ],
   "source": [
    "'''데이터 프레임의 통계\n",
    "        df.describe()  df.count()  df.mean()  df.min()  df.max()\n",
    "        df.var(ddof=1)  df.std(ddof=1)      ← 넘파이와는 다르게 ddof=1이 디폴트 ★\n",
    "        df.median()  df.quantile(q=0.5)  df.mode()     ★\n",
    "\n",
    "   입출력\n",
    "        pd.read_csv(path, sep=',', encoding=None)\n",
    "        pd.to_csv(path, index=True)\n",
    "\n",
    "   정렬\n",
    "        df.sort_values(by, ascending=True, axis=0)\n",
    "        df.sort_index(axis=0, ascending=True, level=None)       ← axis=1이면 열 인덱스(특성 순서)을 정렬함\n",
    "\n",
    "   순위\n",
    "        df.rank(axis=0, method='average', ascending=True)\n",
    "\n",
    "   컬럼 추가, 삭제, 구간화\n",
    "        df['컬럼명'] = 추가할 컬럼\n",
    "        df.insert(loc, column, value)\n",
    "        df.drop(labels, axis=0)\n",
    "        pd.cut(x, bins, labels=None, right=True)        ← 구간화(비닝, binning)\n",
    "        pd.qcut(x, q, labels=None, right=True)          ← 분위수 기반의 구간화\n",
    "'''\n",
    "iris = pd.DataFrame(load_iris()['data'], columns=load_iris()['feature_names'])\n",
    "iris['cut'] = pd.cut(iris['sepal length (cm)'], bins=5)\n",
    "print(iris['cut'].unique())"
   ]
  },
  {
   "cell_type": "code",
   "execution_count": null,
   "metadata": {},
   "outputs": [],
   "source": []
  }
 ],
 "metadata": {
  "kernelspec": {
   "display_name": "bbg",
   "language": "python",
   "name": "python3"
  },
  "language_info": {
   "codemirror_mode": {
    "name": "ipython",
    "version": 3
   },
   "file_extension": ".py",
   "mimetype": "text/x-python",
   "name": "python",
   "nbconvert_exporter": "python",
   "pygments_lexer": "ipython3",
   "version": "3.9.19"
  }
 },
 "nbformat": 4,
 "nbformat_minor": 2
}
