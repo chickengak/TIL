{
 "cells": [
  {
   "cell_type": "code",
   "execution_count": 48,
   "metadata": {},
   "outputs": [],
   "source": [
    "import numpy as np; import pandas as pd; from scipy import stats; from sklearn.datasets import load_iris"
   ]
  },
  {
   "cell_type": "markdown",
   "metadata": {},
   "source": [
    "https://www.kaggle.com/code/agileteam/t3-example  \n",
    "주어진 데이터는 고혈압 환자 치료 전후의 혈압이다. 해당 치료가 효과가 있는지 대응(쌍체)표본 t-검정을 진행하시오¶\n",
    "- 귀무가설(H0): μ >= 0\n",
    "- 대립가설(H1): μ < 0\n",
    "- μ = (치료 후 혈압 - 치료 전 혈압)의 평균\n",
    "- 유의수준: 0.05\n",
    "----\n",
    "1. μ의 표본평균은?(소수 둘째자리까지 반올림)\n",
    "2. 검정통계량 값은?(소수 넷째자리까지 반올림)\n",
    "3. p-값은?(소수 넷째자리까지 반올림)\n",
    "4. 가설검정의 결과는? (유의수준 5%)"
   ]
  },
  {
   "cell_type": "code",
   "execution_count": 41,
   "metadata": {},
   "outputs": [
    {
     "name": "stdout",
     "output_type": "stream",
     "text": [
      "-5.091666666666667\n"
     ]
    },
    {
     "data": {
      "text/plain": [
       "Ttest_relResult(statistic=-3.3371870510833657, pvalue=0.0005648957322420411)"
      ]
     },
     "execution_count": 41,
     "metadata": {},
     "output_type": "execute_result"
    }
   ],
   "source": [
    "df = pd.read_csv('samples/blood_pressure.csv')\n",
    "\n",
    "print((df['bp_after'] - df['bp_before']).mean())\n",
    "stats.ttest_rel(df['bp_after'], df['bp_before'], alternative='less')"
   ]
  },
  {
   "cell_type": "markdown",
   "metadata": {},
   "source": [
    "https://www.kaggle.com/code/agileteam/t3-ttest-ind  \n",
    "어떤 특정 약물을 복용한 사람들의 평균 체온이 복용하지 않은 사람들의 평균 체온과 유의미하게 다른지 검정해보려고 합니다.¶  \n",
    "가정:\n",
    "\n",
    "- 약물을 복용한 그룹과 복용하지 않은 그룹의 체온 데이터가 각각 주어져 있다고 가정합니다.\n",
    "- 각 그룹의 체온은 정규분포를 따른다고 가정합니다.  \n",
    "\n",
    "검정통계량, p-value, 검정결과를 출력하시오"
   ]
  },
  {
   "cell_type": "code",
   "execution_count": 42,
   "metadata": {},
   "outputs": [
    {
     "data": {
      "text/plain": [
       "Ttest_indResult(statistic=3.7964208654863336, pvalue=0.001321891476703691)"
      ]
     },
     "execution_count": 42,
     "metadata": {},
     "output_type": "execute_result"
    }
   ],
   "source": [
    "group1 = [36.8, 36.7, 37.1, 36.9, 37.2, 36.8, 36.9, 37.1, 36.7, 37.1]\n",
    "group2 = [36.5, 36.6, 36.3, 36.6, 36.9, 36.7, 36.7, 36.8, 36.5, 36.7]\n",
    "\n",
    "stats.ttest_ind(group1, group2)"
   ]
  },
  {
   "cell_type": "markdown",
   "metadata": {},
   "source": [
    "https://www.kaggle.com/code/agileteam/t3-ttest-1samp   \n",
    "문제: 다음은 22명의 학생들이 국어시험에서 받은 점수이다. 학생들의 평균이 75보다 크다고 할 수 있는가?  \n",
    "귀무가설(H0): 모평균은 mu와 같다. (μ = mu), 학생들의 평균은 75이다  \n",
    "대립가설(H1): 모평균은 mu보다 크다. (μ > mu), 학생들의 평균은 75보다 크다  \n",
    "가정:\n",
    "- 모집단은 정규분포를 따른다.\n",
    "- 표본의 크기가 충분히 크다.\n",
    "\n",
    "검정통계량, p-value, 검정결과를 출력하시오"
   ]
  },
  {
   "cell_type": "code",
   "execution_count": 43,
   "metadata": {},
   "outputs": [
    {
     "data": {
      "text/plain": [
       "Ttest_1sampResult(statistic=1.765879233231226, pvalue=0.04597614747709146)"
      ]
     },
     "execution_count": 43,
     "metadata": {},
     "output_type": "execute_result"
    }
   ],
   "source": [
    "scores = [75, 80, 68, 72, 77, 82, 81, 79, 70, 74, 76, 78, 81, 73, 81, 78, 75, 72, 74, 79, 78, 79]\n",
    "\n",
    "stats.ttest_1samp(scores, 75, alternative='greater')"
   ]
  },
  {
   "cell_type": "markdown",
   "metadata": {},
   "source": [
    "https://www.kaggle.com/code/agileteam/t3-anova  \n",
    "세 가지 다른 교육 방법(A, B, C)을 사용하여 수험생들의 시험 성적을 개선시키는 효과를 평가하고자 한다. 30명의 학생들을 무작위로 세 그룹으로 배정하여 교육을 실시하였고, 시험을 보고 성적을 측정하였습니다. 다음은 각 그룹의 학생들의 성적 데이터입니다.¶  \n",
    "귀무가설(H0): 세 그룹(A, B, C) 간의 평균 성적 차이가 없다.  \n",
    "대립가설(H1 또는 Ha): 세 그룹(A, B, C) 간의 평균 성적 차이가 있다.  \n",
    "1. 다음 주어진 데이터로 일원배치법을 수행하여 그룹 간의 평균 성적 차이가 있는지 검정하세요  \n",
    "    1. f값 (소수 둘째자리)\n",
    "    2. p값 (소수 여섯째자리)\n",
    "    3. 검정결과 출력"
   ]
  },
  {
   "cell_type": "code",
   "execution_count": 46,
   "metadata": {},
   "outputs": [
    {
     "name": "stdout",
     "output_type": "stream",
     "text": [
      "F_onewayResult(statistic=16.884107946026987, pvalue=1.752985223798021e-05)\n"
     ]
    }
   ],
   "source": [
    "groupA = [85, 92, 78, 88, 83, 90, 76, 84, 92, 87]\n",
    "groupB = [79, 69, 84, 78, 79, 83, 79, 81, 86, 88]\n",
    "groupC = [75, 68, 74, 65, 77, 72, 70, 73, 78, 75]\n",
    "\n",
    "print(stats.f_oneway(groupA, groupB, groupC))\n",
    "\n",
    "from statsmodels.formula.api import ols\n",
    "from statsmodels.stats.anova import anova_lm\n",
    "# ols 는 formula 쓰려면 골치아프네"
   ]
  },
  {
   "cell_type": "markdown",
   "metadata": {},
   "source": [
    "https://www.kaggle.com/code/agileteam/t3-shapiro-wilk  \n",
    "12명의 수험생이 빅데이터 분석기사 시험에서 받은 점수이다. Shapiro-Wilk 검정을 사용하여 데이터가 정규 분포를 따르는지 검증하시오¶  \n",
    "귀무 가설(H0): 데이터는 정규 분포를 따른다.  \n",
    "대립 가설(H1): 데이터는 정규 분포를 따르지 않는다.  \n",
    "Shapiro-Wilk 검정 통계량, p-value, 검증결과를 출력하시오  "
   ]
  },
  {
   "cell_type": "code",
   "execution_count": 47,
   "metadata": {},
   "outputs": [
    {
     "data": {
      "text/plain": [
       "ShapiroResult(statistic=0.9768090844154358, pvalue=0.9676500558853149)"
      ]
     },
     "execution_count": 47,
     "metadata": {},
     "output_type": "execute_result"
    }
   ],
   "source": [
    "data = [75, 83, 81, 92, 68, 77, 78, 80, 85, 95, 79, 89]\n",
    "\n",
    "stats.shapiro(data)"
   ]
  },
  {
   "cell_type": "markdown",
   "metadata": {},
   "source": [
    "https://www.kaggle.com/code/agileteam/t3-correlation  \n",
    "iris에서 Sepal Length와 Sepal Width의 상관계수 계산하고 소수 둘째자리까지 출력하시오"
   ]
  },
  {
   "cell_type": "code",
   "execution_count": 55,
   "metadata": {},
   "outputs": [
    {
     "data": {
      "text/html": [
       "<div>\n",
       "<style scoped>\n",
       "    .dataframe tbody tr th:only-of-type {\n",
       "        vertical-align: middle;\n",
       "    }\n",
       "\n",
       "    .dataframe tbody tr th {\n",
       "        vertical-align: top;\n",
       "    }\n",
       "\n",
       "    .dataframe thead th {\n",
       "        text-align: right;\n",
       "    }\n",
       "</style>\n",
       "<table border=\"1\" class=\"dataframe\">\n",
       "  <thead>\n",
       "    <tr style=\"text-align: right;\">\n",
       "      <th></th>\n",
       "      <th>sepal length (cm)</th>\n",
       "      <th>sepal width (cm)</th>\n",
       "    </tr>\n",
       "  </thead>\n",
       "  <tbody>\n",
       "    <tr>\n",
       "      <th>sepal length (cm)</th>\n",
       "      <td>1.00000</td>\n",
       "      <td>-0.11757</td>\n",
       "    </tr>\n",
       "    <tr>\n",
       "      <th>sepal width (cm)</th>\n",
       "      <td>-0.11757</td>\n",
       "      <td>1.00000</td>\n",
       "    </tr>\n",
       "  </tbody>\n",
       "</table>\n",
       "</div>"
      ],
      "text/plain": [
       "                   sepal length (cm)  sepal width (cm)\n",
       "sepal length (cm)            1.00000          -0.11757\n",
       "sepal width (cm)            -0.11757           1.00000"
      ]
     },
     "metadata": {},
     "output_type": "display_data"
    },
    {
     "name": "stdout",
     "output_type": "stream",
     "text": [
      "-0.12\n"
     ]
    }
   ],
   "source": [
    "df = pd.DataFrame(load_iris()['data'], columns=load_iris()['feature_names'])\n",
    "display(df[['sepal length (cm)', 'sepal width (cm)']].corr())\n",
    "print(round(-0.11757, 2))"
   ]
  },
  {
   "cell_type": "markdown",
   "metadata": {},
   "source": [
    "https://www.kaggle.com/code/agileteam/t3-2-example-py/  \n",
    "Pclass, Gender, sibsp, parch를 독립변수로 사용하여 로지스틱 회귀모형을 실시하였을 때, parch변수의 계수값은? 단, Pclass는 범주형 변수이다"
   ]
  },
  {
   "cell_type": "code",
   "execution_count": 95,
   "metadata": {},
   "outputs": [
    {
     "name": "stdout",
     "output_type": "stream",
     "text": [
      "                 Generalized Linear Model Regression Results                  \n",
      "==============================================================================\n",
      "Dep. Variable:               survived   No. Observations:                  891\n",
      "Model:                            GLM   Df Residuals:                      885\n",
      "Model Family:                Binomial   Df Model:                            5\n",
      "Link Function:                  Logit   Scale:                          1.0000\n",
      "Method:                          IRLS   Log-Likelihood:                -409.47\n",
      "Date:                Fri, 21 Jun 2024   Deviance:                       818.94\n",
      "Time:                        19:13:50   Pearson chi2:                     918.\n",
      "No. Iterations:                     5   Pseudo R-squ. (CS):             0.3381\n",
      "Covariance Type:            nonrobust                                         \n",
      "==============================================================================\n",
      "                 coef    std err          z      P>|z|      [0.025      0.975]\n",
      "------------------------------------------------------------------------------\n",
      "const          2.4917      0.239     10.432      0.000       2.024       2.960\n",
      "sibsp         -0.2326      0.099     -2.341      0.019      -0.427      -0.038\n",
      "parch         -0.0498      0.110     -0.451      0.652      -0.266       0.167\n",
      "pclass_2      -0.8482      0.247     -3.439      0.001      -1.331      -0.365\n",
      "pclass_3      -1.8669      0.215     -8.682      0.000      -2.288      -1.445\n",
      "sex_male      -2.7603      0.196    -14.116      0.000      -3.144      -2.377\n",
      "==============================================================================\n",
      "Optimization terminated successfully.\n",
      "         Current function value: 0.459565\n",
      "         Iterations 6\n",
      "                           Logit Regression Results                           \n",
      "==============================================================================\n",
      "Dep. Variable:               survived   No. Observations:                  891\n",
      "Model:                          Logit   Df Residuals:                      885\n",
      "Method:                           MLE   Df Model:                            5\n",
      "Date:                Fri, 21 Jun 2024   Pseudo R-squ.:                  0.3099\n",
      "Time:                        19:13:51   Log-Likelihood:                -409.47\n",
      "converged:                       True   LL-Null:                       -593.33\n",
      "Covariance Type:            nonrobust   LLR p-value:                 2.687e-77\n",
      "==================================================================================\n",
      "                     coef    std err          z      P>|z|      [0.025      0.975]\n",
      "----------------------------------------------------------------------------------\n",
      "Intercept          2.4917      0.239     10.432      0.000       2.024       2.960\n",
      "C(pclass)[T.2]    -0.8482      0.247     -3.439      0.001      -1.331      -0.365\n",
      "C(pclass)[T.3]    -1.8669      0.215     -8.682      0.000      -2.288      -1.445\n",
      "sex[T.male]       -2.7603      0.196    -14.116      0.000      -3.144      -2.377\n",
      "sibsp             -0.2326      0.099     -2.341      0.019      -0.427      -0.038\n",
      "parch             -0.0498      0.110     -0.451      0.652      -0.266       0.167\n",
      "==================================================================================\n"
     ]
    }
   ],
   "source": [
    "from seaborn import load_dataset\n",
    "df = load_dataset('titanic')\n",
    "\n",
    "import statsmodels.api as sm                            # sm.GLM()\n",
    "df['pclass'] = df['pclass'].astype('category')          # 범주형으로\n",
    "X = df[['pclass', 'sex', 'sibsp', 'parch']]\n",
    "X = pd.get_dummies(X, drop_first=True)\n",
    "Y = df['survived']\n",
    "X = sm.add_constant(X)\n",
    "model = sm.GLM(Y, X, family=sm.families.Binomial()).fit()\n",
    "print(model.summary())\n",
    "\n",
    "# ----------------------------------------------------------------------\n",
    "df = load_dataset('titanic')\n",
    "\n",
    "from statsmodels.formula.api import logit               # logit\n",
    "formula = 'survived ~ C(pclass) + sex + sibsp + parch'\n",
    "model = logit(formula, df).fit()\n",
    "print(model.summary())\n"
   ]
  },
  {
   "cell_type": "markdown",
   "metadata": {},
   "source": [
    "https://www.kaggle.com/code/agileteam/t3-ttest-anova-py/  \n",
    "문제: 두 교육 방법의 효과 비교  \n",
    "연구자는 두 가지 다른 교육 방법이 학생들의 성적에 미치는 영향을 비교하고자 합니다. 연구자는 무작위로 선발된 20명의 학생들을 두 그룹으로 나누어 한 그룹에는 교육 방법 A를, 다른 그룹에는 교육 방법 B를 적용합니다. 교육이 끝난 후, 두 그룹의 성적을 비교하기 위해 독립 표본 t-검정과 ANOVA F-검정을 실시하려고 합니다."
   ]
  },
  {
   "cell_type": "code",
   "execution_count": 3,
   "metadata": {},
   "outputs": [
    {
     "name": "stdout",
     "output_type": "stream",
     "text": [
      "Ttest_indResult(statistic=3.1068522301122954, pvalue=0.006087373605949963)\n",
      "           df      sum_sq    mean_sq         F    PR(>F)\n",
      "A         1.0    4.733766   4.733766  0.283319  0.608995\n",
      "Residual  8.0  133.666234  16.708279       NaN       NaN\n",
      "F_onewayResult(statistic=9.652530779753763, pvalue=0.006087373605949924)\n"
     ]
    }
   ],
   "source": [
    "from scipy import stats\n",
    "import pandas as pd\n",
    "df = pd.DataFrame({\n",
    "    'A':[77, 75, 82, 80, 81, 83, 84, 76, 75, 87],\n",
    "    'B':[80, 74, 77, 79, 71, 74, 78, 69, 70, 72],\n",
    "})\n",
    "\n",
    "\n",
    "t, p = stats.ttest_ind(df['A'], df['B'])\n",
    "print(stats.ttest_ind(df['A'], df['B']))\n",
    "\n",
    "# from statsmodels.formula.api import ols\n",
    "# from statsmodels.stats.anova import anova_lm\n",
    "# model = ols('B ~ A', data=df).fit()\n",
    "# print(anova_lm(model))\n",
    "\n",
    "print(stats.f_oneway(df['A'], df['B']))"
   ]
  },
  {
   "cell_type": "markdown",
   "metadata": {},
   "source": [
    "https://www.kaggle.com/code/agileteam/t3-chisquare-py  \n",
    "카이제곱 적합도 검정  \n",
    "고등학교에서는 졸업생들이 선택하는 대학 전공 분야의 선호도가 시간이 지남에 따라 변하지 않는다고 가정합니다. 학교 측은 최근 졸업생들의 전공 선택이 과거와 같은 패턴을 따르는지 알아보기 위해 적합도 검정을 실시하기로 결정했습니다.\n",
    "\n",
    "과거 자료에 따르면 졸업생들이 선택하는 전공의 분포는 다음과 같습니다:\n",
    "\n",
    "인문학: 20% 사회과학: 30% 자연과학: 25% 공학: 15% 기타: 10% 올해 졸업한 학생 200명의 전공 선택 분포는 다음과 같았습니다:\n",
    "\n",
    "인문학: 30명 사회과학: 60명 자연과학: 50명 공학: 40명 기타: 20명 이 데이터를 바탕으로, 졸업생들의 전공 선택 패턴이 과거와 유사한지를 알아보기 위해 카이제곱 적합도 검정을 실시해야 합니다. 유의 수준은 0.05로 설정합니다.\n",
    "\n",
    "검정 통계량?  \n",
    "p-value?  \n",
    "유의수준 하 귀무가설 기각 또는 채택?"
   ]
  },
  {
   "cell_type": "code",
   "execution_count": 5,
   "metadata": {},
   "outputs": [
    {
     "data": {
      "text/plain": [
       "Power_divergenceResult(statistic=5.833333333333334, pvalue=0.21194558437271782)"
      ]
     },
     "execution_count": 5,
     "metadata": {},
     "output_type": "execute_result"
    }
   ],
   "source": [
    "from scipy import stats\n",
    "a = [40, 60, 50, 30, 20]\n",
    "b = [30, 60, 50, 40, 20]\n",
    "stats.chisquare(a, b)"
   ]
  },
  {
   "cell_type": "markdown",
   "metadata": {},
   "source": [
    "https://www.kaggle.com/code/agileteam/t3-scl-py  \n",
    "지지도, 신뢰도, 향상도¶  \n",
    "- '빼빼로'와 '딴짓초코'가 함께 팔린 거래의 지지도를 계산하세요.\n",
    "- '빼빼로'가 팔린 거래 중에서 '빼빼로'와 '오징어칩'이 함께 팔린 거래의 신뢰도를 계산하세요.\n",
    "- '빼빼로'와 '양조위빵'의 향상도를 계산하세요.\n",
    "----\n",
    "- 지지도(A,B): A와 B가 함께 팔린 거래 횟수 / 전체 거래 횟수\n",
    "- 신뢰도(A->B): A와 B가 함께 팔린 거래 횟수 / A가 팔린 거래 횟수\n",
    "- 향상도(A,B): 신뢰도(A->B) / 지지도(B)"
   ]
  },
  {
   "cell_type": "code",
   "execution_count": 12,
   "metadata": {},
   "outputs": [
    {
     "name": "stdout",
     "output_type": "stream",
     "text": [
      "지지도:  0.2\n",
      "신뢰도:  0.5714285714285714\n",
      "향상도:  1.1428571428571428\n"
     ]
    }
   ],
   "source": [
    "import pandas as pd\n",
    "df = pd.DataFrame({\n",
    "    'transaction': [1, 2, 3, 4, 5, 6, 7, 8, 9, 10],\n",
    "    '빼빼로':   [1, 0, 1, 1, 0, 1, 1, 0, 1, 1],\n",
    "    '딴짓초코': [0, 1, 1, 0, 1, 0, 1, 1, 0, 0],\n",
    "    '양조위빵': [1, 0, 0, 1, 1, 1, 0, 0, 1, 0],\n",
    "    '오징어칩': [0, 1, 1, 0, 0, 1, 0, 1, 1, 1],\n",
    "    '초코파이': [1, 1, 0, 0, 1, 0, 1, 1, 0, 0]\n",
    "})\n",
    "print('지지도: ', len(df.loc[(df['빼빼로'] == 1) & (df['딴짓초코'] == 1)]) / len(df))\n",
    "print('신뢰도: ', len(df.loc[(df['빼빼로'] == 1) & (df['오징어칩'] == 1)]) / sum(df['빼빼로']))\n",
    "res = len(df.loc[(df['빼빼로'] == 1) & (df['양조위빵'] == 1)]) / sum(df['빼빼로'])\n",
    "print('향상도: ', res / (sum(df['양조위빵']) / len(df)))"
   ]
  },
  {
   "cell_type": "markdown",
   "metadata": {},
   "source": [
    "https://www.kaggle.com/code/agileteam/t3-pmf-py  \n",
    "포아송분포  \n",
    "문제: 한 서점에서는 평균적으로 하루에 3명의 고객이 특정 잡지를 구매합니다. 이 데이터는 포아송 분포를 따른다고 가정할 때, 다음 질문에 대한 답을 구하세요.\n",
    "\n",
    "- 하루에 정확히 5명의 고객이 잡지를 구매할 확률은 얼마입니까? (%로 값을 정수로 입력하시오)  \n",
    "- 하루에 적어도 2명의 고객이 잡지를 구매할 확률은 얼마입니까? (%로 값을 정수로 입력하시오)\n",
    "- 포아송 분포의 확률 질량 함수(PMF)\n",
    "- λ는 단위 시간(또는 단위 공간)당 평균 발생 횟수이고, k는 특정 시간(또는 공간) 동안의 이벤트 발생 횟수입니다."
   ]
  },
  {
   "cell_type": "code",
   "execution_count": 62,
   "metadata": {},
   "outputs": [
    {
     "name": "stdout",
     "output_type": "stream",
     "text": [
      "0.10081881344492458\n",
      "0.8008517265285442\n"
     ]
    }
   ],
   "source": [
    "print(stats.poisson.pmf(5, 3))\n",
    "print(1 - stats.poisson.cdf(1, 3))"
   ]
  },
  {
   "cell_type": "markdown",
   "metadata": {},
   "source": [
    "https://www.kaggle.com/code/agileteam/t3-chi2-contingency-py  \n",
    "성별과 시험합격은 독립적인가를 검정하시오!\n",
    "1. 검정 통계량?\n",
    "2. p-value?\n",
    "3. 귀무가설 기준 (기각/채택)?\n",
    "4. 남자의 합격 기대 빈도?  "
   ]
  },
  {
   "cell_type": "code",
   "execution_count": 69,
   "metadata": {},
   "outputs": [
    {
     "name": "stdout",
     "output_type": "stream",
     "text": [
      "      남자   여자\n",
      "합격   100  130\n",
      "불합격  200  170\n"
     ]
    },
    {
     "data": {
      "text/plain": [
       "(5.929494712103407,\n",
       " 0.01488951060599475,\n",
       " 1,\n",
       " array([[115., 115.],\n",
       "        [185., 185.]]))"
      ]
     },
     "execution_count": 69,
     "metadata": {},
     "output_type": "execute_result"
    }
   ],
   "source": [
    "df = pd.DataFrame({'합격': [100, 130], '불합격': [200, 170]}, index=['남자', '여자']).T\n",
    "print(df)\n",
    "\n",
    "stats.chi2_contingency(df)      # 성별은 합격여부에 독립적이지 않다. 즉, 성별은 합격여부에 영향을 미친다. (기대빈도: 완전히 독립적일 때 예상되는 빈도)"
   ]
  },
  {
   "cell_type": "markdown",
   "metadata": {},
   "source": [
    "https://www.kaggle.com/code/agileteam/t3-probability-py  \n",
    "베르누이 분포와 이항분포**¶  \n",
    "1. [베르누이 분포] 다음 데이터는 100번의 시도에서 각각 성공(1) 또는 실패(0)를 나타냅니다. 이 데이터를 바탕으로 각 시도의 성공 확률을 계산하시오.\n",
    "2. [이항분포] 1번 문제에서 계산한 성공 확률을 사용하여, 100번의 시도 중 정확히 60번 성공할 확률을 계산하시오."
   ]
  },
  {
   "cell_type": "code",
   "execution_count": 72,
   "metadata": {},
   "outputs": [
    {
     "data": {
      "text/html": [
       "<div>\n",
       "<style scoped>\n",
       "    .dataframe tbody tr th:only-of-type {\n",
       "        vertical-align: middle;\n",
       "    }\n",
       "\n",
       "    .dataframe tbody tr th {\n",
       "        vertical-align: top;\n",
       "    }\n",
       "\n",
       "    .dataframe thead th {\n",
       "        text-align: right;\n",
       "    }\n",
       "</style>\n",
       "<table border=\"1\" class=\"dataframe\">\n",
       "  <thead>\n",
       "    <tr style=\"text-align: right;\">\n",
       "      <th></th>\n",
       "      <th>Success</th>\n",
       "    </tr>\n",
       "  </thead>\n",
       "  <tbody>\n",
       "    <tr>\n",
       "      <th>0</th>\n",
       "      <td>1</td>\n",
       "    </tr>\n",
       "    <tr>\n",
       "      <th>1</th>\n",
       "      <td>0</td>\n",
       "    </tr>\n",
       "    <tr>\n",
       "      <th>2</th>\n",
       "      <td>0</td>\n",
       "    </tr>\n",
       "  </tbody>\n",
       "</table>\n",
       "</div>"
      ],
      "text/plain": [
       "   Success\n",
       "0        1\n",
       "1        0\n",
       "2        0"
      ]
     },
     "metadata": {},
     "output_type": "display_data"
    },
    {
     "name": "stdout",
     "output_type": "stream",
     "text": [
      "각 시도의 성공 확률:  0.62\n",
      "100번의 시도 중 정확히 60번 성공할 확률:  0.07464985555860272\n"
     ]
    }
   ],
   "source": [
    "data = [1, 0, 0, 1, 1, 0, 1, 0, 0, 1, 0, 1, 1, 0, 1, 1, 1, 0, 0, 0, 0, 0, 1, 0, 1, 0, 1, 0, 1, 1, 1, 0, 1, 1, 1, 0, 0, 0, 0, 0, 1, 1, 0, 1,\n",
    "        0, 0, 1, 1, 1, 1, 1, 1, 0, 1, 1, 1, 0, 1, 1, 1, 1, 1, 0, 1, 1, 1, 0, 1, 0, 1, 0, 1, 0, 0, 0, 1, 1, 1, 1, 1, 1, 1, 1, 0, 1, 1, 1, 1, 1, 0, 1, 0, 1, 0, 1, 1, 1, 1, 0, 1]\n",
    "df = pd.DataFrame(data, columns=['Success'])\n",
    "display(df.head(3))\n",
    "print('각 시도의 성공 확률: ', df['Success'].sum()/len(df))\n",
    "print('100번의 시도 중 정확히 60번 성공할 확률: ', stats.binom.pmf(60, 100, 0.62))"
   ]
  },
  {
   "cell_type": "markdown",
   "metadata": {},
   "source": [
    "https://www.kaggle.com/code/agileteam/t3-confidence-interval-py  \n",
    "점 추정과 구간 추정¶  \n",
    "데이터셋은 어떤 도시의 일일 평균 온도 입니다.  \n",
    "\n",
    "- 점추정: 데이터셋을 기반으로 이 도시의 평균 연간 온도를 점추정하세요. (반올림하여 소수 둘째자리까지)\n",
    "- 구간추정: 95% 신뢰수준에서 이 도시의 평균 연간 온도에 대한 신뢰구간을 구하세요. (반올림하여 소수 둘째자리까지)"
   ]
  },
  {
   "cell_type": "code",
   "execution_count": 96,
   "metadata": {},
   "outputs": [],
   "source": [
    "data = [28.82026173, 22.00078604, 24.89368992, 31.204466  , 29.33778995,\n",
    "        15.1136106 , 24.75044209, 19.24321396, 19.48390574, 22.05299251,\n",
    "        20.72021786, 27.27136753, 23.80518863, 20.60837508, 22.21931616,\n",
    "        21.66837164, 27.47039537, 18.97420868, 21.56533851, 15.7295213 ,\n",
    "         7.23505092, 23.26809298, 24.32218099, 16.2891749 , 31.34877312,\n",
    "        12.72817163, 20.22879259, 19.06408075, 27.66389607, 27.34679385,\n",
    "        20.77473713, 21.8908126 , 15.56107126, 10.09601766, 18.26043925,\n",
    "        20.78174485, 26.1514534 , 26.01189924, 18.06336591, 18.48848625,\n",
    "        14.75723517, 12.89991031, 11.46864905, 29.75387698, 17.45173909,\n",
    "        17.80962849, 13.7360232 , 23.88745178, 11.93051076, 18.9362986 ,\n",
    "        15.52266719, 21.93451249, 17.44597431, 14.09683908, 19.85908886,\n",
    "        22.14165935, 20.33258611, 21.51235949, 16.82838953, 18.18629417,\n",
    "        16.63769776, 18.20223419, 15.93426859, 11.36858699, 20.88713071,\n",
    "        17.99109532, 11.84900827, 22.31391128, 15.46350818, 20.25972698,\n",
    "        23.64545281, 20.64491455, 25.69700342, 13.8258709 , 22.01170821,\n",
    "        16.57594955, 15.64601425, 17.10575168, 18.44223734, 20.28082671,\n",
    "        14.1742508 , 24.50413243, 22.3283122 , 12.31878157, 27.44126097,\n",
    "        29.47944588, 25.89389786, 19.10037582, 14.64623689, 25.27225863,\n",
    "        17.98411527, 26.11222535, 21.04137489, 24.88319518, 21.78183199,\n",
    "        23.53286584, 20.0525001 , 28.92935247, 20.63456046, 22.00994682,\n",
    "        29.41575349, 13.26120469, 13.64757501, 24.84698354, 14.13438297,\n",
    "        29.71810593, 17.9319051 , 16.26272594, 29.61471013, 27.40257396,\n",
    "        29.3377948 , 24.53022329, 15.69387157, 29.55032477, 18.65998315,\n",
    "        24.01228198, 24.73625984, 19.22494953, 23.07039685, 24.61103336,\n",
    "        21.88212766, 14.50299605, 21.49119087, 26.63192948, 16.5271607 ,\n",
    "        19.2518273 , 17.82423224, 29.24631864, 23.36147379, 22.03730918,\n",
    "        16.15041963, 22.69624596, 16.6283367 , 20.15915279, 16.82076961,\n",
    "        23.38216647, 22.88295408, 18.95850622, 21.98003356, 14.53469246,\n",
    "        12.54371204, 22.19695851, 20.83336748, 23.17515718, 31.91572387,\n",
    "        24.72239743, 15.43588887, 25.58508144, 13.42046295, 17.69207698,\n",
    "        19.65879197, 28.56671361, 16.27622589, 15.86780731, 19.50773738,\n",
    "        16.68260857, 25.63317961, 14.60034246, 14.26265674, 17.81089978,\n",
    "        17.50983775, 29.64766027, 24.74710403, 20.43775621, 13.87282241,\n",
    "        24.22181488, 14.99892326, 12.27614452, 25.94014896, 21.58471306,\n",
    "        24.60429412, 21.59363826, 24.28415306, 16.74487203, 14.82878579,\n",
    "        23.40797259, 15.98295168, 16.55225111, 17.72233748, 20.0873958 ,\n",
    "        18.23003044, 13.12524353, 16.78190799,  8.88298424, 23.12615726,\n",
    "        11.98971172, 14.4780833 , 20.2608254 , 16.30218502, 27.71507298,\n",
    "        13.53571545, 21.33525435, 19.80358591, 14.15953251, 22.6163833 ,\n",
    "        19.14226834, 23.85895276, 24.11752077, 30.81617975, 26.68263975,\n",
    "        18.15409081, 18.80310411, 25.49829798, 23.27631865, 23.20065763,\n",
    "        11.91521978, 19.87836938, 16.30984545, 21.399623  , 19.50924805,\n",
    "        24.55089454, 21.58609108, 23.93163981, 17.66790452, 15.27776872,\n",
    "        17.94975153, 19.91489793, 21.89575868, 31.29654475, 19.78871424,\n",
    "        15.220275  , 18.27009112, 17.68202013, 22.40740737, 12.29601493,\n",
    "        20.31630997, 20.78253269, 21.16090518, 17.01341966, 18.81039135,\n",
    "        12.87969546, 17.53340058, 17.28569262, 22.08025023, 14.21908784,\n",
    "        23.90599051, 27.47242272,  9.65007487, 22.13129365, 23.38454018,\n",
    "        16.81281487, 18.01364093, 19.33559711, 18.5110456 , 18.45493515,\n",
    "        11.61998097, 25.76165782, 25.39809296, 15.9331787 , 12.66787836,\n",
    "        22.60532438, 17.12106015, 20.70976582, 18.40335791, 23.45769376,\n",
    "        23.47374572, 16.37201311, 13.08318022, 12.08530801, 23.0518969 ,\n",
    "        14.05570371, 17.46591823, 17.01842981, 19.73716352, 10.31860097,\n",
    "        20.94389298, 22.61945512, 20.44211044, 18.44556914, 20.48700083,\n",
    "        21.99523173,  6.13703622, 29.77956154, 21.95046661, 16.73795709,\n",
    "        18.04523312, 22.46870889, 19.4194803 ,  9.84657766, 30.32246431,\n",
    "        19.44729671, 25.10086356, 16.53975076, 27.68188527, 21.43171844,\n",
    "        23.04421917, 14.77373317, 26.05572645, 23.44909082, 26.50923115,\n",
    "        16.8595622 , 17.59486441, 31.51958349, 14.69992089, 19.3202515 ,\n",
    "        25.68445681, 20.48862484, 22.9147684 , 18.00275485, 21.85027944,\n",
    "        13.46736574, 28.2906534 , 19.40917977, 16.59910898, 23.33191541,\n",
    "        17.69640106, 13.32870764, 13.26641247, 23.46886576, 19.20213281,\n",
    "        19.3314922 , 25.38871903, 14.36587096, 16.34661124, 18.07560095,\n",
    "        20.47175795, 19.78914274, 18.56556404, 19.69186799, 19.46347362,\n",
    "        16.40197806, 15.93503506, 21.37258179, 15.54542459, 14.2132237 ,\n",
    "        18.43853874, 19.21166492, 31.28361749, 16.47649862, 24.71630362,\n",
    "        23.73594167, 14.05527522, 23.86626489, 14.0805968 ,  6.70413881,\n",
    "        23.03159762, 11.22054708, 22.25467231, 16.57994551, 28.29775398,\n",
    "        25.342547  , 17.73307098, 16.56081194, 13.92961298, 17.79538684,\n",
    "        18.59822252, 18.17653228, 20.78351928, 22.89260749, 21.74827228,\n",
    "        16.17928038, 12.81104263, 26.82265924, 16.55275408, 16.738532  ,\n",
    "        17.39405344, 10.78465225, 17.61012998, 17.60172093, 23.10179149,\n",
    "        23.49228575, 20.01885445, 24.65924187, 21.69982492, 19.92158944]"
   ]
  },
  {
   "cell_type": "code",
   "execution_count": 97,
   "metadata": {},
   "outputs": [
    {
     "name": "stdout",
     "output_type": "stream",
     "text": [
      "점추정:  19.9375775439726\n",
      "구간추정:  (19.427887094607165, 20.447267993338038)\n"
     ]
    }
   ],
   "source": [
    "df = pd.DataFrame(data, columns=['Daily Average Temperature'])\n",
    "\n",
    "print('점추정: ', sample_mean:=df['Daily Average Temperature'].mean())\n",
    "confidence_level = 0.95\n",
    "sample_std = df['Daily Average Temperature'].std()\n",
    "n_samples = len(df)\n",
    "print('구간추정: ', stats.t.interval(confidence_level, df=n_samples-1, loc=sample_mean, scale=sample_std/(n_samples**0.5)))"
   ]
  },
  {
   "cell_type": "markdown",
   "metadata": {},
   "source": [
    "https://www.kaggle.com/code/agileteam/t3-two-way-anova-py  \n",
    "크리스마스 장식 종류와 지역에 따라 판매량에 유의미한 차이가 있는지 이원 분산 분석을 통해 검정하세요¶  \n",
    "1. 크리스마스 장식 종류(트리, 조명, 장식품)가 판매량에 미치는 영향을 분석하세요. 이때, 장식 종류의 F-value, p-value를 구하시오\n",
    "2. 지역(북부, 남부, 동부, 서부)이 판매량에 미치는 영향을 분석하세요. 이때, 장식 종류의 F-value, p-value를 구하시오\n",
    "3. 크리스마스 장식 종류와 지역의 상호작용이 판매량에 미치는 영향을 분석하세요. 이때, 장식 종류의 F-value, p-value를 구하시오"
   ]
  },
  {
   "cell_type": "code",
   "execution_count": 100,
   "metadata": {},
   "outputs": [],
   "source": [
    "data = {\n",
    "    'Decoration_Type': ['트리', '트리', '트리', '트리', '트리', '트리', '트리', '트리', '트리', '트리', \n",
    "                        '트리', '트리', '조명', '조명', '조명', '조명', '조명', '조명', '조명', '조명', \n",
    "                        '조명', '조명', '조명', '조명', '장식품', '장식품', '장식품', '장식품', '장식품', \n",
    "                        '장식품', '장식품', '장식품', '장식품', '장식품', '장식품', '장식품'],\n",
    "    'Region': ['북부', '남부', '동부', '서부', '북부', '남부', '동부', '서부', '북부', '남부', \n",
    "               '동부', '서부', '북부', '남부', '동부', '서부', '북부', '남부', '동부', '서부', \n",
    "               '북부', '남부', '동부', '서부', '북부', '남부', '동부', '서부', '북부', '남부', \n",
    "               '동부', '서부', '북부', '남부', '동부', '서부'],\n",
    "    'Sales': [64, 67, 84, 87, 87, 29, 41, 56, 90, 32, \n",
    "              78, 85, 59, 66, 57, 45, 97, 92, 29, 40, \n",
    "              89, 99, 67, 84, 69, 49, 39, 39, 34, 59, \n",
    "              52, 85, 29, 77, 52, 51]\n",
    "}"
   ]
  },
  {
   "cell_type": "code",
   "execution_count": 103,
   "metadata": {},
   "outputs": [
    {
     "name": "stdout",
     "output_type": "stream",
     "text": [
      "                                df       sum_sq     mean_sq         F  \\\n",
      "C(Decoration_Type)             2.0  1764.500000  882.250000  2.370578   \n",
      "C(Region)                      3.0   804.305556  268.101852  0.720381   \n",
      "C(Decoration_Type):C(Region)   6.0  5153.944444  858.990741  2.308081   \n",
      "Residual                      24.0  8932.000000  372.166667       NaN   \n",
      "\n",
      "                                PR(>F)  \n",
      "C(Decoration_Type)            0.114943  \n",
      "C(Region)                     0.549614  \n",
      "C(Decoration_Type):C(Region)  0.066915  \n",
      "Residual                           NaN  \n",
      "                          df       sum_sq     mean_sq         F    PR(>F)\n",
      "Decoration_Type          2.0  1764.500000  882.250000  2.370578  0.114943\n",
      "Region                   3.0   804.305556  268.101852  0.720381  0.549614\n",
      "Decoration_Type:Region   6.0  5153.944444  858.990741  2.308081  0.066915\n",
      "Residual                24.0  8932.000000  372.166667       NaN       NaN\n"
     ]
    }
   ],
   "source": [
    "df = pd.DataFrame(data)\n",
    "#display(df.head())\n",
    "\n",
    "from statsmodels.formula.api import ols\n",
    "from statsmodels.stats.anova import anova_lm\n",
    "model = ols('Sales ~ C(Decoration_Type) * C(Region)', df).fit()\n",
    "print(anova_lm(model))\n",
    "model = ols('Sales ~ Decoration_Type * Region', df).fit()\n",
    "print(anova_lm(model))"
   ]
  },
  {
   "cell_type": "markdown",
   "metadata": {},
   "source": [
    "https://www.kaggle.com/code/agileteam/t3-logit-py   \n",
    "고객 정보를 나타낸 데이터이다. 주어진 데이터에서 500개 중 앞에서부터 350개는 train으로, 150개는 test 데이터로 나눈다. 모델을 학습(적합)할 때는 train 데이터를 사용하고, 예측할 때는 test 데이터를 사용한다. 모델은 로지스틱 회귀를 써서 고객이 특정 제품을 구매할지 여부를 예측하되, 페널티는 부과하지 않는다.\n",
    "\n",
    "종속변수: purchase (0: 구매 안 함, 1: 구매 함)\n",
    "\n",
    "- 문제 1-1. income 변수를 독립변수로 purchase를 종속변수로 사용하여 로지스틱 회귀 모형을 만들고, income 변수가 한 단위 증가할 때 구매할 오즈비 값을 계산하시오. (반올림하여 소수 넷째자리까지 계산)\n",
    "- 문제 1-2. 독립변수 income만 사용해 학습한 모델에서 test 데이터의 purchase를 예측하고, accuracy (정확도)를 구하시오. (반올림하여 소수 셋째자리까지 계산)\n",
    "- 문제 1-3. 독립변수 income만 사용해 학습한 모델의 로짓 우도를 계산하시오.\n",
    "- 문제 1-4. 독립변수 income만 사용해 학습한 모델의 유의확률(p-value)를 구하시오."
   ]
  },
  {
   "cell_type": "code",
   "execution_count": null,
   "metadata": {},
   "outputs": [],
   "source": [
    "train = df.iloc[:350]\n",
    "test = df.iloc[350:]\n",
    "\n",
    "import statsmodels.api as sm\n",
    "X = train['income']\n",
    "Y = train['purchase']\n",
    "X = sm.add_constant(X)\n",
    "\n",
    "model = sm.GLM(Y, X, family=sm.families.Binomial()).fit()\n",
    "print(model.summary())      # 1-3, 1-4 로짓우도, 유의확률\n",
    "\n",
    "from statsmodels.formula.api import logit\n",
    "model = logit('purchase ~ income', train).fit()\n",
    "print(model.summary())      # 1-3, 1-4 로짓우도, 유의확률\n",
    "\n",
    "np.exp(1.96e-06)    # 1-1 오즈비 값\n",
    "\n",
    "predict = model.predict(test['income'])\n",
    "res = (predict > 0.5).astype('int')\n",
    "from sklearn.metrics import accuracy_score\n",
    "accuracy_score(test['purchase'], res)       # 1-2 정확도"
   ]
  },
  {
   "cell_type": "markdown",
   "metadata": {},
   "source": [
    "https://www.kaggle.com/code/agileteam/1samp-wilcoxon-py  \n",
    "베스킨라빈스는 쿼트(Quart) 아이스크림의 중앙값이 620g이라고 주장하고 있습니다. 저는 실제로 이 아이스크림의 중앙값이 620g보다 무겁다고 주장합니다. 다음은 20개의 쿼트 아이스크림 샘플의 무게 측정 결과입니다. 이 측정 결과를 바탕으로 나의 주장이 사실인지 비모수 검정(Wilcoxon Signed-Rank Test)을 통해 검정해보십시오. p-value값을 반올림하여 소수점 둘째 자리까지 계산\n",
    "\n",
    "- 귀무가설: \"베스킨라빈스 쿼트 아이스크림의 중앙값은 620g이다.\"\n",
    "- 대립가설: \"베스킨라빈스 쿼트 아이스크림의 중앙값은 620g보다 무겁다.\""
   ]
  },
  {
   "cell_type": "code",
   "execution_count": 88,
   "metadata": {},
   "outputs": [
    {
     "data": {
      "text/plain": [
       "WilcoxonResult(statistic=684.0, pvalue=0.029661945180945556)"
      ]
     },
     "execution_count": 88,
     "metadata": {},
     "output_type": "execute_result"
    }
   ],
   "source": [
    "data = { \"weight\": [630, 610, 625, 615, 622, 618, 623, 619, 620, 624, 616, 621, 617, 629, 626, 620, 618, 622, 625, 615, \n",
    "               628, 617, 624, 619, 621, 623, 620, 622, 618, 625, 616, 629, 620, 624, 617, 621, 623, 619, 625, 618,\n",
    "               622, 620, 624, 617, 621, 623, 619, 625, 618, 622]}\n",
    "df = pd.DataFrame(data)\n",
    "stats.wilcoxon(df['weight'] - 620, alternative='greater')"
   ]
  },
  {
   "cell_type": "markdown",
   "metadata": {},
   "source": [
    "https://www.kaggle.com/code/agileteam/t3-logit-deviance-py  \n",
    "잔차이탈도를 구하시오  \n",
    "고객 정보를 나타낸 데이터이다. 주어진 데이터에서 500개 중 앞에서부터 300개는 train으로, 200개는 test 데이터로 나눈다. 모델을 학습(적합)할 때는 train 데이터를 사용하고, 예측할 때는 test 데이터를 사용한다. 모델은 로지스틱 회귀를 써서 고객이 특정 제품을 구매할지 여부를 예측하되, 페널티는 부과하지 않는다.\n",
    "\n",
    "종속변수: purchase (0: 구매 안 함, 1: 구매 함)\n",
    "\n",
    "Q. age, income, marital_status 변수를 독립변수로 purchase를 종속변수로 사용하여 로지스틱 회귀 모형을 만들고, 잔차이탈도를 구하시오. (반올림하여 소수 넷째자리까지 계산)"
   ]
  },
  {
   "cell_type": "code",
   "execution_count": null,
   "metadata": {},
   "outputs": [],
   "source": [
    "train = df.iloc[:300]\n",
    "test = df.iloc[300:]\n",
    "\n",
    "from statsmodels.formula.api import logit       # 방법 1\n",
    "model = logit('purchase ~ age + income + marital_status', train).fit()\n",
    "print(model.summary())\n",
    "model.llf* -2                           # 412.44898262591204\n",
    "\n",
    "import statsmodels.api as sm                    # 방법 2\n",
    "X = train[['age', 'income', 'marital_status']]\n",
    "Y = train['purchase']\n",
    "X = sm.add_constant(X)\n",
    "\n",
    "model = sm.GLM(Y, X, family=sm.families.Binomial()).fit()\n",
    "print(model.summary())\n",
    "model.deviance                          # 412.44898262591204"
   ]
  },
  {
   "cell_type": "code",
   "execution_count": 107,
   "metadata": {},
   "outputs": [
    {
     "data": {
      "text/plain": [
       "['AffinityPropagation',\n",
       " 'AgglomerativeClustering',\n",
       " 'Birch',\n",
       " 'DBSCAN',\n",
       " 'FeatureAgglomeration',\n",
       " 'KMeans',\n",
       " 'MeanShift',\n",
       " 'MiniBatchKMeans',\n",
       " 'OPTICS',\n",
       " 'SpectralBiclustering',\n",
       " 'SpectralClustering',\n",
       " 'SpectralCoclustering',\n",
       " '__all__',\n",
       " '__builtins__',\n",
       " '__cached__',\n",
       " '__doc__',\n",
       " '__file__',\n",
       " '__loader__',\n",
       " '__name__',\n",
       " '__package__',\n",
       " '__path__',\n",
       " '__spec__',\n",
       " '_affinity_propagation',\n",
       " '_agglomerative',\n",
       " '_bicluster',\n",
       " '_birch',\n",
       " '_dbscan',\n",
       " '_dbscan_inner',\n",
       " '_feature_agglomeration',\n",
       " '_hierarchical_fast',\n",
       " '_k_means_elkan',\n",
       " '_k_means_fast',\n",
       " '_k_means_lloyd',\n",
       " '_kmeans',\n",
       " '_mean_shift',\n",
       " '_optics',\n",
       " '_spectral',\n",
       " 'affinity_propagation',\n",
       " 'cluster_optics_dbscan',\n",
       " 'cluster_optics_xi',\n",
       " 'compute_optics_graph',\n",
       " 'dbscan',\n",
       " 'estimate_bandwidth',\n",
       " 'get_bin_seeds',\n",
       " 'k_means',\n",
       " 'kmeans_plusplus',\n",
       " 'linkage_tree',\n",
       " 'mean_shift',\n",
       " 'spectral_clustering',\n",
       " 'ward_tree']"
      ]
     },
     "execution_count": 107,
     "metadata": {},
     "output_type": "execute_result"
    }
   ],
   "source": [
    "from sklearn import cluster\n",
    "dir(cluster)"
   ]
  }
 ],
 "metadata": {
  "kernelspec": {
   "display_name": "bbg",
   "language": "python",
   "name": "python3"
  },
  "language_info": {
   "codemirror_mode": {
    "name": "ipython",
    "version": 3
   },
   "file_extension": ".py",
   "mimetype": "text/x-python",
   "name": "python",
   "nbconvert_exporter": "python",
   "pygments_lexer": "ipython3",
   "version": "3.9.19"
  }
 },
 "nbformat": 4,
 "nbformat_minor": 2
}
