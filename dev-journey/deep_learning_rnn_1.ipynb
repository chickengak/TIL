{
 "cells": [
  {
   "cell_type": "markdown",
   "id": "1bb6ba65",
   "metadata": {},
   "source": [
    "## RNN(Recurrent Neural Network) : 순환 신경망\n",
    "\n",
    "#### 순서가 있는 시퀀스 데이터, time series data(시계열 데이터)를 입력하여 예측 \n",
    "#### 주가 데이터 , 음성데이터, 자연어 처리"
   ]
  },
  {
   "cell_type": "markdown",
   "id": "7856bba3",
   "metadata": {},
   "source": [
    "RNN의 핵심적인 특징은 네트워크 내부에 루프(loop)를 가지고 있다는 점이며, 이를 통해 정보를 시퀀스의 각 스텝에서 다음 스텝으로 전달합니다.\n",
    "\n",
    "&nbsp;\n",
    "\n",
    "RNN의 핵심 개념  \n",
    "1. 순환 구조: RNN의 각 셀(cell)은 입력 데이터와 함께 이전 스텝의 상태(hidden state)를 받습니다. 이 상태는 시퀀스의 정보를 담고 있으며, 셀이 시퀀스의 각 요소를 처리할 때마다 업데이트됩니다.\n",
    "\n",
    "2. 시간적 데이터 처리: RNN은 시간에 따라 변화하는 데이터를 처리할 수 있습니다. 이는 과거의 정보를 현재의 결정에 반영할 수 있게 해주며, 시퀀스의 길이에 관계없이 동일한 네트워크와 파라미터를 사용하여 학습할 수 있습니다.\n",
    "\n",
    "3. 가변 길이의 입력 처리: RNN은 가변 길이의 입력 시퀀스를 처리할 수 있습니다. 이는 예를 들어, 문장이나 문단과 같이 길이가 다양한 입력을 다룰 때 유용합니다.\n",
    "\n",
    "&nbsp;\n",
    "\n",
    "RNN의 주요 문제점\n",
    "1. 그래디언트 소실/폭발: 시퀀스가 길어질수록 RNN은 그래디언트 소실 또는 폭발 문제에 직면할 수 있습니다. 이는 학습 과정에서 가중치의 업데이트가 제대로 이루어지지 않게 만들어, 학습이 어렵거나 불가능하게 만듭니다.\n",
    "\n",
    "2. 장기 의존성 학습의 어려움: 기본 RNN은 장기 의존성을 학습하기 어렵다는 문제가 있습니다. 이는 과거의 정보가 충분히 전달되지 않아, 시퀀스의 초기 정보가 후반부의 결정에 영향을 미치기 어렵다는 것을 의미합니다.\n",
    "\n",
    "&nbsp;\n",
    "\n",
    "RNN의 변형들\n",
    "1. LSTM(Long Short-Term Memory): 그래디언트 소실 문제를 해결하기 위해 고안된 RNN의 한 변형으로, 장기 의존성을 효과적으로 학습할 수 있습니다.\n",
    "2. GRU(Gated Recurrent Unit): LSTM을 단순화한 버전으로, 비슷한 성능을 유지하면서 계산 비용을 줄입니다."
   ]
  },
  {
   "cell_type": "markdown",
   "id": "694cc6c3",
   "metadata": {},
   "source": [
    "[완전연결층]  \n",
    "각 뉴런이 이전 층의 모든 뉴런과 연결. 순서와 시간에 의존성이 없다.  \n",
    "이미지 분류, 회귀 분석 등 구조이해도 간단하고, 복잡한 변환의 모델링을 구성.  \n",
    "고정 크기 입력데이터를 요구함.  \n",
    "\n",
    "[순환신경망]  \n",
    "현재의 출력이 이전에 계산에 기반해서 결정. 순서와 시간에 의존성이 높다.  \n",
    "시계열처리, 자연어, 음성 등 내부 메모리를 가지고 시간에 따른 데이터의 내부 상태를 저장하고 업데이트하도록 구성.  \n",
    "가변 크기 입력데이터 가능. 복잡한 계산, 학습시간이 오래 걸린다.  \n",
    "\n",
    "[ LSTM ]  \n",
    "세개의 게이트로 구성됨. 셀 상태를 도입해서 중요 정보는 장기간 유지하고 불필요한 것은 버리는 구조.  \n",
    "셀 상태(입력게이트, 망각게이트, 출력 게이트) -> 조건에 따라 CRUD할 수 있다.  \n",
    "\n",
    "ex) 나는 일한다. -> 나는 오늘 쉰다.  : 현재시점이 \"나는 오늘 쉰다\"이다. \"나는 일한다\"는 과거 문장이라서 새로운 활동상태를 현재 문맥에서 더 이상 유용하지 않다고 판단하므로 망각 게이트에서 정보감소 시킴. (망각게이트는 가중치를 통해 자동으로 결정)"
   ]
  },
  {
   "cell_type": "code",
   "execution_count": 1,
   "id": "6d5a1267",
   "metadata": {},
   "outputs": [
    {
     "name": "stdout",
     "output_type": "stream",
     "text": [
      "WARNING:tensorflow:From C:\\Users\\ALT\\anaconda3\\Lib\\site-packages\\keras\\src\\losses.py:2976: The name tf.losses.sparse_softmax_cross_entropy is deprecated. Please use tf.compat.v1.losses.sparse_softmax_cross_entropy instead.\n",
      "\n"
     ]
    }
   ],
   "source": [
    "'''https://www.tensorflow.org/api_docs/python/tf/keras/layers/RNN'''\n",
    "import tensorflow as tf\n",
    "class MinimalRNNCell(tf.keras.layers.Layer):\n",
    "\n",
    "    def __init__(self, units, **kwargs):\n",
    "        self.units = units\n",
    "        self.state_size = units\n",
    "        super(MinimalRNNCell, self).__init__(**kwargs)\n",
    "\n",
    "    def build(self, input_shape):\n",
    "        self.kernel = self.add_weight(shape=(input_shape[-1], self.units),\n",
    "                                      initializer='uniform',\n",
    "                                      name='kernel')\n",
    "        self.recurrent_kernel = self.add_weight(\n",
    "            shape=(self.units, self.units),\n",
    "            initializer='uniform',\n",
    "            name='recurrent_kernel')\n",
    "        self.built = True\n",
    "\n",
    "    def call(self, inputs, states):\n",
    "        prev_output = states[0]\n",
    "        h = backend.dot(inputs, self.kernel)\n",
    "        output = h + backend.dot(prev_output, self.recurrent_kernel)\n",
    "        return output, [output]\n",
    "    \n",
    "# RNN을 보면 call을 이용해서 전파?전달?하는걸 알 수 있다."
   ]
  },
  {
   "cell_type": "markdown",
   "id": "e9321edf",
   "metadata": {},
   "source": [
    "SimpleRNN의 Weight과 bias의 shape \n",
    "- N  : batch_size , T : Sequence_length , D : input_dim, H : hidden_size \n",
    "- X_all : (N ,T, D) \n",
    "- X_1 : (N, D)\n",
    "- Wx  : (D,H ) \n",
    "- Wh  : (H, H) , h_prev :(N,H ) 이기 때문이다.  \n",
    "- b   : (H) "
   ]
  },
  {
   "cell_type": "markdown",
   "id": "aecd3c5d",
   "metadata": {},
   "source": [
    "### One cell: 4 (input_dim) in 2 (hidden_size)\n",
    "<img src='etc/rnn_one_cell.png' width=50% align=\"left\"></img> \n",
    "shape의 크기는 원핫 인코딩의 벡터 크기. 4개의 입력이 들어오니까 히든사이즈는 2??  \n",
    "A 에서는 h(t-1) + Xt 가 연산되어 ht가 출력된다."
   ]
  },
  {
   "cell_type": "raw",
   "id": "4e281e35",
   "metadata": {},
   "source": [
    " <<그림 설명 >> \n",
    " 시간(t)에서의 상태를 고려할 때, 시간(t)인 입력인 X(t)이외의 시간 (t-1)의 상태를 나타내는 h(t-1)을 유지하면서  \n",
    " 시간(t)에게 리턴 한다.  \n",
    "   이전 시간 단게 출력을 현재 시간 단계의 입력과 결합 (ex: 일요일 -> 일 + 요 + 일)\n",
    " [핵심] 이전 계산에 따라 출력이 문자열의 모든 요소에 대해 동일한 작업을 수행한다. 이전에 계산된 정보를 기억할 수 있다. \n",
    " \n",
    " \n",
    " ex)주가 10년의 데이터의 과거 시점부터(순전파), 현재시점 (역전파) \n",
    " \n",
    " 문장의 경우, 단어를 차례로 특징량의 숫자의 열로 계산해 간다.  -> 전 후의 단어의 특징량의 숫자을 연결한다.  ->\n",
    " 모든단어를 구문 트리를 만든다. -> 숫자만 연결하면 숫자의 개수가 점점 커지게 된다. -> 가중치 W  -> 하나의 특징량의 숫자로 출력  \n",
    " \n",
    " \n",
    " ++++\n",
    " class SimpleRNN\n",
    " class SimpleRNNCell\n",
    " class StackedRNNCells\n",
    " class TextVectorization\n",
    " \n",
    " RNN(SimpleRNNCell) + 커스터마이징할 때, SimpleRNN 대신 SimpleRNNCell을 사용한다.\n",
    " \n",
    " \n",
    " 멀티레이어 RNN을 만드는 셀들\n",
    " LSTNCell, GRUCell, SimpleRNNCell, Stacked RNNCell ....\n",
    " \n",
    " st = Stacked RNNCell([\n",
    "     LSTMCell(32) ...\n",
    " ])\n",
    " RNN(st) -> 복합레이어"
   ]
  },
  {
   "cell_type": "markdown",
   "id": "cda9c661",
   "metadata": {},
   "source": [
    "tf.keras.layers.SimpleRNN  \n",
    "tf.keras.layers.SimpleRNNCell  \n",
    "tf.keras.layers.RNN  \n",
    "\n",
    "SimpleRNNCell 은 말 그대로 셀 그 자체로, RNN에 넣어서 사용해야 한다. 이 때, 다양한 커스터마이징이 가능하다.  \n",
    "다만, 단순히 셀 하나를 넣은 RNN은 SimpleRNN과 동일한 형태다.  \n",
    "\n",
    "이 외에도  \n",
    "LSTMCell  \n",
    "GRUCell  \n",
    "등의 Cell 들도 있으며, 이 셀들을 복합적으로 사용하고 싶다면, tf.keras.layers.StackedRNNCells 을 이용해서 쌓아서 이용 가능하다.  \n",
    "st = StackedRNNCells([LSTMCell, GRUCell, ...])  \n",
    "RNN(st) -> 복합레이어"
   ]
  },
  {
   "cell_type": "raw",
   "id": "54628dbd",
   "metadata": {},
   "source": [
    "tf.keras.layers.RNN(           순환 신경망(RNN) 레이어를 만들기 위한 베이스 레이어.\n",
    "    cell,                      RNN 레이어는 이 셀을 사용하여 시퀀스의 각 타임스텝을 처리합니다\n",
    "    return_sequences=False,    True일 경우 각 타임스텝에서 연속적인 출력 시퀀스를 반환한다. False일 경우, 전체 시퀀스에 대한 마지막 출력만 반환한다.\n",
    "    return_state=False,        True일 경우 마지막 상태도 출력 값과 함께 반환한다. 이는 다음 모델에 상태를 전달할 때 유용합니다\n",
    "    go_backwards=False,        True로 설정하면 입력 시퀀스를 뒤집어 처리합니다. 이는 양방향 RNN을 구현할 때 유용합니다\n",
    "    stateful=False,            True로 설정하면 이전 배치의 마지막 상태가 다음 배치의 초기 상태로 사용됩니다. 상태 유지 RNN에서 사용됩니다.\n",
    "    unroll=False,              True로 설정하면 네트워크가 루프를 풀어서 더 빠른 연산을 하지만, 더 많은 메모리를 사용합니다. 주로 짧은 시퀀스에 유용함.\n",
    "    time_major=False,          입력 텐서의 형태가 (시간, 배치, 특성)인 경우 True로 설정합니다. 기본적으로 입력은 (배치, 시간, 특성) 형태를 가정합니다.\n",
    "    **kwargs\n",
    ")"
   ]
  },
  {
   "cell_type": "raw",
   "id": "ec5db36f",
   "metadata": {},
   "source": [
    "tf.keras.layers.SimpleRNN(\n",
    "    units,\n",
    "    activation='tanh',\n",
    "    use_bias=True,\n",
    "    kernel_initializer='glorot_uniform',\n",
    "    recurrent_initializer='orthogonal',\n",
    "    bias_initializer='zeros',\n",
    "    kernel_regularizer=None,\n",
    "    recurrent_regularizer=None,\n",
    "    bias_regularizer=None,\n",
    "    activity_regularizer=None,\n",
    "    kernel_constraint=None,\n",
    "    recurrent_constraint=None,\n",
    "    bias_constraint=None,\n",
    "    dropout=0.0,\n",
    "    recurrent_dropout=0.0,\n",
    "    return_sequences=False,\n",
    "    return_state=False,\n",
    "    go_backwards=False,\n",
    "    stateful=False,\n",
    "    unroll=False,\n",
    "    **kwargs\n",
    ")"
   ]
  },
  {
   "cell_type": "code",
   "execution_count": null,
   "id": "27126e82",
   "metadata": {},
   "outputs": [],
   "source": []
  },
  {
   "cell_type": "code",
   "execution_count": 2,
   "id": "34997d8c",
   "metadata": {},
   "outputs": [
    {
     "name": "stdout",
     "output_type": "stream",
     "text": [
      "WARNING:tensorflow:From C:\\Users\\ALT\\anaconda3\\Lib\\site-packages\\keras\\src\\layers\\rnn\\simple_rnn.py:130: The name tf.executing_eagerly_outside_functions is deprecated. Please use tf.compat.v1.executing_eagerly_outside_functions instead.\n",
      "\n",
      "x_data: [[[1. 0. 0. 0.]]], shape: (1, 1, 4)\n",
      "outputs: [[[ 0.24130654 -0.02812835]]], shape: (1, 1, 2)\n",
      "states: [[ 0.24130654 -0.02812835]], shape: (1, 2)\n"
     ]
    }
   ],
   "source": [
    "import numpy as np\n",
    "import matplotlib.pyplot as plt\n",
    "import tensorflow as tf\n",
    "from tensorflow.keras.layers import SimpleRNNCell, RNN, SimpleRNN\n",
    "\n",
    "# 1. 'hello' 데이터를 원핫 인코딩\n",
    "h = [1, 0, 0, 0]\n",
    "e = [0, 1, 0, 0]\n",
    "l = [0, 0, 1, 0]\n",
    "o = [0, 0, 0, 1]\n",
    "\n",
    "\"\"\" ▶ Step 1. h 하나만 RNN에 넣어 보기 \"\"\"\n",
    "# 2. 모델을 실행해서 결과를 리턴  \n",
    "# 하나의 셀을 RNN 적용   input_dim(4)  -> output_dim (2) \n",
    "x_data = np.array([[h]], dtype = np.float32)\n",
    "\n",
    "hidden_size = 2\n",
    "cell = SimpleRNNCell(units = hidden_size)\n",
    "rnn = RNN(cell, return_sequences = True, return_state = True)  # return_sequences = True: 출력으로 시퀀스 전체를 리턴 유무 \n",
    "\n",
    "outputs, states = rnn(x_data)\n",
    "\n",
    "# h = [1, 0, 0, 0] \n",
    "print(f'x_data: {x_data}, shape: {x_data.shape}')       #X :[N ,T, D]  T: 한 번에 처리되는 시간단계 수, D: 입력 차원\n",
    "print(f'outputs: {outputs}, shape: {outputs.shape}') #OUT : [N ,T, H]  H: 히든사이즈 hidden_size\n",
    "print(f'states: {states}, shape: {states.shape}')   #state: [N, H]"
   ]
  },
  {
   "cell_type": "code",
   "execution_count": 3,
   "id": "45e52ed8",
   "metadata": {},
   "outputs": [
    {
     "name": "stdout",
     "output_type": "stream",
     "text": [
      "x_data: [[[1. 0. 0. 0.]]], shape: (1, 1, 4)\n",
      "outputs: [[[-0.04010408  0.6135369 ]]], shape: (1, 1, 2)\n",
      "states: [[-0.04010408  0.6135369 ]], shape: (1, 2)\n"
     ]
    }
   ],
   "source": [
    "# 3. 2번의 모델을  함축시켜  실행해보기\n",
    "rnn = SimpleRNN(units = hidden_size, return_sequences = True, return_state = True)\n",
    "outputs, states = rnn(x_data)\n",
    "\n",
    "print('x_data: {}, shape: {}'.format(x_data, x_data.shape))    #X :[N ,T, D ]  \n",
    "print('outputs: {}, shape: {}'.format(outputs, outputs.shape)) #OUT  : [N ,T, H ]\n",
    "print('states: {}, shape: {}'.format(states, states.shape))    #state : [N, H]"
   ]
  },
  {
   "cell_type": "markdown",
   "id": "ca6f6721",
   "metadata": {},
   "source": [
    "### Unfolding to n sequences"
   ]
  },
  {
   "cell_type": "markdown",
   "id": "84e91053",
   "metadata": {},
   "source": [
    "<img src='etc/unfolding_to_n_sequences.png' width='50%' align='left'></img> \n",
    "hidden_size는 히든 스테이트의 차원 크기  \n",
    "sequence_length = 단어 길이 즉, 시간의길이나 시간단계를 의미함.  \n",
    "shape=(1, 5, 2) (q배치크기, 시퀀스길이, 히든 차원 수)"
   ]
  },
  {
   "cell_type": "raw",
   "id": "42068c78",
   "metadata": {},
   "source": [
    "RNN(Recurrent Neural Network)에서 hidden_size는 RNN 셀의 내부 상태(hidden state)의 차원을 결정합니다. 이 값은 RNN이 학습할 수 있는 정보의 용량을 결정하며, 모델의 복잡성과 성능에 직접적인 영향을 미칩니다. 적절한 hidden_size를 결정하는 것은 주어진 문제에 대한 모델의 성능을 최적화하는 데 중요한 요소입니다. hidden_size를 결정할 때 고려해야 할 몇 가지 요소는 다음과 같습니다:\n",
    "\n",
    "1. 데이터의 복잡성:\n",
    "복잡한 데이터셋: 데이터가 복잡하거나 학습해야 할 패턴이 많은 경우, 더 큰 hidden_size가 필요할 수 있습니다. 이는 더 많은 계산적 용량을 모델에 제공하여 복잡한 패턴을 학습할 수 있게 합니다.\n",
    "단순한 데이터셋: 데이터가 상대적으로 단순하거나 작은 경우, 작은 hidden_size로도 충분할 수 있습니다. 이는 과적합(overfitting)의 위험을 줄이면서 학습 과정을 더 효율적으로 만들 수 있습니다.\n",
    "2. 과적합과 과소적합:\n",
    "과적합(Overfitting): 너무 큰 hidden_size는 모델이 훈련 데이터에 과적합되는 경향을 높일 수 있습니다. 이는 훈련 데이터에는 높은 성능을 보이지만, 검증 데이터나 실제 데이터에는 잘 일반화되지 않는 문제를 일으킬 수 있습니다.\n",
    "과소적합(Underfitting): 반대로, 너무 작은 hidden_size는 충분한 정보를 모델이 학습하지 못하게 하여 과소적합을 초래할 수 있습니다. 이 경우 모델은 너무 단순하여 데이터의 중요한 특성을 포착하지 못할 수 있습니다.\n",
    "3. 계산 자원:\n",
    "큰 hidden_size는 모델의 파라미터 수를 증가시키고, 따라서 학습과 추론에 더 많은 계산 자원을 요구합니다. 이는 학습 시간을 증가시키고, 메모리 사용량을 늘립니다.\n",
    "결정 방법:\n",
    "실험: 다양한 hidden_size 값을 실험해 보고, 검증 세트에서의 성능을 기준으로 최적의 값을 선택합니다.\n",
    "교차 검증: 여러 hidden_size에 대해 교차 검증을 수행하여 모델의 일반화 능력을 평가할 수 있습니다.\n",
    "하이퍼파라미터 튜닝: 그리드 서치(grid search), 랜덤 서치(random search), 베이지안 최적화(bayesian optimization)와 같은 하이퍼파라미터 최적화 기법을 사용하여 hidden_size를 포함한 모델의 하이퍼파라미터를 최적화할 수 있습니다.\n",
    "적절한 hidden_size는 사용하는 데이터셋, 문제의 복잡성, 사용 가능한 계산 자원에 따라 달라지므로, 주어진 문제에 가장 적합한 값을 찾기 위해 여러 실험을 수행하는 것이 일반적입니다."
   ]
  },
  {
   "cell_type": "code",
   "execution_count": 4,
   "id": "b52d6881",
   "metadata": {
    "scrolled": true
   },
   "outputs": [
    {
     "name": "stdout",
     "output_type": "stream",
     "text": [
      "x_data: [[[1. 0. 0. 0.]\n",
      "  [0. 1. 0. 0.]\n",
      "  [0. 0. 1. 0.]\n",
      "  [0. 0. 1. 0.]\n",
      "  [0. 0. 0. 1.]]], shape: (1, 5, 4)\n",
      "outputs: [[[ 0.5460804   0.5970821 ]\n",
      "  [-0.5157145  -0.7049707 ]\n",
      "  [ 0.6977583   0.8821088 ]\n",
      "  [ 0.4634051  -0.5224492 ]\n",
      "  [ 0.18856446 -0.1531783 ]]], shape: (1, 5, 2)\n",
      "states: [[ 0.18856446 -0.1531783 ]], shape: (1, 2)\n"
     ]
    }
   ],
   "source": [
    "\"\"\" ▶ Step 2. hello를 이용해서, sequential data를 RNN에 넣어 보기 \"\"\"\n",
    "h = [1, 0, 0, 0]\n",
    "e = [0, 1, 0, 0]\n",
    "l = [0, 0, 1, 0]\n",
    "o = [0, 0, 0, 1]\n",
    "\n",
    "x_data = np.array([[h,e,l,l,o]], dtype=np.float32)\n",
    "\n",
    "hidden_size = 2\n",
    "rnn = SimpleRNN(units = hidden_size, return_sequences = True, return_state = True)\n",
    "outputs, states = rnn(x_data)\n",
    "\n",
    "print('x_data: {}, shape: {}'.format(x_data, x_data.shape))    \n",
    "print('outputs: {}, shape: {}'.format(outputs, outputs.shape))\n",
    "print('states: {}, shape: {}'.format(states, states.shape))   "
   ]
  },
  {
   "cell_type": "markdown",
   "id": "557b9436",
   "metadata": {},
   "source": [
    "### Batching input"
   ]
  },
  {
   "cell_type": "markdown",
   "id": "b00d437d",
   "metadata": {},
   "source": [
    "<img src='etc/rnn_batching_input.png' width='50%' align='left'></img>\n",
    "배치는 한번에 일괄로 처리하겠다?"
   ]
  },
  {
   "cell_type": "code",
   "execution_count": 5,
   "id": "b35ed0a3",
   "metadata": {
    "scrolled": true
   },
   "outputs": [
    {
     "name": "stdout",
     "output_type": "stream",
     "text": [
      "x_data: [[[1. 0. 0. 0.]\n",
      "  [0. 1. 0. 0.]\n",
      "  [0. 0. 1. 0.]\n",
      "  [0. 0. 1. 0.]\n",
      "  [0. 0. 0. 1.]]\n",
      "\n",
      " [[0. 1. 0. 0.]\n",
      "  [0. 0. 0. 1.]\n",
      "  [0. 0. 1. 0.]\n",
      "  [0. 0. 1. 0.]\n",
      "  [0. 0. 1. 0.]]\n",
      "\n",
      " [[0. 0. 1. 0.]\n",
      "  [0. 0. 1. 0.]\n",
      "  [0. 1. 0. 0.]\n",
      "  [0. 1. 0. 0.]\n",
      "  [0. 0. 1. 0.]]], shape: (3, 5, 4)\n",
      "outputs: [[[ 0.63636464  0.26858145]\n",
      "  [ 0.3160694  -0.2447505 ]\n",
      "  [ 0.03315001 -0.8627621 ]\n",
      "  [-0.56464666 -0.8359088 ]\n",
      "  [-0.86916    -0.49098697]]\n",
      "\n",
      " [[-0.1098488   0.27717802]\n",
      "  [-0.13258637 -0.5775922 ]\n",
      "  [-0.39098644 -0.74774694]\n",
      "  [-0.5711604  -0.6458156 ]\n",
      "  [-0.5387701  -0.5127421 ]]\n",
      "\n",
      " [[ 0.17667325 -0.731372  ]\n",
      "  [-0.4406332  -0.8637552 ]\n",
      "  [-0.7869603   0.4325448 ]\n",
      "  [ 0.08188006  0.8216183 ]\n",
      "  [ 0.75727075 -0.6514856 ]]], shape: (3, 5, 2)\n",
      "states: [[-0.86916    -0.49098697]\n",
      " [-0.5387701  -0.5127421 ]\n",
      " [ 0.75727075 -0.6514856 ]], shape: (3, 2)\n"
     ]
    }
   ],
   "source": [
    "\"\"\" ▶ Step 3. sequential data를 여러 배치로 RNN에 넣어 보기 \"\"\"\n",
    "\n",
    "x_data = np.array([[h, e, l, l, o],\n",
    "                   [e, o, l, l, l],\n",
    "                   [l, l, e, e, l]], dtype=np.float32)\n",
    "\n",
    "hidden_size = 2\n",
    "rnn = SimpleRNN(units = hidden_size, return_sequences = True, return_state = True)\n",
    "outputs, states = rnn(x_data)\n",
    "\n",
    "print('x_data: {}, shape: {}'.format(x_data, x_data.shape))    \n",
    "print('outputs: {}, shape: {}'.format(outputs, outputs.shape)) \n",
    "print('states: {}, shape: {}'.format(states, states.shape))   "
   ]
  },
  {
   "cell_type": "code",
   "execution_count": 6,
   "id": "25d4a9b4",
   "metadata": {
    "scrolled": true
   },
   "outputs": [
    {
     "name": "stdout",
     "output_type": "stream",
     "text": [
      "1.0\n",
      "1.0\n"
     ]
    },
    {
     "data": {
      "image/png": "[encoded data removed]",
      "text/plain": [
       "<Figure size 640x480 with 1 Axes>"
      ]
     },
     "metadata": {},
     "output_type": "display_data"
    }
   ],
   "source": [
    "import matplotlib.pyplot as plt\n",
    "\n",
    "x = np.arange(-200,200)\n",
    "x = x/10\n",
    "y = np.tanh(x)\n",
    "\n",
    "plt.plot(x,y)\n",
    "plt.grid(True)\n",
    "print(np.tanh(19))\n",
    "print(np.tanh(20))"
   ]
  },
  {
   "cell_type": "code",
   "execution_count": null,
   "id": "6b8e3a08",
   "metadata": {},
   "outputs": [],
   "source": []
  },
  {
   "cell_type": "code",
   "execution_count": null,
   "id": "cb5775d6",
   "metadata": {},
   "outputs": [],
   "source": []
  },
  {
   "cell_type": "code",
   "execution_count": null,
   "id": "2c0797d4",
   "metadata": {},
   "outputs": [],
   "source": []
  },
  {
   "cell_type": "code",
   "execution_count": null,
   "id": "508a4d6c",
   "metadata": {},
   "outputs": [],
   "source": []
  }
 ],
 "metadata": {
  "kernelspec": {
   "display_name": "Python 3 (ipykernel)",
   "language": "python",
   "name": "python3"
  },
  "language_info": {
   "codemirror_mode": {
    "name": "ipython",
    "version": 3
   },
   "file_extension": ".py",
   "mimetype": "text/x-python",
   "name": "python",
   "nbconvert_exporter": "python",
   "pygments_lexer": "ipython3",
   "version": "3.11.5"
  }
 },
 "nbformat": 4,
 "nbformat_minor": 5
}
