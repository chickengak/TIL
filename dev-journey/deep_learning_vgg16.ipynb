{
 "cells": [
  {
   "cell_type": "code",
   "execution_count": null,
   "id": "4fd7f834",
   "metadata": {},
   "outputs": [],
   "source": [
    "\"\"\" ▶ tf.keras.applications.vgg16 \"\"\"\n",
    "'''\n",
    "tf.keras.applications 에 포함된 모델들은 사전에 학습된(pre-trained) 가중치를 가진 유명한 딥러닝 모델의 구현체다.\n",
    "VGG, ResNet, Inception, MobileNet 등의 다양한 유명한 아키텍처를 제공하며, 이들 모델은 대규모 이미지 데이터셋(주로 ImageNet)에서 미리 학습되었다.\n",
    "모델을 로드할 때 weights 파라미터를 'imagenet'으로 설정하면 사전에 학습된 가중치를 사용하여 모델을 로드할 수 있다. 가중치를 로드하지 않으려면 weights=None으로 설정하면 된다.\n",
    "\n",
    "'''"
   ]
  },
  {
   "cell_type": "markdown",
   "id": "3b71ceea",
   "metadata": {},
   "source": [
    "![](etc/vgg16.png)\n",
    "https://smuhabdullah.medium.com/understanding-vgg16-a-powerful-deep-learning-model-for-image-recognition-d40b074fd01c"
   ]
  },
  {
   "cell_type": "markdown",
   "id": "3a339204",
   "metadata": {},
   "source": [
    "https://arxiv.org/pdf/1409.1556.pdf%20http://arxiv.org/abs/1409.1556.pdf  \n",
    "- 13 Convolution Layers + 3 Fully-connected Layers (이래서 vgg 16 임)\n",
    "- 3x3 convolution filters\n",
    "- stride: 1 & padding: 1\n",
    "- 2x2 max pooling (stride : 2)\n",
    "- ReLU\n",
    "\n",
    "========= 논문에 쓰인 최적화 알고리즘  \n",
    "The batch size was set to 256,   \n",
    "momentum to 0.9   \n",
    "weight decay (the L2 penalty multiplier set to 5·10−4)   \n",
    "dropout regularisation for the first two fully-connected layers (dropout ratio set to 0.5).  \n",
    "The learning rate was initially set to 10−2, and then decreased by a factor of 10 when the validation set accuracy stopped improving\n",
    "\n",
    "========= 학습 이미지 크기  \n",
    "To obtain the fixed-size 224×224 ConvNet input images,\n",
    "\n",
    "========= Overfitting 방지  \n",
    "데이터 수를 늘렸음, 변환 이미지 적용\n",
    "\n",
    "Tip) CNN 구조 학습에서 학습대상인 가중치는 필터의 크기에 해당한다. 7x7 필터 1개에 대한 학습 파라미터 수는 49이고, 3x3 필터 3개에 대한 학습 파라미터 수는 27(3x3x3)이 된다."
   ]
  },
  {
   "cell_type": "code",
   "execution_count": 1,
   "id": "d983ce43",
   "metadata": {},
   "outputs": [
    {
     "name": "stdout",
     "output_type": "stream",
     "text": [
      "WARNING:tensorflow:From C:\\Users\\ALT\\anaconda3\\Lib\\site-packages\\keras\\src\\losses.py:2976: The name tf.losses.sparse_softmax_cross_entropy is deprecated. Please use tf.compat.v1.losses.sparse_softmax_cross_entropy instead.\n",
      "\n",
      "[125.30691805 122.95039414 113.86538318] [62.99321928 62.08870764 66.70489964]\n",
      "True\n"
     ]
    }
   ],
   "source": [
    "\"\"\" ▶ Step 1. 학습된 모델인 VGG16 로드 \"\"\"\n",
    "import numpy as np\n",
    "import tensorflow as tf\n",
    "from sklearn.model_selection import train_test_split\n",
    "from tensorflow.keras.datasets import cifar10\n",
    "from tensorflow.keras.applications.vgg16 import VGG16\n",
    "\n",
    "(x_train_origin, y_train), (x_test_origin, y_test) = cifar10.load_data()\n",
    "\n",
    "x_origin_mean = np.mean(x_train_origin, axis=(0,1,2))\n",
    "x_origin_std = np.std(x_train_origin, axis=(0,1,2))\n",
    "print(x_origin_mean, x_origin_std)\n",
    "\n",
    "x_train = (x_train_origin - x_origin_mean) / x_origin_std\n",
    "x_test = (x_test_origin - x_origin_mean) / x_origin_std\n",
    "\n",
    "x_train, x_val, y_train, y_val = train_test_split(x_train, y_train, test_size=0.3, random_state=777)\n",
    "\n",
    "# y_train = np.squeeze(y_train)\n",
    "# y_val = np.squeeze(y_val)\n",
    "\n",
    "print(tf.keras.applications.vgg16.VGG16 is tf.keras.applications.VGG16) # 뭐지 둘다 같네"
   ]
  },
  {
   "cell_type": "code",
   "execution_count": 2,
   "id": "109b1857",
   "metadata": {},
   "outputs": [],
   "source": [
    "\"\"\" ▶ Step 2. 데이터 늘리기 \"\"\"\n",
    "\n",
    "from tensorflow.keras.preprocessing.image import ImageDataGenerator\n",
    "\n",
    "train_datagen = ImageDataGenerator(horizontal_flip = True,\n",
    "                                   zoom_range = 0.2,\n",
    "                                   width_shift_range = 0.1,\n",
    "                                   height_shift_range = 0.1,\n",
    "                                   rotation_range = 30,\n",
    "                                   fill_mode = 'nearest')\n",
    "\n",
    "val_datagen = ImageDataGenerator()\n",
    "\n",
    "batch_size = 32\n",
    "\n",
    "train_generator = train_datagen.flow(x_train, y_train,\n",
    "                                    batch_size = batch_size)\n",
    "\n",
    "val_generator = val_datagen.flow(x_val, y_val,\n",
    "                                batch_size = batch_size)"
   ]
  },
  {
   "cell_type": "code",
   "execution_count": 3,
   "id": "78c8c34f",
   "metadata": {},
   "outputs": [
    {
     "name": "stdout",
     "output_type": "stream",
     "text": [
      "WARNING:tensorflow:From C:\\Users\\ALT\\anaconda3\\Lib\\site-packages\\keras\\src\\backend.py:1398: The name tf.executing_eagerly_outside_functions is deprecated. Please use tf.compat.v1.executing_eagerly_outside_functions instead.\n",
      "\n",
      "WARNING:tensorflow:From C:\\Users\\ALT\\anaconda3\\Lib\\site-packages\\keras\\src\\layers\\pooling\\max_pooling2d.py:161: The name tf.nn.max_pool is deprecated. Please use tf.nn.max_pool2d instead.\n",
      "\n",
      "Model: \"vgg16\"\n",
      "_________________________________________________________________\n",
      " Layer (type)                Output Shape              Param #   \n",
      "=================================================================\n",
      " input_1 (InputLayer)        [(None, 32, 32, 3)]       0         \n",
      "                                                                 \n",
      " block1_conv1 (Conv2D)       (None, 32, 32, 64)        1792      \n",
      "                                                                 \n",
      " block1_conv2 (Conv2D)       (None, 32, 32, 64)        36928     \n",
      "                                                                 \n",
      " block1_pool (MaxPooling2D)  (None, 16, 16, 64)        0         \n",
      "                                                                 \n",
      " block2_conv1 (Conv2D)       (None, 16, 16, 128)       73856     \n",
      "                                                                 \n",
      " block2_conv2 (Conv2D)       (None, 16, 16, 128)       147584    \n",
      "                                                                 \n",
      " block2_pool (MaxPooling2D)  (None, 8, 8, 128)         0         \n",
      "                                                                 \n",
      " block3_conv1 (Conv2D)       (None, 8, 8, 256)         295168    \n",
      "                                                                 \n",
      " block3_conv2 (Conv2D)       (None, 8, 8, 256)         590080    \n",
      "                                                                 \n",
      " block3_conv3 (Conv2D)       (None, 8, 8, 256)         590080    \n",
      "                                                                 \n",
      " block3_pool (MaxPooling2D)  (None, 4, 4, 256)         0         \n",
      "                                                                 \n",
      " block4_conv1 (Conv2D)       (None, 4, 4, 512)         1180160   \n",
      "                                                                 \n",
      " block4_conv2 (Conv2D)       (None, 4, 4, 512)         2359808   \n",
      "                                                                 \n",
      " block4_conv3 (Conv2D)       (None, 4, 4, 512)         2359808   \n",
      "                                                                 \n",
      " block4_pool (MaxPooling2D)  (None, 2, 2, 512)         0         \n",
      "                                                                 \n",
      " block5_conv1 (Conv2D)       (None, 2, 2, 512)         2359808   \n",
      "                                                                 \n",
      " block5_conv2 (Conv2D)       (None, 2, 2, 512)         2359808   \n",
      "                                                                 \n",
      " block5_conv3 (Conv2D)       (None, 2, 2, 512)         2359808   \n",
      "                                                                 \n",
      " block5_pool (MaxPooling2D)  (None, 1, 1, 512)         0         \n",
      "                                                                 \n",
      "=================================================================\n",
      "Total params: 14714688 (56.13 MB)\n",
      "Trainable params: 14714688 (56.13 MB)\n",
      "Non-trainable params: 0 (0.00 Byte)\n",
      "_________________________________________________________________\n"
     ]
    }
   ],
   "source": [
    "\"\"\" ▶ Step 3. 모델 구성하기 \"\"\"\n",
    "\n",
    "from tensorflow.keras.models import Sequential\n",
    "from tensorflow.keras.layers import Conv2D, MaxPool2D, Dense, Flatten, BatchNormalization, Activation\n",
    "from tensorflow.keras.optimizers import Adam\n",
    "from tensorflow.keras.applications.vgg16 import VGG16\n",
    "\n",
    "vgg16 = VGG16(weights='imagenet', input_shape=(32, 32, 3), include_top=False)\n",
    "vgg16.summary()"
   ]
  },
  {
   "cell_type": "code",
   "execution_count": 4,
   "id": "1b6af878",
   "metadata": {},
   "outputs": [
    {
     "name": "stdout",
     "output_type": "stream",
     "text": [
      "Model: \"vgg16\"\n",
      "_________________________________________________________________\n",
      " Layer (type)                Output Shape              Param #   \n",
      "=================================================================\n",
      " input_1 (InputLayer)        [(None, 32, 32, 3)]       0         \n",
      "                                                                 \n",
      " block1_conv1 (Conv2D)       (None, 32, 32, 64)        1792      \n",
      "                                                                 \n",
      " block1_conv2 (Conv2D)       (None, 32, 32, 64)        36928     \n",
      "                                                                 \n",
      " block1_pool (MaxPooling2D)  (None, 16, 16, 64)        0         \n",
      "                                                                 \n",
      " block2_conv1 (Conv2D)       (None, 16, 16, 128)       73856     \n",
      "                                                                 \n",
      " block2_conv2 (Conv2D)       (None, 16, 16, 128)       147584    \n",
      "                                                                 \n",
      " block2_pool (MaxPooling2D)  (None, 8, 8, 128)         0         \n",
      "                                                                 \n",
      " block3_conv1 (Conv2D)       (None, 8, 8, 256)         295168    \n",
      "                                                                 \n",
      " block3_conv2 (Conv2D)       (None, 8, 8, 256)         590080    \n",
      "                                                                 \n",
      " block3_conv3 (Conv2D)       (None, 8, 8, 256)         590080    \n",
      "                                                                 \n",
      " block3_pool (MaxPooling2D)  (None, 4, 4, 256)         0         \n",
      "                                                                 \n",
      " block4_conv1 (Conv2D)       (None, 4, 4, 512)         1180160   \n",
      "                                                                 \n",
      " block4_conv2 (Conv2D)       (None, 4, 4, 512)         2359808   \n",
      "                                                                 \n",
      " block4_conv3 (Conv2D)       (None, 4, 4, 512)         2359808   \n",
      "                                                                 \n",
      " block4_pool (MaxPooling2D)  (None, 2, 2, 512)         0         \n",
      "                                                                 \n",
      " block5_conv1 (Conv2D)       (None, 2, 2, 512)         2359808   \n",
      "                                                                 \n",
      " block5_conv2 (Conv2D)       (None, 2, 2, 512)         2359808   \n",
      "                                                                 \n",
      " block5_conv3 (Conv2D)       (None, 2, 2, 512)         2359808   \n",
      "                                                                 \n",
      " block5_pool (MaxPooling2D)  (None, 1, 1, 512)         0         \n",
      "                                                                 \n",
      "=================================================================\n",
      "Total params: 14714688 (56.13 MB)\n",
      "Trainable params: 7079424 (27.01 MB)\n",
      "Non-trainable params: 7635264 (29.13 MB)\n",
      "_________________________________________________________________\n"
     ]
    }
   ],
   "source": [
    "# 레이어 동결\n",
    "for layer in vgg16.layers[:-4]:\n",
    "    layer.trainable = False\n",
    "    \n",
    "vgg16.summary()  # Non-trainable params 가 0 에서  7,635,264 로 증가한걸 볼 수 있다.\n",
    "\n",
    "# vgg16 모델에 기반하여, 분류기는 직접 정의한다.\n",
    "model = Sequential([\n",
    "    vgg16,\n",
    "    Flatten(),\n",
    "    Dense(256),\n",
    "    BatchNormalization(),\n",
    "    Activation('relu'),\n",
    "    Dense(10, activation='softmax'),\n",
    "])\n",
    "\n",
    "model.compile(optimizer = Adam(1e-4), loss = 'sparse_categorical_crossentropy', metrics = ['acc'])"
   ]
  },
  {
   "cell_type": "code",
   "execution_count": 5,
   "id": "91265be3",
   "metadata": {},
   "outputs": [
    {
     "name": "stdout",
     "output_type": "stream",
     "text": [
      "Epoch 1/17\n",
      "WARNING:tensorflow:From C:\\Users\\ALT\\anaconda3\\Lib\\site-packages\\keras\\src\\utils\\tf_utils.py:492: The name tf.ragged.RaggedTensorValue is deprecated. Please use tf.compat.v1.ragged.RaggedTensorValue instead.\n",
      "\n",
      "WARNING:tensorflow:From C:\\Users\\ALT\\anaconda3\\Lib\\site-packages\\keras\\src\\engine\\base_layer_utils.py:384: The name tf.executing_eagerly_outside_functions is deprecated. Please use tf.compat.v1.executing_eagerly_outside_functions instead.\n",
      "\n",
      "1094/1094 [==============================] - 448s 408ms/step - loss: 1.1183 - acc: 0.1022 - val_loss: 1.0628 - val_acc: 0.1609\n",
      "Epoch 2/17\n",
      "1094/1094 [==============================] - 441s 403ms/step - loss: 0.9155 - acc: 0.1023 - val_loss: 0.7956 - val_acc: 0.0747\n",
      "Epoch 3/17\n",
      "1094/1094 [==============================] - 438s 401ms/step - loss: 0.8545 - acc: 0.1035 - val_loss: 0.8570 - val_acc: 0.0743\n",
      "Epoch 4/17\n",
      "1094/1094 [==============================] - 444s 406ms/step - loss: 0.7998 - acc: 0.1031 - val_loss: 0.7453 - val_acc: 0.0906\n",
      "Epoch 5/17\n",
      "1094/1094 [==============================] - 443s 405ms/step - loss: 0.7662 - acc: 0.1026 - val_loss: 0.7256 - val_acc: 0.0983\n",
      "Epoch 6/17\n",
      "1094/1094 [==============================] - 464s 424ms/step - loss: 0.7360 - acc: 0.1036 - val_loss: 0.7182 - val_acc: 0.1081\n",
      "Epoch 7/17\n",
      "1094/1094 [==============================] - 454s 415ms/step - loss: 0.7017 - acc: 0.1029 - val_loss: 0.7013 - val_acc: 0.0970\n",
      "Epoch 8/17\n",
      "1094/1094 [==============================] - 464s 424ms/step - loss: 0.6805 - acc: 0.1014 - val_loss: 0.7044 - val_acc: 0.0931\n",
      "Epoch 9/17\n",
      "1094/1094 [==============================] - 457s 418ms/step - loss: 0.6495 - acc: 0.1027 - val_loss: 0.6889 - val_acc: 0.1004\n",
      "Epoch 10/17\n",
      "1094/1094 [==============================] - 455s 416ms/step - loss: 0.6262 - acc: 0.1022 - val_loss: 0.7490 - val_acc: 0.0793\n",
      "Epoch 11/17\n",
      "1094/1094 [==============================] - 441s 403ms/step - loss: 0.6035 - acc: 0.1016 - val_loss: 0.6770 - val_acc: 0.0953\n",
      "Epoch 12/17\n",
      "1094/1094 [==============================] - 427s 391ms/step - loss: 0.5909 - acc: 0.1032 - val_loss: 0.6293 - val_acc: 0.0811\n",
      "Epoch 13/17\n",
      "1094/1094 [==============================] - 433s 396ms/step - loss: 0.5650 - acc: 0.1025 - val_loss: 0.6650 - val_acc: 0.0911\n",
      "Epoch 14/17\n",
      "1094/1094 [==============================] - 446s 408ms/step - loss: 0.5465 - acc: 0.1034 - val_loss: 0.6824 - val_acc: 0.0957\n",
      "Epoch 15/17\n",
      "1094/1094 [==============================] - 434s 397ms/step - loss: 0.5266 - acc: 0.1020 - val_loss: 0.6479 - val_acc: 0.0967\n",
      "Epoch 16/17\n",
      "1094/1094 [==============================] - 423s 387ms/step - loss: 0.5109 - acc: 0.1020 - val_loss: 0.6538 - val_acc: 0.0929\n",
      "Epoch 17/17\n",
      "1094/1094 [==============================] - 406s 371ms/step - loss: 0.4973 - acc: 0.1031 - val_loss: 0.7029 - val_acc: 0.0861\n"
     ]
    }
   ],
   "source": [
    "\"\"\" ▶ Step 4. 모델 학습하기 \"\"\"\n",
    "\n",
    "def get_step(train_len, batch_size):\n",
    "    if (train_len % batch_size) > 0:\n",
    "        return train_len // batch_size + 1\n",
    "    else:\n",
    "        return train_len // batch_size\n",
    "    \n",
    "hist = model.fit(train_generator, epochs = 17,\n",
    "                 steps_per_epoch = get_step(len(x_train), batch_size),\n",
    "                 validation_data = val_generator,\n",
    "                 validation_steps = get_step(len(x_val), batch_size))"
   ]
  },
  {
   "cell_type": "code",
   "execution_count": 6,
   "id": "045835dd",
   "metadata": {},
   "outputs": [
    {
     "data": {
      "image/png": "[encoded data removed]",
      "text/plain": [
       "<Figure size 1000x500 with 2 Axes>"
      ]
     },
     "metadata": {},
     "output_type": "display_data"
    }
   ],
   "source": [
    "\"\"\" ▶ Step 5. 확인 및 평가 \"\"\"\n",
    "\n",
    "import matplotlib.pyplot as plt\n",
    "\n",
    "hist_dict = hist.history\n",
    "loss = hist_dict['loss']\n",
    "val_loss = hist_dict['val_loss']\n",
    "\n",
    "epochs = range(1, len(loss) + 1)\n",
    "fig = plt.figure(figsize=(10, 5))\n",
    "\n",
    "# 훈련 및 검증 손실 그리기\n",
    "ax1 = fig.add_subplot(1, 2, 1)\n",
    "ax1.plot(epochs, loss, color = 'blue', label = 'train_loss')\n",
    "ax1.plot(epochs, val_loss, color = 'orange', label = 'val_loss')\n",
    "ax1.set_title('train and val loss')\n",
    "ax1.set_xlabel('epochs')\n",
    "ax1.set_ylabel('loss')\n",
    "ax1.legend()\n",
    "\n",
    "acc = hist_dict['acc']\n",
    "val_acc = hist_dict['val_acc']\n",
    "\n",
    "# 훈련 및 검증 정확도 그리기\n",
    "ax2 = fig.add_subplot(1, 2, 2)\n",
    "ax2.plot(epochs, acc, color = 'blue', label = 'train_acc')\n",
    "ax2.plot(epochs, val_acc, color = 'orange', label = 'val_acc')\n",
    "ax2.set_title('train and val acc')\n",
    "ax2.set_xlabel('epochs')\n",
    "ax2.set_ylabel('acc')\n",
    "ax2.legend()\n",
    "\n",
    "plt.show()"
   ]
  },
  {
   "cell_type": "code",
   "execution_count": 7,
   "id": "ac63abda",
   "metadata": {},
   "outputs": [
    {
     "name": "stdout",
     "output_type": "stream",
     "text": [
      "층 이름:  ['vgg16', 'flatten', 'dense', 'batch_normalization', 'activation', 'dense_1']\n",
      "출력 층 이름:  ['vgg16', 'flatten', 'dense', 'batch_normalization', 'activation', 'dense_1']\n"
     ]
    }
   ],
   "source": [
    "#6-1 \n",
    "import tensorflow as tf\n",
    "\n",
    "get_layer_name = [layer.name for layer in model.layers]\n",
    "get_output = [layer.output for layer in model.layers]\n",
    "print('층 이름: ', get_layer_name)\n",
    "print('출력 층 이름: ', get_layer_name)"
   ]
  },
  {
   "cell_type": "code",
   "execution_count": 8,
   "id": "8e40b460",
   "metadata": {},
   "outputs": [
    {
     "ename": "ValueError",
     "evalue": "Graph disconnected: cannot obtain value for tensor KerasTensor(type_spec=TensorSpec(shape=(None, 32, 32, 3), dtype=tf.float32, name='input_1'), name='input_1', description=\"created by layer 'input_1'\") at layer \"block1_conv1\". The following previous layers were accessed without issue: []",
     "output_type": "error",
     "traceback": [
      "\u001b[1;31m---------------------------------------------------------------------------\u001b[0m",
      "\u001b[1;31mValueError\u001b[0m                                Traceback (most recent call last)",
      "Cell \u001b[1;32mIn[8], line 3\u001b[0m\n\u001b[0;32m      1\u001b[0m \u001b[38;5;66;03m#6-2\u001b[39;00m\n\u001b[0;32m      2\u001b[0m \u001b[38;5;66;03m# 모델 전체에서 output을 가져올 수 있습니다.\u001b[39;00m\n\u001b[1;32m----> 3\u001b[0m visual_model \u001b[38;5;241m=\u001b[39m tf\u001b[38;5;241m.\u001b[39mkeras\u001b[38;5;241m.\u001b[39mmodels\u001b[38;5;241m.\u001b[39mModel(inputs \u001b[38;5;241m=\u001b[39m model\u001b[38;5;241m.\u001b[39minput, outputs \u001b[38;5;241m=\u001b[39m get_output)\n\u001b[0;32m      5\u001b[0m \u001b[38;5;66;03m# 테스트셋의 두 번째 데이터는 '배'입니다.\u001b[39;00m\n\u001b[0;32m      6\u001b[0m test_img \u001b[38;5;241m=\u001b[39m np\u001b[38;5;241m.\u001b[39mexpand_dims(x_test[\u001b[38;5;241m1\u001b[39m], axis \u001b[38;5;241m=\u001b[39m \u001b[38;5;241m0\u001b[39m) \u001b[38;5;66;03m#  expand_dims는 axis로 지정된 차원을 추가\u001b[39;00m\n",
      "File \u001b[1;32m~\\anaconda3\\Lib\\site-packages\\tensorflow\\python\\trackable\\base.py:204\u001b[0m, in \u001b[0;36mno_automatic_dependency_tracking.<locals>._method_wrapper\u001b[1;34m(self, *args, **kwargs)\u001b[0m\n\u001b[0;32m    202\u001b[0m \u001b[38;5;28mself\u001b[39m\u001b[38;5;241m.\u001b[39m_self_setattr_tracking \u001b[38;5;241m=\u001b[39m \u001b[38;5;28;01mFalse\u001b[39;00m  \u001b[38;5;66;03m# pylint: disable=protected-access\u001b[39;00m\n\u001b[0;32m    203\u001b[0m \u001b[38;5;28;01mtry\u001b[39;00m:\n\u001b[1;32m--> 204\u001b[0m   result \u001b[38;5;241m=\u001b[39m method(\u001b[38;5;28mself\u001b[39m, \u001b[38;5;241m*\u001b[39margs, \u001b[38;5;241m*\u001b[39m\u001b[38;5;241m*\u001b[39mkwargs)\n\u001b[0;32m    205\u001b[0m \u001b[38;5;28;01mfinally\u001b[39;00m:\n\u001b[0;32m    206\u001b[0m   \u001b[38;5;28mself\u001b[39m\u001b[38;5;241m.\u001b[39m_self_setattr_tracking \u001b[38;5;241m=\u001b[39m previous_value  \u001b[38;5;66;03m# pylint: disable=protected-access\u001b[39;00m\n",
      "File \u001b[1;32m~\\anaconda3\\Lib\\site-packages\\keras\\src\\engine\\functional.py:166\u001b[0m, in \u001b[0;36mFunctional.__init__\u001b[1;34m(self, inputs, outputs, name, trainable, **kwargs)\u001b[0m\n\u001b[0;32m    157\u001b[0m     \u001b[38;5;28;01mif\u001b[39;00m \u001b[38;5;129;01mnot\u001b[39;00m \u001b[38;5;28mall\u001b[39m(\n\u001b[0;32m    158\u001b[0m         [\n\u001b[0;32m    159\u001b[0m             functional_utils\u001b[38;5;241m.\u001b[39mis_input_keras_tensor(t)\n\u001b[0;32m    160\u001b[0m             \u001b[38;5;28;01mfor\u001b[39;00m t \u001b[38;5;129;01min\u001b[39;00m tf\u001b[38;5;241m.\u001b[39mnest\u001b[38;5;241m.\u001b[39mflatten(inputs)\n\u001b[0;32m    161\u001b[0m         ]\n\u001b[0;32m    162\u001b[0m     ):\n\u001b[0;32m    163\u001b[0m         inputs, outputs \u001b[38;5;241m=\u001b[39m functional_utils\u001b[38;5;241m.\u001b[39mclone_graph_nodes(\n\u001b[0;32m    164\u001b[0m             inputs, outputs\n\u001b[0;32m    165\u001b[0m         )\n\u001b[1;32m--> 166\u001b[0m \u001b[38;5;28mself\u001b[39m\u001b[38;5;241m.\u001b[39m_init_graph_network(inputs, outputs)\n",
      "File \u001b[1;32m~\\anaconda3\\Lib\\site-packages\\tensorflow\\python\\trackable\\base.py:204\u001b[0m, in \u001b[0;36mno_automatic_dependency_tracking.<locals>._method_wrapper\u001b[1;34m(self, *args, **kwargs)\u001b[0m\n\u001b[0;32m    202\u001b[0m \u001b[38;5;28mself\u001b[39m\u001b[38;5;241m.\u001b[39m_self_setattr_tracking \u001b[38;5;241m=\u001b[39m \u001b[38;5;28;01mFalse\u001b[39;00m  \u001b[38;5;66;03m# pylint: disable=protected-access\u001b[39;00m\n\u001b[0;32m    203\u001b[0m \u001b[38;5;28;01mtry\u001b[39;00m:\n\u001b[1;32m--> 204\u001b[0m   result \u001b[38;5;241m=\u001b[39m method(\u001b[38;5;28mself\u001b[39m, \u001b[38;5;241m*\u001b[39margs, \u001b[38;5;241m*\u001b[39m\u001b[38;5;241m*\u001b[39mkwargs)\n\u001b[0;32m    205\u001b[0m \u001b[38;5;28;01mfinally\u001b[39;00m:\n\u001b[0;32m    206\u001b[0m   \u001b[38;5;28mself\u001b[39m\u001b[38;5;241m.\u001b[39m_self_setattr_tracking \u001b[38;5;241m=\u001b[39m previous_value  \u001b[38;5;66;03m# pylint: disable=protected-access\u001b[39;00m\n",
      "File \u001b[1;32m~\\anaconda3\\Lib\\site-packages\\keras\\src\\engine\\functional.py:265\u001b[0m, in \u001b[0;36mFunctional._init_graph_network\u001b[1;34m(self, inputs, outputs)\u001b[0m\n\u001b[0;32m    262\u001b[0m     \u001b[38;5;28mself\u001b[39m\u001b[38;5;241m.\u001b[39m_input_coordinates\u001b[38;5;241m.\u001b[39mappend((layer, node_index, tensor_index))\n\u001b[0;32m    264\u001b[0m \u001b[38;5;66;03m# Keep track of the network's nodes and layers.\u001b[39;00m\n\u001b[1;32m--> 265\u001b[0m nodes, nodes_by_depth, layers, _ \u001b[38;5;241m=\u001b[39m _map_graph_network(\n\u001b[0;32m    266\u001b[0m     \u001b[38;5;28mself\u001b[39m\u001b[38;5;241m.\u001b[39minputs, \u001b[38;5;28mself\u001b[39m\u001b[38;5;241m.\u001b[39moutputs\n\u001b[0;32m    267\u001b[0m )\n\u001b[0;32m    268\u001b[0m \u001b[38;5;28mself\u001b[39m\u001b[38;5;241m.\u001b[39m_network_nodes \u001b[38;5;241m=\u001b[39m nodes\n\u001b[0;32m    269\u001b[0m \u001b[38;5;28mself\u001b[39m\u001b[38;5;241m.\u001b[39m_nodes_by_depth \u001b[38;5;241m=\u001b[39m nodes_by_depth\n",
      "File \u001b[1;32m~\\anaconda3\\Lib\\site-packages\\keras\\src\\engine\\functional.py:1145\u001b[0m, in \u001b[0;36m_map_graph_network\u001b[1;34m(inputs, outputs)\u001b[0m\n\u001b[0;32m   1143\u001b[0m \u001b[38;5;28;01mfor\u001b[39;00m x \u001b[38;5;129;01min\u001b[39;00m tf\u001b[38;5;241m.\u001b[39mnest\u001b[38;5;241m.\u001b[39mflatten(node\u001b[38;5;241m.\u001b[39mkeras_inputs):\n\u001b[0;32m   1144\u001b[0m     \u001b[38;5;28;01mif\u001b[39;00m \u001b[38;5;28mid\u001b[39m(x) \u001b[38;5;129;01mnot\u001b[39;00m \u001b[38;5;129;01min\u001b[39;00m computable_tensors:\n\u001b[1;32m-> 1145\u001b[0m         \u001b[38;5;28;01mraise\u001b[39;00m \u001b[38;5;167;01mValueError\u001b[39;00m(\n\u001b[0;32m   1146\u001b[0m             \u001b[38;5;124m\"\u001b[39m\u001b[38;5;124mGraph disconnected: cannot obtain value for \u001b[39m\u001b[38;5;124m\"\u001b[39m\n\u001b[0;32m   1147\u001b[0m             \u001b[38;5;124mf\u001b[39m\u001b[38;5;124m'\u001b[39m\u001b[38;5;124mtensor \u001b[39m\u001b[38;5;132;01m{\u001b[39;00mx\u001b[38;5;132;01m}\u001b[39;00m\u001b[38;5;124m at layer \u001b[39m\u001b[38;5;124m\"\u001b[39m\u001b[38;5;132;01m{\u001b[39;00mlayer\u001b[38;5;241m.\u001b[39mname\u001b[38;5;132;01m}\u001b[39;00m\u001b[38;5;124m\"\u001b[39m\u001b[38;5;124m. \u001b[39m\u001b[38;5;124m'\u001b[39m\n\u001b[0;32m   1148\u001b[0m             \u001b[38;5;124m\"\u001b[39m\u001b[38;5;124mThe following previous layers were accessed \u001b[39m\u001b[38;5;124m\"\u001b[39m\n\u001b[0;32m   1149\u001b[0m             \u001b[38;5;124mf\u001b[39m\u001b[38;5;124m\"\u001b[39m\u001b[38;5;124mwithout issue: \u001b[39m\u001b[38;5;132;01m{\u001b[39;00mlayers_with_complete_input\u001b[38;5;132;01m}\u001b[39;00m\u001b[38;5;124m\"\u001b[39m\n\u001b[0;32m   1150\u001b[0m         )\n\u001b[0;32m   1151\u001b[0m \u001b[38;5;28;01mfor\u001b[39;00m x \u001b[38;5;129;01min\u001b[39;00m tf\u001b[38;5;241m.\u001b[39mnest\u001b[38;5;241m.\u001b[39mflatten(node\u001b[38;5;241m.\u001b[39moutputs):\n\u001b[0;32m   1152\u001b[0m     computable_tensors\u001b[38;5;241m.\u001b[39madd(\u001b[38;5;28mid\u001b[39m(x))\n",
      "\u001b[1;31mValueError\u001b[0m: Graph disconnected: cannot obtain value for tensor KerasTensor(type_spec=TensorSpec(shape=(None, 32, 32, 3), dtype=tf.float32, name='input_1'), name='input_1', description=\"created by layer 'input_1'\") at layer \"block1_conv1\". The following previous layers were accessed without issue: []"
     ]
    }
   ],
   "source": [
    "#6-2\n",
    "# 모델 전체에서 output을 가져올 수 있습니다.\n",
    "visual_model = tf.keras.models.Model(inputs = model.input, outputs = get_output)\n",
    "\n",
    "# 테스트셋의 두 번째 데이터는 '배'입니다.\n",
    "test_img = np.expand_dims(x_test[1], axis = 0) #  expand_dims는 axis로 지정된 차원을 추가\n",
    "feature_maps = visual_model.predict(test_img)\n",
    "\n",
    "for layer_name, feature_map in zip(get_layer_name, feature_maps):\n",
    "    # Dense 층은 제외합니다.\n",
    "    if(len(feature_map.shape) == 4):\n",
    "        img_size = feature_map.shape[1]\n",
    "        features = feature_map.shape[-1]\n",
    "        \n",
    "        # (img_size, img_size)의 feature_map이 features 개수만큼 존재합니다.\n",
    "        display_grid = np.zeros((img_size, img_size * features))\n",
    "        \n",
    "       #각 특징맵을 display_grid 배열에 이어 붙입니다. \n",
    "        for i in range(features):\n",
    "            x = feature_map[0, :, :, i]\n",
    "            x -= x.mean(); x /= x.std()\n",
    "            x *= 64; x += 128\n",
    "            x = np.clip(x, 0, 255).astype('uint8')\n",
    "            display_grid[:, i * img_size : (i + 1) * img_size] = x\n",
    "            \n",
    "        plt.figure(figsize = (features, 2 + 1./features))\n",
    "        plt.title(layer_name, fontsize = 20)\n",
    "        plt.grid(False)\n",
    "        plt.imshow(display_grid, aspect = 'auto', cmap = 'viridis')"
   ]
  },
  {
   "cell_type": "code",
   "execution_count": null,
   "id": "e2005b4f",
   "metadata": {},
   "outputs": [],
   "source": []
  },
  {
   "cell_type": "code",
   "execution_count": null,
   "id": "dfe434b9",
   "metadata": {},
   "outputs": [],
   "source": []
  }
 ],
 "metadata": {
  "kernelspec": {
   "display_name": "Python 3 (ipykernel)",
   "language": "python",
   "name": "python3"
  },
  "language_info": {
   "codemirror_mode": {
    "name": "ipython",
    "version": 3
   },
   "file_extension": ".py",
   "mimetype": "text/x-python",
   "name": "python",
   "nbconvert_exporter": "python",
   "pygments_lexer": "ipython3",
   "version": "3.11.5"
  }
 },
 "nbformat": 4,
 "nbformat_minor": 5
}
