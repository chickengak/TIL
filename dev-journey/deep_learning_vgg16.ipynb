{
 "cells": [
  {
   "cell_type": "code",
   "execution_count": null,
   "id": "4fd7f834",
   "metadata": {},
   "outputs": [],
   "source": [
    "\"\"\" ▶ tf.keras.applications.vgg16 \"\"\"\n",
    "'''\n",
    "tf.keras.applications 에 포함된 모델들은 사전에 학습된(pre-trained) 가중치를 가진 유명한 딥러닝 모델의 구현체다.\n",
    "VGG, ResNet, Inception, MobileNet 등의 다양한 유명한 아키텍처를 제공하며, 이들 모델은 대규모 이미지 데이터셋(주로 ImageNet)에서 미리 학습되었다.\n",
    "모델을 로드할 때 weights 파라미터를 'imagenet'으로 설정하면 사전에 학습된 가중치를 사용하여 모델을 로드할 수 있다. 가중치를 로드하지 않으려면 weights=None으로 설정하면 된다.\n",
    "\n",
    "'''"
   ]
  },
  {
   "cell_type": "markdown",
   "id": "3b71ceea",
   "metadata": {},
   "source": [
    "![](etc/vgg16.png)\n",
    "https://smuhabdullah.medium.com/understanding-vgg16-a-powerful-deep-learning-model-for-image-recognition-d40b074fd01c"
   ]
  },
  {
   "cell_type": "markdown",
   "id": "3a339204",
   "metadata": {},
   "source": [
    "https://arxiv.org/pdf/1409.1556.pdf%20http://arxiv.org/abs/1409.1556.pdf  \n",
    "- 13 Convolution Layers + 3 Fully-connected Layers (이래서 vgg 16 임)\n",
    "- 3x3 convolution filters\n",
    "- stride: 1 & padding: 1\n",
    "- 2x2 max pooling (stride : 2)\n",
    "- ReLU\n",
    "\n",
    "========= 논문에 쓰인 최적화 알고리즘  \n",
    "The batch size was set to 256,   \n",
    "momentum to 0.9   \n",
    "weight decay (the L2 penalty multiplier set to 5·10−4)   \n",
    "dropout regularisation for the first two fully-connected layers (dropout ratio set to 0.5).  \n",
    "The learning rate was initially set to 10−2, and then decreased by a factor of 10 when the validation set accuracy stopped improving\n",
    "\n",
    "========= 학습 이미지 크기  \n",
    "To obtain the fixed-size 224×224 ConvNet input images,\n",
    "\n",
    "========= Overfitting 방지  \n",
    "데이터 수를 늘렸음, 변환 이미지 적용\n",
    "\n",
    "Tip) CNN 구조 학습에서 학습대상인 가중치는 필터의 크기에 해당한다. 7x7 필터 1개에 대한 학습 파라미터 수는 49이고, 3x3 필터 3개에 대한 학습 파라미터 수는 27(3x3x3)이 된다."
   ]
  },
  {
   "cell_type": "code",
   "execution_count": null,
   "id": "d983ce43",
   "metadata": {},
   "outputs": [],
   "source": []
  },
  {
   "cell_type": "code",
   "execution_count": null,
   "id": "109b1857",
   "metadata": {},
   "outputs": [],
   "source": []
  },
  {
   "cell_type": "code",
   "execution_count": null,
   "id": "78c8c34f",
   "metadata": {},
   "outputs": [],
   "source": []
  }
 ],
 "metadata": {
  "kernelspec": {
   "display_name": "Python 3 (ipykernel)",
   "language": "python",
   "name": "python3"
  },
  "language_info": {
   "codemirror_mode": {
    "name": "ipython",
    "version": 3
   },
   "file_extension": ".py",
   "mimetype": "text/x-python",
   "name": "python",
   "nbconvert_exporter": "python",
   "pygments_lexer": "ipython3",
   "version": "3.11.5"
  }
 },
 "nbformat": 4,
 "nbformat_minor": 5
}
