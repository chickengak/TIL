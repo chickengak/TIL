{
 "cells": [
  {
   "cell_type": "markdown",
   "id": "294bc582",
   "metadata": {},
   "source": [
    "# __Numpy__\n",
    "Array 연산에 최적화.  \n",
    "배열(Array)이란 순서가 있는 같은 종류의 데이터가 저장된 집합."
   ]
  },
  {
   "cell_type": "code",
   "execution_count": 1,
   "id": "0b6bc40b",
   "metadata": {},
   "outputs": [],
   "source": [
    "import numpy as np\n",
    "def p(*t): print(*t); return"
   ]
  },
  {
   "cell_type": "code",
   "execution_count": 2,
   "id": "4a7e230c",
   "metadata": {},
   "outputs": [
    {
     "name": "stdout",
     "output_type": "stream",
     "text": [
      "[0 1 2 3 4 5]\n",
      "[0.   1.   2.   3.   4.   0.05]\n",
      "int32 float64\n"
     ]
    }
   ],
   "source": [
    "# numpy array는 list를 받는다.\n",
    "a1 = np.array([0,1,2,3,4,5])\n",
    "p( a1 )\n",
    "a2 = np.array([0,1,2,3,4,0.05])\n",
    "p( a2 )     # 데이터의 종류를 맞추기 위해 float으로 바뀜.\n",
    "p( a1.dtype, a2.dtype )"
   ]
  },
  {
   "cell_type": "code",
   "execution_count": 3,
   "id": "f4d5a603",
   "metadata": {},
   "outputs": [
    {
     "name": "stdout",
     "output_type": "stream",
     "text": [
      "[[1 2 3]\n",
      " [4 5 6]\n",
      " [7 8 9]]\n",
      "[0 1 2 3 4]\n",
      "[ 3  5  7  9 11]\n"
     ]
    }
   ],
   "source": [
    "# 다차원 배열 생성 가능.\n",
    "p( np.array([[1,2,3],\n",
    "                 [4,5,6],\n",
    "                 [7,8,9]]) )\n",
    "\n",
    "# 파이썬 range와 비슷하게 arange로 범위 지정 가능.\n",
    "p( np.arange(5) )\n",
    "p( np.arange(3, 13, 2) )"
   ]
  },
  {
   "cell_type": "markdown",
   "id": "db91469e",
   "metadata": {},
   "source": [
    "### __reshape__     __shape__"
   ]
  },
  {
   "cell_type": "code",
   "execution_count": 4,
   "id": "08d1737d",
   "metadata": {},
   "outputs": [
    {
     "name": "stdout",
     "output_type": "stream",
     "text": [
      "[ 0  1  2  3  4  5  6  7  8  9 10 11]\n",
      "[[ 0  1  2  3]\n",
      " [ 4  5  6  7]\n",
      " [ 8  9 10 11]]\n",
      "(12,)\n"
     ]
    }
   ],
   "source": [
    "t = np.arange(12)\n",
    "p( t )                   # reshape는 데이터의 크기가 맞아야 한다. 3 x 4 = 12\n",
    "p( t.reshape(3, 4) )     # reshape는 결과를 return함. 근데 저장안해서 초기화됨.\n",
    "p( t.shape )             # 그리고 1차원 배열은 (12,) 이런식으로 출력됨."
   ]
  },
  {
   "cell_type": "markdown",
   "id": "d5afd96b",
   "metadata": {},
   "source": [
    "### __linspace__\n",
    "범위의 시작과 끝 그리고 개수를 넣으면 알아서 분할. 끝점을 포함할지도 선택 가능.                   <br>\n",
    "linspace(start, end, numOfSlices=50, endpoint=True, retstep=False)"
   ]
  },
  {
   "cell_type": "code",
   "execution_count": 5,
   "id": "50a91c04",
   "metadata": {},
   "outputs": [
    {
     "name": "stdout",
     "output_type": "stream",
     "text": [
      "float64\n"
     ]
    },
    {
     "data": {
      "text/plain": [
       "array([ 1.,  2.,  3.,  4.,  5.,  6.,  7.,  8.,  9., 10.])"
      ]
     },
     "execution_count": 5,
     "metadata": {},
     "output_type": "execute_result"
    }
   ],
   "source": [
    "t = np.linspace( 1, 10, 10)\n",
    "p( t.dtype )             # 정수로 나눠 떨어져도 float임.\n",
    "t     "
   ]
  },
  {
   "cell_type": "code",
   "execution_count": 6,
   "id": "681dc989",
   "metadata": {},
   "outputs": [
    {
     "data": {
      "text/plain": [
       "(array([1. , 1.9, 2.8, 3.7, 4.6, 5.5, 6.4, 7.3, 8.2, 9.1]), 0.9)"
      ]
     },
     "execution_count": 6,
     "metadata": {},
     "output_type": "execute_result"
    }
   ],
   "source": [
    "t = np.linspace( 1, 10, 10, False, retstep=True)    # endpoint를 False해서 마지막 10 제외함.\n",
    "t                                                   # retstep=True 라서 스텝을 같이 리턴함.   return step의 준말."
   ]
  },
  {
   "cell_type": "markdown",
   "id": "8568e131",
   "metadata": {},
   "source": [
    "### __zeros__  __ones__  __eye__ \n",
    "zeros(shape = int | tuple, dtype=float64, order='C', *, like=None)                                                                                                 <br>\n",
    "eye(N, M=None, k=0, dtype=<class 'float'>, order='C', *, like=None)                                                                                            <br>\n",
    "기본 자료형은 다 **float**이다.                                                                                                                                                                         <br>\n",
    "eye는 단위행렬이므로 보통 매개변수 하나만 쓰고 대칭 행렬(Symmetric Matrix)로 출력됨.  "
   ]
  },
  {
   "cell_type": "code",
   "execution_count": 7,
   "id": "76e68f49",
   "metadata": {},
   "outputs": [
    {
     "name": "stdout",
     "output_type": "stream",
     "text": [
      "[0. 0. 0.]\n",
      "[[0. 0. 0. 0.]\n",
      " [0. 0. 0. 0.]]\n",
      "[1. 1. 1. 1. 1.]\n",
      "[[1 1]\n",
      " [1 1]\n",
      " [1 1]]\n",
      "[[0 0 0]\n",
      " [0 0 0]]\n"
     ]
    }
   ],
   "source": [
    "p( np.zeros(3) )\n",
    "p( np.zeros((2,4)) )\n",
    "p( np.ones(5) )\n",
    "p( np.ones((3,2), \"int32\") )\n",
    "template = np.array([[1, 2, 3], [4, 5, 6]])\n",
    "arr = np.zeros_like(template)                   # like 매개변수는 zeros_like ones_like 로 쓰는게 더 편하다.\n",
    "p( arr )"
   ]
  },
  {
   "cell_type": "code",
   "execution_count": 8,
   "id": "58a6968a",
   "metadata": {},
   "outputs": [
    {
     "name": "stdout",
     "output_type": "stream",
     "text": [
      "[[1. 0. 0.]\n",
      " [0. 1. 0.]\n",
      " [0. 0. 1.]]\n",
      "[[1 0 0 0 0]\n",
      " [0 1 0 0 0]\n",
      " [0 0 1 0 0]]\n"
     ]
    },
    {
     "data": {
      "text/plain": [
       "array([[0, 0, 1, 0, 0],\n",
       "       [0, 0, 0, 1, 0],\n",
       "       [0, 0, 0, 0, 1]])"
      ]
     },
     "execution_count": 8,
     "metadata": {},
     "output_type": "execute_result"
    }
   ],
   "source": [
    "p( np.eye(3))\n",
    "p( np.eye(3,5, dtype=\"int32\") )       # eye가 단위행렬이라고 대칭행렬만 가능한건 아니다. 3x5로 만들면 초과된 2열은 0으로 채워 만들 수 있다.\n",
    "np.eye(3,5, k=2, dtype=\"int32\")       # k에 값을 주면 주대각 위치가 바뀜. k=2를 줬기 때문에 위로 2이동."
   ]
  },
  {
   "cell_type": "markdown",
   "id": "1f018de2",
   "metadata": {},
   "source": [
    "### __데이터 타입의 종류들__\n",
    "b　　　bool                                                                                                                                  <br>\n",
    "i　　　signed integer                                                                                                                                  <br>\n",
    "u　　　unsigned inteager                                                                                                                                  <br>\n",
    "f　　　floating-point                                                                                                                                  <br>\n",
    "c　　　복소수. complex-floating point                                                                                                                                  <br>\n",
    "M　　　datetime                                                                                                                                  <br>\n",
    "O　　　(Python) objects                                                                                                                                  <br>\n",
    "S | a　　바이트 문자열. (byte) string                                                                                                                                  <br>\n",
    "U　　　Unicode                                                                                                                                 <br>\n",
    "> 데이터 타입 변환                                                                                                                                 <br>\n",
    "리턴_받을_변수 = 변환할_배열.astype(dtype)"
   ]
  },
  {
   "cell_type": "code",
   "execution_count": 9,
   "id": "a5fa0e99",
   "metadata": {},
   "outputs": [
    {
     "data": {
      "text/plain": [
       "array(['1.5', '0.62', '2', '3.14', '3.141592'], dtype='<U8')"
      ]
     },
     "execution_count": 9,
     "metadata": {},
     "output_type": "execute_result"
    }
   ],
   "source": [
    "np.array(['1.5', '0.62', '2', '3.14', '3.141592'])"
   ]
  },
  {
   "cell_type": "code",
   "execution_count": 10,
   "id": "0b14475f",
   "metadata": {},
   "outputs": [
    {
     "name": "stdout",
     "output_type": "stream",
     "text": [
      "<U5\n"
     ]
    },
    {
     "data": {
      "text/plain": [
       "array([1.567, 0.123, 5.123, 9.   , 8.   ])"
      ]
     },
     "execution_count": 10,
     "metadata": {},
     "output_type": "execute_result"
    }
   ],
   "source": [
    "temp = np.array(['1.567', '0.123', '5.123', '9', '8'])\n",
    "p( temp.dtype )\n",
    "result = temp.astype(float)\n",
    "result"
   ]
  },
  {
   "cell_type": "markdown",
   "id": "1a5b8924",
   "metadata": {},
   "source": [
    "### __난수 배열__\n",
    "np.random.rand(d0, d1, ..., dn)　　　　　　여기서 d0, d1은 dimension (차원) 이다.  \n",
    "np.random.randint(low, high=None, size=None, dtype=int)"
   ]
  },
  {
   "cell_type": "code",
   "execution_count": 11,
   "id": "c3790789",
   "metadata": {},
   "outputs": [
    {
     "name": "stdout",
     "output_type": "stream",
     "text": [
      "0.19666539326637222\n"
     ]
    },
    {
     "data": {
      "text/plain": [
       "array([[0.30971021, 0.6574833 , 0.04846202],\n",
       "       [0.71074833, 0.08041549, 0.00628473]])"
      ]
     },
     "execution_count": 11,
     "metadata": {},
     "output_type": "execute_result"
    }
   ],
   "source": [
    "p( np.random.rand() )        # 차원을 입력하지 않으면 0차원 점마냥 랜덤 수 하나를 리턴.\n",
    "np.random.rand(2,3)              # rand는 0이상 1미만의 실수를 리턴한다."
   ]
  },
  {
   "cell_type": "code",
   "execution_count": 12,
   "id": "fbc8bc57",
   "metadata": {},
   "outputs": [
    {
     "name": "stdout",
     "output_type": "stream",
     "text": [
      "7\n"
     ]
    },
    {
     "data": {
      "text/plain": [
       "array([[9, 1, 3, 5],\n",
       "       [3, 5, 6, 4],\n",
       "       [5, 5, 6, 1]])"
      ]
     },
     "execution_count": 12,
     "metadata": {},
     "output_type": "execute_result"
    }
   ],
   "source": [
    "p( np.random.randint(10) )           # 0이상 10미만의 정수를 0차원으로 리턴.\n",
    "np.random.randint(10, size=(3, 4))           # 0이상 10미만의 정수를 3*4배열로 리턴."
   ]
  },
  {
   "cell_type": "markdown",
   "id": "9f44b793",
   "metadata": {},
   "source": [
    "### __배열 연산하기__ - 기본"
   ]
  },
  {
   "cell_type": "code",
   "execution_count": 13,
   "id": "71177124",
   "metadata": {},
   "outputs": [
    {
     "name": "stdout",
     "output_type": "stream",
     "text": [
      "[10 20 30 40] [1 2 3 4] \n",
      "\n",
      "[11 22 33 44]\n",
      "[ 9 18 27 36]\n",
      "[ 10  40  90 160]\n",
      "[10. 10. 10. 10.]\n",
      "[ 30  60  90 120]\n",
      "[     10     400   27000 2560000]\n",
      "[10.          5.          3.33333333  2.5       ]\n",
      "[False False  True  True]\n"
     ]
    }
   ],
   "source": [
    "arr1 = np.array([10, 20, 30, 40])\n",
    "arr2 = np.array([1, 2, 3, 4])\n",
    "p( arr1, arr2, \"\\n\")\n",
    "p( arr1 + arr2 )\n",
    "p( arr1 - arr2 )\n",
    "p( arr1 * arr2 )\n",
    "p( arr1 / arr2 )\n",
    "p( arr1 * 3 )\n",
    "p( arr1 ** arr2 )\n",
    "p( arr1 / arr2**2 )\n",
    "p( arr1 > 20)               # 비교도 가능"
   ]
  },
  {
   "cell_type": "code",
   "execution_count": 14,
   "id": "e7bc2e7a",
   "metadata": {},
   "outputs": [
    {
     "name": "stdout",
     "output_type": "stream",
     "text": [
      "[1 2 3 4 5]\n",
      "15\n",
      "3.0\n",
      "1.4142135623730951\n",
      "2.0\n",
      "1\n",
      "5\n",
      "[ 1  3  6 10 15]\n",
      "[  1   2   6  24 120]\n"
     ]
    }
   ],
   "source": [
    "t = np.arange(1,6)\n",
    "print( t )\n",
    "print( t.sum() )\n",
    "print( t.mean() )      # 평균\n",
    "print( t.std() )       # 표준편차\n",
    "print( t.var() )       # 분산. 표준편차의 제곱\n",
    "print( t.min() )\n",
    "print( t.max() )\n",
    "print( t.cumsum() )     # Cumulative Sum (누적 합)  axis=None 으로 누적합을 계산할 축을 정할 수 있다.\n",
    "print( t.cumprod() )    # Cumulative Product (누적 곱)  axis=None 으로 누적합을 계산할 축을 정할 수 있다."
   ]
  },
  {
   "cell_type": "markdown",
   "id": "8c7d2cf5",
   "metadata": {},
   "source": [
    "### __배열 연산하기__ - 행렬 연산\n",
    "|행렬 연산 |사용법|\n",
    "|---------------------------|------------------------------|\n",
    "|행렬곱 matrix product|A.dot(B)　np.dot(A,B) |\n",
    "|전치행렬 transpose matrix|A.transpose()　np.transpose(A) |\n",
    "|역행렬 inverse matrix|np.linalg.inv(A) |\n",
    "|행렬식 determinant|np.linalg.det(A) |"
   ]
  },
  {
   "cell_type": "code",
   "execution_count": 15,
   "id": "cdd20d43",
   "metadata": {},
   "outputs": [
    {
     "name": "stdout",
     "output_type": "stream",
     "text": [
      "[[0 1]\n",
      " [2 3]]\n",
      "[[3 2]\n",
      " [0 1]]\n"
     ]
    },
    {
     "data": {
      "text/plain": [
       "array([[0, 1],\n",
       "       [6, 7]])"
      ]
     },
     "execution_count": 15,
     "metadata": {},
     "output_type": "execute_result"
    }
   ],
   "source": [
    "A = np.array([0, 1, 2, 3]).reshape(2,2)\n",
    "B = np.array([3, 2, 0, 1]).reshape(2,2)\n",
    "print(A); print(B)\n",
    "A.dot(B)\n",
    "np.dot(A,B)"
   ]
  },
  {
   "cell_type": "code",
   "execution_count": 16,
   "id": "49f94247",
   "metadata": {},
   "outputs": [
    {
     "data": {
      "text/plain": [
       "array([[0, 2],\n",
       "       [1, 3]])"
      ]
     },
     "execution_count": 16,
     "metadata": {},
     "output_type": "execute_result"
    }
   ],
   "source": [
    "A.transpose()\n",
    "np.transpose(A)"
   ]
  },
  {
   "cell_type": "code",
   "execution_count": 17,
   "id": "b40c3088",
   "metadata": {},
   "outputs": [
    {
     "name": "stdout",
     "output_type": "stream",
     "text": [
      "[[-1.5  0.5]\n",
      " [ 1.   0. ]]\n"
     ]
    },
    {
     "data": {
      "text/plain": [
       "-2.0"
      ]
     },
     "execution_count": 17,
     "metadata": {},
     "output_type": "execute_result"
    }
   ],
   "source": [
    "p( np.linalg.inv(A) )\n",
    "np.linalg.det(A)"
   ]
  },
  {
   "cell_type": "markdown",
   "id": "ff1837b1",
   "metadata": {},
   "source": [
    "### __Indexing, Slicing__"
   ]
  },
  {
   "cell_type": "code",
   "execution_count": 18,
   "id": "4d0639ce",
   "metadata": {},
   "outputs": [
    {
     "name": "stdout",
     "output_type": "stream",
     "text": [
      "10\n",
      "[10 20 30]\n",
      "[ 0 10 20]\n",
      "[10 50 40 30]\n"
     ]
    }
   ],
   "source": [
    "arr = np.array([0, 10, 20, 30, 40, 50])\n",
    "p( arr[1] )\n",
    "p( arr[1:4] )\n",
    "p( arr[:3])\n",
    "p( arr[[1,5,4,3]])       # index를 특정해서 뽑고 싶을 땐, []리스트안에 한 번 더 넣어야 한다."
   ]
  },
  {
   "cell_type": "code",
   "execution_count": 19,
   "id": "1395e9b7",
   "metadata": {},
   "outputs": [
    {
     "name": "stdout",
     "output_type": "stream",
     "text": [
      "[[10 20 30]\n",
      " [40 50 60]\n",
      " [70 80 90]] \n",
      "\n",
      "[40 50 60]\n",
      "30\n",
      "[[10 20 30]\n",
      " [40 50 60]\n",
      " [70 80 99]]\n",
      "[[10 20 30]\n",
      " [47 57 67]\n",
      " [70 80 99]]\n"
     ]
    }
   ],
   "source": [
    "arr = np.arange(10, 100, 10).reshape(3,3)\n",
    "p( arr ,\"\\n\")\n",
    "\n",
    "p( arr[1] )\n",
    "p( arr[0,2] )       # 주의 ★\n",
    "arr[2,2] = 99\n",
    "p( arr )\n",
    "arr[1] = np.array([47, 57, 67])\n",
    "p( arr )"
   ]
  },
  {
   "cell_type": "code",
   "execution_count": 20,
   "id": "8c276ad1",
   "metadata": {},
   "outputs": [
    {
     "data": {
      "text/plain": [
       "array([10, 80, 99])"
      ]
     },
     "execution_count": 20,
     "metadata": {},
     "output_type": "execute_result"
    }
   ],
   "source": [
    "arr[[0, 2, 2], [0, 1, 2]]    # 2차원에서 여러 원소 선택하기.★  앞부분에 행들을 모아놓고, 뒷부분에 열들을 모아놓는 구조라서 보기 어렵다."
   ]
  },
  {
   "cell_type": "code",
   "execution_count": 21,
   "id": "693c2174",
   "metadata": {},
   "outputs": [
    {
     "name": "stdout",
     "output_type": "stream",
     "text": [
      "[57 67 70 80 99]\n"
     ]
    },
    {
     "data": {
      "text/plain": [
       "array([10, 20, 30, 70, 80])"
      ]
     },
     "execution_count": 21,
     "metadata": {},
     "output_type": "execute_result"
    }
   ],
   "source": [
    "p( arr[arr>50] )        # 조건문을 넣어서 조건에 맞는 요소만 뽑을 수도 있다. ★\n",
    "arr[(arr%2)==0]"
   ]
  },
  {
   "cell_type": "code",
   "execution_count": 22,
   "id": "1c43f365",
   "metadata": {},
   "outputs": [
    {
     "name": "stdout",
     "output_type": "stream",
     "text": [
      "[ 0 10 20 30 40 50]\n",
      "[ 0 10 25 35 45 50]\n",
      "[ 0 10 25 60 60 60]\n"
     ]
    }
   ],
   "source": [
    "arr = np.array([0, 10, 20, 30, 40, 50])\n",
    "p( arr )\n",
    "arr[2:5] = np.array([25, 35, 45])        # 슬라이싱하고 삽입도 가능. 이 때 슬라이싱된 요소 수랑 삽입되는 요소 수랑 같아야 함.\n",
    "p( arr )\n",
    "arr[3:6] = 60                            # 슬라이싱 후 배열이 아닌 단일로 입력하면, 해당 값으로 초기화되는 효과.\n",
    "p( arr )"
   ]
  },
  {
   "cell_type": "markdown",
   "id": "56e3d682",
   "metadata": {},
   "source": [
    "2차원 배열 슬라이싱\n",
    "<blockquote> arr[행시작:행끝, 열시작:열끝] </blockquote>\n",
    "특정 행을 선택한 후 열을 슬라이싱\n",
    "<blockquote>arr[행, 열시작:열끝]</blockquote>"
   ]
  },
  {
   "cell_type": "code",
   "execution_count": 23,
   "id": "dd68cad3",
   "metadata": {},
   "outputs": [
    {
     "name": "stdout",
     "output_type": "stream",
     "text": [
      "[[10 20 30]\n",
      " [40 50 60]\n",
      " [70 80 90]]\n",
      "[[50 60]\n",
      " [80 90]]\n",
      "[[20 30]\n",
      " [50 60]\n",
      " [80 90]]\n",
      "[40 50]\n",
      "[40 70]\n",
      "[[10 34 56]\n",
      " [40 78 99]\n",
      " [70 80 90]]\n"
     ]
    }
   ],
   "source": [
    "arr = np.arange(10, 100, 10).reshape(3,3)\n",
    "p( arr )\n",
    "p( arr[1:3,1:3] )\n",
    "p( arr[:3, 1:] )\n",
    "p( arr[1][0:2] )\n",
    "p( arr[1:3, 0] )\n",
    "arr[0:2, 1:3] = np.array([[34, 56], [78, 99]])\n",
    "p( arr )"
   ]
  },
  {
   "cell_type": "code",
   "execution_count": 24,
   "id": "3a670fa4",
   "metadata": {},
   "outputs": [
    {
     "ename": "ValueError",
     "evalue": "operands could not be broadcast together with shapes (4,) (3,) ",
     "output_type": "error",
     "traceback": [
      "\u001b[1;31m---------------------------------------------------------------------------\u001b[0m",
      "\u001b[1;31mValueError\u001b[0m                                Traceback (most recent call last)",
      "Cell \u001b[1;32mIn[24], line 3\u001b[0m\n\u001b[0;32m      1\u001b[0m arr1 \u001b[38;5;241m=\u001b[39m np\u001b[38;5;241m.\u001b[39marray([\u001b[38;5;241m10\u001b[39m, \u001b[38;5;241m20\u001b[39m, \u001b[38;5;241m30\u001b[39m, \u001b[38;5;241m40\u001b[39m])\n\u001b[0;32m      2\u001b[0m arr2 \u001b[38;5;241m=\u001b[39m np\u001b[38;5;241m.\u001b[39marray([\u001b[38;5;241m1\u001b[39m, \u001b[38;5;241m2\u001b[39m, \u001b[38;5;241m3\u001b[39m])\n\u001b[1;32m----> 3\u001b[0m arr1 \u001b[38;5;241m+\u001b[39m arr2\n",
      "\u001b[1;31mValueError\u001b[0m: operands could not be broadcast together with shapes (4,) (3,) "
     ]
    }
   ],
   "source": [
    "arr1 = np.array([10, 20, 30, 40])\n",
    "arr2 = np.array([1, 2, 3])\n",
    "arr1 + arr2"
   ]
  },
  {
   "cell_type": "code",
   "execution_count": null,
   "id": "61a31a8f",
   "metadata": {},
   "outputs": [],
   "source": []
  }
 ],
 "metadata": {
  "kernelspec": {
   "display_name": "Python 3 (ipykernel)",
   "language": "python",
   "name": "python3"
  },
  "language_info": {
   "codemirror_mode": {
    "name": "ipython",
    "version": 3
   },
   "file_extension": ".py",
   "mimetype": "text/x-python",
   "name": "python",
   "nbconvert_exporter": "python",
   "pygments_lexer": "ipython3",
   "version": "3.11.5"
  }
 },
 "nbformat": 4,
 "nbformat_minor": 5
}
