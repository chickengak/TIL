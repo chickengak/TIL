{
 "cells": [
  {
   "cell_type": "markdown",
   "id": "fdc0a79c",
   "metadata": {},
   "source": [
    "### tf.kerasm.callbacks.ModelCheckpoint"
   ]
  },
  {
   "cell_type": "raw",
   "id": "83e798a8",
   "metadata": {},
   "source": [
    "<<콜백 함수를 이용해서 각 에폭이 종료되면 모델을 저장하는 함수를 작성 >>  \n",
    "모델을 훈련하는 동안 일정한 조건에 따라 모델의 가중치를 저장한다.\n",
    "이 콜백을 사용하면 모델이 훈련 중에 얻은 가중치를 중간 저장하고, 훈련이 완료된 후에도 최적의 모델을 선택할 수 있습니다. \n",
    "\n",
    "tf.keras.callbacks.ModelCheckpoint(  \n",
    "    filepath,  \n",
    "    monitor: str = 'val_loss',  \n",
    "    verbose: int = 0,  \n",
    "    save_best_only: bool = False,     # True 최고값,  False일 경우 에폭마다 모델을 저장  \n",
    "    save_weights_only: bool = False,      \n",
    "    mode: str = 'auto',  \n",
    "    save_freq='epoch',    # 정수를 입력하면 해당 정수만큼의 배치마다 저장. epoch을 주면 해당 에폭마다 저장.  \n",
    "    options=None,    # tf.train.CheckpointOptinos 의 인스턴스가 매핑.  \n",
    "    initial_value_threshold=None,   # save_best_only와 연관이 있음. 이게 True일 때 사용. 모니터 지표가 임계값보다 좋아야 저장됨.  \n",
    "    **kwargs  \n",
    ")  \n",
    "\n",
    " filepath = os.path.join(working_dir, 'ckpt', file_name). filepath   \n",
    " weights.{epoch:02d}-{val_loss:.2f}.hdf5  \n",
    " \n"
   ]
  }
 ],
 "metadata": {
  "kernelspec": {
   "display_name": "Python 3 (ipykernel)",
   "language": "python",
   "name": "python3"
  },
  "language_info": {
   "codemirror_mode": {
    "name": "ipython",
    "version": 3
   },
   "file_extension": ".py",
   "mimetype": "text/x-python",
   "name": "python",
   "nbconvert_exporter": "python",
   "pygments_lexer": "ipython3",
   "version": "3.11.5"
  }
 },
 "nbformat": 4,
 "nbformat_minor": 5
}
