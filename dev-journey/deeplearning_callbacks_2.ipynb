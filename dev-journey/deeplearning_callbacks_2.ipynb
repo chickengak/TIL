{
 "cells": [
  {
   "cell_type": "markdown",
   "id": "4fbba2f5",
   "metadata": {},
   "source": [
    "![](etc/callbacks.png)"
   ]
  },
  {
   "cell_type": "markdown",
   "id": "fdc0a79c",
   "metadata": {},
   "source": [
    "### tf.kerasm.callbacks.ModelCheckpoint"
   ]
  },
  {
   "cell_type": "raw",
   "id": "83e798a8",
   "metadata": {},
   "source": [
    "<<콜백 함수를 이용해서 각 에폭이 종료되면 모델을 저장하는 함수를 작성 >>  \n",
    "모델을 훈련하는 동안 일정한 조건에 따라 모델의 가중치를 저장한다.\n",
    "이 콜백을 사용하면 모델이 훈련 중에 얻은 가중치를 중간 저장하고, 훈련이 완료된 후에도 최적의 모델을 선택할 수 있습니다. \n",
    "\n",
    "tf.keras.callbacks.ModelCheckpoint(  \n",
    "    filepath,                         저장할 경로\n",
    "    monitor: str = 'val_loss',        모니터링할 지표. 'val_loss' 나 'val_accuracy'를 사용.\n",
    "    verbose: int = 0,                 상세 모드 설정. 모델의 체크포인트가 저장될 때의 로그를 얼마나 자세히 출력할지 결정함.\n",
    "    save_best_only: bool = False,     True면, 모니터링 지표가 가장 좋을 때만 모델을 저장. 파일명에 {epoch}이 없으면 베스트 모델로 계속 덮어 쓴다.\n",
    "    save_weights_only: bool = False,   True로 설정하면, 모델의 가중치만 저장. False로 설정하면, 전체 모델을 HDF5 파일로 저장.\n",
    "    mode: str = 'auto',               'auto', 'min', 'max'. min은 지표가 감소할 때 모델을 저장. max는 증가할 때. auto는 지표의 이름에서 자동으로 유추\n",
    "    save_freq='epoch',                'epoch'으로 설정하면 각 에폭이 끝날 때마다 모델을 저장. 정수로 설정하면, 설정된 에폭 수마다 모델을 저장. \n",
    "    options=None,                    tf.train.CheckpointOptinos 의 인스턴스가 매핑. 체크포인트 파일을 저장할 때 사용할 옵션을 설정합니다.\n",
    "    initial_value_threshold=None,    이 초기 임계값보다 모니터링하는 지표의 성능이 좋아야만 모델이 저장됩니다.\n",
    "    **kwargs  \n",
    ")  \n",
    "\n",
    " filepath = os.path.join(working_dir, 'ckpt', file_name). filepath   \n",
    " weights.{epoch:02d}-{val_loss:.2f}.hdf5  "
   ]
  },
  {
   "cell_type": "markdown",
   "id": "d9437e21",
   "metadata": {},
   "source": [
    "### tf.keras.callbacks.TensorBoard\n",
    "텐서보드 링크들  \n",
    "https://www.tensorflow.org/tensorboard/get_started?hl=ko  \n",
    "    https://www.tensorflow.org/guide/migrate/tensorboard  "
   ]
  },
  {
   "cell_type": "code",
   "execution_count": null,
   "id": "95b80504",
   "metadata": {},
   "outputs": [],
   "source": [
    "#1.OS환경만들기  \n",
    "import os  # 탐색기 모듈. os.path\n",
    "os.environ['KERAS_BACKEND']  ='tensorflow'\n",
    "kerasBKED  = os.environ['KERAS_BACKEND']\n",
    "print(kerasBKED)"
   ]
  },
  {
   "cell_type": "code",
   "execution_count": null,
   "id": "cd33cc24",
   "metadata": {},
   "outputs": [],
   "source": [
    "\"\"\" ▶ Step 1. ModelCheckpoint 준비 \"\"\"\n",
    " # 21 콜백"
   ]
  },
  {
   "cell_type": "code",
   "execution_count": null,
   "id": "99777a01",
   "metadata": {},
   "outputs": [],
   "source": []
  },
  {
   "cell_type": "code",
   "execution_count": 2,
   "id": "d7858017",
   "metadata": {},
   "outputs": [
    {
     "name": "stdout",
     "output_type": "stream",
     "text": [
      "[ 0.          0.20408163  0.40816327  0.6122449   0.81632653  1.02040816\n",
      "  1.2244898   1.42857143  1.63265306  1.83673469  2.04081633  2.24489796\n",
      "  2.44897959  2.65306122  2.85714286  3.06122449  3.26530612  3.46938776\n",
      "  3.67346939  3.87755102  4.08163265  4.28571429  4.48979592  4.69387755\n",
      "  4.89795918  5.10204082  5.30612245  5.51020408  5.71428571  5.91836735\n",
      "  6.12244898  6.32653061  6.53061224  6.73469388  6.93877551  7.14285714\n",
      "  7.34693878  7.55102041  7.75510204  7.95918367  8.16326531  8.36734694\n",
      "  8.57142857  8.7755102   8.97959184  9.18367347  9.3877551   9.59183673\n",
      "  9.79591837 10.        ]\n",
      "[ 3.          3.40816327  3.81632653  4.2244898   4.63265306  5.04081633\n",
      "  5.44897959  5.85714286  6.26530612  6.67346939  7.08163265  7.48979592\n",
      "  7.89795918  8.30612245  8.71428571  9.12244898  9.53061224  9.93877551\n",
      " 10.34693878 10.75510204 11.16326531 11.57142857 11.97959184 12.3877551\n",
      " 12.79591837 13.20408163 13.6122449  14.02040816 14.42857143 14.83673469\n",
      " 15.24489796 15.65306122 16.06122449 16.46938776 16.87755102 17.28571429\n",
      " 17.69387755 18.10204082 18.51020408 18.91836735 19.32653061 19.73469388\n",
      " 20.14285714 20.55102041 20.95918367 21.36734694 21.7755102  22.18367347\n",
      " 22.59183673 23.        ]\n"
     ]
    }
   ],
   "source": [
    "\"\"\" ▶ Step 1. 데이터 만들기 \"\"\"\n",
    "\n",
    "import numpy as np\n",
    "import matplotlib.pyplot as plt\n",
    "import tensorflow as tf\n",
    "\n",
    "from tensorflow.keras.datasets import cifar10\n",
    "from sklearn.model_selection import train_test_split\n",
    "from tensorflow.keras.models import Sequential, load_model\n",
    "from tensorflow.keras.layers import Dense, Dropout, Activation, Flatten, Conv2D, MaxPooling2D, InputLayer\n",
    "from tensorflow.keras.callbacks import EarlyStopping, ModelCheckpoint, CSVLogger, TensorBoard\n",
    "\n",
    "x = np.linspace(0, 10, num = 50)\n",
    "y = 2* x + 3 \n",
    "\n",
    "print(x)\n",
    "print(y)\n",
    "\n",
    "x_train, x_test, y_train, y_test = train_test_split(x, y, shuffle = False)"
   ]
  },
  {
   "cell_type": "code",
   "execution_count": 7,
   "id": "49485100",
   "metadata": {},
   "outputs": [
    {
     "name": "stdout",
     "output_type": "stream",
     "text": [
      "Epoch 1/500\n",
      "2/2 [==============================] - 0s 162ms/step - loss: 30.6217 - val_loss: 4.5116\n",
      "Epoch 2/500\n",
      "2/2 [==============================] - 0s 57ms/step - loss: 6.0680 - val_loss: 0.1568\n",
      "Epoch 3/500\n",
      "2/2 [==============================] - 0s 44ms/step - loss: 2.6286 - val_loss: 2.2037\n",
      "Epoch 4/500\n",
      "2/2 [==============================] - 0s 46ms/step - loss: 1.9128 - val_loss: 4.5076\n",
      "Epoch 5/500\n",
      "2/2 [==============================] - 0s 46ms/step - loss: 1.7829 - val_loss: 5.4509\n",
      "Epoch 6/500\n",
      "2/2 [==============================] - 0s 44ms/step - loss: 1.7637 - val_loss: 5.0432\n",
      "Epoch 7/500\n",
      "2/2 [==============================] - 0s 45ms/step - loss: 1.7242 - val_loss: 5.1939\n",
      "Epoch 8/500\n",
      "2/2 [==============================] - 0s 46ms/step - loss: 1.6688 - val_loss: 3.4671\n",
      "Epoch 9/500\n",
      "2/2 [==============================] - 0s 44ms/step - loss: 1.6212 - val_loss: 4.6786\n",
      "Epoch 10/500\n",
      "2/2 [==============================] - 0s 51ms/step - loss: 1.5900 - val_loss: 3.6655\n",
      "Epoch 11/500\n",
      "2/2 [==============================] - 0s 47ms/step - loss: 1.5515 - val_loss: 4.3024\n",
      "Epoch 12/500\n",
      "2/2 [==============================] - 0s 69ms/step - loss: 1.5402 - val_loss: 5.8730\n",
      "Epoch 13/500\n",
      "2/2 [==============================] - 0s 60ms/step - loss: 1.5685 - val_loss: 6.2817\n",
      "Epoch 14/500\n",
      "2/2 [==============================] - 0s 51ms/step - loss: 1.5496 - val_loss: 5.1346\n",
      "Epoch 15/500\n",
      "2/2 [==============================] - 0s 50ms/step - loss: 1.4825 - val_loss: 5.6547\n",
      "Epoch 16/500\n",
      "2/2 [==============================] - 0s 54ms/step - loss: 1.4556 - val_loss: 4.0705\n",
      "Epoch 17/500\n",
      "2/2 [==============================] - 0s 49ms/step - loss: 1.3790 - val_loss: 3.2646\n",
      "Epoch 18/500\n",
      "2/2 [==============================] - 0s 44ms/step - loss: 1.3531 - val_loss: 4.2311\n",
      "Epoch 19/500\n",
      "2/2 [==============================] - 0s 50ms/step - loss: 1.3339 - val_loss: 2.5605\n",
      "Epoch 20/500\n",
      "2/2 [==============================] - 0s 43ms/step - loss: 1.3065 - val_loss: 2.5795\n",
      "Epoch 21/500\n",
      "2/2 [==============================] - 0s 45ms/step - loss: 1.2823 - val_loss: 2.6920\n",
      "Epoch 22/500\n",
      "2/2 [==============================] - 0s 47ms/step - loss: 1.2535 - val_loss: 2.3116\n",
      "Epoch 23/500\n",
      "2/2 [==============================] - 0s 47ms/step - loss: 1.2369 - val_loss: 2.3493\n",
      "Epoch 24/500\n",
      "2/2 [==============================] - 0s 47ms/step - loss: 1.2161 - val_loss: 2.0096\n",
      "Epoch 25/500\n",
      "2/2 [==============================] - 0s 46ms/step - loss: 1.1952 - val_loss: 3.2168\n",
      "Epoch 26/500\n",
      "2/2 [==============================] - 0s 49ms/step - loss: 1.1491 - val_loss: 2.4482\n",
      "Epoch 27/500\n",
      "2/2 [==============================] - 0s 49ms/step - loss: 1.1263 - val_loss: 3.0213\n",
      "Epoch 28/500\n",
      "2/2 [==============================] - 0s 45ms/step - loss: 1.1049 - val_loss: 3.7496\n",
      "Epoch 29/500\n",
      "2/2 [==============================] - 0s 50ms/step - loss: 1.0953 - val_loss: 2.6015\n",
      "Epoch 29: early stopping\n",
      "[array([[2.409626]], dtype=float32), array([0.9876316], dtype=float32)]\n"
     ]
    }
   ],
   "source": [
    "\"\"\" ▶ Step 2. 모델 만들고 컴파일 후 학습 \"\"\"\n",
    "\n",
    "import os\n",
    "import datetime\n",
    "model = Sequential([\n",
    "    Dense(1, input_shape=(1,), activation = 'linear')\n",
    "])\n",
    "\n",
    "early_stopping = EarlyStopping(monitor = 'val_loss', min_delta = 0.001, patience = 5, verbose = 1, mode = 'auto', start_from_epoch=10)\n",
    "\n",
    "csv_logger = CSVLogger('./logs/training.csv')\n",
    "\n",
    "log_dir = os.path.join('logs', 'fit', datetime.datetime.now().strftime(\"%Y%m%d-%H%M%S\"))\n",
    "tensorboard_callback = TensorBoard(log_dir = log_dir, histogram_freq = 1)\n",
    "\n",
    "model.compile(optimizer = 'sgd', loss = 'mse')\n",
    "\n",
    "model.fit(x_train, y_train, epochs = 500, callbacks = [early_stopping, csv_logger, tensorboard_callback], validation_data = (x_test, y_test))\n",
    "\n",
    "print(model.get_weights())"
   ]
  },
  {
   "cell_type": "code",
   "execution_count": 8,
   "id": "d90be65c",
   "metadata": {},
   "outputs": [
    {
     "name": "stdout",
     "output_type": "stream",
     "text": [
      "2/2 [==============================] - 0s 2ms/step\n",
      "1/1 [==============================] - 0s 20ms/step\n"
     ]
    },
    {
     "data": {
      "text/plain": [
       "<matplotlib.legend.Legend at 0x2bd1457cf50>"
      ]
     },
     "execution_count": 8,
     "metadata": {},
     "output_type": "execute_result"
    },
    {
     "data": {
      "image/png": "[encoded data removed]",
      "text/plain": [
       "<Figure size 640x480 with 1 Axes>"
      ]
     },
     "metadata": {},
     "output_type": "display_data"
    }
   ],
   "source": [
    "plt.scatter(x,y, label='data',color ='gray')\n",
    "plt.plot (x_train , model.predict(x_train), label ='train', color ='blue')\n",
    "plt.plot(x_test, model.predict(x_test), label ='test' ,color ='red')\n",
    "plt.legend() "
   ]
  },
  {
   "cell_type": "code",
   "execution_count": 9,
   "id": "cfe67d68",
   "metadata": {},
   "outputs": [
    {
     "data": {
      "text/html": [
       "\n",
       "      <iframe id=\"tensorboard-frame-a1f93f03d79ba0bf\" width=\"100%\" height=\"800\" frameborder=\"0\">\n",
       "      </iframe>\n",
       "      <script>\n",
       "        (function() {\n",
       "          const frame = document.getElementById(\"tensorboard-frame-a1f93f03d79ba0bf\");\n",
       "          const url = new URL(\"/\", window.location);\n",
       "          const port = 6006;\n",
       "          if (port) {\n",
       "            url.port = port;\n",
       "          }\n",
       "          frame.src = url;\n",
       "        })();\n",
       "      </script>\n",
       "    "
      ],
      "text/plain": [
       "<IPython.core.display.HTML object>"
      ]
     },
     "metadata": {},
     "output_type": "display_data"
    }
   ],
   "source": [
    "%load_ext tensorboard\n",
    "#%tensorboard --logdir {classifier.model_dir}\n",
    "%tensorboard --logdir logs/fit"
   ]
  },
  {
   "cell_type": "code",
   "execution_count": null,
   "id": "c2e7e83a",
   "metadata": {},
   "outputs": [],
   "source": []
  },
  {
   "cell_type": "code",
   "execution_count": null,
   "id": "4e338966",
   "metadata": {},
   "outputs": [],
   "source": []
  }
 ],
 "metadata": {
  "kernelspec": {
   "display_name": "Python 3 (ipykernel)",
   "language": "python",
   "name": "python3"
  },
  "language_info": {
   "codemirror_mode": {
    "name": "ipython",
    "version": 3
   },
   "file_extension": ".py",
   "mimetype": "text/x-python",
   "name": "python",
   "nbconvert_exporter": "python",
   "pygments_lexer": "ipython3",
   "version": "3.11.5"
  }
 },
 "nbformat": 4,
 "nbformat_minor": 5
}
