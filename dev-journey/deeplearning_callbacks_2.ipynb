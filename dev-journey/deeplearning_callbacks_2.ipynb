{
 "cells": [
  {
   "cell_type": "markdown",
   "id": "4fbba2f5",
   "metadata": {},
   "source": [
    "![](etc/callbacks.png)"
   ]
  },
  {
   "cell_type": "markdown",
   "id": "fdc0a79c",
   "metadata": {},
   "source": [
    "### tf.kerasm.callbacks.ModelCheckpoint"
   ]
  },
  {
   "cell_type": "raw",
   "id": "83e798a8",
   "metadata": {},
   "source": [
    "<<콜백 함수를 이용해서 각 에폭이 종료되면 모델을 저장하는 함수를 작성 >>  \n",
    "모델을 훈련하는 동안 일정한 조건에 따라 모델의 가중치를 저장한다.\n",
    "이 콜백을 사용하면 모델이 훈련 중에 얻은 가중치를 중간 저장하고, 훈련이 완료된 후에도 최적의 모델을 선택할 수 있습니다. \n",
    "\n",
    "tf.keras.callbacks.ModelCheckpoint(  \n",
    "    filepath,                         저장할 경로\n",
    "    monitor: str = 'val_loss',        모니터링할 지표. 'val_loss' 나 'val_accuracy'를 사용.\n",
    "    verbose: int = 0,                 상세 모드 설정. 모델의 체크포인트가 저장될 때의 로그를 얼마나 자세히 출력할지 결정함.\n",
    "    save_best_only: bool = False,     True면, 모니터링 지표가 가장 좋을 때만 모델을 저장. 파일명에 {epoch}이 없으면 베스트 모델로 계속 덮어 쓴다.\n",
    "    save_weights_only: bool = False,   True로 설정하면, 모델의 가중치만 저장. False로 설정하면, 전체 모델을 HDF5 파일로 저장.\n",
    "    mode: str = 'auto',               'auto', 'min', 'max'. min은 지표가 감소할 때 모델을 저장. max는 증가할 때. auto는 지표의 이름에서 자동으로 유추\n",
    "    save_freq='epoch',                'epoch'으로 설정하면 각 에폭이 끝날 때마다 모델을 저장. 정수로 설정하면, 설정된 에폭 수마다 모델을 저장. \n",
    "    options=None,                    tf.train.CheckpointOptinos 의 인스턴스가 매핑. 체크포인트 파일을 저장할 때 사용할 옵션을 설정합니다.\n",
    "    initial_value_threshold=None,    이 초기 임계값보다 모니터링하는 지표의 성능이 좋아야만 모델이 저장됩니다.\n",
    "    **kwargs  \n",
    ")  \n",
    "\n",
    " filepath = os.path.join(working_dir, 'ckpt', file_name). filepath   \n",
    " weights.{epoch:02d}-{val_loss:.2f}.hdf5  "
   ]
  },
  {
   "cell_type": "markdown",
   "id": "d9437e21",
   "metadata": {},
   "source": [
    "### tf.keras.callbacks.TensorBoard\n",
    "텐서보드 링크들  \n",
    "https://www.tensorflow.org/tensorboard/get_started?hl=ko  \n",
    "    https://www.tensorflow.org/guide/migrate/tensorboard  "
   ]
  },
  {
   "cell_type": "code",
   "execution_count": 1,
   "id": "95b80504",
   "metadata": {},
   "outputs": [],
   "source": [
    "# #1.OS환경만들기  \n",
    "# import os  # 탐색기 모듈. os.path\n",
    "# os.environ['KERAS_BACKEND']  ='tensorflow'\n",
    "# kerasBKED  = os.environ['KERAS_BACKEND']\n",
    "# print(kerasBKED)"
   ]
  },
  {
   "cell_type": "code",
   "execution_count": 2,
   "id": "cd33cc24",
   "metadata": {},
   "outputs": [
    {
     "data": {
      "text/plain": [
       "' ▶ Step 1. ModelCheckpoint 준비 '"
      ]
     },
     "execution_count": 2,
     "metadata": {},
     "output_type": "execute_result"
    }
   ],
   "source": [
    "\"\"\" ▶ Step 1. ModelCheckpoint 준비 \"\"\"\n",
    " # 21 콜백 - 모델체크포인트 부분 여기에 붙여 넣음."
   ]
  },
  {
   "cell_type": "code",
   "execution_count": null,
   "id": "99777a01",
   "metadata": {},
   "outputs": [],
   "source": []
  },
  {
   "cell_type": "code",
   "execution_count": 3,
   "id": "d7858017",
   "metadata": {},
   "outputs": [
    {
     "name": "stdout",
     "output_type": "stream",
     "text": [
      "WARNING:tensorflow:From C:\\Users\\ALT\\anaconda3\\Lib\\site-packages\\keras\\src\\losses.py:2976: The name tf.losses.sparse_softmax_cross_entropy is deprecated. Please use tf.compat.v1.losses.sparse_softmax_cross_entropy instead.\n",
      "\n",
      "[ 0.          0.20408163  0.40816327  0.6122449   0.81632653  1.02040816\n",
      "  1.2244898   1.42857143  1.63265306  1.83673469  2.04081633  2.24489796\n",
      "  2.44897959  2.65306122  2.85714286  3.06122449  3.26530612  3.46938776\n",
      "  3.67346939  3.87755102  4.08163265  4.28571429  4.48979592  4.69387755\n",
      "  4.89795918  5.10204082  5.30612245  5.51020408  5.71428571  5.91836735\n",
      "  6.12244898  6.32653061  6.53061224  6.73469388  6.93877551  7.14285714\n",
      "  7.34693878  7.55102041  7.75510204  7.95918367  8.16326531  8.36734694\n",
      "  8.57142857  8.7755102   8.97959184  9.18367347  9.3877551   9.59183673\n",
      "  9.79591837 10.        ]\n",
      "[ 3.          3.40816327  3.81632653  4.2244898   4.63265306  5.04081633\n",
      "  5.44897959  5.85714286  6.26530612  6.67346939  7.08163265  7.48979592\n",
      "  7.89795918  8.30612245  8.71428571  9.12244898  9.53061224  9.93877551\n",
      " 10.34693878 10.75510204 11.16326531 11.57142857 11.97959184 12.3877551\n",
      " 12.79591837 13.20408163 13.6122449  14.02040816 14.42857143 14.83673469\n",
      " 15.24489796 15.65306122 16.06122449 16.46938776 16.87755102 17.28571429\n",
      " 17.69387755 18.10204082 18.51020408 18.91836735 19.32653061 19.73469388\n",
      " 20.14285714 20.55102041 20.95918367 21.36734694 21.7755102  22.18367347\n",
      " 22.59183673 23.        ]\n"
     ]
    }
   ],
   "source": [
    "\"\"\" ▶ Step 1. 데이터 만들기 \"\"\"\n",
    "\n",
    "import numpy as np\n",
    "import matplotlib.pyplot as plt\n",
    "import tensorflow as tf\n",
    "\n",
    "from tensorflow.keras.datasets import cifar10\n",
    "from sklearn.model_selection import train_test_split\n",
    "from tensorflow.keras.models import Sequential, load_model\n",
    "from tensorflow.keras.layers import Dense, Dropout, Activation, Flatten, Conv2D, MaxPooling2D, InputLayer\n",
    "from tensorflow.keras.callbacks import EarlyStopping, ModelCheckpoint, CSVLogger, TensorBoard\n",
    "\n",
    "x = np.linspace(0, 10, num = 50)\n",
    "y = 2* x + 3 \n",
    "\n",
    "print(x)\n",
    "print(y)\n",
    "\n",
    "x_train, x_test, y_train, y_test = train_test_split(x, y, shuffle = False)"
   ]
  },
  {
   "cell_type": "code",
   "execution_count": 4,
   "id": "49485100",
   "metadata": {},
   "outputs": [
    {
     "name": "stdout",
     "output_type": "stream",
     "text": [
      "WARNING:tensorflow:From C:\\Users\\ALT\\anaconda3\\Lib\\site-packages\\keras\\src\\backend.py:873: The name tf.get_default_graph is deprecated. Please use tf.compat.v1.get_default_graph instead.\n",
      "\n",
      "WARNING:tensorflow:From C:\\Users\\ALT\\anaconda3\\Lib\\site-packages\\keras\\src\\optimizers\\__init__.py:309: The name tf.train.Optimizer is deprecated. Please use tf.compat.v1.train.Optimizer instead.\n",
      "\n",
      "Epoch 1/500\n",
      "WARNING:tensorflow:From C:\\Users\\ALT\\anaconda3\\Lib\\site-packages\\keras\\src\\utils\\tf_utils.py:492: The name tf.ragged.RaggedTensorValue is deprecated. Please use tf.compat.v1.ragged.RaggedTensorValue instead.\n",
      "\n",
      "1/2 [==============>...............] - ETA: 0s - loss: 198.0302\n",
      "Epoch 1: val_loss improved from inf to 92.24239, saving model to ./logs\\ModelCheckpoint.Test.01-180.17-92.24.hdf5\n",
      "2/2 [==============================] - 1s 296ms/step - loss: 180.1722 - val_loss: 92.2424\n",
      "Epoch 2/500\n",
      "1/2 [==============>...............] - ETA: 0s - loss: 34.0541\n",
      "Epoch 2: val_loss improved from 92.24239 to 7.99055, saving model to ./logs\\ModelCheckpoint.Test.02-31.16-7.99.hdf5\n",
      "2/2 [==============================] - 0s 63ms/step - loss: 31.1585 - val_loss: 7.9905\n",
      "Epoch 3/500\n",
      "1/2 [==============>...............] - ETA: 0s - loss: 6.6776\n",
      "Epoch 3: val_loss improved from 7.99055 to 0.11028, saving model to ./logs\\ModelCheckpoint.Test.03-6.19-0.11.hdf5\n",
      "2/2 [==============================] - 0s 57ms/step - loss: 6.1852 - val_loss: 0.1103\n",
      "Epoch 4/500\n",
      "1/2 [==============>...............] - ETA: 0s - loss: 1.9542\n",
      "Epoch 4: val_loss did not improve from 0.11028\n"
     ]
    },
    {
     "name": "stderr",
     "output_type": "stream",
     "text": [
      "C:\\Users\\ALT\\anaconda3\\Lib\\site-packages\\keras\\src\\engine\\training.py:3103: UserWarning: You are saving your model as an HDF5 file via `model.save()`. This file format is considered legacy. We recommend using instead the native Keras format, e.g. `model.save('my_model.keras')`.\n",
      "  saving_api.save_model(\n"
     ]
    },
    {
     "name": "stdout",
     "output_type": "stream",
     "text": [
      "2/2 [==============================] - 0s 49ms/step - loss: 1.9121 - val_loss: 1.8223\n",
      "Epoch 5/500\n",
      "1/2 [==============>...............] - ETA: 0s - loss: 1.3721\n",
      "Epoch 5: val_loss did not improve from 0.11028\n",
      "2/2 [==============================] - 0s 52ms/step - loss: 1.3937 - val_loss: 2.5797\n",
      "Epoch 6/500\n",
      "1/2 [==============>...............] - ETA: 0s - loss: 1.3186\n",
      "Epoch 6: val_loss did not improve from 0.11028\n",
      "2/2 [==============================] - 0s 52ms/step - loss: 1.3210 - val_loss: 4.1228\n",
      "Epoch 7/500\n",
      "1/2 [==============>...............] - ETA: 0s - loss: 1.3659\n",
      "Epoch 7: val_loss did not improve from 0.11028\n",
      "2/2 [==============================] - 0s 54ms/step - loss: 1.2978 - val_loss: 2.5607\n",
      "Epoch 8/500\n",
      "1/2 [==============>...............] - ETA: 0s - loss: 1.2653\n",
      "Epoch 8: val_loss did not improve from 0.11028\n",
      "2/2 [==============================] - 0s 52ms/step - loss: 1.2764 - val_loss: 2.1195\n",
      "Epoch 9/500\n",
      "1/2 [==============>...............] - ETA: 0s - loss: 1.2352\n",
      "Epoch 9: val_loss did not improve from 0.11028\n",
      "2/2 [==============================] - 0s 51ms/step - loss: 1.2569 - val_loss: 3.3905\n",
      "Epoch 10/500\n",
      "1/2 [==============>...............] - ETA: 0s - loss: 1.2108\n",
      "Epoch 10: val_loss did not improve from 0.11028\n",
      "2/2 [==============================] - 0s 49ms/step - loss: 1.2152 - val_loss: 3.0596\n",
      "Epoch 11/500\n",
      "1/2 [==============>...............] - ETA: 0s - loss: 1.2146\n",
      "Epoch 11: val_loss did not improve from 0.11028\n",
      "2/2 [==============================] - 0s 47ms/step - loss: 1.1919 - val_loss: 1.9574\n",
      "Epoch 12/500\n",
      "1/2 [==============>...............] - ETA: 0s - loss: 1.1990\n",
      "Epoch 12: val_loss did not improve from 0.11028\n",
      "2/2 [==============================] - 0s 48ms/step - loss: 1.1913 - val_loss: 2.0756\n",
      "Epoch 13/500\n",
      "1/2 [==============>...............] - ETA: 0s - loss: 1.2513\n",
      "Epoch 13: val_loss did not improve from 0.11028\n",
      "2/2 [==============================] - 0s 51ms/step - loss: 1.1684 - val_loss: 1.4390\n",
      "Epoch 14/500\n",
      "1/2 [==============>...............] - ETA: 0s - loss: 1.1587\n",
      "Epoch 14: val_loss did not improve from 0.11028\n",
      "2/2 [==============================] - 0s 53ms/step - loss: 1.1719 - val_loss: 2.7231\n",
      "Epoch 15/500\n",
      "1/2 [==============>...............] - ETA: 0s - loss: 1.0673\n",
      "Epoch 15: val_loss did not improve from 0.11028\n",
      "2/2 [==============================] - 0s 49ms/step - loss: 1.1018 - val_loss: 3.1283\n",
      "Epoch 16/500\n",
      "1/2 [==============>...............] - ETA: 0s - loss: 1.1739\n",
      "Epoch 16: val_loss did not improve from 0.11028\n",
      "2/2 [==============================] - 0s 48ms/step - loss: 1.0847 - val_loss: 1.5683\n",
      "Epoch 17/500\n",
      "1/2 [==============>...............] - ETA: 0s - loss: 1.0968\n",
      "Epoch 17: val_loss did not improve from 0.11028\n",
      "2/2 [==============================] - 0s 52ms/step - loss: 1.0950 - val_loss: 2.0178\n",
      "Epoch 18/500\n",
      "1/2 [==============>...............] - ETA: 0s - loss: 1.0562\n",
      "Epoch 18: val_loss did not improve from 0.11028\n",
      "2/2 [==============================] - 0s 50ms/step - loss: 1.0475 - val_loss: 2.7545\n",
      "Epoch 18: early stopping\n",
      "[array([[2.4112203]], dtype=float32), array([1.0210235], dtype=float32)]\n"
     ]
    }
   ],
   "source": [
    "\"\"\" ▶ Step 2. 모델 만들고 컴파일 후 학습 \"\"\"\n",
    "\n",
    "import os\n",
    "import datetime\n",
    "model = Sequential([\n",
    "    Dense(1, input_shape=(1,), activation = 'linear')\n",
    "])\n",
    "\n",
    "early_stopping = EarlyStopping(monitor = 'val_loss', min_delta = 0.001, patience = 5, verbose = 1, mode = 'auto', start_from_epoch=10)\n",
    "\n",
    "csv_logger = CSVLogger('./logs/training.csv')\n",
    "\n",
    "saveDir = './logs/'\n",
    "file_path= os.path.join(saveDir,'ModelCheckpoint.Test.{epoch:02d}-{loss:.2f}-{val_loss:.2f}.hdf5' )\n",
    "model_check_point = ModelCheckpoint(filepath = file_path , monitor ='val_loss', verbose=1, save_best_only = True, mode = 'auto' )\n",
    "\n",
    "log_dir = os.path.join('logs', 'fit', datetime.datetime.now().strftime(\"%Y%m%d-%H%M%S\"))\n",
    "tensorboard_callback = TensorBoard(log_dir = log_dir, histogram_freq = 1)\n",
    "\n",
    "model.compile(optimizer = 'sgd', loss = 'mse')\n",
    "\n",
    "model.fit(x_train, y_train, epochs = 500, callbacks = [early_stopping, csv_logger, tensorboard_callback, model_check_point],\n",
    "          validation_data = (x_test, y_test))\n",
    "\n",
    "print(model.get_weights())"
   ]
  },
  {
   "cell_type": "code",
   "execution_count": 5,
   "id": "d90be65c",
   "metadata": {},
   "outputs": [
    {
     "name": "stdout",
     "output_type": "stream",
     "text": [
      "2/2 [==============================] - 0s 2ms/step\n",
      "1/1 [==============================] - 0s 21ms/step\n"
     ]
    },
    {
     "data": {
      "text/plain": [
       "<matplotlib.legend.Legend at 0x2152d5404d0>"
      ]
     },
     "execution_count": 5,
     "metadata": {},
     "output_type": "execute_result"
    },
    {
     "data": {
      "image/png": "[encoded data removed]",
      "text/plain": [
       "<Figure size 640x480 with 1 Axes>"
      ]
     },
     "metadata": {},
     "output_type": "display_data"
    }
   ],
   "source": [
    "plt.scatter(x,y, label='data',color ='gray')\n",
    "plt.plot (x_train , model.predict(x_train), label ='train', color ='blue')\n",
    "plt.plot(x_test, model.predict(x_test), label ='test' ,color ='red')\n",
    "plt.legend() "
   ]
  },
  {
   "cell_type": "code",
   "execution_count": 10,
   "id": "cfe67d68",
   "metadata": {},
   "outputs": [
    {
     "name": "stdout",
     "output_type": "stream",
     "text": [
      "The tensorboard extension is already loaded. To reload it, use:\n",
      "  %reload_ext tensorboard\n"
     ]
    },
    {
     "data": {
      "text/html": [
       "\n",
       "      <iframe id=\"tensorboard-frame-4b7a7604444f26cd\" width=\"100%\" height=\"800\" frameborder=\"0\">\n",
       "      </iframe>\n",
       "      <script>\n",
       "        (function() {\n",
       "          const frame = document.getElementById(\"tensorboard-frame-4b7a7604444f26cd\");\n",
       "          const url = new URL(\"/\", window.location);\n",
       "          const port = 6006;\n",
       "          if (port) {\n",
       "            url.port = port;\n",
       "          }\n",
       "          frame.src = url;\n",
       "        })();\n",
       "      </script>\n",
       "    "
      ],
      "text/plain": [
       "<IPython.core.display.HTML object>"
      ]
     },
     "metadata": {},
     "output_type": "display_data"
    }
   ],
   "source": [
    "%load_ext tensorboard\n",
    "#%reload_ext tensorboard\n",
    "#%tensorboard --logdir {classifier.model_dir}\n",
    "%tensorboard --logdir logs/fit  --host localhost"
   ]
  },
  {
   "cell_type": "code",
   "execution_count": 7,
   "id": "c2e7e83a",
   "metadata": {},
   "outputs": [
    {
     "name": "stdout",
     "output_type": "stream",
     "text": [
      "dense        shape: (1, 1)\t min: 2.4112203121185303\t max: 2.4112203121185303\n",
      "  > dense        biases shape: (1,)\t biases mean: 1.0210235118865967\n"
     ]
    }
   ],
   "source": [
    "# 가중치 형태와 통계 확인하기\n",
    "for layer in model.layers:\n",
    "    weights = layer.get_weights() # 가중치 + 편향 리스트로 리턴\n",
    "    if weights:                   # 가중치 shape, max값, min값 뽑아봤음.\n",
    "        print(f\"{layer.name :<12} shape: {weights[0].shape}\\t min: {weights[0].min()}\\t max: {weights[0].max()}\")\n",
    "        \n",
    "        # 편향이 있다면 추가 정보를 확인할 수 있다. 길이가 1 보다 크다는 것은 편향이 있다는 것.\n",
    "        if len(weights) > 1:\n",
    "            print(f\"  > {layer.name :<12} biases shape: {weights[1].shape}\\t biases mean: {weights[1].mean()}\")\n",
    "            "
   ]
  },
  {
   "cell_type": "code",
   "execution_count": 8,
   "id": "4e338966",
   "metadata": {},
   "outputs": [],
   "source": [
    "#!kill 6264"
   ]
  }
 ],
 "metadata": {
  "kernelspec": {
   "display_name": "Python 3 (ipykernel)",
   "language": "python",
   "name": "python3"
  },
  "language_info": {
   "codemirror_mode": {
    "name": "ipython",
    "version": 3
   },
   "file_extension": ".py",
   "mimetype": "text/x-python",
   "name": "python",
   "nbconvert_exporter": "python",
   "pygments_lexer": "ipython3",
   "version": "3.11.5"
  }
 },
 "nbformat": 4,
 "nbformat_minor": 5
}
